{
 "cells": [
  {
   "cell_type": "markdown",
   "id": "d191c006",
   "metadata": {},
   "source": [
    "## [E08] 뉴스요약하기"
   ]
  },
  {
   "cell_type": "markdown",
   "id": "9091695b",
   "metadata": {},
   "source": [
    "- attention을 활용한 seq2seq 모델을 사용하여 뉴스를 요약한다.\n",
    "- 뉴스의 text를 headlines로 요약하도록 학습을 시킨다. 이렇게 학습시킨 encoder output과 hidden state, cell state를 사용하여서 인퍼런스 모델을 설계하여 뉴스를 요약해본다.\n",
    "- RNN모델은 Recurrent Dropout을 사용하여 drop out을 시킨다.model3개를 만들어서 테스트해본다.\n",
    "    > model1은 Recurrent Dropout을 encoder, decoder 모두에 적용시키고, \n",
    "    > model2는 encoder에만 Recurrent Dropout을 적용시킨다. \n",
    "    > model3은 Recurrent Dropout을 적용시키지 않는다."
   ]
  },
  {
   "cell_type": "code",
   "execution_count": 2,
   "id": "ee41ed11",
   "metadata": {
    "scrolled": true
   },
   "outputs": [
    {
     "name": "stderr",
     "output_type": "stream",
     "text": [
      "[nltk_data] Downloading package stopwords to /aiffel/nltk_data...\n",
      "[nltk_data]   Unzipping corpora/stopwords.zip.\n"
     ]
    }
   ],
   "source": [
    "import nltk\n",
    "nltk.download('stopwords')\n",
    "\n",
    "import numpy as np\n",
    "import pandas as pd\n",
    "import os\n",
    "import re\n",
    "import matplotlib.pyplot as plt\n",
    "from nltk.corpus import stopwords\n",
    "from bs4 import BeautifulSoup \n",
    "from tensorflow.keras.preprocessing.text import Tokenizer \n",
    "from tensorflow.keras.preprocessing.sequence import pad_sequences\n",
    "import urllib.request\n",
    "import warnings\n",
    "warnings.filterwarnings(\"ignore\", category=UserWarning, module='bs4')\n",
    "\n"
   ]
  },
  {
   "cell_type": "markdown",
   "id": "f729af56",
   "metadata": {},
   "source": [
    "### Step1. 데이터 수집하기"
   ]
  },
  {
   "cell_type": "code",
   "execution_count": 3,
   "id": "8078deef",
   "metadata": {},
   "outputs": [],
   "source": [
    "import urllib.request\n",
    "urllib.request.urlretrieve(\"https://raw.githubusercontent.com/sunnysai12345/News_Summary/master/news_summary_more.csv\", filename=\"news_summary_more.csv\")\n",
    "data = pd.read_csv('news_summary_more.csv', encoding='iso-8859-1')"
   ]
  },
  {
   "cell_type": "code",
   "execution_count": 4,
   "id": "f158e100",
   "metadata": {
    "scrolled": false
   },
   "outputs": [
    {
     "data": {
      "text/html": [
       "<div>\n",
       "<style scoped>\n",
       "    .dataframe tbody tr th:only-of-type {\n",
       "        vertical-align: middle;\n",
       "    }\n",
       "\n",
       "    .dataframe tbody tr th {\n",
       "        vertical-align: top;\n",
       "    }\n",
       "\n",
       "    .dataframe thead th {\n",
       "        text-align: right;\n",
       "    }\n",
       "</style>\n",
       "<table border=\"1\" class=\"dataframe\">\n",
       "  <thead>\n",
       "    <tr style=\"text-align: right;\">\n",
       "      <th></th>\n",
       "      <th>headlines</th>\n",
       "      <th>text</th>\n",
       "    </tr>\n",
       "  </thead>\n",
       "  <tbody>\n",
       "    <tr>\n",
       "      <th>15964</th>\n",
       "      <td>Bureaucrats will pay the price if they are cor...</td>\n",
       "      <td>In an apparent dig at bureaucrats close to Odi...</td>\n",
       "    </tr>\n",
       "    <tr>\n",
       "      <th>76194</th>\n",
       "      <td>Former HC judge Karnan works on memoir in jail</td>\n",
       "      <td>Retired judge CS Karnan, who is India's first ...</td>\n",
       "    </tr>\n",
       "    <tr>\n",
       "      <th>69987</th>\n",
       "      <td>Maha govt to open 3 new NICUs to curb child mo...</td>\n",
       "      <td>The Maharashtra government will be opening thr...</td>\n",
       "    </tr>\n",
       "    <tr>\n",
       "      <th>285</th>\n",
       "      <td>Aamir, Naseeruddin, Navjot Sidhu are traitors:...</td>\n",
       "      <td>RSS leader Indresh Kumar on Monday said that a...</td>\n",
       "    </tr>\n",
       "    <tr>\n",
       "      <th>86803</th>\n",
       "      <td>Jio showing prepaid customers as postpaid in J...</td>\n",
       "      <td>Airtel has demanded license cancellation of Re...</td>\n",
       "    </tr>\n",
       "  </tbody>\n",
       "</table>\n",
       "</div>"
      ],
      "text/plain": [
       "                                               headlines  \\\n",
       "15964  Bureaucrats will pay the price if they are cor...   \n",
       "76194     Former HC judge Karnan works on memoir in jail   \n",
       "69987  Maha govt to open 3 new NICUs to curb child mo...   \n",
       "285    Aamir, Naseeruddin, Navjot Sidhu are traitors:...   \n",
       "86803  Jio showing prepaid customers as postpaid in J...   \n",
       "\n",
       "                                                    text  \n",
       "15964  In an apparent dig at bureaucrats close to Odi...  \n",
       "76194  Retired judge CS Karnan, who is India's first ...  \n",
       "69987  The Maharashtra government will be opening thr...  \n",
       "285    RSS leader Indresh Kumar on Monday said that a...  \n",
       "86803  Airtel has demanded license cancellation of Re...  "
      ]
     },
     "execution_count": 4,
     "metadata": {},
     "output_type": "execute_result"
    }
   ],
   "source": [
    "data.sample(5)"
   ]
  },
  {
   "cell_type": "code",
   "execution_count": 5,
   "id": "19d1723b",
   "metadata": {},
   "outputs": [
    {
     "data": {
      "text/plain": [
       "(98401, 2)"
      ]
     },
     "execution_count": 5,
     "metadata": {},
     "output_type": "execute_result"
    }
   ],
   "source": [
    "data.shape # 98401개의 데이터"
   ]
  },
  {
   "cell_type": "markdown",
   "id": "d6bcadcd",
   "metadata": {},
   "source": [
    "이 데이터는 기사의 본문에 해당하는 text와 headlines 두가지 열로 구성되어있다.  \n",
    "- 추상적 요약: text 본문을, headlines를 이미 요약된 데이터로 삼아서 모델을 학습\n",
    "- 추출적 요약: 오직 text열을 사용"
   ]
  },
  {
   "cell_type": "markdown",
   "id": "3bbc3bfd",
   "metadata": {},
   "source": [
    "### Step 2) 데이터 전처리하기 (추상적 요약)\n",
    "#### 2-1) 중복 샘플과 Null값 제거\n",
    "#### 2-2) 텍스트를 정규화하거나 정제\n",
    "#### 2-3) 불용어 제거\n",
    "( 불용어 제거를 선택한다면 상대적으로 길이가 짧은 요약 데이터에 대해서도 불용어를 제거하는 것이 좋을지 고민해보기)"
   ]
  },
  {
   "cell_type": "markdown",
   "id": "d9e00388",
   "metadata": {},
   "source": [
    "#### 2-1) 중복 샘플과 Null 값 제거"
   ]
  },
  {
   "cell_type": "code",
   "execution_count": 6,
   "id": "b22cde54",
   "metadata": {},
   "outputs": [
    {
     "name": "stdout",
     "output_type": "stream",
     "text": [
      "전체 데이터: 98401\n",
      "text 열의 중복 제거한 유일한 데이터의 수:  98360\n",
      "headlines 열의 중복 제거한 유일한 데이터의 수:  98280\n"
     ]
    }
   ],
   "source": [
    "print(\"전체 데이터:\", data.shape[0])\n",
    "print(\"text 열의 중복 제거한 유일한 데이터의 수: \", data[\"text\"].nunique())\n",
    "print(\"headlines 열의 중복 제거한 유일한 데이터의 수: \", data[\"headlines\"].nunique())"
   ]
  },
  {
   "cell_type": "code",
   "execution_count": 7,
   "id": "a7a0808e",
   "metadata": {},
   "outputs": [
    {
     "name": "stdout",
     "output_type": "stream",
     "text": [
      "전체 샘플수 : 98262\n"
     ]
    }
   ],
   "source": [
    "data.drop_duplicates(subset = ['text'], inplace=True) # text 컬럼이 중복되는 데이터 제거\n",
    "data.drop_duplicates(subset = ['headlines'], inplace=True) # headlines 컬럼이 중복되는 데이터 제거\n",
    "\n",
    "print('전체 샘플수 :', data.shape[0])"
   ]
  },
  {
   "cell_type": "markdown",
   "id": "6d5b1fbf",
   "metadata": {},
   "source": [
    "text와 headlines 모두 중복된 데이터가 있었다. 각 컬럼들의 중복된 데이터를 제거해서 전체 데이터 98401개에서 98262개로 줄어들었다."
   ]
  },
  {
   "cell_type": "code",
   "execution_count": 8,
   "id": "79481620",
   "metadata": {},
   "outputs": [
    {
     "name": "stdout",
     "output_type": "stream",
     "text": [
      "headlines    0\n",
      "text         0\n",
      "dtype: int64\n"
     ]
    }
   ],
   "source": [
    "print(data.isnull().sum()) # headlines와 text 컬럼 각각 결측치는 없었다."
   ]
  },
  {
   "cell_type": "markdown",
   "id": "fc835f23",
   "metadata": {},
   "source": [
    "#### 2-2) 텍스트를 정규화하거나 정제 & 2-3) 불용어 제거"
   ]
  },
  {
   "cell_type": "code",
   "execution_count": 9,
   "id": "bb631613",
   "metadata": {},
   "outputs": [
    {
     "name": "stdout",
     "output_type": "stream",
     "text": [
      "정규화 사전의 수:  120\n"
     ]
    }
   ],
   "source": [
    "contractions = {\"ain't\": \"is not\", \"aren't\": \"are not\",\"can't\": \"cannot\", \"'cause\": \"because\", \"could've\": \"could have\", \"couldn't\": \"could not\",\n",
    "                           \"didn't\": \"did not\",  \"doesn't\": \"does not\", \"don't\": \"do not\", \"hadn't\": \"had not\", \"hasn't\": \"has not\", \"haven't\": \"have not\",\n",
    "                           \"he'd\": \"he would\",\"he'll\": \"he will\", \"he's\": \"he is\", \"how'd\": \"how did\", \"how'd'y\": \"how do you\", \"how'll\": \"how will\", \"how's\": \"how is\",\n",
    "                           \"I'd\": \"I would\", \"I'd've\": \"I would have\", \"I'll\": \"I will\", \"I'll've\": \"I will have\",\"I'm\": \"I am\", \"I've\": \"I have\", \"i'd\": \"i would\",\n",
    "                           \"i'd've\": \"i would have\", \"i'll\": \"i will\",  \"i'll've\": \"i will have\",\"i'm\": \"i am\", \"i've\": \"i have\", \"isn't\": \"is not\", \"it'd\": \"it would\",\n",
    "                           \"it'd've\": \"it would have\", \"it'll\": \"it will\", \"it'll've\": \"it will have\",\"it's\": \"it is\", \"let's\": \"let us\", \"ma'am\": \"madam\",\n",
    "                           \"mayn't\": \"may not\", \"might've\": \"might have\",\"mightn't\": \"might not\",\"mightn't've\": \"might not have\", \"must've\": \"must have\",\n",
    "                           \"mustn't\": \"must not\", \"mustn't've\": \"must not have\", \"needn't\": \"need not\", \"needn't've\": \"need not have\",\"o'clock\": \"of the clock\",\n",
    "                           \"oughtn't\": \"ought not\", \"oughtn't've\": \"ought not have\", \"shan't\": \"shall not\", \"sha'n't\": \"shall not\", \"shan't've\": \"shall not have\",\n",
    "                           \"she'd\": \"she would\", \"she'd've\": \"she would have\", \"she'll\": \"she will\", \"she'll've\": \"she will have\", \"she's\": \"she is\",\n",
    "                           \"should've\": \"should have\", \"shouldn't\": \"should not\", \"shouldn't've\": \"should not have\", \"so've\": \"so have\",\"so's\": \"so as\",\n",
    "                           \"this's\": \"this is\",\"that'd\": \"that would\", \"that'd've\": \"that would have\", \"that's\": \"that is\", \"there'd\": \"there would\",\n",
    "                           \"there'd've\": \"there would have\", \"there's\": \"there is\", \"here's\": \"here is\",\"they'd\": \"they would\", \"they'd've\": \"they would have\",\n",
    "                           \"they'll\": \"they will\", \"they'll've\": \"they will have\", \"they're\": \"they are\", \"they've\": \"they have\", \"to've\": \"to have\",\n",
    "                           \"wasn't\": \"was not\", \"we'd\": \"we would\", \"we'd've\": \"we would have\", \"we'll\": \"we will\", \"we'll've\": \"we will have\", \"we're\": \"we are\",\n",
    "                           \"we've\": \"we have\", \"weren't\": \"were not\", \"what'll\": \"what will\", \"what'll've\": \"what will have\", \"what're\": \"what are\",\n",
    "                           \"what's\": \"what is\", \"what've\": \"what have\", \"when's\": \"when is\", \"when've\": \"when have\", \"where'd\": \"where did\", \"where's\": \"where is\",\n",
    "                           \"where've\": \"where have\", \"who'll\": \"who will\", \"who'll've\": \"who will have\", \"who's\": \"who is\", \"who've\": \"who have\",\n",
    "                           \"why's\": \"why is\", \"why've\": \"why have\", \"will've\": \"will have\", \"won't\": \"will not\", \"won't've\": \"will not have\",\n",
    "                           \"would've\": \"would have\", \"wouldn't\": \"would not\", \"wouldn't've\": \"would not have\", \"y'all\": \"you all\",\n",
    "                           \"y'all'd\": \"you all would\",\"y'all'd've\": \"you all would have\",\"y'all're\": \"you all are\",\"y'all've\": \"you all have\",\n",
    "                           \"you'd\": \"you would\", \"you'd've\": \"you would have\", \"you'll\": \"you will\", \"you'll've\": \"you will have\",\n",
    "                           \"you're\": \"you are\", \"you've\": \"you have\"}\n",
    "\n",
    "print(\"정규화 사전의 수: \", len(contractions))"
   ]
  },
  {
   "cell_type": "code",
   "execution_count": 10,
   "id": "2464b062",
   "metadata": {},
   "outputs": [
    {
     "name": "stdout",
     "output_type": "stream",
     "text": [
      "불용어 개수 : 179\n",
      "['i', 'me', 'my', 'myself', 'we', 'our', 'ours', 'ourselves', 'you', \"you're\"]\n"
     ]
    }
   ],
   "source": [
    "print('불용어 개수 :', len(stopwords.words('english') ))\n",
    "print(stopwords.words('english')[:10])"
   ]
  },
  {
   "cell_type": "markdown",
   "id": "fb940aa6",
   "metadata": {},
   "source": [
    "데이터 전처리 함수의 코드는  \n",
    "- 텍스트 소문자화\n",
    "- html 태그 제거\n",
    "- 괄호로 닫힌 문자열 제거\n",
    "- 쌍따옴표 \" 제거\n",
    "- 약어 정규화\n",
    "- 소유격 제거 \n",
    "- 영어 외 문자(숫자, 특수문자 등) 공백으로 변환\n",
    "- m이 3개 이상이면 2개로 변경"
   ]
  },
  {
   "cell_type": "markdown",
   "id": "280be06e",
   "metadata": {},
   "source": [
    "#### 텍스트 소문자화"
   ]
  },
  {
   "cell_type": "code",
   "execution_count": 11,
   "id": "b82b1c39",
   "metadata": {
    "scrolled": true
   },
   "outputs": [
    {
     "data": {
      "text/plain": [
       "\"two minor cousins in uttar pradesh's gorakhpur were allegedly repeatedly burnt with tongs and forced to eat human excreta by their family for being friends with two boys from the same school. the cousins revealed their ordeal to the police and child welfare committee after being brought back to gorakhpur from nepal, where they had fled to escape the torture.\""
      ]
     },
     "execution_count": 11,
     "metadata": {},
     "output_type": "execute_result"
    }
   ],
   "source": [
    "sentence=data[\"text\"][10].lower() # 텍스트 소문자화\n",
    "sentence"
   ]
  },
  {
   "cell_type": "markdown",
   "id": "c3b8494c",
   "metadata": {},
   "source": [
    "#### html 태그 제거\n",
    "- 아래와 같이 태그에 들어가는 < 표시를 데이터에서 찾을 수 없는 것으로 보아서 태그는 없는 것 같다. 임의로 만든 태그가 포함된 문장을 BeautifulSoup를 사용해서 태그를 제거해보자."
   ]
  },
  {
   "cell_type": "code",
   "execution_count": 12,
   "id": "94cef3e1",
   "metadata": {
    "scrolled": false
   },
   "outputs": [
    {
     "data": {
      "text/html": [
       "<div>\n",
       "<style scoped>\n",
       "    .dataframe tbody tr th:only-of-type {\n",
       "        vertical-align: middle;\n",
       "    }\n",
       "\n",
       "    .dataframe tbody tr th {\n",
       "        vertical-align: top;\n",
       "    }\n",
       "\n",
       "    .dataframe thead th {\n",
       "        text-align: right;\n",
       "    }\n",
       "</style>\n",
       "<table border=\"1\" class=\"dataframe\">\n",
       "  <thead>\n",
       "    <tr style=\"text-align: right;\">\n",
       "      <th></th>\n",
       "      <th>headlines</th>\n",
       "      <th>text</th>\n",
       "    </tr>\n",
       "  </thead>\n",
       "  <tbody>\n",
       "  </tbody>\n",
       "</table>\n",
       "</div>"
      ],
      "text/plain": [
       "Empty DataFrame\n",
       "Columns: [headlines, text]\n",
       "Index: []"
      ]
     },
     "execution_count": 12,
     "metadata": {},
     "output_type": "execute_result"
    }
   ],
   "source": [
    "data.loc[data[\"text\"].str.contains(\"<\")] # 태그에 들어가는 표시가 없다. html 태그가 없다"
   ]
  },
  {
   "cell_type": "code",
   "execution_count": 13,
   "id": "e4625f29",
   "metadata": {},
   "outputs": [
    {
     "data": {
      "text/plain": [
       "'안녕하세요'"
      ]
     },
     "execution_count": 13,
     "metadata": {},
     "output_type": "execute_result"
    }
   ],
   "source": [
    "sentence = BeautifulSoup(\"<h1>안녕하세요</h1>\", \"lxml\").text \n",
    "# <br />, <a href = ...> 등의 html 태그 제거\n",
    "# BeautifulSoup라이브러리로 파싱해서 text만 가져온다. 그렇게 태그를 제거한다.\n",
    "sentence "
   ]
  },
  {
   "cell_type": "markdown",
   "id": "66d389c6",
   "metadata": {},
   "source": [
    "#### 괄호제거\n",
    "- 괄호로 닫힌 문자열을 삭제한다. 아래 원본 데이터의 (IISc)가 삭제된 것을 볼수있다."
   ]
  },
  {
   "cell_type": "code",
   "execution_count": 14,
   "id": "7a74d54b",
   "metadata": {
    "scrolled": false
   },
   "outputs": [
    {
     "data": {
      "text/plain": [
       "'German multinational engineering and electronics firm Bosch has made its first investment in India in Bengaluru-based deep-tech startup SimYog. SimYog has raised about Ã¢Â\\x82Â¹6.3 crore in the funding round, with participation from early-stage venture capital firm Ideaspring Capital. Incubated at the Indian Institute of Science (IISc), it provides design and sign-off tools for automotive electronics.'"
      ]
     },
     "execution_count": 14,
     "metadata": {},
     "output_type": "execute_result"
    }
   ],
   "source": [
    "data[\"text\"][100]"
   ]
  },
  {
   "cell_type": "code",
   "execution_count": 15,
   "id": "e6e93906",
   "metadata": {},
   "outputs": [
    {
     "data": {
      "text/plain": [
       "'German multinational engineering and electronics firm Bosch has made its first investment in India in Bengaluru-based deep-tech startup SimYog. SimYog has raised about Ã¢Â\\x82Â¹6.3 crore in the funding round, with participation from early-stage venture capital firm Ideaspring Capital. Incubated at the Indian Institute of Science , it provides design and sign-off tools for automotive electronics.'"
      ]
     },
     "execution_count": 15,
     "metadata": {},
     "output_type": "execute_result"
    }
   ],
   "source": [
    "sentence = re.sub(r'\\([^)]*\\)', '', data[\"text\"][100])\n",
    "sentence "
   ]
  },
  {
   "cell_type": "markdown",
   "id": "868fd84b",
   "metadata": {},
   "source": [
    "#### 쌍따옴표 제거"
   ]
  },
  {
   "cell_type": "code",
   "execution_count": 16,
   "id": "bdcfd9f7",
   "metadata": {},
   "outputs": [
    {
     "data": {
      "text/plain": [
       "'그는 안녕이라고 말했다.'"
      ]
     },
     "execution_count": 16,
     "metadata": {},
     "output_type": "execute_result"
    }
   ],
   "source": [
    "re.sub('\"','','그는 \"안녕\"이라고 말했다.') # 쌍따옴표를 제거한다."
   ]
  },
  {
   "cell_type": "markdown",
   "id": "cd300e4f",
   "metadata": {},
   "source": [
    "#### 약어 정규화\n",
    "데이터의 일부를 뽑아서 정규화 사전과 불용어를 적용해보려고 데이터를 골라보고 있는데 아래와 같이 apostrophe(') 앞에 \\\\ (역슬러시) 표시가 있는 것을 확인할 수 있었다. 아마도 apostrophe를 escape 문자로 만들기 위해서 표기한 것 같다. __역슬러시가 들어간 데이터도 텍스트 정규화가 이뤄지는지 테스트__ 를 해보았다. 아래와 같이 정상적으로 텍스트 정규화가 이뤄지는 것을 확인 할수 있었다."
   ]
  },
  {
   "cell_type": "code",
   "execution_count": 17,
   "id": "a16038d0",
   "metadata": {
    "scrolled": true
   },
   "outputs": [
    {
     "data": {
      "text/plain": [
       "'On being asked about sunstrike break in the first New Zealand-India ODI, India captain Virat Kohli said, \"I had never experienced it in my life [before].\" \"I actually got out in a game in 2014 because the sun was in my eyes. This rule [play stopping because of sun] wasn\\'t there then. I\\'m glad there\\'s a rule now,\" Kohli added.'"
      ]
     },
     "execution_count": 17,
     "metadata": {},
     "output_type": "execute_result"
    }
   ],
   "source": [
    "data[\"text\"][1000]"
   ]
  },
  {
   "cell_type": "code",
   "execution_count": 18,
   "id": "9d69330f",
   "metadata": {},
   "outputs": [
    {
     "data": {
      "text/plain": [
       "'On being asked about sunstrike break in the first New Zealand-India ODI, India captain Virat Kohli said, \"I had never experienced it in my life [before].\" \"I actually got out in a game in 2014 because the sun was in my eyes. This rule [play stopping because of sun] was not there then. I am glad there is a rule now,\" Kohli added.'"
      ]
     },
     "execution_count": 18,
     "metadata": {},
     "output_type": "execute_result"
    }
   ],
   "source": [
    "sentence = ' '.join([contractions[t] if t in contractions else t for t in data[\"text\"][1000].split(\" \")]) # 약어 정규화  \n",
    "sentence"
   ]
  },
  {
   "cell_type": "markdown",
   "id": "dd971cf2",
   "metadata": {},
   "source": [
    "#### 소유격 제거"
   ]
  },
  {
   "cell_type": "code",
   "execution_count": 19,
   "id": "8508b606",
   "metadata": {},
   "outputs": [
    {
     "data": {
      "text/plain": [
       "'Sunny room'"
      ]
     },
     "execution_count": 19,
     "metadata": {},
     "output_type": "execute_result"
    }
   ],
   "source": [
    "sentence = re.sub(r\"'s\\b\",\"\", \"Sunny's room\") # 's\\b-> 's한칸 여백은 소유격이므로 제거\n",
    "sentence"
   ]
  },
  {
   "cell_type": "markdown",
   "id": "697f8257",
   "metadata": {},
   "source": [
    "#### 영어 외 문자(숫자, 특수문자 등) 공백으로 변환\n",
    "- 아래의 텍스트 데이터의 Ã¢Â\\x82Â¹6.3 을 공백으로 변환했다."
   ]
  },
  {
   "cell_type": "code",
   "execution_count": 20,
   "id": "d5966ea1",
   "metadata": {
    "scrolled": true
   },
   "outputs": [
    {
     "data": {
      "text/plain": [
       "'German multinational engineering and electronics firm Bosch has made its first investment in India in Bengaluru-based deep-tech startup SimYog. SimYog has raised about Ã¢Â\\x82Â¹6.3 crore in the funding round, with participation from early-stage venture capital firm Ideaspring Capital. Incubated at the Indian Institute of Science (IISc), it provides design and sign-off tools for automotive electronics.'"
      ]
     },
     "execution_count": 20,
     "metadata": {},
     "output_type": "execute_result"
    }
   ],
   "source": [
    "data[\"text\"][100]"
   ]
  },
  {
   "cell_type": "code",
   "execution_count": 21,
   "id": "33f705ab",
   "metadata": {
    "scrolled": false
   },
   "outputs": [
    {
     "data": {
      "text/plain": [
       "'German multinational engineering and electronics firm Bosch has made its first investment in India in Bengaluru based deep tech startup SimYog  SimYog has raised about           crore in the funding round  with participation from early stage venture capital firm Ideaspring Capital  Incubated at the Indian Institute of Science  IISc   it provides design and sign off tools for automotive electronics '"
      ]
     },
     "execution_count": 21,
     "metadata": {},
     "output_type": "execute_result"
    }
   ],
   "source": [
    "re.sub(\"[^a-zA-Z]\", \" \", data[\"text\"][100]) \n",
    "# ^은 not을 뜻하고 a-zA-Z은 소문자 알파벳과 대문자 알파벳이 아닌 문자는 \n",
    "# 모두 공백으로 바꾸는 함수이다."
   ]
  },
  {
   "cell_type": "markdown",
   "id": "8117fbfa",
   "metadata": {},
   "source": [
    "#### m이 3개 이상이면 2개로 변경"
   ]
  },
  {
   "cell_type": "code",
   "execution_count": 22,
   "id": "5bddebcf",
   "metadata": {},
   "outputs": [
    {
     "data": {
      "text/plain": [
       "'umm yeah'"
      ]
     },
     "execution_count": 22,
     "metadata": {},
     "output_type": "execute_result"
    }
   ],
   "source": [
    "re.sub('[m]{2,}', 'mm', \"ummmmmmm yeah\")"
   ]
  },
  {
   "cell_type": "markdown",
   "id": "10b3627a",
   "metadata": {},
   "source": [
    "#### 불용어 제거\n",
    "- 원본 데이터의 to, from, for등이 삭제된 것을 알수 있다."
   ]
  },
  {
   "cell_type": "code",
   "execution_count": 23,
   "id": "fd5a2872",
   "metadata": {},
   "outputs": [
    {
     "data": {
      "text/plain": [
       "\"Kunal Shah's credit card bill payment platform, CRED, gave users a chance to win free food from Swiggy for one year. Pranav Kaushik, a Delhi techie, bagged this reward after spending 2000 CRED coins. Users get one CRED coin per rupee of bill paid, which can be used to avail rewards from brands like Ixigo, BookMyShow, UberEats, Cult.Fit and more.\""
      ]
     },
     "execution_count": 23,
     "metadata": {},
     "output_type": "execute_result"
    }
   ],
   "source": [
    "data[\"text\"][1]"
   ]
  },
  {
   "cell_type": "code",
   "execution_count": 24,
   "id": "19ed6198",
   "metadata": {},
   "outputs": [
    {
     "data": {
      "text/plain": [
       "\"Kunal Shah's credit card bill payment platform, CRED, gave users chance win free food Swiggy one year. Pranav Kaushik, Delhi techie, bagged reward spending 2000 CRED coins. Users get one CRED coin per rupee bill paid, used avail rewards brands like Ixigo, BookMyShow, UberEats, Cult.Fit more.\""
      ]
     },
     "execution_count": 24,
     "metadata": {},
     "output_type": "execute_result"
    }
   ],
   "source": [
    "# 문장의 단어(word)의 길이가 1 이상이고 \n",
    "# NLTK의 stopwords에 포함 안된 단어만 다시 문장으로 만든다.\n",
    "' '.join(word for word in data[\"text\"][1].split() if not word in stopwords.words('english') if len(word) > 1)\n"
   ]
  },
  {
   "cell_type": "code",
   "execution_count": 25,
   "id": "a71c085b",
   "metadata": {},
   "outputs": [],
   "source": [
    "# 데이터 전처리 함수, 위의 코드들을 하나의 함수로 모아서 정리된 코드이다.\n",
    "def preprocess_sentence(sentence, remove_stopwords=True):\n",
    "    sentence = sentence.lower() # 텍스트 소문자화\n",
    "    sentence = BeautifulSoup(sentence, \"lxml\").text # <br />, <a href = ...> 등의 html 태그 제거\n",
    "    sentence = re.sub(r'\\([^)]*\\)', '', sentence) # 괄호로 닫힌 문자열 (...) 제거 Ex) my husband (and myself!) for => my husband for\n",
    "    sentence = re.sub('\"','', sentence) # 쌍따옴표 \" 제거\n",
    "    sentence = ' '.join([contractions[t] if t in contractions else t for t in sentence.split(\" \")]) # 약어 정규화\n",
    "    sentence = re.sub(r\"'s\\b\",\"\", sentence) # 소유격 제거. Ex) roland's -> roland\n",
    "    sentence = re.sub(\"[^a-zA-Z]\", \" \", sentence) # 영어 외 문자(숫자, 특수문자 등) 공백으로 변환\n",
    "    sentence = re.sub('[m]{2,}', 'mm', sentence) # m이 3개 이상이면 2개로 변경. Ex) ummmmmmm yeah -> umm yeah\n",
    "    \n",
    "    # 불용어 제거 (Text)\n",
    "    if remove_stopwords:\n",
    "        tokens = ' '.join(word for word in sentence.split() if not word in stopwords.words('english') if len(word) > 1)\n",
    "    # 불용어 미제거 (Summary)\n",
    "    else:\n",
    "        tokens = ' '.join(word for word in sentence.split() if len(word) > 1)\n",
    "    return tokens"
   ]
  },
  {
   "cell_type": "markdown",
   "id": "da3f3e35",
   "metadata": {},
   "source": [
    "headlines(요약 데이터)의 stopword를 제거 해야할지 판단하기 위해서 아래와 같이 문장의 길이를 숫자로 표현해보았다. "
   ]
  },
  {
   "cell_type": "code",
   "execution_count": 26,
   "id": "47b7341a",
   "metadata": {},
   "outputs": [
    {
     "name": "stdout",
     "output_type": "stream",
     "text": [
      "92 18\n",
      "1 1\n"
     ]
    }
   ],
   "source": [
    "data[\"len_text\"]=data[\"text\"].map(lambda x: len(x.split(\" \")))\n",
    "data[\"len_headlines\"]=data[\"headlines\"].map(lambda x: len(x.split(\" \")))\n",
    "print(data.len_text.max(), data.len_headlines.max())\n",
    "print(data.len_text.min(), data.len_headlines.min())"
   ]
  },
  {
   "cell_type": "code",
   "execution_count": 27,
   "id": "0de09bcd",
   "metadata": {
    "scrolled": true
   },
   "outputs": [
    {
     "data": {
      "text/html": [
       "<div>\n",
       "<style scoped>\n",
       "    .dataframe tbody tr th:only-of-type {\n",
       "        vertical-align: middle;\n",
       "    }\n",
       "\n",
       "    .dataframe tbody tr th {\n",
       "        vertical-align: top;\n",
       "    }\n",
       "\n",
       "    .dataframe thead th {\n",
       "        text-align: right;\n",
       "    }\n",
       "</style>\n",
       "<table border=\"1\" class=\"dataframe\">\n",
       "  <thead>\n",
       "    <tr style=\"text-align: right;\">\n",
       "      <th></th>\n",
       "      <th>headlines</th>\n",
       "      <th>text</th>\n",
       "      <th>len_text</th>\n",
       "      <th>len_headlines</th>\n",
       "    </tr>\n",
       "  </thead>\n",
       "  <tbody>\n",
       "    <tr>\n",
       "      <th>52</th>\n",
       "      <td>headlines</td>\n",
       "      <td>text</td>\n",
       "      <td>1</td>\n",
       "      <td>1</td>\n",
       "    </tr>\n",
       "  </tbody>\n",
       "</table>\n",
       "</div>"
      ],
      "text/plain": [
       "    headlines  text  len_text  len_headlines\n",
       "52  headlines  text         1              1"
      ]
     },
     "execution_count": 27,
     "metadata": {},
     "output_type": "execute_result"
    }
   ],
   "source": [
    "data.loc[data[\"len_text\"]==1] # 무의미한 데이터로 보인다 삭제한다."
   ]
  },
  {
   "cell_type": "code",
   "execution_count": 28,
   "id": "eb52402a",
   "metadata": {},
   "outputs": [],
   "source": [
    "data=data.drop(52).reset_index(drop=True) # 52번 인덱스를 삭제하고 인덱스를 다시 reset한다. "
   ]
  },
  {
   "cell_type": "markdown",
   "id": "87e90b95",
   "metadata": {},
   "source": [
    "stopword를 보면 관사, 전치사 등이 포함된 것을 알수 있다. 우리는 요약된 문장이 자연스럽게 연결된 문장이기를 원하기 때문에 headlines에는 stopword가 포함되어야한다고 생각한다."
   ]
  },
  {
   "cell_type": "code",
   "execution_count": 29,
   "id": "e1d18aa3",
   "metadata": {},
   "outputs": [],
   "source": [
    "# preprocess_sentence 함수 적용\n",
    "data[\"text\"]=data[\"text\"].map(lambda x: preprocess_sentence(x))\n",
    "data[\"headlines\"]=data[\"headlines\"].map(lambda x: preprocess_sentence(x, False))"
   ]
  },
  {
   "cell_type": "code",
   "execution_count": 30,
   "id": "6800f0c3",
   "metadata": {},
   "outputs": [
    {
     "data": {
      "text/plain": [
       "'saurav kant alumnus upgrad iiit pg program machine learning artificial intelligence sr systems engineer infosys almost years work experience program upgrad degree career support helped transition data scientist tech mahindra salary hike upgrad online power learning powered lakh careers'"
      ]
     },
     "execution_count": 30,
     "metadata": {},
     "output_type": "execute_result"
    }
   ],
   "source": [
    "data['text'][0] # 데이터가 전처리 된 것을 알수 있다."
   ]
  },
  {
   "cell_type": "code",
   "execution_count": 31,
   "id": "0004f346",
   "metadata": {},
   "outputs": [],
   "source": [
    "data.replace('', np.nan, inplace=True) # 빈 값을 Null로 변환"
   ]
  },
  {
   "cell_type": "code",
   "execution_count": 32,
   "id": "a0b9fb76",
   "metadata": {},
   "outputs": [
    {
     "data": {
      "text/plain": [
       "headlines        0\n",
       "text             0\n",
       "len_text         0\n",
       "len_headlines    0\n",
       "dtype: int64"
      ]
     },
     "execution_count": 32,
     "metadata": {},
     "output_type": "execute_result"
    }
   ],
   "source": [
    "data.isnull().sum() # 결측치는 없다."
   ]
  },
  {
   "cell_type": "markdown",
   "id": "4f1a0da7",
   "metadata": {},
   "source": [
    "문장 최대길이 정하기"
   ]
  },
  {
   "cell_type": "code",
   "execution_count": 33,
   "id": "f9fc0dfa",
   "metadata": {},
   "outputs": [
    {
     "name": "stdout",
     "output_type": "stream",
     "text": [
      "텍스트의 최소 길이 : 38\n",
      "텍스트의 최대 길이 : 92\n",
      "텍스트의 평균 길이 : 58.43092376426049\n",
      "요약의 최소 길이 : 3\n",
      "요약의 최대 길이 : 18\n",
      "요약의 평균 길이 : 9.580657636295173\n"
     ]
    },
    {
     "data": {
      "image/png": "[encoded data removed]",
      "text/plain": [
       "<Figure size 504x360 with 2 Axes>"
      ]
     },
     "metadata": {
      "needs_background": "light"
     },
     "output_type": "display_data"
    },
    {
     "data": {
      "image/png": "[encoded data removed]",
      "text/plain": [
       "<Figure size 1440x504 with 2 Axes>"
      ]
     },
     "metadata": {
      "needs_background": "light"
     },
     "output_type": "display_data"
    }
   ],
   "source": [
    "# 길이 분포 출력\n",
    "import matplotlib.pyplot as plt\n",
    "\n",
    "print('텍스트의 최소 길이 : {}'.format(data[\"len_text\"].min()))\n",
    "print('텍스트의 최대 길이 : {}'.format(data[\"len_text\"].max()))\n",
    "print('텍스트의 평균 길이 : {}'.format(data[\"len_text\"].mean()))\n",
    "print('요약의 최소 길이 : {}'.format(data[\"len_headlines\"].min()))\n",
    "print('요약의 최대 길이 : {}'.format(data[\"len_headlines\"].max()))\n",
    "print('요약의 평균 길이 : {}'.format(data[\"len_headlines\"].mean()))\n",
    "\n",
    "plt.figure(figsize=(7,5))\n",
    "plt.subplot(1,2,1)\n",
    "plt.boxplot(data[\"len_text\"])\n",
    "plt.title('text')\n",
    "plt.subplot(1,2,2)\n",
    "plt.boxplot(data[\"len_headlines\"])\n",
    "plt.title('Summary')\n",
    "plt.tight_layout()\n",
    "plt.show()\n",
    "\n",
    "plt.figure(figsize=(20,7))\n",
    "\n",
    "plt.subplot(1,2,1)\n",
    "plt.title('Text')\n",
    "plt.hist(data[\"len_text\"], bins = 20)\n",
    "plt.xlabel('length of samples')\n",
    "plt.ylabel('number of samples')\n",
    "\n",
    "plt.subplot(1,2,2)\n",
    "plt.title('Summary')\n",
    "plt.hist(data[\"len_headlines\"], bins = 10)\n",
    "plt.xlabel('length of samples')\n",
    "plt.ylabel('number of samples')\n",
    "plt.show()"
   ]
  },
  {
   "cell_type": "markdown",
   "id": "d3583106",
   "metadata": {},
   "source": [
    "[E06_네이버 영화리뷰를 활용한 감정분류](https://github.com/Asunny2019/AIFFEL_Exploration/blob/main/%5BE06%5Dsentiment_classification%20_ver2.ipynb)의 문장길이는 일반인들이 쓰는 리뷰라서 규격이 제각각이었고 한단어(ㅋㅋㅋ, 굿, 최고)로 이루어진 댓글이 많았다. 하지만 뉴스기사는 긴 기사도 있지만 대체적으로 60단어로 이루어진 기사가 많고 아무리 짧은 기사라고 할지라도 40단어 이상이다. 어떤 글을 수집했느냐에 따라서 문장 길이의 분포가 달라질 수 있다는 것을 알수 있었다."
   ]
  },
  {
   "cell_type": "code",
   "execution_count": 34,
   "id": "867be5de",
   "metadata": {},
   "outputs": [
    {
     "name": "stdout",
     "output_type": "stream",
     "text": [
      "text 전체 샘플 중 길이가 62 이하인 샘플의 비율: 0.993354 \n",
      "text 전체 샘플 중 길이가 13 이하인 샘플의 비율: 0.975708 \n"
     ]
    }
   ],
   "source": [
    "# 임의로 정한 길이\n",
    "text_max_len,summary_max_len=62,13\n",
    "cnt=data.loc[data[\"len_text\"]<text_max_len].shape[0]\n",
    "summary_cnt=data.loc[data[\"len_headlines\"]<summary_max_len].shape[0]\n",
    "\n",
    "print(\"text 전체 샘플 중 길이가 %d 이하인 샘플의 비율: %f \"%(text_max_len, cnt/data.shape[0]))\n",
    "print(\"text 전체 샘플 중 길이가 %d 이하인 샘플의 비율: %f \"%(summary_max_len, summary_cnt/data.shape[0]))"
   ]
  },
  {
   "cell_type": "markdown",
   "id": "cd7a8b79",
   "metadata": {},
   "source": [
    "text_max_len, summary_max_len보다 길면 제외하는 방법으로 정제를 한다. \n",
    "- 감정분석과 달리 텍스트를 생성해내는 모델이기 때문에 길이가 길면 학습데이터에서 제외한다. 생각해보면 가사 생성기의 모델에서도 길이가 길면 삭제했다."
   ]
  },
  {
   "cell_type": "code",
   "execution_count": 35,
   "id": "28755c40",
   "metadata": {
    "scrolled": false
   },
   "outputs": [
    {
     "name": "stdout",
     "output_type": "stream",
     "text": [
      "전체 샘플수 : 98081\n"
     ]
    }
   ],
   "source": [
    "data = data[data['text'].apply(lambda x: len(x.split()) <= text_max_len)]\n",
    "data = data[data['headlines'].apply(lambda x: len(x.split()) <= summary_max_len)]\n",
    "print('전체 샘플수 :', (len(data)))"
   ]
  },
  {
   "cell_type": "code",
   "execution_count": 40,
   "id": "be070009",
   "metadata": {},
   "outputs": [
    {
     "data": {
      "text/html": [
       "<div>\n",
       "<style scoped>\n",
       "    .dataframe tbody tr th:only-of-type {\n",
       "        vertical-align: middle;\n",
       "    }\n",
       "\n",
       "    .dataframe tbody tr th {\n",
       "        vertical-align: top;\n",
       "    }\n",
       "\n",
       "    .dataframe thead th {\n",
       "        text-align: right;\n",
       "    }\n",
       "</style>\n",
       "<table border=\"1\" class=\"dataframe\">\n",
       "  <thead>\n",
       "    <tr style=\"text-align: right;\">\n",
       "      <th></th>\n",
       "      <th>headlines</th>\n",
       "      <th>text</th>\n",
       "      <th>len_text</th>\n",
       "      <th>len_headlines</th>\n",
       "      <th>decoder_input</th>\n",
       "      <th>decoder_target</th>\n",
       "    </tr>\n",
       "  </thead>\n",
       "  <tbody>\n",
       "    <tr>\n",
       "      <th>0</th>\n",
       "      <td>upgrad learner switches to career in ml al wit...</td>\n",
       "      <td>saurav kant alumnus upgrad iiit pg program mac...</td>\n",
       "      <td>60</td>\n",
       "      <td>13</td>\n",
       "      <td>sostoken upgrad learner switches to career in ...</td>\n",
       "      <td>upgrad learner switches to career in ml al wit...</td>\n",
       "    </tr>\n",
       "    <tr>\n",
       "      <th>1</th>\n",
       "      <td>delhi techie wins free food from swiggy for on...</td>\n",
       "      <td>kunal shah credit card bill payment platform c...</td>\n",
       "      <td>60</td>\n",
       "      <td>12</td>\n",
       "      <td>sostoken delhi techie wins free food from swig...</td>\n",
       "      <td>delhi techie wins free food from swiggy for on...</td>\n",
       "    </tr>\n",
       "    <tr>\n",
       "      <th>2</th>\n",
       "      <td>new zealand end rohit sharma led india match w...</td>\n",
       "      <td>new zealand defeated india wickets fourth odi ...</td>\n",
       "      <td>60</td>\n",
       "      <td>9</td>\n",
       "      <td>sostoken new zealand end rohit sharma led indi...</td>\n",
       "      <td>new zealand end rohit sharma led india match w...</td>\n",
       "    </tr>\n",
       "    <tr>\n",
       "      <th>3</th>\n",
       "      <td>aegon life iterm insurance plan helps customer...</td>\n",
       "      <td>aegon life iterm insurance plan customers enjo...</td>\n",
       "      <td>60</td>\n",
       "      <td>9</td>\n",
       "      <td>sostoken aegon life iterm insurance plan helps...</td>\n",
       "      <td>aegon life iterm insurance plan helps customer...</td>\n",
       "    </tr>\n",
       "    <tr>\n",
       "      <th>4</th>\n",
       "      <td>have known hirani for yrs what if metoo claims...</td>\n",
       "      <td>speaking sexual harassment allegations rajkuma...</td>\n",
       "      <td>60</td>\n",
       "      <td>13</td>\n",
       "      <td>sostoken have known hirani for yrs what if met...</td>\n",
       "      <td>have known hirani for yrs what if metoo claims...</td>\n",
       "    </tr>\n",
       "  </tbody>\n",
       "</table>\n",
       "</div>"
      ],
      "text/plain": [
       "                                           headlines  \\\n",
       "0  upgrad learner switches to career in ml al wit...   \n",
       "1  delhi techie wins free food from swiggy for on...   \n",
       "2  new zealand end rohit sharma led india match w...   \n",
       "3  aegon life iterm insurance plan helps customer...   \n",
       "4  have known hirani for yrs what if metoo claims...   \n",
       "\n",
       "                                                text  len_text  len_headlines  \\\n",
       "0  saurav kant alumnus upgrad iiit pg program mac...        60             13   \n",
       "1  kunal shah credit card bill payment platform c...        60             12   \n",
       "2  new zealand defeated india wickets fourth odi ...        60              9   \n",
       "3  aegon life iterm insurance plan customers enjo...        60              9   \n",
       "4  speaking sexual harassment allegations rajkuma...        60             13   \n",
       "\n",
       "                                       decoder_input  \\\n",
       "0  sostoken upgrad learner switches to career in ...   \n",
       "1  sostoken delhi techie wins free food from swig...   \n",
       "2  sostoken new zealand end rohit sharma led indi...   \n",
       "3  sostoken aegon life iterm insurance plan helps...   \n",
       "4  sostoken have known hirani for yrs what if met...   \n",
       "\n",
       "                                      decoder_target  \n",
       "0  upgrad learner switches to career in ml al wit...  \n",
       "1  delhi techie wins free food from swiggy for on...  \n",
       "2  new zealand end rohit sharma led india match w...  \n",
       "3  aegon life iterm insurance plan helps customer...  \n",
       "4  have known hirani for yrs what if metoo claims...  "
      ]
     },
     "execution_count": 40,
     "metadata": {},
     "output_type": "execute_result"
    }
   ],
   "source": [
    "# 요약 데이터에는 시작 토큰과 종료 토큰을 추가한다.\n",
    "data['decoder_input'] = data['headlines'].apply(lambda x : 'sostoken '+ x)\n",
    "data['decoder_target'] = data['headlines'].apply(lambda x : x + ' eostoken')\n",
    "data.head()"
   ]
  },
  {
   "cell_type": "code",
   "execution_count": 43,
   "id": "d7b068a0",
   "metadata": {},
   "outputs": [],
   "source": [
    "# 인코더의 입력, 디코더의 입력, 디코더의 레이블을 각각 Numpy array타입으로 저장\n",
    "encoder_input = np.array(data['text']) # 인코더의 입력\n",
    "decoder_input = np.array(data['decoder_input']) # 디코더의 입력\n",
    "decoder_target = np.array(data['decoder_target']) # 디코더의 레이블\n"
   ]
  },
  {
   "cell_type": "markdown",
   "id": "9acba79a",
   "metadata": {},
   "source": [
    "### 훈련데이터와 테스트 데이터 분리"
   ]
  },
  {
   "cell_type": "code",
   "execution_count": 44,
   "id": "10f00314",
   "metadata": {},
   "outputs": [
    {
     "name": "stdout",
     "output_type": "stream",
     "text": [
      "[58695 88480 97650 ...   675 16644 15409]\n"
     ]
    }
   ],
   "source": [
    "indices = np.arange(encoder_input.shape[0]) # 간격이 1인 0~ 데이터개수 만큼의 배열 생성\n",
    "np.random.shuffle(indices) # 랜덤한 순서가 되도록 섞는다\n",
    "print(indices)"
   ]
  },
  {
   "cell_type": "code",
   "execution_count": 45,
   "id": "06fca7f5",
   "metadata": {},
   "outputs": [],
   "source": [
    "# encoder의 입력과 decoder의 입력과 라벨을 indices 순서에 맞춰준다.\n",
    "\n",
    "encoder_input = encoder_input[indices]\n",
    "decoder_input = decoder_input[indices]\n",
    "decoder_target = decoder_target[indices]\n"
   ]
  },
  {
   "cell_type": "code",
   "execution_count": 46,
   "id": "900c804a",
   "metadata": {},
   "outputs": [
    {
     "name": "stdout",
     "output_type": "stream",
     "text": [
      "테스트 데이터의 개수:  19616\n"
     ]
    }
   ],
   "source": [
    "# 랜덤으로 섞인 데이터를 8:2 비율로 훈련 데이터와 테스트 데이터를 분리한다.\n",
    "test_size=int(len(encoder_input)*0.2)\n",
    "print(\"테스트 데이터의 개수: \", test_size)"
   ]
  },
  {
   "cell_type": "code",
   "execution_count": 47,
   "id": "78f82ade",
   "metadata": {},
   "outputs": [
    {
     "name": "stdout",
     "output_type": "stream",
     "text": [
      "훈련 데이터의 개수 : 78465\n",
      "훈련 레이블의 개수 : 78465\n",
      "테스트 데이터의 개수 : 19616\n",
      "테스트 레이블의 개수 : 19616\n"
     ]
    }
   ],
   "source": [
    "encoder_input_train = encoder_input[:-test_size]\n",
    "decoder_input_train = decoder_input[:-test_size]\n",
    "decoder_target_train = decoder_target[:-test_size]\n",
    "\n",
    "encoder_input_test = encoder_input[-test_size:]\n",
    "decoder_input_test = decoder_input[-test_size:]\n",
    "decoder_target_test = decoder_target[-test_size:]\n",
    "\n",
    "print('훈련 데이터의 개수 :', len(encoder_input_train))\n",
    "print('훈련 레이블의 개수 :', len(decoder_input_train))\n",
    "print('테스트 데이터의 개수 :', len(encoder_input_test))\n",
    "print('테스트 레이블의 개수 :', len(decoder_input_test))"
   ]
  },
  {
   "cell_type": "markdown",
   "id": "a93e4981",
   "metadata": {},
   "source": [
    "훈련 데이터 78465개, 테스트 데이터 19616개가 나뉘어졌다.\n",
    "\n",
    "### Tokenizer를 사용하여 단어사전(vocabulary)만들고 정수 인코딩한다."
   ]
  },
  {
   "cell_type": "code",
   "execution_count": 48,
   "id": "55c5050b",
   "metadata": {},
   "outputs": [],
   "source": [
    "src_tokenizer = Tokenizer() # 토크나이저 정의\n",
    "src_tokenizer.fit_on_texts(encoder_input_train) # 입력된 데이터로부터 단어 집합 생성\n"
   ]
  },
  {
   "cell_type": "code",
   "execution_count": 55,
   "id": "7e19009c",
   "metadata": {
    "scrolled": true
   },
   "outputs": [
    {
     "name": "stdout",
     "output_type": "stream",
     "text": [
      "단어 사전(vocabulary)의 크기 : 69447\n",
      "등장 빈도가 7번 이하인 희귀 단어의 수: 48789\n",
      "단어 사전에서 희귀 단어를 제외시킬 경우의 단어 집합의 크기 20658\n",
      "단어 사전에서 희귀 단어의 비율: 70.2535746684522\n",
      "전체 등장 빈도에서 희귀 단어 등장 빈도 비율: 3.8599154170132883\n"
     ]
    }
   ],
   "source": [
    "threshold = 8\n",
    "total_cnt = len(src_tokenizer.word_index) # 단어의 수\n",
    "rare_cnt = 0 # 등장 빈도수가 threshold보다 작은 단어의 개수를 카운트\n",
    "total_freq = 0 # 훈련 데이터의 전체 단어 빈도수 총 합\n",
    "rare_freq = 0 # 등장 빈도수가 threshold보다 작은 단어의 등장 빈도수의 총 합\n",
    "\n",
    "# 단어와 빈도수의 쌍(pair)을 key와 value로 받는다.\n",
    "for key, value in src_tokenizer.word_counts.items():\n",
    "    total_freq = total_freq + value\n",
    "\n",
    "    # 단어의 등장 빈도수가 threshold보다 작으면\n",
    "    if(value < threshold):\n",
    "        rare_cnt = rare_cnt + 1\n",
    "        rare_freq = rare_freq + value\n",
    "\n",
    "print('단어 사전(vocabulary)의 크기 :', total_cnt)\n",
    "print('등장 빈도가 %s번 이하인 희귀 단어의 수: %s'%(threshold - 1, rare_cnt))\n",
    "print('단어 사전에서 희귀 단어를 제외시킬 경우의 단어 집합의 크기 %s'%(total_cnt - rare_cnt))\n",
    "print(\"단어 사전에서 희귀 단어의 비율:\", (rare_cnt / total_cnt)*100)\n",
    "print(\"전체 등장 빈도에서 희귀 단어 등장 빈도 비율:\", (rare_freq / total_freq)*100)"
   ]
  },
  {
   "cell_type": "markdown",
   "id": "fa5a8779",
   "metadata": {},
   "source": [
    "등장빈도가 7번 이하로 쓰여진 희귀 단어가 단어 사전에서 차지하는 비율은 70.25%를 차지한다. 즉 많은 양이 쓰여진다. 그러나 훈련데이터에서는 겨우 3.85% 사용되어진다. 6이하로 쓰여진 희귀 단어를 삭제하면 단어사전의 크기를 70.25% 절약가능하고 훈련데이터는 3.85%의 손실을 보게 된다. 절약할 수 있는 컴퓨팅 파워에 비해 손실이 매우 적어서 희귀단어는 지우는 쪽이 더 나아보인다.\n",
    "\n",
    "- Tokenizer의 num_words=20658로 지정해서 7번 이하로 등장한 희귀단어를 제외시키자."
   ]
  },
  {
   "cell_type": "code",
   "execution_count": 56,
   "id": "98ee8957",
   "metadata": {},
   "outputs": [],
   "source": [
    "src_vocab = 20658\n",
    "src_tokenizer = Tokenizer(num_words=src_vocab) # 단어 집합의 크기를 8,000으로 제한\n",
    "src_tokenizer.fit_on_texts(encoder_input_train) # 단어 집합 재생성\n"
   ]
  },
  {
   "cell_type": "code",
   "execution_count": 57,
   "id": "dfc51802",
   "metadata": {
    "scrolled": true
   },
   "outputs": [
    {
     "name": "stdout",
     "output_type": "stream",
     "text": [
      "[[4807, 842, 152, 15, 13313, 18381, 92, 1572, 63, 1736, 1167, 3508, 8, 1660, 4923, 374, 1402, 273, 1862, 1615, 764, 1279, 679, 56, 8003, 458, 1484, 953, 18381, 361, 9, 5681, 1712], [3850, 1283, 28, 99, 13314, 599, 7, 1874, 173, 1089, 19, 203, 2, 4113, 12913, 12914, 28, 99, 1, 3304, 279, 2, 1279, 261, 320, 43, 261, 134, 1903, 514], [216, 243, 277, 98, 6114, 2032, 33, 567, 9600, 85, 2082, 1322, 107, 346, 10216, 153, 108, 931, 30, 5180, 7662, 455, 53, 95, 1696, 5286, 7228, 190, 1367, 39, 7, 442, 612, 346, 1519]]\n"
     ]
    }
   ],
   "source": [
    "# 텍스트 시퀀스를 정수 시퀀스로 변환\n",
    "encoder_input_train = src_tokenizer.texts_to_sequences(encoder_input_train) \n",
    "encoder_input_test = src_tokenizer.texts_to_sequences(encoder_input_test)\n",
    "\n",
    "# 잘 진행되었는지 샘플 출력\n",
    "print(encoder_input_train[:3])"
   ]
  },
  {
   "cell_type": "markdown",
   "id": "b6f85275",
   "metadata": {},
   "source": [
    "summary데이터(headlines)에 대해서도 위와 동일한 작업을 수행한다."
   ]
  },
  {
   "cell_type": "code",
   "execution_count": 58,
   "id": "d8c7ded3",
   "metadata": {},
   "outputs": [],
   "source": [
    "tar_tokenizer = Tokenizer() # target tokenizer\n",
    "tar_tokenizer.fit_on_texts(decoder_input_train) # decoder_input_train을 넣어준다.\n"
   ]
  },
  {
   "cell_type": "code",
   "execution_count": 62,
   "id": "daf65403",
   "metadata": {},
   "outputs": [
    {
     "name": "stdout",
     "output_type": "stream",
     "text": [
      "단어 사전(vocabulary)의 크기 : 30112\n",
      "등장 빈도가 5번 이하인 희귀 단어의 수: 19683\n",
      "단어 사전에서 희귀 단어를 제외시킬 경우의 단어 집합의 크기 10429\n",
      "단어 사전에서 희귀 단어의 비율: 65.36596705632306\n",
      "전체 등장 빈도에서 희귀 단어 등장 빈도 비율: 4.661685978905759\n"
     ]
    }
   ],
   "source": [
    "threshold = 6\n",
    "total_cnt = len(tar_tokenizer.word_index) # 단어의 수\n",
    "rare_cnt = 0 # 등장 빈도수가 threshold보다 작은 단어의 개수를 카운트\n",
    "total_freq = 0 # 훈련 데이터의 전체 단어 빈도수 총 합\n",
    "rare_freq = 0 # 등장 빈도수가 threshold보다 작은 단어의 등장 빈도수의 총 합\n",
    "\n",
    "# 단어와 빈도수의 쌍(pair)을 key와 value로 받는다.\n",
    "for key, value in tar_tokenizer.word_counts.items():\n",
    "    total_freq = total_freq + value\n",
    "\n",
    "    # 단어의 등장 빈도수가 threshold보다 작으면\n",
    "    if(value < threshold):\n",
    "        rare_cnt = rare_cnt + 1\n",
    "        rare_freq = rare_freq + value\n",
    "\n",
    "print('단어 사전(vocabulary)의 크기 :', total_cnt)\n",
    "print('등장 빈도가 %s번 이하인 희귀 단어의 수: %s'%(threshold - 1, rare_cnt))\n",
    "print('단어 사전에서 희귀 단어를 제외시킬 경우의 단어 집합의 크기 %s'%(total_cnt - rare_cnt))\n",
    "print(\"단어 사전에서 희귀 단어의 비율:\", (rare_cnt / total_cnt)*100)\n",
    "print(\"전체 등장 빈도에서 희귀 단어 등장 빈도 비율:\", (rare_freq / total_freq)*100)"
   ]
  },
  {
   "cell_type": "markdown",
   "id": "0aba07fc",
   "metadata": {},
   "source": [
    "summary 데이터의 등장빈도가 5번 이하인 희귀 단어는 전체 단어사전의 65.36%를 차지한다. 전체 summary 데이터셋에서 희귀단어가 등장하는 빈도는 4.66%이다. 이 단어들을 제거해도 훈련 데이터가 크게 손실이 갈것 같지는 않다. 단어사전의 크기를 10429로 제한해서 토크나이저를 진행한다."
   ]
  },
  {
   "cell_type": "code",
   "execution_count": 63,
   "id": "48b27384",
   "metadata": {},
   "outputs": [
    {
     "name": "stdout",
     "output_type": "stream",
     "text": [
      "input\n",
      "input  [[1, 3691, 1527, 1953, 78, 749, 3, 1074, 23, 2011], [1, 49, 5635, 262, 358, 259, 35, 1346, 6, 815, 315], [1, 9537, 1584, 83, 5, 2701, 258, 9538, 697], [1, 1895, 3386, 2133, 147, 178, 14, 722, 698], [1, 22, 37, 908, 119, 5636, 28, 115, 7, 154]]\n",
      "target\n",
      "decoder  [[3691, 1527, 1953, 78, 749, 3, 1074, 23, 2011, 2], [49, 5635, 262, 358, 259, 35, 1346, 6, 815, 315, 2], [9537, 1584, 83, 5, 2701, 258, 9538, 697, 2], [1895, 3386, 2133, 147, 178, 14, 722, 698, 2], [22, 37, 908, 119, 5636, 28, 115, 7, 154, 2]]\n"
     ]
    }
   ],
   "source": [
    "tar_vocab = 10429\n",
    "tar_tokenizer = Tokenizer(num_words=tar_vocab) \n",
    "tar_tokenizer.fit_on_texts(decoder_input_train)\n",
    "tar_tokenizer.fit_on_texts(decoder_target_train)\n",
    "\n",
    "# 텍스트 시퀀스를 정수 시퀀스로 변환\n",
    "decoder_input_train = tar_tokenizer.texts_to_sequences(decoder_input_train) \n",
    "decoder_target_train = tar_tokenizer.texts_to_sequences(decoder_target_train)\n",
    "decoder_input_test = tar_tokenizer.texts_to_sequences(decoder_input_test)\n",
    "decoder_target_test = tar_tokenizer.texts_to_sequences(decoder_target_test)\n",
    "\n",
    "# 잘 변환되었는지 확인\n",
    "print('input')\n",
    "print('input ',decoder_input_train[:5])\n",
    "print('target')\n",
    "print('decoder ',decoder_target_train[:5])"
   ]
  },
  {
   "cell_type": "markdown",
   "id": "cf1e4a91",
   "metadata": {},
   "source": [
    "인코딩 작업은 끝났고, 너무 짧거나 빈 문장이 샘플링 되지는 않았는지 체크해보자.\n",
    "요약문의 길이가 0이 된 샘플의 인덱스를 받아오자. (단 지금 특수토큰(sostoken, eostoken)이 추가되었으므로 요약문의 길이가 0인 경우에도 길이가 1로 나올 것을 주의하자."
   ]
  },
  {
   "cell_type": "code",
   "execution_count": 64,
   "id": "b7239d3f",
   "metadata": {
    "scrolled": true
   },
   "outputs": [
    {
     "name": "stdout",
     "output_type": "stream",
     "text": [
      "삭제할 훈련 데이터의 개수 : 0\n",
      "삭제할 테스트 데이터의 개수 : 0\n",
      "훈련 데이터의 개수 : 78465\n",
      "훈련 레이블의 개수 : 78465\n",
      "테스트 데이터의 개수 : 19616\n",
      "테스트 레이블의 개수 : 19616\n"
     ]
    }
   ],
   "source": [
    "# 길이가 1인 문장의 index를 각각 저장한다\n",
    "drop_train = [index for index, sentence in enumerate(decoder_input_train) if len(sentence) == 1]\n",
    "drop_test = [index for index, sentence in enumerate(decoder_input_test) if len(sentence) == 1]\n",
    "\n",
    "print('삭제할 훈련 데이터의 개수 :', len(drop_train))\n",
    "print('삭제할 테스트 데이터의 개수 :', len(drop_test))\n",
    "\n",
    "# drop_train에 포함되지 않은 인덱스를 가진 문장만 저장한다.\n",
    "encoder_input_train = [sentence for index, sentence in enumerate(encoder_input_train) if index not in drop_train]\n",
    "decoder_input_train = [sentence for index, sentence in enumerate(decoder_input_train) if index not in drop_train]\n",
    "decoder_target_train = [sentence for index, sentence in enumerate(decoder_target_train) if index not in drop_train]\n",
    "\n",
    "# drop_test에 포함되지 않은 인덱스를 가진 문장만 저장한다.\n",
    "encoder_input_test = [sentence for index, sentence in enumerate(encoder_input_test) if index not in drop_test]\n",
    "decoder_input_test = [sentence for index, sentence in enumerate(decoder_input_test) if index not in drop_test]\n",
    "decoder_target_test = [sentence for index, sentence in enumerate(decoder_target_test) if index not in drop_test]\n",
    "\n",
    "print('훈련 데이터의 개수 :', len(encoder_input_train))\n",
    "print('훈련 레이블의 개수 :', len(decoder_input_train))\n",
    "print('테스트 데이터의 개수 :', len(encoder_input_test))\n",
    "print('테스트 레이블의 개수 :', len(decoder_input_test))"
   ]
  },
  {
   "cell_type": "markdown",
   "id": "06faef01",
   "metadata": {},
   "source": [
    "삭제할 데이터가 없이 모두 데이터가 들어있다.\n",
    "\n",
    "-----------------------------\n",
    "\n",
    "### 패딩하기"
   ]
  },
  {
   "cell_type": "code",
   "execution_count": 65,
   "id": "4875df3c",
   "metadata": {},
   "outputs": [],
   "source": [
    "# 앞에서 정했던 text_max_len에 맞춰서 패딩을 한다\n",
    "encoder_input_train = pad_sequences(encoder_input_train, maxlen=text_max_len, padding='post')\n",
    "encoder_input_test = pad_sequences(encoder_input_test, maxlen=text_max_len, padding='post')\n",
    "\n",
    "# 앞에서 정했던 summary_max_len에 맞춰서 패딩을 한다\n",
    "decoder_input_train = pad_sequences(decoder_input_train, maxlen=summary_max_len, padding='post')\n",
    "decoder_target_train = pad_sequences(decoder_target_train, maxlen=summary_max_len, padding='post')\n",
    "decoder_input_test = pad_sequences(decoder_input_test, maxlen=summary_max_len, padding='post')\n",
    "decoder_target_test = pad_sequences(decoder_target_test, maxlen=summary_max_len, padding='post')\n"
   ]
  },
  {
   "cell_type": "markdown",
   "id": "98e019f6",
   "metadata": {},
   "source": [
    "### Step 3. 어텐션 메커니즘 사용하기 (추상적 요약)\n",
    "일반적인 seq2seq보다는 어텐션 메커니즘을 사용한 seq2seq를 사용하는 것이 더 나은 성능을 얻을 수 있어요. 실습 내용을 참고하여 어텐션 메커니즘을 사용한 seq2seq를 설계해 보세요."
   ]
  },
  {
   "cell_type": "markdown",
   "id": "16c24121",
   "metadata": {},
   "source": [
    "인코더 설계"
   ]
  },
  {
   "cell_type": "code",
   "execution_count": 109,
   "id": "5f6fccda",
   "metadata": {},
   "outputs": [],
   "source": [
    "from tensorflow.keras.layers import Input, LSTM, Embedding, Dense, Concatenate, TimeDistributed\n",
    "from tensorflow.keras.models import Model\n",
    "from tensorflow.keras.callbacks import EarlyStopping, ModelCheckpoint\n",
    "from tensorflow.keras.layers import AdditiveAttention"
   ]
  },
  {
   "cell_type": "markdown",
   "id": "4f553e7c",
   "metadata": {},
   "source": [
    "#### 모델1. encoder의 recurrent dropout = 0.4, decoder의 recurrent dropout=0.2 훈련\n",
    "- embedding_dim = 128,hidden_size = 256,dropout_rate=0.4"
   ]
  },
  {
   "cell_type": "code",
   "execution_count": 111,
   "id": "e787a00a",
   "metadata": {},
   "outputs": [
    {
     "name": "stdout",
     "output_type": "stream",
     "text": [
      "WARNING:tensorflow:Layer lstm_32 will not use cuDNN kernels since it doesn't meet the criteria. It will use a generic GPU kernel as fallback when running on GPU.\n",
      "WARNING:tensorflow:Layer lstm_33 will not use cuDNN kernels since it doesn't meet the criteria. It will use a generic GPU kernel as fallback when running on GPU.\n",
      "WARNING:tensorflow:Layer lstm_34 will not use cuDNN kernels since it doesn't meet the criteria. It will use a generic GPU kernel as fallback when running on GPU.\n",
      "WARNING:tensorflow:Layer lstm_35 will not use cuDNN kernels since it doesn't meet the criteria. It will use a generic GPU kernel as fallback when running on GPU.\n",
      "Model: \"model_13\"\n",
      "__________________________________________________________________________________________________\n",
      "Layer (type)                    Output Shape         Param #     Connected to                     \n",
      "==================================================================================================\n",
      "input_31 (InputLayer)           [(None, 62)]         0                                            \n",
      "__________________________________________________________________________________________________\n",
      "embedding_16 (Embedding)        (None, 62, 128)      2644224     input_31[0][0]                   \n",
      "__________________________________________________________________________________________________\n",
      "lstm_32 (LSTM)                  [(None, 62, 256), (N 394240      embedding_16[0][0]               \n",
      "__________________________________________________________________________________________________\n",
      "input_32 (InputLayer)           [(None, None)]       0                                            \n",
      "__________________________________________________________________________________________________\n",
      "lstm_33 (LSTM)                  [(None, 62, 256), (N 525312      lstm_32[0][0]                    \n",
      "__________________________________________________________________________________________________\n",
      "embedding_17 (Embedding)        (None, None, 128)    1334912     input_32[0][0]                   \n",
      "__________________________________________________________________________________________________\n",
      "lstm_34 (LSTM)                  [(None, 62, 256), (N 525312      lstm_33[0][0]                    \n",
      "__________________________________________________________________________________________________\n",
      "lstm_35 (LSTM)                  [(None, None, 256),  394240      embedding_17[0][0]               \n",
      "                                                                 lstm_34[0][1]                    \n",
      "                                                                 lstm_34[0][2]                    \n",
      "__________________________________________________________________________________________________\n",
      "attention_layer (AdditiveAttent (None, None, 256)    256         lstm_35[0][0]                    \n",
      "                                                                 lstm_34[0][0]                    \n",
      "__________________________________________________________________________________________________\n",
      "concat_layer (Concatenate)      (None, None, 512)    0           lstm_35[0][0]                    \n",
      "                                                                 attention_layer[0][0]            \n",
      "__________________________________________________________________________________________________\n",
      "dense_8 (Dense)                 (None, None, 10429)  5350077     concat_layer[0][0]               \n",
      "==================================================================================================\n",
      "Total params: 11,168,573\n",
      "Trainable params: 11,168,573\n",
      "Non-trainable params: 0\n",
      "__________________________________________________________________________________________________\n",
      "Epoch 1/50\n",
      "307/307 [==============================] - 277s 872ms/step - loss: 5.2677 - val_loss: 4.8625\n",
      "Epoch 2/50\n",
      "307/307 [==============================] - 265s 864ms/step - loss: 4.6884 - val_loss: 4.4966\n",
      "Epoch 3/50\n",
      "307/307 [==============================] - 266s 867ms/step - loss: 4.3873 - val_loss: 4.2682\n",
      "Epoch 4/50\n",
      "307/307 [==============================] - 265s 863ms/step - loss: 4.1559 - val_loss: 4.1101\n",
      "Epoch 5/50\n",
      "307/307 [==============================] - 267s 870ms/step - loss: 3.9706 - val_loss: 3.9725\n",
      "Epoch 6/50\n",
      "307/307 [==============================] - 266s 866ms/step - loss: 3.8156 - val_loss: 3.8638\n",
      "Epoch 7/50\n",
      "307/307 [==============================] - 269s 876ms/step - loss: 3.6829 - val_loss: 3.7794\n",
      "Epoch 8/50\n",
      "307/307 [==============================] - 269s 876ms/step - loss: 3.5668 - val_loss: 3.7119\n",
      "Epoch 9/50\n",
      "307/307 [==============================] - 270s 878ms/step - loss: 3.4641 - val_loss: 3.6534\n",
      "Epoch 10/50\n",
      "307/307 [==============================] - 269s 876ms/step - loss: 3.3739 - val_loss: 3.6092\n",
      "Epoch 11/50\n",
      "307/307 [==============================] - 269s 875ms/step - loss: 3.2920 - val_loss: 3.5614\n",
      "Epoch 12/50\n",
      "307/307 [==============================] - 268s 872ms/step - loss: 3.2177 - val_loss: 3.5297\n",
      "Epoch 13/50\n",
      "307/307 [==============================] - 269s 876ms/step - loss: 3.1501 - val_loss: 3.5056\n",
      "Epoch 14/50\n",
      "307/307 [==============================] - 269s 876ms/step - loss: 3.0915 - val_loss: 3.4906\n",
      "Epoch 15/50\n",
      "307/307 [==============================] - 268s 874ms/step - loss: 3.0382 - val_loss: 3.4690\n",
      "Epoch 16/50\n",
      "307/307 [==============================] - 261s 850ms/step - loss: 2.8912 - val_loss: 3.4265\n",
      "Epoch 19/50\n",
      "307/307 [==============================] - 263s 857ms/step - loss: 2.8490 - val_loss: 3.4129\n",
      "Epoch 20/50\n",
      "307/307 [==============================] - 267s 869ms/step - loss: 2.8079 - val_loss: 3.4060\n",
      "Epoch 21/50\n",
      "307/307 [==============================] - 274s 891ms/step - loss: 2.7379 - val_loss: 3.3898\n",
      "Epoch 23/50\n",
      "307/307 [==============================] - 274s 891ms/step - loss: 2.7078 - val_loss: 3.3813\n",
      "Epoch 24/50\n",
      "307/307 [==============================] - 273s 890ms/step - loss: 2.6468 - val_loss: 3.3735\n",
      "Epoch 26/50\n",
      "307/307 [==============================] - 273s 891ms/step - loss: 2.6154 - val_loss: 3.3694\n",
      "Epoch 27/50\n",
      "307/307 [==============================] - 273s 889ms/step - loss: 2.5853 - val_loss: 3.3647\n",
      "Epoch 28/50\n",
      "307/307 [==============================] - 269s 877ms/step - loss: 2.5574 - val_loss: 3.3657\n",
      "Epoch 29/50\n",
      "307/307 [==============================] - 268s 873ms/step - loss: 2.5318 - val_loss: 3.3638\n",
      "Epoch 30/50\n",
      "307/307 [==============================] - 268s 874ms/step - loss: 2.5068 - val_loss: 3.3612\n",
      "Epoch 31/50\n",
      "307/307 [==============================] - 267s 871ms/step - loss: 2.4850 - val_loss: 3.3589\n",
      "Epoch 32/50\n",
      "307/307 [==============================] - 268s 873ms/step - loss: 2.4620 - val_loss: 3.3549\n",
      "Epoch 33/50\n",
      "307/307 [==============================] - 266s 866ms/step - loss: 2.4406 - val_loss: 3.3629\n",
      "Epoch 34/50\n",
      "307/307 [==============================] - 266s 865ms/step - loss: 2.4183 - val_loss: 3.3636\n",
      "Epoch 00034: early stopping\n"
     ]
    }
   ],
   "source": [
    "embedding_dim = 128\n",
    "hidden_size = 256\n",
    "dropout_rate=0.4\n",
    "re_dropout_rate=0.4\n",
    "re_dropout_rate2=0.2\n",
    "\n",
    "# 인코더 설계 시작\n",
    "# 인코더\n",
    "encoder_inputs = Input(shape=(text_max_len,))\n",
    "    \n",
    "# 인코더의 임베딩 층\n",
    "enc_emb = Embedding(src_vocab, embedding_dim)(encoder_inputs)\n",
    "    \n",
    "# 인코더의 LSTM 1\n",
    "encoder_lstm1 = LSTM(hidden_size, return_sequences=True, return_state=True ,\n",
    "                         dropout = dropout_rate, recurrent_dropout = re_dropout_rate)\n",
    "encoder_output1, state_h1, state_c1 = encoder_lstm1(enc_emb)\n",
    "# 인코더의 LSTM 2\n",
    "encoder_lstm2 = LSTM(hidden_size, return_sequences=True, return_state=True, dropout=dropout_rate, recurrent_dropout=re_dropout_rate)\n",
    "encoder_output2, state_h2, state_c2 = encoder_lstm2(encoder_output1)\n",
    "# 인코더의 LSTM 3\n",
    "encoder_lstm3 = LSTM(hidden_size, return_state=True, return_sequences=True, dropout=dropout_rate, recurrent_dropout=re_dropout_rate)\n",
    "encoder_outputs, state_h, state_c= encoder_lstm3(encoder_output2)\n",
    "    \n",
    "# 디코더 설계\n",
    "decoder_inputs = Input(shape=(None,))\n",
    "    \n",
    "# 디코더의 임베딩 층\n",
    "dec_emb_layer = Embedding(tar_vocab, embedding_dim)\n",
    "dec_emb = dec_emb_layer(decoder_inputs)\n",
    "    \n",
    "# 디코더의 LSTM\n",
    "# 인코더의 LSTM과 거의 비슷하지만 inital_state에 \n",
    "# 인코더의 LSTM3에서 출력되어진 state_h와 state_c를 꼭 입력해주어야함\n",
    "decoder_lstm = LSTM(hidden_size, return_sequences=True, return_state=True, dropout=dropout_rate, recurrent_dropout=re_dropout_rate2)\n",
    "decoder_outputs, _, _ = decoder_lstm(dec_emb, initial_state=[state_h, state_c])\n",
    "    \n",
    "# 어텐션 층(어텐션 함수)\n",
    "attn_layer = AdditiveAttention(name='attention_layer')\n",
    "# 인코더와 디코더의 모든 time step의 hidden state를 어텐션 층에 전달하고 결과를 리턴\n",
    "attn_out = attn_layer([decoder_outputs, encoder_outputs])\n",
    "\n",
    "\n",
    "# 어텐션의 결과와 디코더의 hidden state들을 연결\n",
    "decoder_concat_input = Concatenate(axis=-1, name='concat_layer')([decoder_outputs, attn_out])\n",
    "    \n",
    "# 디코더의 출력층\n",
    "decoder_softmax_layer = Dense(tar_vocab, activation='softmax')\n",
    "decoder_softmax_outputs = decoder_softmax_layer(decoder_concat_input)\n",
    "    \n",
    "# 모델 정의\n",
    "model = Model([encoder_inputs, decoder_inputs], decoder_softmax_outputs)\n",
    "model.summary()\n",
    "\n",
    "# rmsprop를 optimizer로 쓰고 cross entropy를 loss function으로 사용한다.\n",
    "# adam도 한번 더 테스트해야겠다\n",
    "model.compile(optimizer='rmsprop', loss='sparse_categorical_crossentropy') \n",
    "\n",
    "# EarlyStopping을 해서 validation의 loss가 증가하는 현상이 2회 관찰되면 학습 중지 \n",
    "es = EarlyStopping(monitor='val_loss', patience=2, verbose=1) \n",
    "\n",
    "history = model.fit(x=[encoder_input_train, decoder_input_train], y=decoder_target_train, \\\n",
    "          validation_data=([encoder_input_test, decoder_input_test], decoder_target_test), \\\n",
    "          batch_size=256, callbacks=[es], epochs=50)"
   ]
  },
  {
   "cell_type": "markdown",
   "id": "de8b0999",
   "metadata": {},
   "source": [
    "전체 데이터 78465를 batch size 256으로 나눠서 학습하므로 1epoch을 돌때 307 (306.50390625=78465/256을 올림)step을 간다. "
   ]
  },
  {
   "cell_type": "markdown",
   "id": "55f40917",
   "metadata": {},
   "source": [
    "### 모델 1의 learning curve 시각화\n",
    "- encoder의 recurrent dropout rate=0.4\n",
    "- decoder recurrent dropout rate=0.2\n",
    "- embedding_dim = 128,hidden_size = 256,dropout_rate=0.4"
   ]
  },
  {
   "cell_type": "code",
   "execution_count": 112,
   "id": "f955ce41",
   "metadata": {},
   "outputs": [
    {
     "data": {
      "image/png": "[encoded data removed]",
      "text/plain": [
       "<Figure size 432x288 with 1 Axes>"
      ]
     },
     "metadata": {
      "needs_background": "light"
     },
     "output_type": "display_data"
    }
   ],
   "source": [
    "plt.plot(history.history['loss'], label='train')\n",
    "plt.plot(history.history['val_loss'], label='test')\n",
    "plt.legend()\n",
    "plt.show()"
   ]
  },
  {
   "cell_type": "markdown",
   "id": "a862aa70",
   "metadata": {},
   "source": [
    "\n",
    "--------------------------------------------\n",
    "\n",
    "### Step 4. 실제 결과와 요약문 비교하기 (추상적 요약)- 모델1\n",
    "원래의 요약문(headlines 열)과 학습을 통해 얻은 추상적 요약의 결과를 비교해보자"
   ]
  },
  {
   "cell_type": "code",
   "execution_count": 113,
   "id": "c152a739",
   "metadata": {},
   "outputs": [],
   "source": [
    "src_index_to_word = src_tokenizer.index_word # 원문 단어 집합에서 정수 -> 단어를 얻음\n",
    "tar_word_to_index = tar_tokenizer.word_index # 요약 단어 집합에서 단어 -> 정수를 얻음\n",
    "tar_index_to_word = tar_tokenizer.index_word # 요약 단어 집합에서 정수 -> 단어를 얻음\n"
   ]
  },
  {
   "cell_type": "code",
   "execution_count": 114,
   "id": "621355b7",
   "metadata": {},
   "outputs": [],
   "source": [
    "# 인코더 설계\n",
    "encoder_model = Model(inputs=encoder_inputs, outputs=[encoder_outputs, state_h, state_c])\n",
    "\n",
    "# 이전 시점의 상태들을 저장하는 텐서\n",
    "decoder_state_input_h = Input(shape=(hidden_size,))\n",
    "decoder_state_input_c = Input(shape=(hidden_size,))\n",
    "\n",
    "dec_emb2 = dec_emb_layer(decoder_inputs)\n",
    "\n",
    "# 문장의 다음 단어를 예측하기 위해서 초기 상태(initial_state)를 이전 시점의 상태로 사용. 이는 뒤의 함수 decode_sequence()에 구현\n",
    "# 훈련 과정에서와 달리 LSTM의 리턴하는 은닉 상태와 셀 상태인 state_h와 state_c를 버리지 않음.\n",
    "decoder_outputs2, state_h2, state_c2 = decoder_lstm(dec_emb2, initial_state=[decoder_state_input_h, decoder_state_input_c])\n",
    "\n",
    "# 어텐션 함수\n",
    "decoder_hidden_state_input = Input(shape=(text_max_len, hidden_size))\n",
    "attn_out_inf = attn_layer([decoder_outputs2, decoder_hidden_state_input])\n",
    "decoder_inf_concat = Concatenate(axis=-1, name='concat')([decoder_outputs2, attn_out_inf])\n",
    "\n",
    "# 디코더의 출력층\n",
    "decoder_outputs2 = decoder_softmax_layer(decoder_inf_concat) \n",
    "\n",
    "# 최종 디코더 모델\n",
    "decoder_model = Model(\n",
    "    [decoder_inputs] + [decoder_hidden_state_input,decoder_state_input_h, decoder_state_input_c],\n",
    "    [decoder_outputs2] + [state_h2, state_c2])\n",
    "\n"
   ]
  },
  {
   "cell_type": "code",
   "execution_count": 115,
   "id": "efb9ca95",
   "metadata": {},
   "outputs": [],
   "source": [
    "def decode_sequence(input_seq):\n",
    "    # 입력으로부터 인코더의 상태를 얻음\n",
    "    e_out, e_h, e_c = encoder_model.predict(input_seq)\n",
    "\n",
    "     # <SOS>에 해당하는 토큰 생성\n",
    "    target_seq = np.zeros((1,1))\n",
    "    target_seq[0, 0] = tar_word_to_index['sostoken']\n",
    "\n",
    "    stop_condition = False\n",
    "    decoded_sentence = ''\n",
    "    while not stop_condition: # stop_condition이 True가 될 때까지 루프 반복\n",
    "\n",
    "        output_tokens, h, c = decoder_model.predict([target_seq] + [e_out, e_h, e_c])\n",
    "        sampled_token_index = np.argmax(output_tokens[0, -1, :])\n",
    "        sampled_token = tar_index_to_word[sampled_token_index]\n",
    "\n",
    "        if (sampled_token!='eostoken'):\n",
    "            decoded_sentence += ' '+sampled_token\n",
    "\n",
    "        #  <eos>에 도달하거나 최대 길이를 넘으면 중단.\n",
    "        if (sampled_token == 'eostoken'  or len(decoded_sentence.split()) >= (summary_max_len-1)):\n",
    "            stop_condition = True\n",
    "\n",
    "        # 길이가 1인 타겟 시퀀스를 업데이트\n",
    "        target_seq = np.zeros((1,1))\n",
    "        target_seq[0, 0] = sampled_token_index\n",
    "\n",
    "        # 상태를 업데이트 합니다.\n",
    "        e_h, e_c = h, c\n",
    "\n",
    "    return decoded_sentence"
   ]
  },
  {
   "cell_type": "code",
   "execution_count": 116,
   "id": "e153d46d",
   "metadata": {},
   "outputs": [
    {
     "name": "stdout",
     "output_type": "stream",
     "text": [
      "=3\n"
     ]
    }
   ],
   "source": [
    "# 원문의 정수 시퀀스를 텍스트 시퀀스로 변환\n",
    "def seq2text(input_seq):\n",
    "    temp=''\n",
    "    for i in input_seq:\n",
    "        if (i!=0):\n",
    "            temp = temp + src_index_to_word[i]+' '\n",
    "    return temp\n",
    "\n",
    "# 요약문의 정수 시퀀스를 텍스트 시퀀스로 변환\n",
    "def seq2summary(input_seq):\n",
    "    temp=''\n",
    "    for i in input_seq:\n",
    "        if ((i!=0 and i!=tar_word_to_index['sostoken']) and i!=tar_word_to_index['eostoken']):\n",
    "            temp = temp + tar_index_to_word[i] + ' '\n",
    "    return temp\n",
    "\n",
    "print('=3')"
   ]
  },
  {
   "cell_type": "code",
   "execution_count": 117,
   "id": "926c3c62",
   "metadata": {
    "scrolled": false
   },
   "outputs": [
    {
     "name": "stdout",
     "output_type": "stream",
     "text": [
      "원문 : inquiry committee appointed jawaharlal nehru university upheld punishments recommended students umar khalid kanhaiya kumar connection event protesting afzal guru execution jnu panel recommended khalid imposing fine kanhaiya event anti national slogans allegedly raised \n",
      "실제 요약 : jnu panel upholds to umar khalid kanhaiya kumar \n",
      "예측 요약 :  jnu prof appointed as jnu director\n",
      "\n",
      "\n",
      "원문 : former australian wicket keeper adam gilchrist tweeted indian batsman ms dhoni anything rules ground bat inside crease completing run gilchrist said reply person tweeted short run considered nd subsequent runs \n",
      "실제 요약 : it against the rules gilchrist on dhoni incomplete run \n",
      "예측 요약 :  dhoni and dhoni while batting at him\n",
      "\n",
      "\n",
      "원문 : speaking incidents lynching country vice president venkaiah naidu said kill man call nationalist nationalism bharat mata ki jai wider meaning added societal behaviour change vice president said lynching linked political parties \n",
      "실제 요약 : those involved in lynching are not vice prez \n",
      "예측 요약 :  naidu is the only of democracy naidu\n",
      "\n",
      "\n",
      "원문 : world bank ceo said understands cricket loving nation hitting century important milestone said india secured th rank world bank ease business report also credited india achievement per capita income reforms taken last years \n",
      "실제 요약 : hitting is huge in cricket loving nation world bank \n",
      "예측 요약 :  world is the world biggest asset ceo\n",
      "\n",
      "\n",
      "원문 : pakistani maestro ghulam ali scheduled perform temple varanasi next month third year row ali performed temple despite protests shiv sena performance likely part opening ceremony sangeet scheduled april \n",
      "실제 요약 : pak singer ali to perform at varanasi temple \n",
      "예측 요약 :  pak army chief to be part of lord ram rahim\n",
      "\n",
      "\n",
      "원문 : chinese workers pakistan attacked policemen deployed security denied permission visit red light area without accompanied police said workers reportedly engaged construction workers later cut power supply police camp construction facility stopped work project \n",
      "실제 요약 : chinese workers attack pak cops over visit to red light area \n",
      "예측 요약 :  chinese cops suspended for throwing stray dogs at border\n",
      "\n",
      "\n",
      "원문 : aap leader kumar vishwas took twitter share video man speaking long english words wrote shashi tharoor brother lost kumbh festival found congratulations congress mp replied vishwas tweet hindi language saying better people becoming brothers talking alike \n",
      "실제 요약 : vishwas trolls tharoor over his english tharoor replies in hindi \n",
      "예측 요약 :  aap leader shares pic of aap leader on his birth\n",
      "\n",
      "\n",
      "원문 : united states america cricket association facing expulsion international cricket council sport global governing body revealed monday icc suspended board claimed body unity hold widespread authority country cricket activities \n",
      "실제 요약 : usa cricket body faces expulsion from icc \n",
      "예측 요약 :  icc criticises us cricketers over playing abuse\n",
      "\n",
      "\n",
      "원문 : three policemen kerala arrested allegedly torturing year old man wrongly arrested due mistaken identity victim arrested abetment suicide rioting april died hospital april autopsy revealed injuries victim body reports said \n",
      "실제 요약 : kerala policemen arrested for man in custody \n",
      "예측 요약 :  kerala man arrested for killing man in kerala floods\n",
      "\n",
      "\n",
      "원문 : kerala based startup delhi based health global impact challenge going silicon valley us week incubator programme jointly organised kerala startup mission us based university challenge aimed identifying startups working solutions learning healthcare environment sectors \n",
      "실제 요약 : indian startups to go to us post startup challenge win \n",
      "예측 요약 :  kerala announces online aid for women\n",
      "\n",
      "\n",
      "원문 : neha dhupia revealed husband angad bedi proposed marriage four years ago turned proposal time already relationship added came back four years later said wasted four years life said either wife nothing \n",
      "실제 요약 : angad proposed to me yrs ago but turned it down neha \n",
      "예측 요약 :  neha wife wife is the same person of my marriage neha\n",
      "\n",
      "\n",
      "원문 : day state run oil marketing companies raised prices petrol diesel paise paise per litre respectively delhi diesel prices monday reached per litre delhi fresh record high petrol prices also rose per litre highest since september \n",
      "실제 요약 : petrol diesel prices hiked after days \n",
      "예측 요약 :  petrol diesel prices at delhi high post petrol diesel prices\n",
      "\n",
      "\n",
      "원문 : google developer blog monday said working device partners support display edge edge screens android limiting number two android phones one notch side allowed top bottom edges left right \n",
      "실제 요약 : google bans android phones from having more than \n",
      "예측 요약 :  google to launch pixel xl in pixel phones report\n",
      "\n",
      "\n",
      "원문 : actor randeep hooda said high time society stops treating women pets need disciplined surprises even st century families suppress daughters said hooda added women right whatever want \n",
      "실제 요약 : society should not treat women as pets to be hooda \n",
      "예측 요약 :  women should be allowed to work in women at\n",
      "\n",
      "\n",
      "원문 : filmmaker choreographer farah khan reportedly sonam kapoor anand ahuja sangeet ceremony according reports sangeet rehearsals already begun anil kapoor juhu bungalow sonam cousins extended family reportedly perform actress hit songs whereas performing special act sangeet ceremony \n",
      "실제 요약 : farah khan to sonam kapoor sangeet report \n",
      "예측 요약 :  sonam to host wedding reception in mumbai reports\n",
      "\n",
      "\n",
      "원문 : class student bihar got maths got paper updated results announced another student sanskrit marks increased another one got marks upgraded state board got papers failed year \n",
      "실제 요약 : bihar class student marks up from to after \n",
      "예측 요약 :  class boy paper in bihar board exam\n",
      "\n",
      "\n",
      "원문 : sauce maker food services reportedly raised million funding led existing investor belgium based investment holding company manages billion assets across globe october food raised million series round fundraising saama capital \n",
      "실제 요약 : food services raises crore in funding \n",
      "예측 요약 :  food maker raises mn led by bn funding\n",
      "\n",
      "\n",
      "원문 : trailer priyanka chopra second hollywood film kid like jake released priyanka reportedly portray role single mother film premiered film festival directed howard also starring claire jim parsons spencer film scheduled release june \n",
      "실제 요약 : trailer of priyanka nd wood film kid like out \n",
      "예측 요약 :  priyanka chopra to star in deepika katrina film\n",
      "\n",
      "\n",
      "원문 : apple ceo tim cook defended apple billion dollar deal google keep google search default apple devices said think search engine best tried come ways help users day added cook google reportedly paying billion remain safari default search engine \n",
      "실제 요약 : think google search engine is the best apple ceo tim cook \n",
      "예측 요약 :  apple ceo tim cook to apple iphone on iphone day\n",
      "\n",
      "\n",
      "원문 : indian equity benchmarks registered biggest single day drop since october thursday ahead assembly election results amid global market sensex fell points broader nifty index dropped points indices dragged mainly finance auto realty stocks \n",
      "실제 요약 : sensex records worst day in nearly two months falls points \n",
      "예측 요약 :  sensex falls points after points hits the first time\n",
      "\n",
      "\n",
      "원문 : dubai based indian driver million draw held abu dhabi international airport john hails kerala sharing money four friends buy ticket said use share invest children education help underprivileged \n",
      "실제 요약 : kerala man wins crore in abu dhabi lottery \n",
      "예측 요약 :  indian origin flyer sells for crore in kerala\n",
      "\n",
      "\n",
      "원문 : indian pacer deepak chahar became rd player represent india one day internationals making debut afghanistan asia cup tuesday year old played ms dhoni ipl picked wickets become leading wicket taker india team tour england earlier year \n",
      "실제 요약 : who is deepak rd player to represent india in odis \n",
      "예측 요약 :  india st indian to win int cricket team for st time\n",
      "\n",
      "\n",
      "원문 : indian origin co founders bose dhruv kapoor commerce startup raised million series funding round led sequoia india principal investments singapore based startup funding round also saw participation existing investors founded ships fashion lifestyle products countries including indonesia vietnam korea \n",
      "실제 요약 : indian origin co founders startup raises mn \n",
      "예측 요약 :  indian origin startup becomes rd indian startup\n",
      "\n",
      "\n",
      "원문 : bharadwaj year old meerut bronze medal double trap event issf junior shotgun world cup italy sunday earlier shooters manisha combined win bronze medal mixed team trap event italy currently event three golds three bronze medal \n",
      "실제 요약 : yr old wins bronze for india at junior world cup \n",
      "예측 요약 :  yr old indian shooter wins world cup medal at world cup\n",
      "\n",
      "\n",
      "원문 : raees director rahul dholakia talking shah rukh khan occasion birthday friday said still hungry surprised trying different roles rahul added shah rukh biggest convincing range actor film industry \n",
      "실제 요약 : at shah rukh is still very hungry director \n",
      "예측 요약 :  rahul rukh is the only of his own twitter on rahul\n",
      "\n",
      "\n",
      "원문 : abhishek kapoor director sara ali khan debut film kedarnath said beautiful bundle energy talking theme kedarnath said kedarnath love story course pilgrimage film also star actor sushant singh rajput lead role \n",
      "실제 요약 : sara is beautiful of energy kedarnath director \n",
      "예측 요약 :  sara ali khan is kedarnath producer\n",
      "\n",
      "\n",
      "원문 : ram gopal varma phone laptop seized hyderabad police ascertain link short film god sex truth interrogated case obscenity registered film stars american porn star mia investigation requires may arrested said additional dcp \n",
      "실제 요약 : rgv phone laptop seized over charges on film \n",
      "예측 요약 :  rgv rgv arrested for rgv film on ram rahim\n",
      "\n",
      "\n",
      "원문 : hunter shot dead year old son mistaking russia authorities said hunter fired rifle moving object poor visibility authorities added charged causing death negligence faces prison sentence two years \n",
      "실제 요약 : russian hunter shoots son dead after mistaking him for \n",
      "예측 요약 :  us man shoots himself during his son death\n",
      "\n",
      "\n",
      "원문 : malayalam news channel announced first day period leave female employees additional leave counted sick leave soon extended company online print ventures felt good practical practice adopt decision taken company said \n",
      "실제 요약 : malayalam news channel starts period leave for women workers \n",
      "예측 요약 :  first female host mallya resign after months\n",
      "\n",
      "\n",
      "원문 : year old gangster arrested double murder case gang rivalry sought maharashtra control organised crime act court permission euthanasia gangster arrested suffered stroke affected right side body earlier posted bail lack proper treatment paralysis \n",
      "실제 요약 : year old gangster in mumbai jail seeks euthanasia \n",
      "예측 요약 :  man arrested for murder of murder accused in delhi\n",
      "\n",
      "\n",
      "원문 : actor ranbir kapoor revealed nicotine addict since age taken trips austria doctor gave injections ears help quit smoking first time said ranbir added think give \n",
      "실제 요약 : have been addict since the age of ranbir \n",
      "예측 요약 :  ranbir reveals he was not being an actor ranbir\n",
      "\n",
      "\n",
      "원문 : addressing global investors summit guwahati saturday prime minister narendra modi said northeast heart india act east policy connecting southeast asia tagline meet advantage assam india expressway asean appropriate statement also comprehensive vision pm said \n",
      "실제 요약 : northeast at the heart of india act east policy pm modi \n",
      "예측 요약 :  india will be in india by pm modi\n",
      "\n",
      "\n",
      "원문 : iranian authorities arrested suspects connection wednesday twin terror attacks nation interior ministry said lots documents weaponry seized well ministry added islamic state claimed responsibility attacks suicide bombers gunmen attacked iranian parliament mausoleum islamic republic founder \n",
      "실제 요약 : iran arrests suspects over twin terror attacks \n",
      "예측 요약 :  iran arrests al qaeda in somalia over attacks\n",
      "\n",
      "\n",
      "원문 : us based scientists developed thermal mechanical device convert heat emitted computers energy source reused power thermal worked temperatures approaching scientists expect work could allow computing ultra high temperatures make first ever thermal computer scientists said \n",
      "실제 요약 : device heat from computers to power them \n",
      "예측 요약 :  scientists develop artificial intelligence\n",
      "\n",
      "\n",
      "원문 : indian cricket team captain virat kohli celebrated sri lankan wicketkeeper wicket bhangra dance first day second test friday got runs balls lifting ravindra jadeja delivery st towards mid ishant sharma took catch \n",
      "실제 요약 : kohli celebrates sri lankan wicket by doing bhangra \n",
      "예측 요약 :  kohli mocks sl captain for not celebrate his th day\n",
      "\n",
      "\n",
      "원문 : iran dropped two places become sixth biggest oil supplier india november according reuters india monthly oil imports persian gulf nation reportedly plunged lowest year india cut purchases due impact us sanctions iraq saudi arabia continued top two oil sellers india \n",
      "실제 요약 : iran falls to th biggest oil supplier to india in november report \n",
      "예측 요약 :  india oil oil imports to be st time in years\n",
      "\n",
      "\n",
      "원문 : former vice president hamid ansari said india responsible pakistan partition ready accept equally responsible added ansari said politics country changed someone made responsible partition everyone agreed blame muslims \n",
      "실제 요약 : india just as responsible for partition as pak ex vp ansari \n",
      "예측 요약 :  not to talk about india pakistan ex pak vp\n",
      "\n",
      "\n",
      "원문 : patidar leader hardik patel claimed bjp crore budget buy activists protesting government claiming gujarat farmers traders workers fed bjp rule patel said people cannot bought party comes patidar leader narendra patel claimed offered crore join bjp \n",
      "실제 요약 : bjp has budget of crore to buy activists hardik patel \n",
      "예측 요약 :  bjp govt gave me to farmers in gujarat gujarat minister\n",
      "\n",
      "\n",
      "원문 : north korea vowed efforts increase strength safeguard latest round un sanctions got imposed nuclear ballistic missile programme describing sanctions evil illegal north korea said sanctions product heinous provocation aimed dprk legitimate right self defence \n",
      "실제 요약 : korea vows to strength in response to sanctions \n",
      "예측 요약 :  korea sanctions against korea over oil sanctions\n",
      "\n",
      "\n",
      "원문 : yahoo launched group messaging app called squirrel ios android focussed friends family work groups users add members group invitation links create separate chat rooms specific people topics app testing mode also includes blasts feature ensure participants see important messages \n",
      "실제 요약 : yahoo launches invite only group messaging app squirrel \n",
      "예측 요약 :  amazon launches app for sharing video sharing app\n",
      "\n",
      "\n",
      "원문 : juvenile justice board wednesday ruled class xi ryan international school student accused murder seven year old pradyuman thakur tried adult case transferred district sessions court convicted student transferred correctional home jail years old \n",
      "실제 요약 : juvenile accused in ryan murder case to be treated as adult \n",
      "예측 요약 :  ryan murder accused in ryan murder case\n",
      "\n",
      "\n",
      "원문 : commenting comedy film housefull completing seven years release sunday filmmaker sajid khan said film shooting like paid holiday added want come back home even asked producer let us stay days film featured akshay kumar riteish deshmukh arjun rampal deepika padukone among others \n",
      "실제 요약 : housefull shoot was like paid holiday sajid on film yrs \n",
      "예측 요약 :  never wanted to play villain in housefull director\n",
      "\n",
      "\n",
      "원문 : first day night test match hosted england went underway england west indies edgbaston thursday fifth day night test international cricket first feature england mark included england squad eve test became alastair cook th opening partner since andrew strauss retirement \n",
      "실제 요약 : first day night test to be hosted in england gets \n",
      "예측 요약 :  st ashes test in australia to hit ton in australia\n",
      "\n",
      "\n",
      "원문 : amid ongoing controversy founding father pakistan mohammad ali jinnah photo displayed aligarh muslim university uttar pradesh deputy cm keshav prasad maurya said jinnah enemy nation one nation ever ever place enemy hearts added \n",
      "실제 요약 : mohammad ali jinnah was enemy of the nation up deputy cm \n",
      "예측 요약 :  lord hanuman is not an vande mataram cm yogi\n",
      "\n",
      "\n",
      "원문 : indian rupee wednesday touched month low us dollar closed rupee since start year concerns higher crude oil prices widen india current account deficit notably currency hit time intraday low november \n",
      "실제 요약 : rupee plunges to month low of against us dollar \n",
      "예측 요약 :  rupee closes at fresh lifetime low of against dollar dollar\n",
      "\n",
      "\n",
      "원문 : cast members godfather film series reunited film festival first film th anniversary screening panel discussion film followed screening parts one two series actors robert de niro al robert james diane attended event \n",
      "실제 요약 : godfather cast reunites for its th anniversary screening \n",
      "예측 요약 :  short film fest to play villain in film fest\n",
      "\n",
      "\n",
      "원문 : terry assistant director several james bond films left career ending injuries accident set sued crore damages camera truck crashed resulting multiple fractures tissue damage nerve damage accident february \n",
      "실제 요약 : crew member sues for cr over injury in james bond film \n",
      "예측 요약 :  boxer dies after being hit by heroin in\n",
      "\n",
      "\n",
      "원문 : secretive annual meeting world leaders ceos power brokers known group taking place us virginia closed door discussions four days group discuss war information growing slowed accused critics plotting impose one world government \n",
      "실제 요약 : group begin in us \n",
      "예측 요약 :  world richest us fires host for th time in weeks\n",
      "\n",
      "\n",
      "원문 : us based startup working camera car shoots degree videos alerts users someone tries steal car camera lets users check cars via live stream phones also fitted detect movements would prompt send alerts owners \n",
      "실제 요약 : alerts user if someone tries to steal their car \n",
      "예측 요약 :  startup makes smart camera that can do users work\n",
      "\n",
      "\n",
      "원문 : open letter people delhi deputy chief minister manish sisodia questioned unconstitutional illegal disqualify mlas pushing delhi polls dirty politics added unhappy disappointed comes aap mlas disqualified holding offices profit \n",
      "실제 요약 : disqualification of aap mlas dirty politics delhi dy cm \n",
      "예측 요약 :  mlas are best mlas mlas mlas mlas mlas mlas bjp\n",
      "\n",
      "\n"
     ]
    }
   ],
   "source": [
    "for i in range(50, 100):\n",
    "    print(\"원문 :\", seq2text(encoder_input_test[i]))\n",
    "    print(\"실제 요약 :\", seq2summary(decoder_input_test[i]))\n",
    "    print(\"예측 요약 :\", decode_sequence(encoder_input_test[i].reshape(1, text_max_len)))\n",
    "    print(\"\\n\")"
   ]
  },
  {
   "cell_type": "markdown",
   "id": "d67af14f",
   "metadata": {},
   "source": [
    "-----------------------\n",
    "### 모델2. decoder에서만 recurrent dropout rate(0.2)를 적용한 경우\n",
    "\n",
    "- embedding_dim = 128,hidden_size = 256,dropout_rate=0.4 (모델1동일)"
   ]
  },
  {
   "cell_type": "code",
   "execution_count": 118,
   "id": "6b0b9a0b",
   "metadata": {},
   "outputs": [
    {
     "name": "stdout",
     "output_type": "stream",
     "text": [
      "WARNING:tensorflow:Layer lstm_39 will not use cuDNN kernels since it doesn't meet the criteria. It will use a generic GPU kernel as fallback when running on GPU.\n",
      "Model: \"model_16\"\n",
      "__________________________________________________________________________________________________\n",
      "Layer (type)                    Output Shape         Param #     Connected to                     \n",
      "==================================================================================================\n",
      "input_36 (InputLayer)           [(None, 62)]         0                                            \n",
      "__________________________________________________________________________________________________\n",
      "embedding_18 (Embedding)        (None, 62, 128)      2644224     input_36[0][0]                   \n",
      "__________________________________________________________________________________________________\n",
      "lstm_36 (LSTM)                  [(None, 62, 256), (N 394240      embedding_18[0][0]               \n",
      "__________________________________________________________________________________________________\n",
      "input_37 (InputLayer)           [(None, None)]       0                                            \n",
      "__________________________________________________________________________________________________\n",
      "lstm_37 (LSTM)                  [(None, 62, 256), (N 525312      lstm_36[0][0]                    \n",
      "__________________________________________________________________________________________________\n",
      "embedding_19 (Embedding)        (None, None, 128)    1334912     input_37[0][0]                   \n",
      "__________________________________________________________________________________________________\n",
      "lstm_38 (LSTM)                  [(None, 62, 256), (N 525312      lstm_37[0][0]                    \n",
      "__________________________________________________________________________________________________\n",
      "lstm_39 (LSTM)                  [(None, None, 256),  394240      embedding_19[0][0]               \n",
      "                                                                 lstm_38[0][1]                    \n",
      "                                                                 lstm_38[0][2]                    \n",
      "__________________________________________________________________________________________________\n",
      "attention_layer (AdditiveAttent (None, None, 256)    256         lstm_39[0][0]                    \n",
      "                                                                 lstm_38[0][0]                    \n",
      "__________________________________________________________________________________________________\n",
      "concat_layer (Concatenate)      (None, None, 512)    0           lstm_39[0][0]                    \n",
      "                                                                 attention_layer[0][0]            \n",
      "__________________________________________________________________________________________________\n",
      "dense_9 (Dense)                 (None, None, 10429)  5350077     concat_layer[0][0]               \n",
      "==================================================================================================\n",
      "Total params: 11,168,573\n",
      "Trainable params: 11,168,573\n",
      "Non-trainable params: 0\n",
      "__________________________________________________________________________________________________\n",
      "Epoch 1/50\n",
      "307/307 [==============================] - 53s 154ms/step - loss: 5.2644 - val_loss: 4.8458\n",
      "Epoch 2/50\n",
      "307/307 [==============================] - 46s 150ms/step - loss: 4.6981 - val_loss: 4.4918\n",
      "Epoch 3/50\n",
      "307/307 [==============================] - 46s 150ms/step - loss: 4.3910 - val_loss: 4.2714\n",
      "Epoch 4/50\n",
      "307/307 [==============================] - 46s 151ms/step - loss: 4.1480 - val_loss: 4.0797\n",
      "Epoch 5/50\n",
      "307/307 [==============================] - 46s 151ms/step - loss: 3.9543 - val_loss: 3.9548\n",
      "Epoch 6/50\n",
      "307/307 [==============================] - 46s 150ms/step - loss: 3.7957 - val_loss: 3.8528\n",
      "Epoch 7/50\n",
      "307/307 [==============================] - 46s 151ms/step - loss: 3.6618 - val_loss: 3.7673\n",
      "Epoch 8/50\n",
      "307/307 [==============================] - 46s 150ms/step - loss: 3.5473 - val_loss: 3.7030\n",
      "Epoch 9/50\n",
      "307/307 [==============================] - 46s 151ms/step - loss: 3.4449 - val_loss: 3.6500\n",
      "Epoch 10/50\n",
      "307/307 [==============================] - 46s 151ms/step - loss: 3.3519 - val_loss: 3.6007\n",
      "Epoch 11/50\n",
      "307/307 [==============================] - 46s 150ms/step - loss: 3.2700 - val_loss: 3.5569\n",
      "Epoch 12/50\n",
      "307/307 [==============================] - 46s 150ms/step - loss: 3.1961 - val_loss: 3.5273\n",
      "Epoch 13/50\n",
      "307/307 [==============================] - 46s 151ms/step - loss: 3.1289 - val_loss: 3.4939\n",
      "Epoch 14/50\n",
      "307/307 [==============================] - 46s 151ms/step - loss: 3.0668 - val_loss: 3.4733\n",
      "Epoch 15/50\n",
      "307/307 [==============================] - 46s 151ms/step - loss: 3.0092 - val_loss: 3.4607\n",
      "Epoch 16/50\n",
      "307/307 [==============================] - 46s 151ms/step - loss: 2.9572 - val_loss: 3.4430\n",
      "Epoch 17/50\n",
      "307/307 [==============================] - 46s 151ms/step - loss: 2.9082 - val_loss: 3.4234\n",
      "Epoch 18/50\n",
      "307/307 [==============================] - 46s 151ms/step - loss: 2.8602 - val_loss: 3.4086\n",
      "Epoch 19/50\n",
      "307/307 [==============================] - 46s 151ms/step - loss: 2.8156 - val_loss: 3.3965\n",
      "Epoch 20/50\n",
      "307/307 [==============================] - 46s 150ms/step - loss: 2.7735 - val_loss: 3.3919\n",
      "Epoch 21/50\n",
      "307/307 [==============================] - 46s 149ms/step - loss: 2.7372 - val_loss: 3.3844\n",
      "Epoch 22/50\n",
      "307/307 [==============================] - 46s 149ms/step - loss: 2.7011 - val_loss: 3.3827\n",
      "Epoch 23/50\n",
      "307/307 [==============================] - 45s 148ms/step - loss: 2.6673 - val_loss: 3.3797\n",
      "Epoch 24/50\n",
      "307/307 [==============================] - 46s 148ms/step - loss: 2.6348 - val_loss: 3.3712\n",
      "Epoch 25/50\n",
      "307/307 [==============================] - 46s 148ms/step - loss: 2.6065 - val_loss: 3.3695\n",
      "Epoch 26/50\n",
      "307/307 [==============================] - 45s 148ms/step - loss: 2.5770 - val_loss: 3.3671\n",
      "Epoch 27/50\n",
      "307/307 [==============================] - 46s 149ms/step - loss: 2.5451 - val_loss: 3.3651\n",
      "Epoch 28/50\n",
      "307/307 [==============================] - 46s 149ms/step - loss: 2.5189 - val_loss: 3.3596\n",
      "Epoch 29/50\n",
      "307/307 [==============================] - 46s 148ms/step - loss: 2.4898 - val_loss: 3.3618\n",
      "Epoch 30/50\n",
      "307/307 [==============================] - 46s 148ms/step - loss: 2.4646 - val_loss: 3.3667\n",
      "Epoch 00030: early stopping\n"
     ]
    }
   ],
   "source": [
    "import tensorflow as tf\n",
    "re_dropout_rate=0\n",
    "re_dropout_rate2=0.2\n",
    "\n",
    "# 인코더 설계 시작\n",
    "# 인코더\n",
    "encoder_inputs = Input(shape=(text_max_len,))\n",
    "    \n",
    "# 인코더의 임베딩 층\n",
    "enc_emb = Embedding(src_vocab, embedding_dim)(encoder_inputs)\n",
    "    \n",
    "# 인코더의 LSTM 1\n",
    "encoder_lstm1 = LSTM(hidden_size, return_sequences=True, return_state=True ,\n",
    "                         dropout = dropout_rate, recurrent_dropout = re_dropout_rate)\n",
    "encoder_output1, state_h1, state_c1 = encoder_lstm1(enc_emb)\n",
    "# 인코더의 LSTM 2\n",
    "encoder_lstm2 = LSTM(hidden_size, return_sequences=True, return_state=True, dropout=dropout_rate, recurrent_dropout=re_dropout_rate)\n",
    "encoder_output2, state_h2, state_c2 = encoder_lstm2(encoder_output1)\n",
    "# 인코더의 LSTM 3\n",
    "encoder_lstm3 = LSTM(hidden_size, return_state=True, return_sequences=True, dropout=dropout_rate, recurrent_dropout=re_dropout_rate)\n",
    "encoder_outputs, state_h, state_c= encoder_lstm3(encoder_output2)\n",
    "    \n",
    "# 디코더 설계\n",
    "decoder_inputs = Input(shape=(None,))\n",
    "    \n",
    "# 디코더의 임베딩 층\n",
    "dec_emb_layer = Embedding(tar_vocab, embedding_dim)\n",
    "dec_emb = dec_emb_layer(decoder_inputs)\n",
    "    \n",
    "# 디코더의 LSTM\n",
    "# 인코더의 LSTM과 거의 비슷하지만 inital_state에 \n",
    "# 인코더의 LSTM3에서 출력되어진 state_h와 state_c를 꼭 입력해주어야함\n",
    "decoder_lstm = LSTM(hidden_size, return_sequences=True, return_state=True, dropout=dropout_rate, recurrent_dropout=re_dropout_rate2)\n",
    "decoder_outputs, _, _ = decoder_lstm(dec_emb, initial_state=[state_h, state_c])\n",
    "    \n",
    "# 어텐션 층(어텐션 함수)\n",
    "attn_layer = AdditiveAttention(name='attention_layer')\n",
    "# 인코더와 디코더의 모든 time step의 hidden state를 어텐션 층에 전달하고 결과를 리턴\n",
    "attn_out = attn_layer([decoder_outputs, encoder_outputs])\n",
    "\n",
    "\n",
    "# 어텐션의 결과와 디코더의 hidden state들을 연결\n",
    "decoder_concat_input = Concatenate(axis=-1, name='concat_layer')([decoder_outputs, attn_out])\n",
    "    \n",
    "# 디코더의 출력층\n",
    "decoder_softmax_layer = Dense(tar_vocab, activation='softmax')\n",
    "decoder_softmax_outputs = decoder_softmax_layer(decoder_concat_input)\n",
    "    \n",
    "# 모델 정의\n",
    "model1 = Model([encoder_inputs, decoder_inputs], decoder_softmax_outputs)\n",
    "model1.summary()\n",
    "\n",
    "# rmsprop를 optimizer로 쓰고 cross entropy를 loss function으로 사용한다.\n",
    "# adam도 한번 더 테스트해야겠다\n",
    "model1.compile(optimizer='rmsprop', loss='sparse_categorical_crossentropy') \n",
    "\n",
    "# EarlyStopping을 해서 validation의 loss가 증가하는 현상이 2회 관찰되면 학습 중지 \n",
    "es = EarlyStopping(monitor='val_loss', patience=2, verbose=1) \n",
    "\n",
    "history1 = model1.fit(x=[encoder_input_train, decoder_input_train], y=decoder_target_train, \\\n",
    "          validation_data=([encoder_input_test, decoder_input_test], decoder_target_test), \\\n",
    "          batch_size=256, callbacks=[es], epochs=50)"
   ]
  },
  {
   "cell_type": "markdown",
   "id": "86ee6d49",
   "metadata": {},
   "source": [
    "### 모델 2의 learning curve 시각화\n",
    "- encoder의 recurrent dropout rate=0\n",
    "- decoder recurrent dropout rate=0.2\n",
    "- embedding_dim = 128,hidden_size = 256,dropout_rate=0.4 모델1 동일"
   ]
  },
  {
   "cell_type": "code",
   "execution_count": 119,
   "id": "ae8039b3",
   "metadata": {
    "scrolled": false
   },
   "outputs": [
    {
     "data": {
      "image/png": "[encoded data removed]",
      "text/plain": [
       "<Figure size 432x288 with 1 Axes>"
      ]
     },
     "metadata": {
      "needs_background": "light"
     },
     "output_type": "display_data"
    }
   ],
   "source": [
    "plt.plot(history1.history['loss'], label='train')\n",
    "plt.plot(history1.history['val_loss'], label='test')\n",
    "plt.legend()\n",
    "plt.show()"
   ]
  },
  {
   "cell_type": "markdown",
   "id": "9163df43",
   "metadata": {},
   "source": [
    "\n",
    "--------------------------------------------\n",
    "\n",
    "### Step 4. 실제 결과와 요약문 비교하기 (추상적 요약)- 모델2\n",
    "원래의 요약문(headlines 열)과 학습을 통해 얻은 추상적 요약의 결과를 비교해보자"
   ]
  },
  {
   "cell_type": "code",
   "execution_count": 120,
   "id": "6a4160e4",
   "metadata": {},
   "outputs": [],
   "source": [
    "src_index_to_word = src_tokenizer.index_word # 원문 단어 집합에서 정수 -> 단어를 얻음\n",
    "tar_word_to_index = tar_tokenizer.word_index # 요약 단어 집합에서 단어 -> 정수를 얻음\n",
    "tar_index_to_word = tar_tokenizer.index_word # 요약 단어 집합에서 정수 -> 단어를 얻음\n"
   ]
  },
  {
   "cell_type": "code",
   "execution_count": 121,
   "id": "5fba6797",
   "metadata": {},
   "outputs": [],
   "source": [
    "# 인코더 설계\n",
    "encoder_model = Model(inputs=encoder_inputs, outputs=[encoder_outputs, state_h, state_c])\n",
    "\n",
    "# 이전 시점의 상태들을 저장하는 텐서\n",
    "decoder_state_input_h = Input(shape=(hidden_size,))\n",
    "decoder_state_input_c = Input(shape=(hidden_size,))\n",
    "\n",
    "dec_emb2 = dec_emb_layer(decoder_inputs)\n",
    "\n",
    "# 문장의 다음 단어를 예측하기 위해서 초기 상태(initial_state)를 이전 시점의 상태로 사용. 이는 뒤의 함수 decode_sequence()에 구현\n",
    "# 훈련 과정에서와 달리 LSTM의 리턴하는 은닉 상태와 셀 상태인 state_h와 state_c를 버리지 않음.\n",
    "decoder_outputs2, state_h2, state_c2 = decoder_lstm(dec_emb2, initial_state=[decoder_state_input_h, decoder_state_input_c])\n",
    "\n",
    "# 어텐션 함수\n",
    "decoder_hidden_state_input = Input(shape=(text_max_len, hidden_size))\n",
    "attn_out_inf = attn_layer([decoder_outputs2, decoder_hidden_state_input])\n",
    "decoder_inf_concat = Concatenate(axis=-1, name='concat')([decoder_outputs2, attn_out_inf])\n",
    "\n",
    "# 디코더의 출력층\n",
    "decoder_outputs2 = decoder_softmax_layer(decoder_inf_concat) \n",
    "\n",
    "# 최종 디코더 모델\n",
    "decoder_model = Model(\n",
    "    [decoder_inputs] + [decoder_hidden_state_input,decoder_state_input_h, decoder_state_input_c],\n",
    "    [decoder_outputs2] + [state_h2, state_c2])\n",
    "\n"
   ]
  },
  {
   "cell_type": "code",
   "execution_count": 122,
   "id": "8e24048c",
   "metadata": {},
   "outputs": [],
   "source": [
    "def decode_sequence(input_seq):\n",
    "    # 입력으로부터 인코더의 상태를 얻음\n",
    "    e_out, e_h, e_c = encoder_model.predict(input_seq)\n",
    "\n",
    "     # <SOS>에 해당하는 토큰 생성\n",
    "    target_seq = np.zeros((1,1))\n",
    "    target_seq[0, 0] = tar_word_to_index['sostoken']\n",
    "\n",
    "    stop_condition = False\n",
    "    decoded_sentence = ''\n",
    "    while not stop_condition: # stop_condition이 True가 될 때까지 루프 반복\n",
    "\n",
    "        output_tokens, h, c = decoder_model.predict([target_seq] + [e_out, e_h, e_c])\n",
    "        sampled_token_index = np.argmax(output_tokens[0, -1, :])\n",
    "        sampled_token = tar_index_to_word[sampled_token_index]\n",
    "\n",
    "        if (sampled_token!='eostoken'):\n",
    "            decoded_sentence += ' '+sampled_token\n",
    "\n",
    "        #  <eos>에 도달하거나 최대 길이를 넘으면 중단.\n",
    "        if (sampled_token == 'eostoken'  or len(decoded_sentence.split()) >= (summary_max_len-1)):\n",
    "            stop_condition = True\n",
    "\n",
    "        # 길이가 1인 타겟 시퀀스를 업데이트\n",
    "        target_seq = np.zeros((1,1))\n",
    "        target_seq[0, 0] = sampled_token_index\n",
    "\n",
    "        # 상태를 업데이트 합니다.\n",
    "        e_h, e_c = h, c\n",
    "\n",
    "    return decoded_sentence"
   ]
  },
  {
   "cell_type": "code",
   "execution_count": 123,
   "id": "d044060a",
   "metadata": {},
   "outputs": [
    {
     "name": "stdout",
     "output_type": "stream",
     "text": [
      "=3\n"
     ]
    }
   ],
   "source": [
    "# 원문의 정수 시퀀스를 텍스트 시퀀스로 변환\n",
    "def seq2text(input_seq):\n",
    "    temp=''\n",
    "    for i in input_seq:\n",
    "        if (i!=0):\n",
    "            temp = temp + src_index_to_word[i]+' '\n",
    "    return temp\n",
    "\n",
    "# 요약문의 정수 시퀀스를 텍스트 시퀀스로 변환\n",
    "def seq2summary(input_seq):\n",
    "    temp=''\n",
    "    for i in input_seq:\n",
    "        if ((i!=0 and i!=tar_word_to_index['sostoken']) and i!=tar_word_to_index['eostoken']):\n",
    "            temp = temp + tar_index_to_word[i] + ' '\n",
    "    return temp\n",
    "\n",
    "print('=3')"
   ]
  },
  {
   "cell_type": "code",
   "execution_count": 124,
   "id": "3166c20f",
   "metadata": {
    "scrolled": false
   },
   "outputs": [
    {
     "name": "stdout",
     "output_type": "stream",
     "text": [
      "원문 : inquiry committee appointed jawaharlal nehru university upheld punishments recommended students umar khalid kanhaiya kumar connection event protesting afzal guru execution jnu panel recommended khalid imposing fine kanhaiya event anti national slogans allegedly raised \n",
      "실제 요약 : jnu panel upholds to umar khalid kanhaiya kumar \n",
      "예측 요약 :  jnu body asks jnu to jnu students\n",
      "\n",
      "\n",
      "원문 : former australian wicket keeper adam gilchrist tweeted indian batsman ms dhoni anything rules ground bat inside crease completing run gilchrist said reply person tweeted short run considered nd subsequent runs \n",
      "실제 요약 : it against the rules gilchrist on dhoni incomplete run \n",
      "예측 요약 :  dhoni should be used to bat in my life dhoni\n",
      "\n",
      "\n",
      "원문 : speaking incidents lynching country vice president venkaiah naidu said kill man call nationalist nationalism bharat mata ki jai wider meaning added societal behaviour change vice president said lynching linked political parties \n",
      "실제 요약 : those involved in lynching are not vice prez \n",
      "예측 요약 :  we are not going to mamata on death death\n",
      "\n",
      "\n",
      "원문 : world bank ceo said understands cricket loving nation hitting century important milestone said india secured th rank world bank ease business report also credited india achievement per capita income reforms taken last years \n",
      "실제 요약 : hitting is huge in cricket loving nation world bank \n",
      "예측 요약 :  we are the world bank of the world bank ceo\n",
      "\n",
      "\n",
      "원문 : pakistani maestro ghulam ali scheduled perform temple varanasi next month third year row ali performed temple despite protests shiv sena performance likely part opening ceremony sangeet scheduled april \n",
      "실제 요약 : pak singer ali to perform at varanasi temple \n",
      "예측 요약 :  pakistan releases its first ever national anthem\n",
      "\n",
      "\n",
      "원문 : chinese workers pakistan attacked policemen deployed security denied permission visit red light area without accompanied police said workers reportedly engaged construction workers later cut power supply police camp construction facility stopped work project \n",
      "실제 요약 : chinese workers attack pak cops over visit to red light area \n",
      "예측 요약 :  chinese cops get stuck in indian chopper in pakistan\n",
      "\n",
      "\n",
      "원문 : aap leader kumar vishwas took twitter share video man speaking long english words wrote shashi tharoor brother lost kumbh festival found congratulations congress mp replied vishwas tweet hindi language saying better people becoming brothers talking alike \n",
      "실제 요약 : vishwas trolls tharoor over his english tharoor replies in hindi \n",
      "예측 요약 :  aap mla slams aap leader for calling him flag\n",
      "\n",
      "\n",
      "원문 : united states america cricket association facing expulsion international cricket council sport global governing body revealed monday icc suspended board claimed body unity hold widespread authority country cricket activities \n",
      "실제 요약 : usa cricket body faces expulsion from icc \n",
      "예측 요약 :  icc to match fixing fixing offence in us\n",
      "\n",
      "\n",
      "원문 : three policemen kerala arrested allegedly torturing year old man wrongly arrested due mistaken identity victim arrested abetment suicide rioting april died hospital april autopsy revealed injuries victim body reports said \n",
      "실제 요약 : kerala policemen arrested for man in custody \n",
      "예측 요약 :  man arrested for killing woman in assam\n",
      "\n",
      "\n",
      "원문 : kerala based startup delhi based health global impact challenge going silicon valley us week incubator programme jointly organised kerala startup mission us based university challenge aimed identifying startups working solutions learning healthcare environment sectors \n",
      "실제 요약 : indian startups to go to us post startup challenge win \n",
      "예측 요약 :  kerala govt to launch startups in kerala\n",
      "\n",
      "\n",
      "원문 : neha dhupia revealed husband angad bedi proposed marriage four years ago turned proposal time already relationship added came back four years later said wasted four years life said either wife nothing \n",
      "실제 요약 : angad proposed to me yrs ago but turned it down neha \n",
      "예측 요약 :  neha dhupia reveals she is married to parents\n",
      "\n",
      "\n",
      "원문 : day state run oil marketing companies raised prices petrol diesel paise paise per litre respectively delhi diesel prices monday reached per litre delhi fresh record high petrol prices also rose per litre highest since september \n",
      "실제 요약 : petrol diesel prices hiked after days \n",
      "예측 요약 :  petrol price hits litre in delhi by diesel diesel\n",
      "\n",
      "\n",
      "원문 : google developer blog monday said working device partners support display edge edge screens android limiting number two android phones one notch side allowed top bottom edges left right \n",
      "실제 요약 : google bans android phones from having more than \n",
      "예측 요약 :  google pixel xl phone was not for the first time\n",
      "\n",
      "\n",
      "원문 : actor randeep hooda said high time society stops treating women pets need disciplined surprises even st century families suppress daughters said hooda added women right whatever want \n",
      "실제 요약 : society should not treat women as pets to be hooda \n",
      "예측 요약 :  women are not allowed to do anything women to women\n",
      "\n",
      "\n",
      "원문 : filmmaker choreographer farah khan reportedly sonam kapoor anand ahuja sangeet ceremony according reports sangeet rehearsals already begun anil kapoor juhu bungalow sonam cousins extended family reportedly perform actress hit songs whereas performing special act sangeet ceremony \n",
      "실제 요약 : farah khan to sonam kapoor sangeet report \n",
      "예측 요약 :  sonam to get married in bollywood reports\n",
      "\n",
      "\n",
      "원문 : class student bihar got maths got paper updated results announced another student sanskrit marks increased another one got marks upgraded state board got papers failed year \n",
      "실제 요약 : bihar class student marks up from to after \n",
      "예측 요약 :  class student scores from class class exam\n",
      "\n",
      "\n",
      "원문 : sauce maker food services reportedly raised million funding led existing investor belgium based investment holding company manages billion assets across globe october food raised million series round fundraising saama capital \n",
      "실제 요약 : food services raises crore in funding \n",
      "예측 요약 :  food delivery startup raises mn from softbank\n",
      "\n",
      "\n",
      "원문 : trailer priyanka chopra second hollywood film kid like jake released priyanka reportedly portray role single mother film premiered film festival directed howard also starring claire jim parsons spencer film scheduled release june \n",
      "실제 요약 : trailer of priyanka nd wood film kid like out \n",
      "예측 요약 :  priyanka to star in johar starrer karan johar\n",
      "\n",
      "\n",
      "원문 : apple ceo tim cook defended apple billion dollar deal google keep google search default apple devices said think search engine best tried come ways help users day added cook google reportedly paying billion remain safari default search engine \n",
      "실제 요약 : think google search engine is the best apple ceo tim cook \n",
      "예측 요약 :  google ceo tim cook is the chip startup\n",
      "\n",
      "\n",
      "원문 : indian equity benchmarks registered biggest single day drop since october thursday ahead assembly election results amid global market sensex fell points broader nifty index dropped points indices dragged mainly finance auto realty stocks \n",
      "실제 요약 : sensex records worst day in nearly two months falls points \n",
      "예측 요약 :  sensex rises to record in days\n",
      "\n",
      "\n",
      "원문 : dubai based indian driver million draw held abu dhabi international airport john hails kerala sharing money four friends buy ticket said use share invest children education help underprivileged \n",
      "실제 요약 : kerala man wins crore in abu dhabi lottery \n",
      "예측 요약 :  dubai teen wins crore for dubai trip\n",
      "\n",
      "\n",
      "원문 : indian pacer deepak chahar became rd player represent india one day internationals making debut afghanistan asia cup tuesday year old played ms dhoni ipl picked wickets become leading wicket taker india team tour england earlier year \n",
      "실제 요약 : who is deepak rd player to represent india in odis \n",
      "예측 요약 :  india st indian to win int cricket team\n",
      "\n",
      "\n",
      "원문 : indian origin co founders bose dhruv kapoor commerce startup raised million series funding round led sequoia india principal investments singapore based startup funding round also saw participation existing investors founded ships fashion lifestyle products countries including indonesia vietnam korea \n",
      "실제 요약 : indian origin co founders startup raises mn \n",
      "예측 요약 :  indian origin startup raises million in series\n",
      "\n",
      "\n",
      "원문 : bharadwaj year old meerut bronze medal double trap event issf junior shotgun world cup italy sunday earlier shooters manisha combined win bronze medal mixed team trap event italy currently event three golds three bronze medal \n",
      "실제 요약 : yr old wins bronze for india at junior world cup \n",
      "예측 요약 :  yr old shooter wins silver at world ship\n",
      "\n",
      "\n",
      "원문 : raees director rahul dholakia talking shah rukh khan occasion birthday friday said still hungry surprised trying different roles rahul added shah rukh biggest convincing range actor film industry \n",
      "실제 요약 : at shah rukh is still very hungry director \n",
      "예측 요약 :  wish me to be known for me but he wants srk\n",
      "\n",
      "\n",
      "원문 : abhishek kapoor director sara ali khan debut film kedarnath said beautiful bundle energy talking theme kedarnath said kedarnath love story course pilgrimage film also star actor sushant singh rajput lead role \n",
      "실제 요약 : sara is beautiful of energy kedarnath director \n",
      "예측 요약 :  sara ali khan to star in housefull reports\n",
      "\n",
      "\n",
      "원문 : ram gopal varma phone laptop seized hyderabad police ascertain link short film god sex truth interrogated case obscenity registered film stars american porn star mia investigation requires may arrested said additional dcp \n",
      "실제 요약 : rgv phone laptop seized over charges on film \n",
      "예측 요약 :  rgv to star in film on copyright case\n",
      "\n",
      "\n",
      "원문 : hunter shot dead year old son mistaking russia authorities said hunter fired rifle moving object poor visibility authorities added charged causing death negligence faces prison sentence two years \n",
      "실제 요약 : russian hunter shoots son dead after mistaking him for \n",
      "예측 요약 :  us man kills wife over his son shot dead in\n",
      "\n",
      "\n",
      "원문 : malayalam news channel announced first day period leave female employees additional leave counted sick leave soon extended company online print ventures felt good practical practice adopt decision taken company said \n",
      "실제 요약 : malayalam news channel starts period leave for women workers \n",
      "예측 요약 :  reports of unpaid leave to leave for months\n",
      "\n",
      "\n",
      "원문 : year old gangster arrested double murder case gang rivalry sought maharashtra control organised crime act court permission euthanasia gangster arrested suffered stroke affected right side body earlier posted bail lack proper treatment paralysis \n",
      "실제 요약 : year old gangster in mumbai jail seeks euthanasia \n",
      "예측 요약 :  man arrested for murder of murder in gurugram\n",
      "\n",
      "\n",
      "원문 : actor ranbir kapoor revealed nicotine addict since age taken trips austria doctor gave injections ears help quit smoking first time said ranbir added think give \n",
      "실제 요약 : have been addict since the age of ranbir \n",
      "예측 요약 :  ranbir kapoor is the age of depression\n",
      "\n",
      "\n",
      "원문 : addressing global investors summit guwahati saturday prime minister narendra modi said northeast heart india act east policy connecting southeast asia tagline meet advantage assam india expressway asean appropriate statement also comprehensive vision pm said \n",
      "실제 요약 : northeast at the heart of india act east policy pm modi \n",
      "예측 요약 :  india has not to work with india in india pm modi\n",
      "\n",
      "\n",
      "원문 : iranian authorities arrested suspects connection wednesday twin terror attacks nation interior ministry said lots documents weaponry seized well ministry added islamic state claimed responsibility attacks suicide bombers gunmen attacked iranian parliament mausoleum islamic republic founder \n",
      "실제 요약 : iran arrests suspects over twin terror attacks \n",
      "예측 요약 :  arrested in iran attacks over attacks on attacks\n",
      "\n",
      "\n",
      "원문 : us based scientists developed thermal mechanical device convert heat emitted computers energy source reused power thermal worked temperatures approaching scientists expect work could allow computing ultra high temperatures make first ever thermal computer scientists said \n",
      "실제 요약 : device heat from computers to power them \n",
      "예측 요약 :  scientists develop to develop smartphones\n",
      "\n",
      "\n",
      "원문 : indian cricket team captain virat kohli celebrated sri lankan wicketkeeper wicket bhangra dance first day second test friday got runs balls lifting ravindra jadeja delivery st towards mid ishant sharma took catch \n",
      "실제 요약 : kohli celebrates sri lankan wicket by doing bhangra \n",
      "예측 요약 :  virat kohli takes bat to celebrate kohli catch in india\n",
      "\n",
      "\n",
      "원문 : iran dropped two places become sixth biggest oil supplier india november according reuters india monthly oil imports persian gulf nation reportedly plunged lowest year india cut purchases due impact us sanctions iraq saudi arabia continued top two oil sellers india \n",
      "실제 요약 : iran falls to th biggest oil supplier to india in november report \n",
      "예측 요약 :  india may cut bn to saudi arabia after years\n",
      "\n",
      "\n",
      "원문 : former vice president hamid ansari said india responsible pakistan partition ready accept equally responsible added ansari said politics country changed someone made responsible partition everyone agreed blame muslims \n",
      "실제 요약 : india just as responsible for partition as pak ex vp ansari \n",
      "예측 요약 :  never never never run for any time ex pak prez\n",
      "\n",
      "\n",
      "원문 : patidar leader hardik patel claimed bjp crore budget buy activists protesting government claiming gujarat farmers traders workers fed bjp rule patel said people cannot bought party comes patidar leader narendra patel claimed offered crore join bjp \n",
      "실제 요약 : bjp has budget of crore to buy activists hardik patel \n",
      "예측 요약 :  bjp slams rahul for cr in gujarat govt\n",
      "\n",
      "\n",
      "원문 : north korea vowed efforts increase strength safeguard latest round un sanctions got imposed nuclear ballistic missile programme describing sanctions evil illegal north korea said sanctions product heinous provocation aimed dprk legitimate right self defence \n",
      "실제 요약 : korea vows to strength in response to sanctions \n",
      "예측 요약 :  north korea releases over nuclear weapons\n",
      "\n",
      "\n",
      "원문 : yahoo launched group messaging app called squirrel ios android focussed friends family work groups users add members group invitation links create separate chat rooms specific people topics app testing mode also includes blasts feature ensure participants see important messages \n",
      "실제 요약 : yahoo launches invite only group messaging app squirrel \n",
      "예측 요약 :  whatsapp launches app for app messaging app\n",
      "\n",
      "\n",
      "원문 : juvenile justice board wednesday ruled class xi ryan international school student accused murder seven year old pradyuman thakur tried adult case transferred district sessions court convicted student transferred correctional home jail years old \n",
      "실제 요약 : juvenile accused in ryan murder case to be treated as adult \n",
      "예측 요약 :  ryan murder case against ryan murder case\n",
      "\n",
      "\n",
      "원문 : commenting comedy film housefull completing seven years release sunday filmmaker sajid khan said film shooting like paid holiday added want come back home even asked producer let us stay days film featured akshay kumar riteish deshmukh arjun rampal deepika padukone among others \n",
      "실제 요약 : housefull shoot was like paid holiday sajid on film yrs \n",
      "예측 요약 :  was told to work with akshay kumar in film report\n",
      "\n",
      "\n",
      "원문 : first day night test match hosted england went underway england west indies edgbaston thursday fifth day night test international cricket first feature england mark included england squad eve test became alastair cook th opening partner since andrew strauss retirement \n",
      "실제 요약 : first day night test to be hosted in england gets \n",
      "예측 요약 :  injured in test squad for st test tour at night test\n",
      "\n",
      "\n",
      "원문 : amid ongoing controversy founding father pakistan mohammad ali jinnah photo displayed aligarh muslim university uttar pradesh deputy cm keshav prasad maurya said jinnah enemy nation one nation ever ever place enemy hearts added \n",
      "실제 요약 : mohammad ali jinnah was enemy of the nation up deputy cm \n",
      "예측 요약 :  jinnah and jinnah was not in pak\n",
      "\n",
      "\n",
      "원문 : indian rupee wednesday touched month low us dollar closed rupee since start year concerns higher crude oil prices widen india current account deficit notably currency hit time intraday low november \n",
      "실제 요약 : rupee plunges to month low of against us dollar \n",
      "예측 요약 :  rupee hits the first time since\n",
      "\n",
      "\n",
      "원문 : cast members godfather film series reunited film festival first film th anniversary screening panel discussion film followed screening parts one two series actors robert de niro al robert james diane attended event \n",
      "실제 요약 : godfather cast reunites for its th anniversary screening \n",
      "예측 요약 :  film to be made in film on the film\n",
      "\n",
      "\n",
      "원문 : terry assistant director several james bond films left career ending injuries accident set sued crore damages camera truck crashed resulting multiple fractures tissue damage nerve damage accident february \n",
      "실제 요약 : crew member sues for cr over injury in james bond film \n",
      "예측 요약 :  actor arrested for speeding actor in gurugram\n",
      "\n",
      "\n",
      "원문 : secretive annual meeting world leaders ceos power brokers known group taking place us virginia closed door discussions four days group discuss war information growing slowed accused critics plotting impose one world government \n",
      "실제 요약 : group begin in us \n",
      "예측 요약 :  japan worst day after fall down after years\n",
      "\n",
      "\n",
      "원문 : us based startup working camera car shoots degree videos alerts users someone tries steal car camera lets users check cars via live stream phones also fitted detect movements would prompt send alerts owners \n",
      "실제 요약 : alerts user if someone tries to steal their car \n",
      "예측 요약 :  self driving car that can be controlled by self made\n",
      "\n",
      "\n",
      "원문 : open letter people delhi deputy chief minister manish sisodia questioned unconstitutional illegal disqualify mlas pushing delhi polls dirty politics added unhappy disappointed comes aap mlas disqualified holding offices profit \n",
      "실제 요약 : disqualification of aap mlas dirty politics delhi dy cm \n",
      "예측 요약 :  mlas must be mlas if mlas mlas aap mlas\n",
      "\n",
      "\n"
     ]
    }
   ],
   "source": [
    "for i in range(50, 100):\n",
    "    print(\"원문 :\", seq2text(encoder_input_test[i]))\n",
    "    print(\"실제 요약 :\", seq2summary(decoder_input_test[i]))\n",
    "    print(\"예측 요약 :\", decode_sequence(encoder_input_test[i].reshape(1, text_max_len)))\n",
    "    print(\"\\n\")"
   ]
  },
  {
   "cell_type": "markdown",
   "id": "f2b8ab61",
   "metadata": {},
   "source": [
    "----------------------------\n",
    "\n",
    "### 모델3. recurrent dropout을 전혀 쓰지 않는 경우\n",
    "- embedding_dim = 128,hidden_size = 256,dropout_rate=0.4 모델1, 모델2와 동일"
   ]
  },
  {
   "cell_type": "code",
   "execution_count": 125,
   "id": "ebf66c9b",
   "metadata": {
    "scrolled": false
   },
   "outputs": [
    {
     "name": "stdout",
     "output_type": "stream",
     "text": [
      "Model: \"model_19\"\n",
      "__________________________________________________________________________________________________\n",
      "Layer (type)                    Output Shape         Param #     Connected to                     \n",
      "==================================================================================================\n",
      "input_41 (InputLayer)           [(None, 62)]         0                                            \n",
      "__________________________________________________________________________________________________\n",
      "embedding_20 (Embedding)        (None, 62, 128)      2644224     input_41[0][0]                   \n",
      "__________________________________________________________________________________________________\n",
      "lstm_40 (LSTM)                  [(None, 62, 256), (N 394240      embedding_20[0][0]               \n",
      "__________________________________________________________________________________________________\n",
      "input_42 (InputLayer)           [(None, None)]       0                                            \n",
      "__________________________________________________________________________________________________\n",
      "lstm_41 (LSTM)                  [(None, 62, 256), (N 525312      lstm_40[0][0]                    \n",
      "__________________________________________________________________________________________________\n",
      "embedding_21 (Embedding)        (None, None, 128)    1334912     input_42[0][0]                   \n",
      "__________________________________________________________________________________________________\n",
      "lstm_42 (LSTM)                  [(None, 62, 256), (N 525312      lstm_41[0][0]                    \n",
      "__________________________________________________________________________________________________\n",
      "lstm_43 (LSTM)                  [(None, None, 256),  394240      embedding_21[0][0]               \n",
      "                                                                 lstm_42[0][1]                    \n",
      "                                                                 lstm_42[0][2]                    \n",
      "__________________________________________________________________________________________________\n",
      "attention_layer (AdditiveAttent (None, None, 256)    256         lstm_43[0][0]                    \n",
      "                                                                 lstm_42[0][0]                    \n",
      "__________________________________________________________________________________________________\n",
      "concat_layer (Concatenate)      (None, None, 512)    0           lstm_43[0][0]                    \n",
      "                                                                 attention_layer[0][0]            \n",
      "__________________________________________________________________________________________________\n",
      "dense_10 (Dense)                (None, None, 10429)  5350077     concat_layer[0][0]               \n",
      "==================================================================================================\n",
      "Total params: 11,168,573\n",
      "Trainable params: 11,168,573\n",
      "Non-trainable params: 0\n",
      "__________________________________________________________________________________________________\n",
      "Epoch 1/50\n",
      "307/307 [==============================] - 45s 132ms/step - loss: 5.2657 - val_loss: 4.8585\n",
      "Epoch 2/50\n",
      "307/307 [==============================] - 39s 129ms/step - loss: 4.7005 - val_loss: 4.5086\n",
      "Epoch 3/50\n",
      "307/307 [==============================] - 39s 128ms/step - loss: 4.3868 - val_loss: 4.2688\n",
      "Epoch 4/50\n",
      "307/307 [==============================] - 39s 128ms/step - loss: 4.1430 - val_loss: 4.0886\n",
      "Epoch 5/50\n",
      "307/307 [==============================] - 39s 129ms/step - loss: 3.9503 - val_loss: 3.9543\n",
      "Epoch 6/50\n",
      "307/307 [==============================] - 39s 129ms/step - loss: 3.7935 - val_loss: 3.8599\n",
      "Epoch 7/50\n",
      "307/307 [==============================] - 39s 129ms/step - loss: 3.6597 - val_loss: 3.7752\n",
      "Epoch 8/50\n",
      "307/307 [==============================] - 40s 129ms/step - loss: 3.5429 - val_loss: 3.7146\n",
      "Epoch 9/50\n",
      "307/307 [==============================] - 40s 129ms/step - loss: 3.4381 - val_loss: 3.6554\n",
      "Epoch 10/50\n",
      "307/307 [==============================] - 39s 129ms/step - loss: 3.3428 - val_loss: 3.6076\n",
      "Epoch 11/50\n",
      "307/307 [==============================] - 40s 130ms/step - loss: 3.2577 - val_loss: 3.5718\n",
      "Epoch 12/50\n",
      "307/307 [==============================] - 40s 129ms/step - loss: 3.1830 - val_loss: 3.5417\n",
      "Epoch 13/50\n",
      "307/307 [==============================] - 40s 130ms/step - loss: 3.1107 - val_loss: 3.5134\n",
      "Epoch 14/50\n",
      "307/307 [==============================] - 40s 130ms/step - loss: 3.0437 - val_loss: 3.4948\n",
      "Epoch 15/50\n",
      "307/307 [==============================] - 40s 130ms/step - loss: 2.9839 - val_loss: 3.4703\n",
      "Epoch 16/50\n",
      "307/307 [==============================] - 40s 130ms/step - loss: 2.9286 - val_loss: 3.4612\n",
      "Epoch 17/50\n",
      "307/307 [==============================] - 40s 130ms/step - loss: 2.8754 - val_loss: 3.4504\n",
      "Epoch 18/50\n",
      "307/307 [==============================] - 40s 130ms/step - loss: 2.8249 - val_loss: 3.4365\n",
      "Epoch 19/50\n",
      "307/307 [==============================] - 40s 130ms/step - loss: 2.7792 - val_loss: 3.4286\n",
      "Epoch 20/50\n",
      "307/307 [==============================] - 40s 130ms/step - loss: 2.7373 - val_loss: 3.4276\n",
      "Epoch 21/50\n",
      "307/307 [==============================] - 40s 130ms/step - loss: 2.6969 - val_loss: 3.4180\n",
      "Epoch 22/50\n",
      "307/307 [==============================] - 40s 130ms/step - loss: 2.6574 - val_loss: 3.4187\n",
      "Epoch 23/50\n",
      "307/307 [==============================] - 40s 130ms/step - loss: 2.6205 - val_loss: 3.4152\n",
      "Epoch 24/50\n",
      "307/307 [==============================] - 40s 130ms/step - loss: 2.5831 - val_loss: 3.4089\n",
      "Epoch 25/50\n",
      "307/307 [==============================] - 40s 130ms/step - loss: 2.5484 - val_loss: 3.4062\n",
      "Epoch 26/50\n",
      "307/307 [==============================] - 40s 130ms/step - loss: 2.5181 - val_loss: 3.4141\n",
      "Epoch 27/50\n",
      "307/307 [==============================] - 40s 130ms/step - loss: 2.4894 - val_loss: 3.4116\n",
      "Epoch 00027: early stopping\n"
     ]
    }
   ],
   "source": [
    "re_dropout_rate=0\n",
    "re_dropout_rate2=0\n",
    "\n",
    "# 인코더 설계 시작\n",
    "# 인코더\n",
    "encoder_inputs = Input(shape=(text_max_len,))\n",
    "    \n",
    "# 인코더의 임베딩 층\n",
    "enc_emb = Embedding(src_vocab, embedding_dim)(encoder_inputs)\n",
    "    \n",
    "# 인코더의 LSTM 1\n",
    "encoder_lstm1 = LSTM(hidden_size, return_sequences=True, return_state=True ,\n",
    "                         dropout = dropout_rate, recurrent_dropout = re_dropout_rate)\n",
    "encoder_output1, state_h1, state_c1 = encoder_lstm1(enc_emb)\n",
    "# 인코더의 LSTM 2\n",
    "encoder_lstm2 = LSTM(hidden_size, return_sequences=True, return_state=True, dropout=dropout_rate, recurrent_dropout=re_dropout_rate)\n",
    "encoder_output2, state_h2, state_c2 = encoder_lstm2(encoder_output1)\n",
    "# 인코더의 LSTM 3\n",
    "encoder_lstm3 = LSTM(hidden_size, return_state=True, return_sequences=True, dropout=dropout_rate, recurrent_dropout=re_dropout_rate)\n",
    "encoder_outputs, state_h, state_c= encoder_lstm3(encoder_output2)\n",
    "    \n",
    "# 디코더 설계\n",
    "decoder_inputs = Input(shape=(None,))\n",
    "    \n",
    "# 디코더의 임베딩 층\n",
    "dec_emb_layer = Embedding(tar_vocab, embedding_dim)\n",
    "dec_emb = dec_emb_layer(decoder_inputs)\n",
    "    \n",
    "# 디코더의 LSTM\n",
    "# 인코더의 LSTM과 거의 비슷하지만 inital_state에 \n",
    "# 인코더의 LSTM3에서 출력되어진 state_h와 state_c를 꼭 입력해주어야함\n",
    "decoder_lstm = LSTM(hidden_size, return_sequences=True, return_state=True, dropout=dropout_rate, recurrent_dropout=re_dropout_rate2)\n",
    "decoder_outputs, _, _ = decoder_lstm(dec_emb, initial_state=[state_h, state_c])\n",
    "    \n",
    "# 어텐션 층(어텐션 함수)\n",
    "attn_layer = AdditiveAttention(name='attention_layer')\n",
    "# 인코더와 디코더의 모든 time step의 hidden state를 어텐션 층에 전달하고 결과를 리턴\n",
    "attn_out = attn_layer([decoder_outputs, encoder_outputs])\n",
    "\n",
    "\n",
    "# 어텐션의 결과와 디코더의 hidden state들을 연결\n",
    "decoder_concat_input = Concatenate(axis=-1, name='concat_layer')([decoder_outputs, attn_out])\n",
    "    \n",
    "# 디코더의 출력층\n",
    "decoder_softmax_layer = Dense(tar_vocab, activation='softmax')\n",
    "decoder_softmax_outputs = decoder_softmax_layer(decoder_concat_input)\n",
    "    \n",
    "# 모델 정의\n",
    "model1 = Model([encoder_inputs, decoder_inputs], decoder_softmax_outputs)\n",
    "model1.summary()\n",
    "\n",
    "# rmsprop를 optimizer로 쓰고 cross entropy를 loss function으로 사용한다.\n",
    "# adam도 한번 더 테스트해야겠다\n",
    "model1.compile(optimizer='rmsprop', loss='sparse_categorical_crossentropy') \n",
    "\n",
    "# EarlyStopping을 해서 validation의 loss가 증가하는 현상이 2회 관찰되면 학습 중지 \n",
    "es = EarlyStopping(monitor='val_loss', patience=2, verbose=1) \n",
    "\n",
    "history1 = model1.fit(x=[encoder_input_train, decoder_input_train], y=decoder_target_train, \\\n",
    "          validation_data=([encoder_input_test, decoder_input_test], decoder_target_test), \\\n",
    "          batch_size=256, callbacks=[es], epochs=50)"
   ]
  },
  {
   "cell_type": "markdown",
   "id": "9a444911",
   "metadata": {},
   "source": [
    "### 모델 3의 learning curve 시각화\n",
    "- encoder의 recurrent dropout rate=0\n",
    "- decoder recurrent dropout rate=0\n",
    "- embedding_dim = 128,hidden_size = 256,dropout_rate=0.4 (모델1, 모델2와 동일)"
   ]
  },
  {
   "cell_type": "code",
   "execution_count": 126,
   "id": "8db4f06c",
   "metadata": {},
   "outputs": [
    {
     "data": {
      "image/png": "[encoded data removed]",
      "text/plain": [
       "<Figure size 432x288 with 1 Axes>"
      ]
     },
     "metadata": {
      "needs_background": "light"
     },
     "output_type": "display_data"
    }
   ],
   "source": [
    "plt.plot(history1.history['loss'], label='train')\n",
    "plt.plot(history1.history['val_loss'], label='test')\n",
    "plt.legend()\n",
    "plt.show()"
   ]
  },
  {
   "cell_type": "markdown",
   "id": "5bddb767",
   "metadata": {},
   "source": [
    "\n",
    "--------------------------------------------\n",
    "\n",
    "### Step 4. 실제 결과와 요약문 비교하기 (추상적 요약)- 모델3\n",
    "원래의 요약문(headlines 열)과 학습을 통해 얻은 추상적 요약의 결과를 비교해보자"
   ]
  },
  {
   "cell_type": "code",
   "execution_count": 127,
   "id": "92fe4281",
   "metadata": {},
   "outputs": [],
   "source": [
    "src_index_to_word = src_tokenizer.index_word # 원문 단어 집합에서 정수 -> 단어를 얻음\n",
    "tar_word_to_index = tar_tokenizer.word_index # 요약 단어 집합에서 단어 -> 정수를 얻음\n",
    "tar_index_to_word = tar_tokenizer.index_word # 요약 단어 집합에서 정수 -> 단어를 얻음\n"
   ]
  },
  {
   "cell_type": "code",
   "execution_count": 128,
   "id": "5d786671",
   "metadata": {},
   "outputs": [],
   "source": [
    "# 인코더 설계\n",
    "encoder_model = Model(inputs=encoder_inputs, outputs=[encoder_outputs, state_h, state_c])\n",
    "\n",
    "# 이전 시점의 상태들을 저장하는 텐서\n",
    "decoder_state_input_h = Input(shape=(hidden_size,))\n",
    "decoder_state_input_c = Input(shape=(hidden_size,))\n",
    "\n",
    "dec_emb2 = dec_emb_layer(decoder_inputs)\n",
    "\n",
    "# 문장의 다음 단어를 예측하기 위해서 초기 상태(initial_state)를 이전 시점의 상태로 사용. 이는 뒤의 함수 decode_sequence()에 구현\n",
    "# 훈련 과정에서와 달리 LSTM의 리턴하는 은닉 상태와 셀 상태인 state_h와 state_c를 버리지 않음.\n",
    "decoder_outputs2, state_h2, state_c2 = decoder_lstm(dec_emb2, initial_state=[decoder_state_input_h, decoder_state_input_c])\n",
    "\n",
    "# 어텐션 함수\n",
    "decoder_hidden_state_input = Input(shape=(text_max_len, hidden_size))\n",
    "attn_out_inf = attn_layer([decoder_outputs2, decoder_hidden_state_input])\n",
    "decoder_inf_concat = Concatenate(axis=-1, name='concat')([decoder_outputs2, attn_out_inf])\n",
    "\n",
    "# 디코더의 출력층\n",
    "decoder_outputs2 = decoder_softmax_layer(decoder_inf_concat) \n",
    "\n",
    "# 최종 디코더 모델\n",
    "decoder_model = Model(\n",
    "    [decoder_inputs] + [decoder_hidden_state_input,decoder_state_input_h, decoder_state_input_c],\n",
    "    [decoder_outputs2] + [state_h2, state_c2])\n",
    "\n"
   ]
  },
  {
   "cell_type": "code",
   "execution_count": 129,
   "id": "27dde740",
   "metadata": {},
   "outputs": [],
   "source": [
    "def decode_sequence(input_seq):\n",
    "    # 입력으로부터 인코더의 상태를 얻음\n",
    "    e_out, e_h, e_c = encoder_model.predict(input_seq)\n",
    "\n",
    "     # <SOS>에 해당하는 토큰 생성\n",
    "    target_seq = np.zeros((1,1))\n",
    "    target_seq[0, 0] = tar_word_to_index['sostoken']\n",
    "\n",
    "    stop_condition = False\n",
    "    decoded_sentence = ''\n",
    "    while not stop_condition: # stop_condition이 True가 될 때까지 루프 반복\n",
    "\n",
    "        output_tokens, h, c = decoder_model.predict([target_seq] + [e_out, e_h, e_c])\n",
    "        sampled_token_index = np.argmax(output_tokens[0, -1, :])\n",
    "        sampled_token = tar_index_to_word[sampled_token_index]\n",
    "\n",
    "        if (sampled_token!='eostoken'):\n",
    "            decoded_sentence += ' '+sampled_token\n",
    "\n",
    "        #  <eos>에 도달하거나 최대 길이를 넘으면 중단.\n",
    "        if (sampled_token == 'eostoken'  or len(decoded_sentence.split()) >= (summary_max_len-1)):\n",
    "            stop_condition = True\n",
    "\n",
    "        # 길이가 1인 타겟 시퀀스를 업데이트\n",
    "        target_seq = np.zeros((1,1))\n",
    "        target_seq[0, 0] = sampled_token_index\n",
    "\n",
    "        # 상태를 업데이트 합니다.\n",
    "        e_h, e_c = h, c\n",
    "\n",
    "    return decoded_sentence"
   ]
  },
  {
   "cell_type": "code",
   "execution_count": 130,
   "id": "2eb26024",
   "metadata": {},
   "outputs": [
    {
     "name": "stdout",
     "output_type": "stream",
     "text": [
      "=3\n"
     ]
    }
   ],
   "source": [
    "# 원문의 정수 시퀀스를 텍스트 시퀀스로 변환\n",
    "def seq2text(input_seq):\n",
    "    temp=''\n",
    "    for i in input_seq:\n",
    "        if (i!=0):\n",
    "            temp = temp + src_index_to_word[i]+' '\n",
    "    return temp\n",
    "\n",
    "# 요약문의 정수 시퀀스를 텍스트 시퀀스로 변환\n",
    "def seq2summary(input_seq):\n",
    "    temp=''\n",
    "    for i in input_seq:\n",
    "        if ((i!=0 and i!=tar_word_to_index['sostoken']) and i!=tar_word_to_index['eostoken']):\n",
    "            temp = temp + tar_index_to_word[i] + ' '\n",
    "    return temp\n",
    "\n",
    "print('=3')"
   ]
  },
  {
   "cell_type": "code",
   "execution_count": 133,
   "id": "14290bfb",
   "metadata": {
    "scrolled": false
   },
   "outputs": [
    {
     "name": "stdout",
     "output_type": "stream",
     "text": [
      "원문 : inquiry committee appointed jawaharlal nehru university upheld punishments recommended students umar khalid kanhaiya kumar connection event protesting afzal guru execution jnu panel recommended khalid imposing fine kanhaiya event anti national slogans allegedly raised \n",
      "실제 요약 : jnu panel upholds to umar khalid kanhaiya kumar \n",
      "예측 요약 :  jnu students not to be removed from jan\n",
      "\n",
      "\n",
      "원문 : former australian wicket keeper adam gilchrist tweeted indian batsman ms dhoni anything rules ground bat inside crease completing run gilchrist said reply person tweeted short run considered nd subsequent runs \n",
      "실제 요약 : it against the rules gilchrist on dhoni incomplete run \n",
      "예측 요약 :  dhoni reveals he was once asked to clean his own\n",
      "\n",
      "\n",
      "원문 : speaking incidents lynching country vice president venkaiah naidu said kill man call nationalist nationalism bharat mata ki jai wider meaning added societal behaviour change vice president said lynching linked political parties \n",
      "실제 요약 : those involved in lynching are not vice prez \n",
      "예측 요약 :  no one can be part of the vice prez naidu\n",
      "\n",
      "\n",
      "원문 : world bank ceo said understands cricket loving nation hitting century important milestone said india secured th rank world bank ease business report also credited india achievement per capita income reforms taken last years \n",
      "실제 요약 : hitting is huge in cricket loving nation world bank \n",
      "예측 요약 :  world bank has become world bank of world bank\n",
      "\n",
      "\n",
      "원문 : pakistani maestro ghulam ali scheduled perform temple varanasi next month third year row ali performed temple despite protests shiv sena performance likely part opening ceremony sangeet scheduled april \n",
      "실제 요약 : pak singer ali to perform at varanasi temple \n",
      "예측 요약 :  pak temple to be part of honour from airports\n",
      "\n",
      "\n",
      "원문 : chinese workers pakistan attacked policemen deployed security denied permission visit red light area without accompanied police said workers reportedly engaged construction workers later cut power supply police camp construction facility stopped work project \n",
      "실제 요약 : chinese workers attack pak cops over visit to red light area \n",
      "예측 요약 :  police to get security to avoid security forces\n",
      "\n",
      "\n",
      "원문 : aap leader kumar vishwas took twitter share video man speaking long english words wrote shashi tharoor brother lost kumbh festival found congratulations congress mp replied vishwas tweet hindi language saying better people becoming brothers talking alike \n",
      "실제 요약 : vishwas trolls tharoor over his english tharoor replies in hindi \n",
      "예측 요약 :  aap leader shares video of him dancing to aap\n",
      "\n",
      "\n",
      "원문 : united states america cricket association facing expulsion international cricket council sport global governing body revealed monday icc suspended board claimed body unity hold widespread authority country cricket activities \n",
      "실제 요약 : usa cricket body faces expulsion from icc \n",
      "예측 요약 :  icc rules out of icc for st time in tests\n",
      "\n",
      "\n",
      "원문 : three policemen kerala arrested allegedly torturing year old man wrongly arrested due mistaken identity victim arrested abetment suicide rioting april died hospital april autopsy revealed injuries victim body reports said \n",
      "실제 요약 : kerala policemen arrested for man in custody \n",
      "예측 요약 :  man held for killing of year old girl in delhi\n",
      "\n",
      "\n",
      "원문 : kerala based startup delhi based health global impact challenge going silicon valley us week incubator programme jointly organised kerala startup mission us based university challenge aimed identifying startups working solutions learning healthcare environment sectors \n",
      "실제 요약 : indian startups to go to us post startup challenge win \n",
      "예측 요약 :  kerala to get its first mobile phone\n",
      "\n",
      "\n",
      "원문 : neha dhupia revealed husband angad bedi proposed marriage four years ago turned proposal time already relationship added came back four years later said wasted four years life said either wife nothing \n",
      "실제 요약 : angad proposed to me yrs ago but turned it down neha \n",
      "예측 요약 :  marriage is not been the first time in years neha\n",
      "\n",
      "\n",
      "원문 : day state run oil marketing companies raised prices petrol diesel paise paise per litre respectively delhi diesel prices monday reached per litre delhi fresh record high petrol prices also rose per litre highest since september \n",
      "실제 요약 : petrol diesel prices hiked after days \n",
      "예측 요약 :  petrol price cut by litre diesel in up\n",
      "\n",
      "\n",
      "원문 : google developer blog monday said working device partners support display edge edge screens android limiting number two android phones one notch side allowed top bottom edges left right \n",
      "실제 요약 : google bans android phones from having more than \n",
      "예측 요약 :  google to launch android for android\n",
      "\n",
      "\n",
      "원문 : actor randeep hooda said high time society stops treating women pets need disciplined surprises even st century families suppress daughters said hooda added women right whatever want \n",
      "실제 요약 : society should not treat women as pets to be hooda \n",
      "예측 요약 :  women should not have been women in the world\n",
      "\n",
      "\n",
      "원문 : filmmaker choreographer farah khan reportedly sonam kapoor anand ahuja sangeet ceremony according reports sangeet rehearsals already begun anil kapoor juhu bungalow sonam cousins extended family reportedly perform actress hit songs whereas performing special act sangeet ceremony \n",
      "실제 요약 : farah khan to sonam kapoor sangeet report \n",
      "예측 요약 :  sonam to pay sangeet in her sangeet reports\n",
      "\n",
      "\n",
      "원문 : class student bihar got maths got paper updated results announced another student sanskrit marks increased another one got marks upgraded state board got papers failed year \n",
      "실제 요약 : bihar class student marks up from to after \n",
      "예측 요약 :  class student scores in bihar board exams\n",
      "\n",
      "\n",
      "원문 : sauce maker food services reportedly raised million funding led existing investor belgium based investment holding company manages billion assets across globe october food raised million series round fundraising saama capital \n",
      "실제 요약 : food services raises crore in funding \n",
      "예측 요약 :  food maker raises mn from softbank\n",
      "\n",
      "\n",
      "원문 : trailer priyanka chopra second hollywood film kid like jake released priyanka reportedly portray role single mother film premiered film festival directed howard also starring claire jim parsons spencer film scheduled release june \n",
      "실제 요약 : trailer of priyanka nd wood film kid like out \n",
      "예측 요약 :  trailer of priyanka starrer released\n",
      "\n",
      "\n",
      "원문 : apple ceo tim cook defended apple billion dollar deal google keep google search default apple devices said think search engine best tried come ways help users day added cook google reportedly paying billion remain safari default search engine \n",
      "실제 요약 : think google search engine is the best apple ceo tim cook \n",
      "예측 요약 :  apple ceo says google is not google ceo\n",
      "\n",
      "\n",
      "원문 : indian equity benchmarks registered biggest single day drop since october thursday ahead assembly election results amid global market sensex fell points broader nifty index dropped points indices dragged mainly finance auto realty stocks \n",
      "실제 요약 : sensex records worst day in nearly two months falls points \n",
      "예측 요약 :  sensex falls points points nifty ends\n",
      "\n",
      "\n",
      "원문 : dubai based indian driver million draw held abu dhabi international airport john hails kerala sharing money four friends buy ticket said use share invest children education help underprivileged \n",
      "실제 요약 : kerala man wins crore in abu dhabi lottery \n",
      "예측 요약 :  indian air force costliest gold worth crore\n",
      "\n",
      "\n",
      "원문 : indian pacer deepak chahar became rd player represent india one day internationals making debut afghanistan asia cup tuesday year old played ms dhoni ipl picked wickets become leading wicket taker india team tour england earlier year \n",
      "실제 요약 : who is deepak rd player to represent india in odis \n",
      "예측 요약 :  india named best cricketer of the year\n",
      "\n",
      "\n",
      "원문 : indian origin co founders bose dhruv kapoor commerce startup raised million series funding round led sequoia india principal investments singapore based startup funding round also saw participation existing investors founded ships fashion lifestyle products countries including indonesia vietnam korea \n",
      "실제 요약 : indian origin co founders startup raises mn \n",
      "예측 요약 :  indian origin startup raises mn from\n",
      "\n",
      "\n",
      "원문 : bharadwaj year old meerut bronze medal double trap event issf junior shotgun world cup italy sunday earlier shooters manisha combined win bronze medal mixed team trap event italy currently event three golds three bronze medal \n",
      "실제 요약 : yr old wins bronze for india at junior world cup \n",
      "예측 요약 :  indian men wins gold at world cup\n",
      "\n",
      "\n",
      "원문 : raees director rahul dholakia talking shah rukh khan occasion birthday friday said still hungry surprised trying different roles rahul added shah rukh biggest convincing range actor film industry \n",
      "실제 요약 : at shah rukh is still very hungry director \n",
      "예측 요약 :  have no actor on my father birthday srk\n",
      "\n",
      "\n",
      "원문 : abhishek kapoor director sara ali khan debut film kedarnath said beautiful bundle energy talking theme kedarnath said kedarnath love story course pilgrimage film also star actor sushant singh rajput lead role \n",
      "실제 요약 : sara is beautiful of energy kedarnath director \n",
      "예측 요약 :  saif ali khan to star in karan johar film\n",
      "\n",
      "\n",
      "원문 : ram gopal varma phone laptop seized hyderabad police ascertain link short film god sex truth interrogated case obscenity registered film stars american porn star mia investigation requires may arrested said additional dcp \n",
      "실제 요약 : rgv phone laptop seized over charges on film \n",
      "예측 요약 :  rgv files fir against rgv over his film on his film\n",
      "\n",
      "\n",
      "원문 : hunter shot dead year old son mistaking russia authorities said hunter fired rifle moving object poor visibility authorities added charged causing death negligence faces prison sentence two years \n",
      "실제 요약 : russian hunter shoots son dead after mistaking him for \n",
      "예측 요약 :  man kills wife shoots him for him to kill him\n",
      "\n",
      "\n",
      "원문 : malayalam news channel announced first day period leave female employees additional leave counted sick leave soon extended company online print ventures felt good practical practice adopt decision taken company said \n",
      "실제 요약 : malayalam news channel starts period leave for women workers \n",
      "예측 요약 :  to leave for the first time after months\n",
      "\n",
      "\n",
      "원문 : year old gangster arrested double murder case gang rivalry sought maharashtra control organised crime act court permission euthanasia gangster arrested suffered stroke affected right side body earlier posted bail lack proper treatment paralysis \n",
      "실제 요약 : year old gangster in mumbai jail seeks euthanasia \n",
      "예측 요약 :  man held for killing derogatory assault by cops\n",
      "\n",
      "\n",
      "원문 : actor ranbir kapoor revealed nicotine addict since age taken trips austria doctor gave injections ears help quit smoking first time said ranbir added think give \n",
      "실제 요약 : have been addict since the age of ranbir \n",
      "예측 요약 :  ranbir kapoor is an choice for ranbir kapoor\n",
      "\n",
      "\n",
      "원문 : addressing global investors summit guwahati saturday prime minister narendra modi said northeast heart india act east policy connecting southeast asia tagline meet advantage assam india expressway asean appropriate statement also comprehensive vision pm said \n",
      "실제 요약 : northeast at the heart of india act east policy pm modi \n",
      "예측 요약 :  pm modi to meet indian pm modi in africa\n",
      "\n",
      "\n",
      "원문 : iranian authorities arrested suspects connection wednesday twin terror attacks nation interior ministry said lots documents weaponry seized well ministry added islamic state claimed responsibility attacks suicide bombers gunmen attacked iranian parliament mausoleum islamic republic founder \n",
      "실제 요약 : iran arrests suspects over twin terror attacks \n",
      "예측 요약 :  us arrests isis al qaeda for attacks on drugs\n",
      "\n",
      "\n",
      "원문 : us based scientists developed thermal mechanical device convert heat emitted computers energy source reused power thermal worked temperatures approaching scientists expect work could allow computing ultra high temperatures make first ever thermal computer scientists said \n",
      "실제 요약 : device heat from computers to power them \n",
      "예측 요약 :  researchers use device to make power power for power\n",
      "\n",
      "\n",
      "원문 : indian cricket team captain virat kohli celebrated sri lankan wicketkeeper wicket bhangra dance first day second test friday got runs balls lifting ravindra jadeja delivery st towards mid ishant sharma took catch \n",
      "실제 요약 : kohli celebrates sri lankan wicket by doing bhangra \n",
      "예측 요약 :  kohli runs in sl for st time in odi series\n",
      "\n",
      "\n",
      "원문 : iran dropped two places become sixth biggest oil supplier india november according reuters india monthly oil imports persian gulf nation reportedly plunged lowest year india cut purchases due impact us sanctions iraq saudi arabia continued top two oil sellers india \n",
      "실제 요약 : iran falls to th biggest oil supplier to india in november report \n",
      "예측 요약 :  iran to cut oil imports to iran for st time\n",
      "\n",
      "\n",
      "원문 : former vice president hamid ansari said india responsible pakistan partition ready accept equally responsible added ansari said politics country changed someone made responsible partition everyone agreed blame muslims \n",
      "실제 요약 : india just as responsible for partition as pak ex vp ansari \n",
      "예측 요약 :  no one of india on pak prez on pak\n",
      "\n",
      "\n",
      "원문 : patidar leader hardik patel claimed bjp crore budget buy activists protesting government claiming gujarat farmers traders workers fed bjp rule patel said people cannot bought party comes patidar leader narendra patel claimed offered crore join bjp \n",
      "실제 요약 : bjp has budget of crore to buy activists hardik patel \n",
      "예측 요약 :  hardik patel to give cr to farmers in gujarat\n",
      "\n",
      "\n",
      "원문 : north korea vowed efforts increase strength safeguard latest round un sanctions got imposed nuclear ballistic missile programme describing sanctions evil illegal north korea said sanctions product heinous provocation aimed dprk legitimate right self defence \n",
      "실제 요약 : korea vows to strength in response to sanctions \n",
      "예측 요약 :  us sanctions against korea over korean sanctions\n",
      "\n",
      "\n",
      "원문 : yahoo launched group messaging app called squirrel ios android focussed friends family work groups users add members group invitation links create separate chat rooms specific people topics app testing mode also includes blasts feature ensure participants see important messages \n",
      "실제 요약 : yahoo launches invite only group messaging app squirrel \n",
      "예측 요약 :  app to launch app to support users in\n",
      "\n",
      "\n",
      "원문 : juvenile justice board wednesday ruled class xi ryan international school student accused murder seven year old pradyuman thakur tried adult case transferred district sessions court convicted student transferred correctional home jail years old \n",
      "실제 요약 : juvenile accused in ryan murder case to be treated as adult \n",
      "예측 요약 :  ryan murder accused of murder of yr old in ryan\n",
      "\n",
      "\n",
      "원문 : commenting comedy film housefull completing seven years release sunday filmmaker sajid khan said film shooting like paid holiday added want come back home even asked producer let us stay days film featured akshay kumar riteish deshmukh arjun rampal deepika padukone among others \n",
      "실제 요약 : housefull shoot was like paid holiday sajid on film yrs \n",
      "예측 요약 :  no one can play my film with my film director\n",
      "\n",
      "\n",
      "원문 : first day night test match hosted england went underway england west indies edgbaston thursday fifth day night test international cricket first feature england mark included england squad eve test became alastair cook th opening partner since andrew strauss retirement \n",
      "실제 요약 : first day night test to be hosted in england gets \n",
      "예측 요약 :  australia win st test test series after st ever test\n",
      "\n",
      "\n",
      "원문 : amid ongoing controversy founding father pakistan mohammad ali jinnah photo displayed aligarh muslim university uttar pradesh deputy cm keshav prasad maurya said jinnah enemy nation one nation ever ever place enemy hearts added \n",
      "실제 요약 : mohammad ali jinnah was enemy of the nation up deputy cm \n",
      "예측 요약 :  lord ram is not an muslims for lord krishna\n",
      "\n",
      "\n",
      "원문 : indian rupee wednesday touched month low us dollar closed rupee since start year concerns higher crude oil prices widen india current account deficit notably currency hit time intraday low november \n",
      "실제 요약 : rupee plunges to month low of against us dollar \n",
      "예측 요약 :  rupee rupee hits month low of in rupee\n",
      "\n",
      "\n",
      "원문 : cast members godfather film series reunited film festival first film th anniversary screening panel discussion film followed screening parts one two series actors robert de niro al robert james diane attended event \n",
      "실제 요약 : godfather cast reunites for its th anniversary screening \n",
      "예측 요약 :  new film festival to be held for upcoming film fest\n",
      "\n",
      "\n",
      "원문 : terry assistant director several james bond films left career ending injuries accident set sued crore damages camera truck crashed resulting multiple fractures tissue damage nerve damage accident february \n",
      "실제 요약 : crew member sues for cr over injury in james bond film \n",
      "예측 요약 :  actor actor once stole lakh crore\n",
      "\n",
      "\n",
      "원문 : secretive annual meeting world leaders ceos power brokers known group taking place us virginia closed door discussions four days group discuss war information growing slowed accused critics plotting impose one world government \n",
      "실제 요약 : group begin in us \n",
      "예측 요약 :  us opens its first ever us trade amid tensions\n",
      "\n",
      "\n",
      "원문 : us based startup working camera car shoots degree videos alerts users someone tries steal car camera lets users check cars via live stream phones also fitted detect movements would prompt send alerts owners \n",
      "실제 요약 : alerts user if someone tries to steal their car \n",
      "예측 요약 :  startup makes self driving car that can control users\n",
      "\n",
      "\n",
      "원문 : open letter people delhi deputy chief minister manish sisodia questioned unconstitutional illegal disqualify mlas pushing delhi polls dirty politics added unhappy disappointed comes aap mlas disqualified holding offices profit \n",
      "실제 요약 : disqualification of aap mlas dirty politics delhi dy cm \n",
      "예측 요약 :  no mlas in profit against up govt to mlas\n",
      "\n",
      "\n"
     ]
    }
   ],
   "source": [
    "for i in range(50, 100):\n",
    "    print(\"원문 :\", seq2text(encoder_input_test[i]))\n",
    "    print(\"실제 요약 :\", seq2summary(decoder_input_test[i]))\n",
    "    print(\"예측 요약 :\", decode_sequence(encoder_input_test[i].reshape(1, text_max_len)))\n",
    "    print(\"\\n\")"
   ]
  },
  {
   "cell_type": "markdown",
   "id": "291454b9",
   "metadata": {},
   "source": [
    "### Step 4. 실제 결과와 요약문 비교하기 (추상적 요약)\n",
    "원래의 요약문(headlines 열)과 학습을 통해 얻은 추상적 요약의 결과를 비교해보자"
   ]
  },
  {
   "cell_type": "markdown",
   "id": "7dec9dc2",
   "metadata": {},
   "source": [
    "원문 : inquiry committee appointed jawaharlal nehru university upheld punishments recommended students umar khalid kanhaiya kumar connection event protesting afzal guru execution jnu panel recommended khalid imposing fine kanhaiya event anti national slogans allegedly raised    \n",
    "\n",
    "실제 요약 : jnu panel upholds to umar khalid kanhaiya kumar    \n",
    "모델 1 예측 요약 :  jnu prof appointed as jnu director   \n",
    "모델 2 예측 요약 :  jnu body asks jnu to jnu students   \n",
    "모델 3 예측 요약 :  jnu students not to be removed from jan   \n",
    "\n",
    "----------------------------------------------------\n",
    "\n",
    "원문 : former australian wicket keeper adam gilchrist tweeted indian batsman ms dhoni anything rules ground bat inside crease completing run gilchrist said reply person tweeted short run considered nd subsequent runs    \n",
    "실제 요약 : it against the rules gilchrist on dhoni incomplete run    \n",
    "모델 1 예측 요약 :  dhoni and dhoni while batting at him   \n",
    "모델 2 예측 요약 :  dhoni should be used to bat in my life dhoni   \n",
    "모델 3 예측 요약 :  dhoni reveals he was once asked to clean his own   \n",
    "\n"
   ]
  },
  {
   "cell_type": "markdown",
   "id": "0949796c",
   "metadata": {},
   "source": [
    "----------------------------\n",
    "\n",
    "### 모델3. recurrent dropout을 전혀 쓰지 않는 경우\n",
    "- embedding_dim = 128,hidden_size = 256,dropout_rate=0.4 모델1, 모델2와 동일"
   ]
  },
  {
   "cell_type": "code",
   "execution_count": 125,
   "id": "38d66827",
   "metadata": {},
   "outputs": [
    {
     "name": "stdout",
     "output_type": "stream",
     "text": [
      "Model: \"model_19\"\n",
      "__________________________________________________________________________________________________\n",
      "Layer (type)                    Output Shape         Param #     Connected to                     \n",
      "==================================================================================================\n",
      "input_41 (InputLayer)           [(None, 62)]         0                                            \n",
      "__________________________________________________________________________________________________\n",
      "embedding_20 (Embedding)        (None, 62, 128)      2644224     input_41[0][0]                   \n",
      "__________________________________________________________________________________________________\n",
      "lstm_40 (LSTM)                  [(None, 62, 256), (N 394240      embedding_20[0][0]               \n",
      "__________________________________________________________________________________________________\n",
      "input_42 (InputLayer)           [(None, None)]       0                                            \n",
      "__________________________________________________________________________________________________\n",
      "lstm_41 (LSTM)                  [(None, 62, 256), (N 525312      lstm_40[0][0]                    \n",
      "__________________________________________________________________________________________________\n",
      "embedding_21 (Embedding)        (None, None, 128)    1334912     input_42[0][0]                   \n",
      "__________________________________________________________________________________________________\n",
      "lstm_42 (LSTM)                  [(None, 62, 256), (N 525312      lstm_41[0][0]                    \n",
      "__________________________________________________________________________________________________\n",
      "lstm_43 (LSTM)                  [(None, None, 256),  394240      embedding_21[0][0]               \n",
      "                                                                 lstm_42[0][1]                    \n",
      "                                                                 lstm_42[0][2]                    \n",
      "__________________________________________________________________________________________________\n",
      "attention_layer (AdditiveAttent (None, None, 256)    256         lstm_43[0][0]                    \n",
      "                                                                 lstm_42[0][0]                    \n",
      "__________________________________________________________________________________________________\n",
      "concat_layer (Concatenate)      (None, None, 512)    0           lstm_43[0][0]                    \n",
      "                                                                 attention_layer[0][0]            \n",
      "__________________________________________________________________________________________________\n",
      "dense_10 (Dense)                (None, None, 10429)  5350077     concat_layer[0][0]               \n",
      "==================================================================================================\n",
      "Total params: 11,168,573\n",
      "Trainable params: 11,168,573\n",
      "Non-trainable params: 0\n",
      "__________________________________________________________________________________________________\n",
      "Epoch 1/50\n",
      "307/307 [==============================] - 45s 132ms/step - loss: 5.2657 - val_loss: 4.8585\n",
      "Epoch 2/50\n",
      "307/307 [==============================] - 39s 129ms/step - loss: 4.7005 - val_loss: 4.5086\n",
      "Epoch 3/50\n",
      "307/307 [==============================] - 39s 128ms/step - loss: 4.3868 - val_loss: 4.2688\n",
      "Epoch 4/50\n",
      "307/307 [==============================] - 39s 128ms/step - loss: 4.1430 - val_loss: 4.0886\n",
      "Epoch 5/50\n",
      "307/307 [==============================] - 39s 129ms/step - loss: 3.9503 - val_loss: 3.9543\n",
      "Epoch 6/50\n",
      "307/307 [==============================] - 39s 129ms/step - loss: 3.7935 - val_loss: 3.8599\n",
      "Epoch 7/50\n",
      "307/307 [==============================] - 39s 129ms/step - loss: 3.6597 - val_loss: 3.7752\n",
      "Epoch 8/50\n",
      "307/307 [==============================] - 40s 129ms/step - loss: 3.5429 - val_loss: 3.7146\n",
      "Epoch 9/50\n",
      "307/307 [==============================] - 40s 129ms/step - loss: 3.4381 - val_loss: 3.6554\n",
      "Epoch 10/50\n",
      "307/307 [==============================] - 39s 129ms/step - loss: 3.3428 - val_loss: 3.6076\n",
      "Epoch 11/50\n",
      "307/307 [==============================] - 40s 130ms/step - loss: 3.2577 - val_loss: 3.5718\n",
      "Epoch 12/50\n",
      "307/307 [==============================] - 40s 129ms/step - loss: 3.1830 - val_loss: 3.5417\n",
      "Epoch 13/50\n",
      "307/307 [==============================] - 40s 130ms/step - loss: 3.1107 - val_loss: 3.5134\n",
      "Epoch 14/50\n",
      "307/307 [==============================] - 40s 130ms/step - loss: 3.0437 - val_loss: 3.4948\n",
      "Epoch 15/50\n",
      "307/307 [==============================] - 40s 130ms/step - loss: 2.9839 - val_loss: 3.4703\n",
      "Epoch 16/50\n",
      "307/307 [==============================] - 40s 130ms/step - loss: 2.9286 - val_loss: 3.4612\n",
      "Epoch 17/50\n",
      "307/307 [==============================] - 40s 130ms/step - loss: 2.8754 - val_loss: 3.4504\n",
      "Epoch 18/50\n",
      "307/307 [==============================] - 40s 130ms/step - loss: 2.8249 - val_loss: 3.4365\n",
      "Epoch 19/50\n",
      "307/307 [==============================] - 40s 130ms/step - loss: 2.7792 - val_loss: 3.4286\n",
      "Epoch 20/50\n",
      "307/307 [==============================] - 40s 130ms/step - loss: 2.7373 - val_loss: 3.4276\n",
      "Epoch 21/50\n",
      "307/307 [==============================] - 40s 130ms/step - loss: 2.6969 - val_loss: 3.4180\n",
      "Epoch 22/50\n",
      "307/307 [==============================] - 40s 130ms/step - loss: 2.6574 - val_loss: 3.4187\n",
      "Epoch 23/50\n",
      "307/307 [==============================] - 40s 130ms/step - loss: 2.6205 - val_loss: 3.4152\n",
      "Epoch 24/50\n",
      "307/307 [==============================] - 40s 130ms/step - loss: 2.5831 - val_loss: 3.4089\n",
      "Epoch 25/50\n",
      "307/307 [==============================] - 40s 130ms/step - loss: 2.5484 - val_loss: 3.4062\n",
      "Epoch 26/50\n",
      "307/307 [==============================] - 40s 130ms/step - loss: 2.5181 - val_loss: 3.4141\n",
      "Epoch 27/50\n",
      "307/307 [==============================] - 40s 130ms/step - loss: 2.4894 - val_loss: 3.4116\n",
      "Epoch 00027: early stopping\n"
     ]
    }
   ],
   "source": [
    "re_dropout_rate=0\n",
    "re_dropout_rate2=0\n",
    "\n",
    "# 인코더 설계 시작\n",
    "# 인코더\n",
    "encoder_inputs = Input(shape=(text_max_len,))\n",
    "    \n",
    "# 인코더의 임베딩 층\n",
    "enc_emb = Embedding(src_vocab, embedding_dim)(encoder_inputs)\n",
    "    \n",
    "# 인코더의 LSTM 1\n",
    "encoder_lstm1 = LSTM(hidden_size, return_sequences=True, return_state=True ,\n",
    "                         dropout = dropout_rate, recurrent_dropout = re_dropout_rate)\n",
    "encoder_output1, state_h1, state_c1 = encoder_lstm1(enc_emb)\n",
    "# 인코더의 LSTM 2\n",
    "encoder_lstm2 = LSTM(hidden_size, return_sequences=True, return_state=True, dropout=dropout_rate, recurrent_dropout=re_dropout_rate)\n",
    "encoder_output2, state_h2, state_c2 = encoder_lstm2(encoder_output1)\n",
    "# 인코더의 LSTM 3\n",
    "encoder_lstm3 = LSTM(hidden_size, return_state=True, return_sequences=True, dropout=dropout_rate, recurrent_dropout=re_dropout_rate)\n",
    "encoder_outputs, state_h, state_c= encoder_lstm3(encoder_output2)\n",
    "    \n",
    "# 디코더 설계\n",
    "decoder_inputs = Input(shape=(None,))\n",
    "    \n",
    "# 디코더의 임베딩 층\n",
    "dec_emb_layer = Embedding(tar_vocab, embedding_dim)\n",
    "dec_emb = dec_emb_layer(decoder_inputs)\n",
    "    \n",
    "# 디코더의 LSTM\n",
    "# 인코더의 LSTM과 거의 비슷하지만 inital_state에 \n",
    "# 인코더의 LSTM3에서 출력되어진 state_h와 state_c를 꼭 입력해주어야함\n",
    "decoder_lstm = LSTM(hidden_size, return_sequences=True, return_state=True, dropout=dropout_rate, recurrent_dropout=re_dropout_rate2)\n",
    "decoder_outputs, _, _ = decoder_lstm(dec_emb, initial_state=[state_h, state_c])\n",
    "    \n",
    "# 어텐션 층(어텐션 함수)\n",
    "attn_layer = AdditiveAttention(name='attention_layer')\n",
    "# 인코더와 디코더의 모든 time step의 hidden state를 어텐션 층에 전달하고 결과를 리턴\n",
    "attn_out = attn_layer([decoder_outputs, encoder_outputs])\n",
    "\n",
    "\n",
    "# 어텐션의 결과와 디코더의 hidden state들을 연결\n",
    "decoder_concat_input = Concatenate(axis=-1, name='concat_layer')([decoder_outputs, attn_out])\n",
    "    \n",
    "# 디코더의 출력층\n",
    "decoder_softmax_layer = Dense(tar_vocab, activation='softmax')\n",
    "decoder_softmax_outputs = decoder_softmax_layer(decoder_concat_input)\n",
    "    \n",
    "# 모델 정의\n",
    "model1 = Model([encoder_inputs, decoder_inputs], decoder_softmax_outputs)\n",
    "model1.summary()\n",
    "\n",
    "# rmsprop를 optimizer로 쓰고 cross entropy를 loss function으로 사용한다.\n",
    "# adam도 한번 더 테스트해야겠다\n",
    "model1.compile(optimizer='rmsprop', loss='sparse_categorical_crossentropy') \n",
    "\n",
    "# EarlyStopping을 해서 validation의 loss가 증가하는 현상이 2회 관찰되면 학습 중지 \n",
    "es = EarlyStopping(monitor='val_loss', patience=2, verbose=1) \n",
    "\n",
    "history1 = model1.fit(x=[encoder_input_train, decoder_input_train], y=decoder_target_train, \\\n",
    "          validation_data=([encoder_input_test, decoder_input_test], decoder_target_test), \\\n",
    "          batch_size=256, callbacks=[es], epochs=50)"
   ]
  },
  {
   "cell_type": "markdown",
   "id": "f511e555",
   "metadata": {},
   "source": [
    "### 모델 3의 learning curve 시각화\n",
    "- encoder의 recurrent dropout rate=0\n",
    "- decoder recurrent dropout rate=0\n",
    "- embedding_dim = 128,hidden_size = 256,dropout_rate=0.4 (모델1, 모델2와 동일)"
   ]
  },
  {
   "cell_type": "code",
   "execution_count": 126,
   "id": "a51ed73f",
   "metadata": {},
   "outputs": [
    {
     "data": {
      "image/png": "[encoded data removed]",
      "text/plain": [
       "<Figure size 432x288 with 1 Axes>"
      ]
     },
     "metadata": {
      "needs_background": "light"
     },
     "output_type": "display_data"
    }
   ],
   "source": [
    "plt.plot(history3.history['loss'], label='train')\n",
    "plt.plot(history3.history['val_loss'], label='test')\n",
    "plt.legend()\n",
    "plt.show()"
   ]
  },
  {
   "cell_type": "markdown",
   "id": "390dec66",
   "metadata": {},
   "source": [
    "\n",
    "--------------------------------------------\n",
    "\n",
    "### Step 4. 실제 결과와 요약문 비교하기 (추상적 요약)- 모델3\n",
    "원래의 요약문(headlines 열)과 학습을 통해 얻은 추상적 요약의 결과를 비교해보자"
   ]
  },
  {
   "cell_type": "code",
   "execution_count": 127,
   "id": "44a35491",
   "metadata": {},
   "outputs": [],
   "source": [
    "src_index_to_word = src_tokenizer.index_word # 원문 단어 집합에서 정수 -> 단어를 얻음\n",
    "tar_word_to_index = tar_tokenizer.word_index # 요약 단어 집합에서 단어 -> 정수를 얻음\n",
    "tar_index_to_word = tar_tokenizer.index_word # 요약 단어 집합에서 정수 -> 단어를 얻음\n"
   ]
  },
  {
   "cell_type": "code",
   "execution_count": 128,
   "id": "62b0d870",
   "metadata": {},
   "outputs": [],
   "source": [
    "# 인코더 설계\n",
    "encoder_model = Model(inputs=encoder_inputs, outputs=[encoder_outputs, state_h, state_c])\n",
    "\n",
    "# 이전 시점의 상태들을 저장하는 텐서\n",
    "decoder_state_input_h = Input(shape=(hidden_size,))\n",
    "decoder_state_input_c = Input(shape=(hidden_size,))\n",
    "\n",
    "dec_emb2 = dec_emb_layer(decoder_inputs)\n",
    "\n",
    "# 문장의 다음 단어를 예측하기 위해서 초기 상태(initial_state)를 이전 시점의 상태로 사용. 이는 뒤의 함수 decode_sequence()에 구현\n",
    "# 훈련 과정에서와 달리 LSTM의 리턴하는 은닉 상태와 셀 상태인 state_h와 state_c를 버리지 않음.\n",
    "decoder_outputs2, state_h2, state_c2 = decoder_lstm(dec_emb2, initial_state=[decoder_state_input_h, decoder_state_input_c])\n",
    "\n",
    "# 어텐션 함수\n",
    "decoder_hidden_state_input = Input(shape=(text_max_len, hidden_size))\n",
    "attn_out_inf = attn_layer([decoder_outputs2, decoder_hidden_state_input])\n",
    "decoder_inf_concat = Concatenate(axis=-1, name='concat')([decoder_outputs2, attn_out_inf])\n",
    "\n",
    "# 디코더의 출력층\n",
    "decoder_outputs2 = decoder_softmax_layer(decoder_inf_concat) \n",
    "\n",
    "# 최종 디코더 모델\n",
    "decoder_model = Model(\n",
    "    [decoder_inputs] + [decoder_hidden_state_input,decoder_state_input_h, decoder_state_input_c],\n",
    "    [decoder_outputs2] + [state_h2, state_c2])\n",
    "\n"
   ]
  },
  {
   "cell_type": "code",
   "execution_count": 129,
   "id": "2f4ce919",
   "metadata": {},
   "outputs": [],
   "source": [
    "def decode_sequence(input_seq):\n",
    "    # 입력으로부터 인코더의 상태를 얻음\n",
    "    e_out, e_h, e_c = encoder_model.predict(input_seq)\n",
    "\n",
    "     # <SOS>에 해당하는 토큰 생성\n",
    "    target_seq = np.zeros((1,1))\n",
    "    target_seq[0, 0] = tar_word_to_index['sostoken']\n",
    "\n",
    "    stop_condition = False\n",
    "    decoded_sentence = ''\n",
    "    while not stop_condition: # stop_condition이 True가 될 때까지 루프 반복\n",
    "\n",
    "        output_tokens, h, c = decoder_model.predict([target_seq] + [e_out, e_h, e_c])\n",
    "        sampled_token_index = np.argmax(output_tokens[0, -1, :])\n",
    "        sampled_token = tar_index_to_word[sampled_token_index]\n",
    "\n",
    "        if (sampled_token!='eostoken'):\n",
    "            decoded_sentence += ' '+sampled_token\n",
    "\n",
    "        #  <eos>에 도달하거나 최대 길이를 넘으면 중단.\n",
    "        if (sampled_token == 'eostoken'  or len(decoded_sentence.split()) >= (summary_max_len-1)):\n",
    "            stop_condition = True\n",
    "\n",
    "        # 길이가 1인 타겟 시퀀스를 업데이트\n",
    "        target_seq = np.zeros((1,1))\n",
    "        target_seq[0, 0] = sampled_token_index\n",
    "\n",
    "        # 상태를 업데이트 합니다.\n",
    "        e_h, e_c = h, c\n",
    "\n",
    "    return decoded_sentence"
   ]
  },
  {
   "cell_type": "code",
   "execution_count": 130,
   "id": "3af81800",
   "metadata": {},
   "outputs": [
    {
     "name": "stdout",
     "output_type": "stream",
     "text": [
      "=3\n"
     ]
    }
   ],
   "source": [
    "# 원문의 정수 시퀀스를 텍스트 시퀀스로 변환\n",
    "def seq2text(input_seq):\n",
    "    temp=''\n",
    "    for i in input_seq:\n",
    "        if (i!=0):\n",
    "            temp = temp + src_index_to_word[i]+' '\n",
    "    return temp\n",
    "\n",
    "# 요약문의 정수 시퀀스를 텍스트 시퀀스로 변환\n",
    "def seq2summary(input_seq):\n",
    "    temp=''\n",
    "    for i in input_seq:\n",
    "        if ((i!=0 and i!=tar_word_to_index['sostoken']) and i!=tar_word_to_index['eostoken']):\n",
    "            temp = temp + tar_index_to_word[i] + ' '\n",
    "    return temp\n",
    "\n",
    "print('=3')"
   ]
  },
  {
   "cell_type": "code",
   "execution_count": 133,
   "id": "93a54af9",
   "metadata": {
    "scrolled": false
   },
   "outputs": [
    {
     "name": "stdout",
     "output_type": "stream",
     "text": [
      "원문 : inquiry committee appointed jawaharlal nehru university upheld punishments recommended students umar khalid kanhaiya kumar connection event protesting afzal guru execution jnu panel recommended khalid imposing fine kanhaiya event anti national slogans allegedly raised \n",
      "실제 요약 : jnu panel upholds to umar khalid kanhaiya kumar \n",
      "예측 요약 :  jnu students not to be removed from jan\n",
      "\n",
      "\n",
      "원문 : former australian wicket keeper adam gilchrist tweeted indian batsman ms dhoni anything rules ground bat inside crease completing run gilchrist said reply person tweeted short run considered nd subsequent runs \n",
      "실제 요약 : it against the rules gilchrist on dhoni incomplete run \n",
      "예측 요약 :  dhoni reveals he was once asked to clean his own\n",
      "\n",
      "\n",
      "원문 : speaking incidents lynching country vice president venkaiah naidu said kill man call nationalist nationalism bharat mata ki jai wider meaning added societal behaviour change vice president said lynching linked political parties \n",
      "실제 요약 : those involved in lynching are not vice prez \n",
      "예측 요약 :  no one can be part of the vice prez naidu\n",
      "\n",
      "\n",
      "원문 : world bank ceo said understands cricket loving nation hitting century important milestone said india secured th rank world bank ease business report also credited india achievement per capita income reforms taken last years \n",
      "실제 요약 : hitting is huge in cricket loving nation world bank \n",
      "예측 요약 :  world bank has become world bank of world bank\n",
      "\n",
      "\n",
      "원문 : pakistani maestro ghulam ali scheduled perform temple varanasi next month third year row ali performed temple despite protests shiv sena performance likely part opening ceremony sangeet scheduled april \n",
      "실제 요약 : pak singer ali to perform at varanasi temple \n",
      "예측 요약 :  pak temple to be part of honour from airports\n",
      "\n",
      "\n",
      "원문 : chinese workers pakistan attacked policemen deployed security denied permission visit red light area without accompanied police said workers reportedly engaged construction workers later cut power supply police camp construction facility stopped work project \n",
      "실제 요약 : chinese workers attack pak cops over visit to red light area \n",
      "예측 요약 :  police to get security to avoid security forces\n",
      "\n",
      "\n",
      "원문 : aap leader kumar vishwas took twitter share video man speaking long english words wrote shashi tharoor brother lost kumbh festival found congratulations congress mp replied vishwas tweet hindi language saying better people becoming brothers talking alike \n",
      "실제 요약 : vishwas trolls tharoor over his english tharoor replies in hindi \n",
      "예측 요약 :  aap leader shares video of him dancing to aap\n",
      "\n",
      "\n",
      "원문 : united states america cricket association facing expulsion international cricket council sport global governing body revealed monday icc suspended board claimed body unity hold widespread authority country cricket activities \n",
      "실제 요약 : usa cricket body faces expulsion from icc \n",
      "예측 요약 :  icc rules out of icc for st time in tests\n",
      "\n",
      "\n",
      "원문 : three policemen kerala arrested allegedly torturing year old man wrongly arrested due mistaken identity victim arrested abetment suicide rioting april died hospital april autopsy revealed injuries victim body reports said \n",
      "실제 요약 : kerala policemen arrested for man in custody \n",
      "예측 요약 :  man held for killing of year old girl in delhi\n",
      "\n",
      "\n",
      "원문 : kerala based startup delhi based health global impact challenge going silicon valley us week incubator programme jointly organised kerala startup mission us based university challenge aimed identifying startups working solutions learning healthcare environment sectors \n",
      "실제 요약 : indian startups to go to us post startup challenge win \n",
      "예측 요약 :  kerala to get its first mobile phone\n",
      "\n",
      "\n",
      "원문 : neha dhupia revealed husband angad bedi proposed marriage four years ago turned proposal time already relationship added came back four years later said wasted four years life said either wife nothing \n",
      "실제 요약 : angad proposed to me yrs ago but turned it down neha \n",
      "예측 요약 :  marriage is not been the first time in years neha\n",
      "\n",
      "\n",
      "원문 : day state run oil marketing companies raised prices petrol diesel paise paise per litre respectively delhi diesel prices monday reached per litre delhi fresh record high petrol prices also rose per litre highest since september \n",
      "실제 요약 : petrol diesel prices hiked after days \n",
      "예측 요약 :  petrol price cut by litre diesel in up\n",
      "\n",
      "\n",
      "원문 : google developer blog monday said working device partners support display edge edge screens android limiting number two android phones one notch side allowed top bottom edges left right \n",
      "실제 요약 : google bans android phones from having more than \n",
      "예측 요약 :  google to launch android for android\n",
      "\n",
      "\n",
      "원문 : actor randeep hooda said high time society stops treating women pets need disciplined surprises even st century families suppress daughters said hooda added women right whatever want \n",
      "실제 요약 : society should not treat women as pets to be hooda \n",
      "예측 요약 :  women should not have been women in the world\n",
      "\n",
      "\n",
      "원문 : filmmaker choreographer farah khan reportedly sonam kapoor anand ahuja sangeet ceremony according reports sangeet rehearsals already begun anil kapoor juhu bungalow sonam cousins extended family reportedly perform actress hit songs whereas performing special act sangeet ceremony \n",
      "실제 요약 : farah khan to sonam kapoor sangeet report \n",
      "예측 요약 :  sonam to pay sangeet in her sangeet reports\n",
      "\n",
      "\n",
      "원문 : class student bihar got maths got paper updated results announced another student sanskrit marks increased another one got marks upgraded state board got papers failed year \n",
      "실제 요약 : bihar class student marks up from to after \n",
      "예측 요약 :  class student scores in bihar board exams\n",
      "\n",
      "\n",
      "원문 : sauce maker food services reportedly raised million funding led existing investor belgium based investment holding company manages billion assets across globe october food raised million series round fundraising saama capital \n",
      "실제 요약 : food services raises crore in funding \n",
      "예측 요약 :  food maker raises mn from softbank\n",
      "\n",
      "\n",
      "원문 : trailer priyanka chopra second hollywood film kid like jake released priyanka reportedly portray role single mother film premiered film festival directed howard also starring claire jim parsons spencer film scheduled release june \n",
      "실제 요약 : trailer of priyanka nd wood film kid like out \n",
      "예측 요약 :  trailer of priyanka starrer released\n",
      "\n",
      "\n",
      "원문 : apple ceo tim cook defended apple billion dollar deal google keep google search default apple devices said think search engine best tried come ways help users day added cook google reportedly paying billion remain safari default search engine \n",
      "실제 요약 : think google search engine is the best apple ceo tim cook \n",
      "예측 요약 :  apple ceo says google is not google ceo\n",
      "\n",
      "\n",
      "원문 : indian equity benchmarks registered biggest single day drop since october thursday ahead assembly election results amid global market sensex fell points broader nifty index dropped points indices dragged mainly finance auto realty stocks \n",
      "실제 요약 : sensex records worst day in nearly two months falls points \n",
      "예측 요약 :  sensex falls points points nifty ends\n",
      "\n",
      "\n",
      "원문 : dubai based indian driver million draw held abu dhabi international airport john hails kerala sharing money four friends buy ticket said use share invest children education help underprivileged \n",
      "실제 요약 : kerala man wins crore in abu dhabi lottery \n",
      "예측 요약 :  indian air force costliest gold worth crore\n",
      "\n",
      "\n",
      "원문 : indian pacer deepak chahar became rd player represent india one day internationals making debut afghanistan asia cup tuesday year old played ms dhoni ipl picked wickets become leading wicket taker india team tour england earlier year \n",
      "실제 요약 : who is deepak rd player to represent india in odis \n",
      "예측 요약 :  india named best cricketer of the year\n",
      "\n",
      "\n",
      "원문 : indian origin co founders bose dhruv kapoor commerce startup raised million series funding round led sequoia india principal investments singapore based startup funding round also saw participation existing investors founded ships fashion lifestyle products countries including indonesia vietnam korea \n",
      "실제 요약 : indian origin co founders startup raises mn \n",
      "예측 요약 :  indian origin startup raises mn from\n",
      "\n",
      "\n",
      "원문 : bharadwaj year old meerut bronze medal double trap event issf junior shotgun world cup italy sunday earlier shooters manisha combined win bronze medal mixed team trap event italy currently event three golds three bronze medal \n",
      "실제 요약 : yr old wins bronze for india at junior world cup \n",
      "예측 요약 :  indian men wins gold at world cup\n",
      "\n",
      "\n",
      "원문 : raees director rahul dholakia talking shah rukh khan occasion birthday friday said still hungry surprised trying different roles rahul added shah rukh biggest convincing range actor film industry \n",
      "실제 요약 : at shah rukh is still very hungry director \n",
      "예측 요약 :  have no actor on my father birthday srk\n",
      "\n",
      "\n",
      "원문 : abhishek kapoor director sara ali khan debut film kedarnath said beautiful bundle energy talking theme kedarnath said kedarnath love story course pilgrimage film also star actor sushant singh rajput lead role \n",
      "실제 요약 : sara is beautiful of energy kedarnath director \n",
      "예측 요약 :  saif ali khan to star in karan johar film\n",
      "\n",
      "\n",
      "원문 : ram gopal varma phone laptop seized hyderabad police ascertain link short film god sex truth interrogated case obscenity registered film stars american porn star mia investigation requires may arrested said additional dcp \n",
      "실제 요약 : rgv phone laptop seized over charges on film \n",
      "예측 요약 :  rgv files fir against rgv over his film on his film\n",
      "\n",
      "\n",
      "원문 : hunter shot dead year old son mistaking russia authorities said hunter fired rifle moving object poor visibility authorities added charged causing death negligence faces prison sentence two years \n",
      "실제 요약 : russian hunter shoots son dead after mistaking him for \n",
      "예측 요약 :  man kills wife shoots him for him to kill him\n",
      "\n",
      "\n",
      "원문 : malayalam news channel announced first day period leave female employees additional leave counted sick leave soon extended company online print ventures felt good practical practice adopt decision taken company said \n",
      "실제 요약 : malayalam news channel starts period leave for women workers \n",
      "예측 요약 :  to leave for the first time after months\n",
      "\n",
      "\n",
      "원문 : year old gangster arrested double murder case gang rivalry sought maharashtra control organised crime act court permission euthanasia gangster arrested suffered stroke affected right side body earlier posted bail lack proper treatment paralysis \n",
      "실제 요약 : year old gangster in mumbai jail seeks euthanasia \n",
      "예측 요약 :  man held for killing derogatory assault by cops\n",
      "\n",
      "\n",
      "원문 : actor ranbir kapoor revealed nicotine addict since age taken trips austria doctor gave injections ears help quit smoking first time said ranbir added think give \n",
      "실제 요약 : have been addict since the age of ranbir \n",
      "예측 요약 :  ranbir kapoor is an choice for ranbir kapoor\n",
      "\n",
      "\n",
      "원문 : addressing global investors summit guwahati saturday prime minister narendra modi said northeast heart india act east policy connecting southeast asia tagline meet advantage assam india expressway asean appropriate statement also comprehensive vision pm said \n",
      "실제 요약 : northeast at the heart of india act east policy pm modi \n",
      "예측 요약 :  pm modi to meet indian pm modi in africa\n",
      "\n",
      "\n",
      "원문 : iranian authorities arrested suspects connection wednesday twin terror attacks nation interior ministry said lots documents weaponry seized well ministry added islamic state claimed responsibility attacks suicide bombers gunmen attacked iranian parliament mausoleum islamic republic founder \n",
      "실제 요약 : iran arrests suspects over twin terror attacks \n",
      "예측 요약 :  us arrests isis al qaeda for attacks on drugs\n",
      "\n",
      "\n",
      "원문 : us based scientists developed thermal mechanical device convert heat emitted computers energy source reused power thermal worked temperatures approaching scientists expect work could allow computing ultra high temperatures make first ever thermal computer scientists said \n",
      "실제 요약 : device heat from computers to power them \n",
      "예측 요약 :  researchers use device to make power power for power\n",
      "\n",
      "\n",
      "원문 : indian cricket team captain virat kohli celebrated sri lankan wicketkeeper wicket bhangra dance first day second test friday got runs balls lifting ravindra jadeja delivery st towards mid ishant sharma took catch \n",
      "실제 요약 : kohli celebrates sri lankan wicket by doing bhangra \n",
      "예측 요약 :  kohli runs in sl for st time in odi series\n",
      "\n",
      "\n",
      "원문 : iran dropped two places become sixth biggest oil supplier india november according reuters india monthly oil imports persian gulf nation reportedly plunged lowest year india cut purchases due impact us sanctions iraq saudi arabia continued top two oil sellers india \n",
      "실제 요약 : iran falls to th biggest oil supplier to india in november report \n",
      "예측 요약 :  iran to cut oil imports to iran for st time\n",
      "\n",
      "\n",
      "원문 : former vice president hamid ansari said india responsible pakistan partition ready accept equally responsible added ansari said politics country changed someone made responsible partition everyone agreed blame muslims \n",
      "실제 요약 : india just as responsible for partition as pak ex vp ansari \n",
      "예측 요약 :  no one of india on pak prez on pak\n",
      "\n",
      "\n",
      "원문 : patidar leader hardik patel claimed bjp crore budget buy activists protesting government claiming gujarat farmers traders workers fed bjp rule patel said people cannot bought party comes patidar leader narendra patel claimed offered crore join bjp \n",
      "실제 요약 : bjp has budget of crore to buy activists hardik patel \n",
      "예측 요약 :  hardik patel to give cr to farmers in gujarat\n",
      "\n",
      "\n",
      "원문 : north korea vowed efforts increase strength safeguard latest round un sanctions got imposed nuclear ballistic missile programme describing sanctions evil illegal north korea said sanctions product heinous provocation aimed dprk legitimate right self defence \n",
      "실제 요약 : korea vows to strength in response to sanctions \n",
      "예측 요약 :  us sanctions against korea over korean sanctions\n",
      "\n",
      "\n",
      "원문 : yahoo launched group messaging app called squirrel ios android focussed friends family work groups users add members group invitation links create separate chat rooms specific people topics app testing mode also includes blasts feature ensure participants see important messages \n",
      "실제 요약 : yahoo launches invite only group messaging app squirrel \n",
      "예측 요약 :  app to launch app to support users in\n",
      "\n",
      "\n",
      "원문 : juvenile justice board wednesday ruled class xi ryan international school student accused murder seven year old pradyuman thakur tried adult case transferred district sessions court convicted student transferred correctional home jail years old \n",
      "실제 요약 : juvenile accused in ryan murder case to be treated as adult \n",
      "예측 요약 :  ryan murder accused of murder of yr old in ryan\n",
      "\n",
      "\n",
      "원문 : commenting comedy film housefull completing seven years release sunday filmmaker sajid khan said film shooting like paid holiday added want come back home even asked producer let us stay days film featured akshay kumar riteish deshmukh arjun rampal deepika padukone among others \n",
      "실제 요약 : housefull shoot was like paid holiday sajid on film yrs \n",
      "예측 요약 :  no one can play my film with my film director\n",
      "\n",
      "\n",
      "원문 : first day night test match hosted england went underway england west indies edgbaston thursday fifth day night test international cricket first feature england mark included england squad eve test became alastair cook th opening partner since andrew strauss retirement \n",
      "실제 요약 : first day night test to be hosted in england gets \n",
      "예측 요약 :  australia win st test test series after st ever test\n",
      "\n",
      "\n",
      "원문 : amid ongoing controversy founding father pakistan mohammad ali jinnah photo displayed aligarh muslim university uttar pradesh deputy cm keshav prasad maurya said jinnah enemy nation one nation ever ever place enemy hearts added \n",
      "실제 요약 : mohammad ali jinnah was enemy of the nation up deputy cm \n",
      "예측 요약 :  lord ram is not an muslims for lord krishna\n",
      "\n",
      "\n",
      "원문 : indian rupee wednesday touched month low us dollar closed rupee since start year concerns higher crude oil prices widen india current account deficit notably currency hit time intraday low november \n",
      "실제 요약 : rupee plunges to month low of against us dollar \n",
      "예측 요약 :  rupee rupee hits month low of in rupee\n",
      "\n",
      "\n",
      "원문 : cast members godfather film series reunited film festival first film th anniversary screening panel discussion film followed screening parts one two series actors robert de niro al robert james diane attended event \n",
      "실제 요약 : godfather cast reunites for its th anniversary screening \n",
      "예측 요약 :  new film festival to be held for upcoming film fest\n",
      "\n",
      "\n",
      "원문 : terry assistant director several james bond films left career ending injuries accident set sued crore damages camera truck crashed resulting multiple fractures tissue damage nerve damage accident february \n",
      "실제 요약 : crew member sues for cr over injury in james bond film \n",
      "예측 요약 :  actor actor once stole lakh crore\n",
      "\n",
      "\n",
      "원문 : secretive annual meeting world leaders ceos power brokers known group taking place us virginia closed door discussions four days group discuss war information growing slowed accused critics plotting impose one world government \n",
      "실제 요약 : group begin in us \n",
      "예측 요약 :  us opens its first ever us trade amid tensions\n",
      "\n",
      "\n",
      "원문 : us based startup working camera car shoots degree videos alerts users someone tries steal car camera lets users check cars via live stream phones also fitted detect movements would prompt send alerts owners \n",
      "실제 요약 : alerts user if someone tries to steal their car \n",
      "예측 요약 :  startup makes self driving car that can control users\n",
      "\n",
      "\n",
      "원문 : open letter people delhi deputy chief minister manish sisodia questioned unconstitutional illegal disqualify mlas pushing delhi polls dirty politics added unhappy disappointed comes aap mlas disqualified holding offices profit \n",
      "실제 요약 : disqualification of aap mlas dirty politics delhi dy cm \n",
      "예측 요약 :  no mlas in profit against up govt to mlas\n",
      "\n",
      "\n"
     ]
    }
   ],
   "source": [
    "for i in range(50, 100):\n",
    "    print(\"원문 :\", seq2text(encoder_input_test[i]))\n",
    "    print(\"실제 요약 :\", seq2summary(decoder_input_test[i]))\n",
    "    print(\"예측 요약 :\", decode_sequence(encoder_input_test[i].reshape(1, text_max_len)))\n",
    "    print(\"\\n\")"
   ]
  },
  {
   "cell_type": "markdown",
   "id": "4fc67a92",
   "metadata": {},
   "source": [
    "### 모델1,2,3은 다소 오버피팅이 발생하였지만,  학습곡선은 안정적으로 수렴했다.  그러나 실제 요약문과 유사한 요약문장을 얻을 수 없었다."
   ]
  },
  {
   "cell_type": "markdown",
   "id": "266d94bb",
   "metadata": {},
   "source": [
    "원문 : world bank ceo said understands cricket loving nation hitting century important milestone said india secured th rank world bank ease business report also credited india achievement per capita income reforms taken last years    \n",
    "\n",
    "실제 요약 : hitting is huge in cricket loving nation world bank    \n",
    "모델 1 예측 요약 :  world is the world biggest asset ceo   \n",
    "모델 2 예측 요약 :  we are the world bank of the world bank ceo   \n",
    "모델 3 예측 요약 :  world bank has become world bank of world bank\n",
    "\n"
   ]
  },
  {
   "cell_type": "markdown",
   "id": "a0992461",
   "metadata": {},
   "source": [
    "원문 : pakistani maestro ghulam ali scheduled perform temple varanasi next month third year row ali performed temple despite protests shiv sena performance likely part opening ceremony sangeet scheduled april    \n",
    "실제 요약 : pak singer ali to perform at varanasi temple    \n",
    "모델 1 예측 요약 :  pak army chief to be part of lord ram rahim   \n",
    "모델 2 예측 요약 :  pakistan releases its first ever national anthem   \n",
    "모델 3 예측 요약 :  pak temple to be part of honour from airports   "
   ]
  },
  {
   "cell_type": "markdown",
   "id": "25e4a6c5",
   "metadata": {},
   "source": [
    "원문 : chinese workers pakistan attacked policemen deployed security denied permission visit red light area without accompanied police said workers reportedly engaged construction workers later cut power supply police camp construction facility stopped work project    \n",
    "실제 요약 : chinese workers attack pak cops over visit to red light area    \n",
    "모델 1 예측 요약 :  chinese cops suspended for throwing stray dogs at border   \n",
    "모델 2 예측 요약 :  chinese cops get stuck in indian chopper in pakistan   \n",
    "모델 3 예측 요약 :  police to get security to avoid security forces   \n",
    "\n"
   ]
  },
  {
   "cell_type": "markdown",
   "id": "a63fc9a9",
   "metadata": {},
   "source": [
    "원문 : aap leader kumar vishwas took twitter share video man speaking long english words wrote shashi tharoor brother lost kumbh festival found congratulations congress mp replied vishwas tweet hindi language saying better people becoming brothers talking alike    \n",
    "실제 요약 : vishwas trolls tharoor over his english tharoor replies in hindi    \n",
    "모델 1 예측 요약 :  aap leader shares pic of aap leader on his birth   \n",
    "모델 2 예측 요약 :  aap mla slams aap leader for calling him flag   \n",
    "모델 3 예측 요약 :  aap leader shares video of him dancing to aap   \n",
    "\n"
   ]
  },
  {
   "cell_type": "markdown",
   "id": "70b35680",
   "metadata": {},
   "source": [
    "원문 : united states america cricket association facing expulsion international cricket council sport global governing body revealed monday icc suspended board claimed body unity hold widespread authority country cricket activities    \n",
    "실제 요약 : usa cricket body faces expulsion from icc    \n",
    "모델 1 예측 요약 :  icc criticises us cricketers over playing abuse   \n",
    "모델 2 예측 요약 :  icc to match fixing fixing offence in us   \n",
    "모델 3 예측 요약 :  icc rules out of icc for st time in tests   "
   ]
  },
  {
   "cell_type": "markdown",
   "id": "d2bc5178",
   "metadata": {},
   "source": [
    "### Step 5. Summa을 이용해서 추출적 요약해보기\n",
    "\n",
    "Summa의 summarize를 사용하여 추출적 요약을 해보자"
   ]
  },
  {
   "cell_type": "code",
   "execution_count": 143,
   "id": "ffd022be",
   "metadata": {},
   "outputs": [],
   "source": [
    "from summa.summarizer import summarize"
   ]
  },
  {
   "cell_type": "code",
   "execution_count": 171,
   "id": "bcbd4409",
   "metadata": {},
   "outputs": [
    {
     "name": "stdout",
     "output_type": "stream",
     "text": [
      "\n"
     ]
    }
   ],
   "source": [
    "text2=\"aap leader kumar vishwas took twitter share video man speaking long english words wrote shashi tharoor brother lost kumbh festival found congratulations congress mp replied vishwas tweet hindi language saying better people becoming brothers talking alike\"\n",
    "print(summarize(text2, ratio=0.6))"
   ]
  },
  {
   "cell_type": "code",
   "execution_count": 175,
   "id": "87a9b9d1",
   "metadata": {},
   "outputs": [
    {
     "name": "stdout",
     "output_type": "stream",
     "text": [
      "\n"
     ]
    }
   ],
   "source": [
    "text1=\"united states america cricket association facing expulsion international cricket council sport global governing body revealed monday icc suspended board claimed body unity hold widespread authority country cricket activities\"\n",
    "print(summarize(text1, ratio=0.6))"
   ]
  },
  {
   "cell_type": "code",
   "execution_count": 174,
   "id": "27c8776f",
   "metadata": {},
   "outputs": [
    {
     "name": "stdout",
     "output_type": "stream",
     "text": [
      "\n"
     ]
    }
   ],
   "source": [
    "text3=\"chinese workers pakistan attacked policemen deployed security denied permission visit red light area without accompanied police said workers reportedly engaged construction workers later cut power supply police camp construction facility stopped work project\"\n",
    "print(summarize(text3, ratio=0.6))"
   ]
  },
  {
   "cell_type": "code",
   "execution_count": 173,
   "id": "fdab2570",
   "metadata": {},
   "outputs": [
    {
     "name": "stdout",
     "output_type": "stream",
     "text": [
      "\n"
     ]
    }
   ],
   "source": [
    "text4=\"aap leader kumar vishwas took twitter share video man speaking long english words wrote shashi tharoor brother lost kumbh festival found congratulations congress mp replied vishwas tweet hindi language saying better people becoming brothers talking alike\"\n",
    "print(summarize(text4, ratio=0.6))"
   ]
  },
  {
   "cell_type": "markdown",
   "id": "7f15713b",
   "metadata": {},
   "source": [
    "추상적 요약을 한 문장과 추출적 요약을 한 문장을 비교하기 위해서 위의 문장을 그대로 추출적 요약을 하려고 했으나 추출적 요약이 되지 않았다."
   ]
  },
  {
   "cell_type": "markdown",
   "id": "d3f2596b",
   "metadata": {},
   "source": [
    "### 후기\n",
    "- 지난 네이버 영화리뷰를 사용한 감정분류의 경우는 LSTM을 사용해서 시퀀스 데이터로 하나의 결과물을 출력(긍정 or 부정)을 했다면 오늘은 시퀀스 데이터를 사용해서 시퀀스 데이터를 출력하는 결과물을 내는 과제였다. 모델 loss의 learning curve는 잘 줄어들었으나 실질적인 요약이 비례하게 요약 성능이 좋아졌다는 느낌을 받기 어려웠다.\n",
    "- recurrent dropout를 encoder와 decoder 모두 사용했던 모델 1의 loss가 가장 많이 줄어들어서 가장 좋은 성능을 보일 것이라 생각했지만 성능이 뛰어나다는 느낌을 받기는 어려웠다. 다만 성능이 개선되는 것이 다른 하이퍼 파라미터 hidden size와 임베딩 차원을 조절하는 것보다 크게 개선되는 것인지는 추가적인 실험이 필요하다는 생각이 들었다.\n",
    "- recurrent drop out은 모두 0으로 두고 dropout을 0.7로 늘려서 학습을 시도했었다. 성능이 전혀 개선 되지 않아서 불필요하다고 생각해서 모델을 코드에서 지웠지만 RNN에서는 drop out이 성능 개선에 도움이 되지 않는다는 것을 알게 되는 계기가 되었다."
   ]
  }
 ],
 "metadata": {
  "kernelspec": {
   "display_name": "Python 3 (ipykernel)",
   "language": "python",
   "name": "python3"
  },
  "language_info": {
   "codemirror_mode": {
    "name": "ipython",
    "version": 3
   },
   "file_extension": ".py",
   "mimetype": "text/x-python",
   "name": "python",
   "nbconvert_exporter": "python",
   "pygments_lexer": "ipython3",
   "version": "3.9.7"
  }
 },
 "nbformat": 4,
 "nbformat_minor": 5
}
