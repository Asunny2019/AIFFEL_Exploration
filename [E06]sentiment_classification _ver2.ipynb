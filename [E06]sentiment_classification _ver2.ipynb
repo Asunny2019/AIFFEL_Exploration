{
 "cells": [
  {
   "cell_type": "code",
   "execution_count": 1,
   "metadata": {},
   "outputs": [
    {
     "name": "stdout",
     "output_type": "stream",
     "text": [
      "Pretty printing has been turned OFF\n"
     ]
    }
   ],
   "source": [
    "import numpy as np\n",
    "import tensorflow as tf\n",
    "import pandas as pd\n",
    "import os\n",
    "\n",
    "%pprint\n",
    "pd.set_option(\"display.max_rows\",10)"
   ]
  },
  {
   "cell_type": "markdown",
   "metadata": {},
   "source": [
    "## 프로젝트: 네이버 영화리뷰 감상분석 도전"
   ]
  },
  {
   "cell_type": "markdown",
   "metadata": {},
   "source": [
    "### 1) 데이터 준비와 확인"
   ]
  },
  {
   "cell_type": "code",
   "execution_count": 2,
   "metadata": {
    "scrolled": true
   },
   "outputs": [
    {
     "data": {
      "text/html": [
       "<div>\n",
       "<style scoped>\n",
       "    .dataframe tbody tr th:only-of-type {\n",
       "        vertical-align: middle;\n",
       "    }\n",
       "\n",
       "    .dataframe tbody tr th {\n",
       "        vertical-align: top;\n",
       "    }\n",
       "\n",
       "    .dataframe thead th {\n",
       "        text-align: right;\n",
       "    }\n",
       "</style>\n",
       "<table border=\"1\" class=\"dataframe\">\n",
       "  <thead>\n",
       "    <tr style=\"text-align: right;\">\n",
       "      <th></th>\n",
       "      <th>id</th>\n",
       "      <th>document</th>\n",
       "      <th>label</th>\n",
       "    </tr>\n",
       "  </thead>\n",
       "  <tbody>\n",
       "    <tr>\n",
       "      <th>0</th>\n",
       "      <td>9976970</td>\n",
       "      <td>아 더빙.. 진짜 짜증나네요 목소리</td>\n",
       "      <td>0</td>\n",
       "    </tr>\n",
       "    <tr>\n",
       "      <th>1</th>\n",
       "      <td>3819312</td>\n",
       "      <td>흠...포스터보고 초딩영화줄....오버연기조차 가볍지 않구나</td>\n",
       "      <td>1</td>\n",
       "    </tr>\n",
       "    <tr>\n",
       "      <th>2</th>\n",
       "      <td>10265843</td>\n",
       "      <td>너무재밓었다그래서보는것을추천한다</td>\n",
       "      <td>0</td>\n",
       "    </tr>\n",
       "    <tr>\n",
       "      <th>3</th>\n",
       "      <td>9045019</td>\n",
       "      <td>교도소 이야기구먼 ..솔직히 재미는 없다..평점 조정</td>\n",
       "      <td>0</td>\n",
       "    </tr>\n",
       "    <tr>\n",
       "      <th>4</th>\n",
       "      <td>6483659</td>\n",
       "      <td>사이몬페그의 익살스런 연기가 돋보였던 영화!스파이더맨에서 늙어보이기만 했던 커스틴 ...</td>\n",
       "      <td>1</td>\n",
       "    </tr>\n",
       "  </tbody>\n",
       "</table>\n",
       "</div>"
      ],
      "text/plain": [
       "         id                                           document  label\n",
       "0   9976970                                아 더빙.. 진짜 짜증나네요 목소리      0\n",
       "1   3819312                  흠...포스터보고 초딩영화줄....오버연기조차 가볍지 않구나      1\n",
       "2  10265843                                  너무재밓었다그래서보는것을추천한다      0\n",
       "3   9045019                      교도소 이야기구먼 ..솔직히 재미는 없다..평점 조정      0\n",
       "4   6483659  사이몬페그의 익살스런 연기가 돋보였던 영화!스파이더맨에서 늙어보이기만 했던 커스틴 ...      1"
      ]
     },
     "execution_count": 2,
     "metadata": {},
     "output_type": "execute_result"
    }
   ],
   "source": [
    "# 데이터를 읽어봅시다. \n",
    "train_data = pd.read_table('~/aiffel/sentiment_classification/data/ratings_train.txt')\n",
    "test_data = pd.read_table('~/aiffel/sentiment_classification/data/ratings_test.txt')\n",
    "\n",
    "train_data.head()"
   ]
  },
  {
   "cell_type": "markdown",
   "metadata": {},
   "source": [
    "### 2) 데이터로더 구성\n",
    "\n",
    "2-1) 데이터의 중복 제거 & NaN 결측치 제거   \n",
    "2-2)  한국어 토크나이저로 토큰화 & 불용어(Stopwords) 제거   \n",
    "2-3) 사전word_to_index 구성 & 텍스트 스트링을 사전 인덱스 스트링으로 변환해서 X_train, y_train, X_test, y_test, word_to_index 리턴"
   ]
  },
  {
   "cell_type": "markdown",
   "metadata": {},
   "source": [
    "### 2-1). 데이터의 중복 제거 & NaN 결측치 제거\n",
    "\n",
    "- 인터넷 리뷰를 간단하게 적다보니 한단어 혹은 한문장으로 리뷰를 표현(굿,good, 쓰레기 등)하는 경우 중복되기가 쉽다. 실제로 4949개의 데이터가 중복되었다. 이렇게 __중복되는 문장을 pandas의 drop_duplicates를 사용해서 없애준다__.(기억하면 좋을 함수..)\n",
    "- document가 결측치인 데이터도 5건 존재한다. 이것도 삭제해준다."
   ]
  },
  {
   "cell_type": "code",
   "execution_count": 3,
   "metadata": {
    "scrolled": false
   },
   "outputs": [
    {
     "name": "stdout",
     "output_type": "stream",
     "text": [
      "(150000, 3)\n",
      "document    4949\n",
      "dtype: int64\n"
     ]
    },
    {
     "data": {
      "text/html": [
       "<div>\n",
       "<style scoped>\n",
       "    .dataframe tbody tr th:only-of-type {\n",
       "        vertical-align: middle;\n",
       "    }\n",
       "\n",
       "    .dataframe tbody tr th {\n",
       "        vertical-align: top;\n",
       "    }\n",
       "\n",
       "    .dataframe thead th {\n",
       "        text-align: right;\n",
       "    }\n",
       "</style>\n",
       "<table border=\"1\" class=\"dataframe\">\n",
       "  <thead>\n",
       "    <tr style=\"text-align: right;\">\n",
       "      <th></th>\n",
       "      <th>document</th>\n",
       "    </tr>\n",
       "  </thead>\n",
       "  <tbody>\n",
       "    <tr>\n",
       "      <th>굿</th>\n",
       "      <td>181</td>\n",
       "    </tr>\n",
       "    <tr>\n",
       "      <th>good</th>\n",
       "      <td>92</td>\n",
       "    </tr>\n",
       "    <tr>\n",
       "      <th>최고</th>\n",
       "      <td>85</td>\n",
       "    </tr>\n",
       "    <tr>\n",
       "      <th>쓰레기</th>\n",
       "      <td>79</td>\n",
       "    </tr>\n",
       "  </tbody>\n",
       "</table>\n",
       "</div>"
      ],
      "text/plain": [
       "      document\n",
       "굿          181\n",
       "good        92\n",
       "최고          85\n",
       "쓰레기         79"
      ]
     },
     "execution_count": 3,
     "metadata": {},
     "output_type": "execute_result"
    }
   ],
   "source": [
    "print(train_data.shape)\n",
    "double=pd.DataFrame(train_data[\"document\"].value_counts())\n",
    "print(double.loc[double[\"document\"]>1].sum())\n",
    "double.loc[double[\"document\"]>1].head(4) "
   ]
  },
  {
   "cell_type": "code",
   "execution_count": 4,
   "metadata": {
    "scrolled": false
   },
   "outputs": [
    {
     "data": {
      "text/html": [
       "<div>\n",
       "<style scoped>\n",
       "    .dataframe tbody tr th:only-of-type {\n",
       "        vertical-align: middle;\n",
       "    }\n",
       "\n",
       "    .dataframe tbody tr th {\n",
       "        vertical-align: top;\n",
       "    }\n",
       "\n",
       "    .dataframe thead th {\n",
       "        text-align: right;\n",
       "    }\n",
       "</style>\n",
       "<table border=\"1\" class=\"dataframe\">\n",
       "  <thead>\n",
       "    <tr style=\"text-align: right;\">\n",
       "      <th></th>\n",
       "      <th>id</th>\n",
       "      <th>document</th>\n",
       "      <th>label</th>\n",
       "    </tr>\n",
       "  </thead>\n",
       "  <tbody>\n",
       "    <tr>\n",
       "      <th>25857</th>\n",
       "      <td>2172111</td>\n",
       "      <td>NaN</td>\n",
       "      <td>1</td>\n",
       "    </tr>\n",
       "    <tr>\n",
       "      <th>55737</th>\n",
       "      <td>6369843</td>\n",
       "      <td>NaN</td>\n",
       "      <td>1</td>\n",
       "    </tr>\n",
       "    <tr>\n",
       "      <th>110014</th>\n",
       "      <td>1034280</td>\n",
       "      <td>NaN</td>\n",
       "      <td>0</td>\n",
       "    </tr>\n",
       "    <tr>\n",
       "      <th>126782</th>\n",
       "      <td>5942978</td>\n",
       "      <td>NaN</td>\n",
       "      <td>0</td>\n",
       "    </tr>\n",
       "    <tr>\n",
       "      <th>140721</th>\n",
       "      <td>1034283</td>\n",
       "      <td>NaN</td>\n",
       "      <td>0</td>\n",
       "    </tr>\n",
       "  </tbody>\n",
       "</table>\n",
       "</div>"
      ],
      "text/plain": [
       "             id document  label\n",
       "25857   2172111      NaN      1\n",
       "55737   6369843      NaN      1\n",
       "110014  1034280      NaN      0\n",
       "126782  5942978      NaN      0\n",
       "140721  1034283      NaN      0"
      ]
     },
     "execution_count": 4,
     "metadata": {},
     "output_type": "execute_result"
    }
   ],
   "source": [
    "train_data.loc[train_data[\"document\"].isna()] # label이 결측치인 경우는 없었다."
   ]
  },
  {
   "cell_type": "code",
   "execution_count": 5,
   "metadata": {},
   "outputs": [],
   "source": [
    "train_data.drop_duplicates(subset=['document'], inplace=True) # 훈련데이터의 중복되는 document 삭제\n",
    "train_data = train_data.dropna(how = 'any')                   # 데이터 중에서 하나라도 결측치가 있으면 row 방향으로 데이터 삭제\n",
    "test_data.drop_duplicates(subset=['document'], inplace=True) # 테스트 데이터의 중복되는 document 삭제\n",
    "test_data = test_data.dropna(how = 'any')                    # 데이터 중에서 하나라도 결측치가 있으면 row 방향으로 데이터 삭제"
   ]
  },
  {
   "cell_type": "code",
   "execution_count": 6,
   "metadata": {},
   "outputs": [
    {
     "data": {
      "text/html": [
       "<div>\n",
       "<style scoped>\n",
       "    .dataframe tbody tr th:only-of-type {\n",
       "        vertical-align: middle;\n",
       "    }\n",
       "\n",
       "    .dataframe tbody tr th {\n",
       "        vertical-align: top;\n",
       "    }\n",
       "\n",
       "    .dataframe thead th {\n",
       "        text-align: right;\n",
       "    }\n",
       "</style>\n",
       "<table border=\"1\" class=\"dataframe\">\n",
       "  <thead>\n",
       "    <tr style=\"text-align: right;\">\n",
       "      <th></th>\n",
       "      <th>id</th>\n",
       "      <th>document</th>\n",
       "      <th>label</th>\n",
       "    </tr>\n",
       "  </thead>\n",
       "  <tbody>\n",
       "    <tr>\n",
       "      <th>0</th>\n",
       "      <td>9976970</td>\n",
       "      <td>아 더빙.. 진짜 짜증나네요 목소리</td>\n",
       "      <td>0</td>\n",
       "    </tr>\n",
       "    <tr>\n",
       "      <th>1</th>\n",
       "      <td>3819312</td>\n",
       "      <td>흠...포스터보고 초딩영화줄....오버연기조차 가볍지 않구나</td>\n",
       "      <td>1</td>\n",
       "    </tr>\n",
       "    <tr>\n",
       "      <th>2</th>\n",
       "      <td>10265843</td>\n",
       "      <td>너무재밓었다그래서보는것을추천한다</td>\n",
       "      <td>0</td>\n",
       "    </tr>\n",
       "    <tr>\n",
       "      <th>3</th>\n",
       "      <td>9045019</td>\n",
       "      <td>교도소 이야기구먼 ..솔직히 재미는 없다..평점 조정</td>\n",
       "      <td>0</td>\n",
       "    </tr>\n",
       "    <tr>\n",
       "      <th>4</th>\n",
       "      <td>6483659</td>\n",
       "      <td>사이몬페그의 익살스런 연기가 돋보였던 영화!스파이더맨에서 늙어보이기만 했던 커스틴 ...</td>\n",
       "      <td>1</td>\n",
       "    </tr>\n",
       "  </tbody>\n",
       "</table>\n",
       "</div>"
      ],
      "text/plain": [
       "         id                                           document  label\n",
       "0   9976970                                아 더빙.. 진짜 짜증나네요 목소리      0\n",
       "1   3819312                  흠...포스터보고 초딩영화줄....오버연기조차 가볍지 않구나      1\n",
       "2  10265843                                  너무재밓었다그래서보는것을추천한다      0\n",
       "3   9045019                      교도소 이야기구먼 ..솔직히 재미는 없다..평점 조정      0\n",
       "4   6483659  사이몬페그의 익살스런 연기가 돋보였던 영화!스파이더맨에서 늙어보이기만 했던 커스틴 ...      1"
      ]
     },
     "execution_count": 6,
     "metadata": {},
     "output_type": "execute_result"
    }
   ],
   "source": [
    "train_data.head()"
   ]
  },
  {
   "cell_type": "markdown",
   "metadata": {},
   "source": [
    "### 2-2). 한국어 토크나이저로 토큰화 & 불용어(Stopwords) 제거"
   ]
  },
  {
   "cell_type": "code",
   "execution_count": 7,
   "metadata": {},
   "outputs": [],
   "source": [
    "from konlpy.tag import Mecab\n",
    "\n",
    "tokenizer = Mecab()\n",
    "stopwords = ['을', '한테', '이다' ,'의','가','이','은','들','는','좀','잘','걍','과','도','를','으로','자','에','와','한','하다'] # 불용어 제거\n",
    "# stopwords \"을\", 한테, \"이다\" 추가\n",
    "\n",
    "\n",
    "X_train = []\n",
    "for sentence in train_data['document']:\n",
    "    temp_X = tokenizer.morphs(sentence) # 토큰화\n",
    "    temp_X = [word for word in temp_X if not word in stopwords] # 불용어 제거\n",
    "    X_train.append(temp_X)\n",
    "\n",
    "X_test = []\n",
    "for sentence in test_data['document']:\n",
    "    temp_X = tokenizer.morphs(sentence) # 토큰화\n",
    "    temp_X = [word for word in temp_X if not word in stopwords] # 불용어 제거\n",
    "    X_test.append(temp_X)\n",
    "    \n"
   ]
  },
  {
   "cell_type": "markdown",
   "metadata": {},
   "source": [
    "- konlpy 라이브러리의 Mecab()의 morphs 메소드는 문장을 형태소 단위(의미를 가지는 요소로서는 더 이상 분석할 수 없는 가장 작은 말의 단위)로 잘라낸다. \n",
    "- 형태소 단위로 자른 단어들 중에서 리스트 stopwords에 포함이 안된 단어만 temp_X에 넣어준다. (만일 포함되어있다면 제외)"
   ]
  },
  {
   "cell_type": "code",
   "execution_count": 8,
   "metadata": {
    "scrolled": true
   },
   "outputs": [
    {
     "name": "stdout",
     "output_type": "stream",
     "text": [
      "보는내내 그대로 들어맞는 예측 카리스마 없는 악역\n",
      "Mecab()의 morphs 메소드 적용 후: ['보', '는', '내내', '그대로', '들어맞', '는', '예측', '카리스마', '없', '는', '악역']\n",
      "불용어 제거 : ['보', '내내', '그대로', '들어맞', '예측', '카리스마', '없', '악역']\n"
     ]
    }
   ],
   "source": [
    "idx=60\n",
    "print(train_data[\"document\"][idx])\n",
    "temp_X=Mecab().morphs(train_data[\"document\"][idx])\n",
    "print(\"Mecab()의 morphs 메소드 적용 후:\",temp_X)\n",
    "temp_X=[word for word in temp_X if not word in stopwords]\n",
    "print(\"불용어 제거 :\",temp_X)"
   ]
  },
  {
   "cell_type": "markdown",
   "metadata": {},
   "source": [
    "- 불용어를 제거한 후에 조사 '는'이 모두 삭제된 것을 볼수 있다.  \n",
    "- 코드의 stopwords의 리스트['의','가','이','은','들','는','좀','잘','걍','과','도','를','으로','자','에','와','한','하다']에는 주로 조사가 적혀있다. 그래서 [수능 문법의 품사편](https://edu.ingang.go.kr)을 찾아보니까 __'을', '한테', '이다'__ 가 불용어에 추가 되면 좋을 것 같다. \n",
    "\n",
    "### 단어 빈도수 EDA 및 불용어 찾기"
   ]
  },
  {
   "cell_type": "code",
   "execution_count": 9,
   "metadata": {},
   "outputs": [],
   "source": [
    "from collections import Counter\n",
    "words=[]\n",
    "for i in X_train+X_test: # X_train과 X_test의 각 문장에 있는 단어들을\n",
    "    words.extend(i)      # words 리스트에 다 담는다.\n",
    "counting_words=Counter(words)   # 각 단어가 몇개씩 있는지 카운트해서 \n",
    "                                # 딕셔너리 형태로 counting_words에 담아둔다 \n",
    "                                # 단어: 단어수 "
   ]
  },
  {
   "cell_type": "code",
   "execution_count": 10,
   "metadata": {},
   "outputs": [],
   "source": [
    "freq=[i for i in counting_words.values()]"
   ]
  },
  {
   "cell_type": "code",
   "execution_count": 11,
   "metadata": {},
   "outputs": [
    {
     "data": {
      "image/png": "[encoded data removed]",
      "text/plain": [
       "<Figure size 432x288 with 1 Axes>"
      ]
     },
     "metadata": {
      "needs_background": "light"
     },
     "output_type": "display_data"
    }
   ],
   "source": [
    "import seaborn as sns\n",
    "import matplotlib.pyplot as plt\n",
    "\n",
    "sns.kdeplot(freq)\n",
    "plt.xscale(\"log\")\n",
    "plt.xlabel(\"frequency\")\n",
    "plt.show()"
   ]
  },
  {
   "cell_type": "markdown",
   "metadata": {},
   "source": [
    "단어의 빈도수에 대해서 kdeplot을 그려보았다. x축을 log 스케일로 두고 그렸음에도 불구하고  $10^{4}$ 이후로 매우 긴 꼬리가 있음을 알수 있다. 네이버 영화리뷰에서 매우 많이 쓰여진 적은 수의 단어가 있음을 의미한다. [텍스트 마이닝을 위한 한국어 불용어 목록 연구](https://www.kci.go.kr/kciportal/landing/article.kci?arti_id=ART002390885#none) p.15에서 \"불용어 선정을 위해 먼저 대규모의 말뭉치에서 빈도수가 높은 어휘를 선정할 필요가 있다\"는 말에 조언을 얻어서 빈도수가 높은 단어를 한번 체크해볼 필요가 있다고 느껴져서 단어빈도수 분포를 그려보았다.. 긴꼬리에 해당하는 (사용 빈도수가 만번을 넘어가는) 단어를 체크해보자"
   ]
  },
  {
   "cell_type": "code",
   "execution_count": 12,
   "metadata": {},
   "outputs": [],
   "source": [
    "import operator\n",
    "\n",
    "words=sorted(counting_words.items(),key=operator.itemgetter(1),reverse=True)\n",
    "# 단어수를 기준으로 내림차순으로 정렬했다."
   ]
  },
  {
   "cell_type": "code",
   "execution_count": 13,
   "metadata": {
    "scrolled": true
   },
   "outputs": [
    {
     "name": "stdout",
     "output_type": "stream",
     "text": [
      "61529\n"
     ]
    },
    {
     "data": {
      "text/plain": [
       "[('.', 212367), ('영화', 76907), ('다', 73538), ('고', 62860), ('하', 59283), ('보', 34147), ('..', 30360), ('게', 29753), (',', 29567), ('!', 25686), ('지', 25476), ('있', 22231), ('없', 21199), ('?', 20478), ('좋', 18238), ('나', 16996), ('었', 16251), ('만', 15598), ('는데', 15445), ('너무', 14691), ('봤', 13735), ('안', 13517), ('적', 13493), ('정말', 12997), ('로', 12929), ('음', 12486), ('것', 12393), ('아', 12092), ('네요', 11943), ('재밌', 11732), ('어', 11640), ('같', 11476), ('점', 11458), ('진짜', 11235), ('지만', 11163), ('했', 10883), ('에서', 10756), ('기', 10728), ('네', 10420), ('않', 10279), ('거', 10264), ('았', 10190), ('수', 10002), ('되', 9952), ('면', 9732), ('ㅋㅋ', 9509), ('연기', 9173), ('말', 9144), ('인', 9063), ('주', 8817), ('최고', 8470), ('평점', 8453), ('내', 8427), ('~', 8383), ('이런', 7963), ('던', 7881), ('어요', 7688), ('왜', 7387), ('할', 7362), ('겠', 7266)]"
      ]
     },
     "execution_count": 13,
     "metadata": {},
     "output_type": "execute_result"
    }
   ],
   "source": [
    "print(len(words))\n",
    "words[:60]"
   ]
  },
  {
   "cell_type": "markdown",
   "metadata": {},
   "source": [
    "#### 불용어 & 전처리에 필요한 것들...\n",
    "\n",
    "빈도수가 높은 단어 순위 50위까지 뽑아보았다. 상위 50개의 단어를 뽑으니까 가장 많은 단어 '.'는 212367개이고, 60위 단어인 \"할\"은 총 7362개가 있다. 등수가 조금만 낮아져도 단어 사용 빈도수가 빠르게 감소한다. 단어 사용수가 많은 단어의 종류를 굳이 부류해보자면  \n",
    "1. \"영화\", \"연기\",\"평점\": 영화리뷰와 관련된 단어\n",
    "2. '.' ,',,', '!', \"?\" 등: 문장부호\n",
    "3. \"다\", \"고\", \"을\", \"봤\", \"좋\" 등: 한 글자로 이루어진 단어 \n",
    "4. \"ㅋㅋ\": 웃음을 드러내는 약어, 예를들어 'ㅎㅎ'도 비슷한 단어일것 같다.\n",
    "5. \"너무\", \"정말\",\"진짜\",\"재밌\",\"최고\": 수식언(영문법의 부사, 형용사)\n",
    "6. \"지만\", \"어요\",\"이런\",\"에서\",\"것\": 불용어\n",
    "\n",
    "- 1번: 종류의 단어는 많이 사용되는게 필연적이고 빠져서도 안될 것 같다.   \n",
    "- 2번: 문장부호도 많이 들어가는게 당연하지만 지금은 감정분석이기 때문에 전처리할때 삭제하는것도 고려해볼 필요가 있을 것 같다. \n",
    "- 3번: 한 글자로 이루어진 단어 중에서 '다', '고',\"하\" 등은 형태소를 나누고 남은 의미없는 단어같다. 반면에 \"좋\",  성능이 안나올때 빼고 모델을 돌려보는 것을 고려해볼 필요가 있겠다.\n",
    "- 4번: \"ㅋㅋ\"는 사람들이 손쉽게 자신의 웃음을 드러낼때 쓰는 표시이다. 감정분류에 사용하면 나쁘지 않을 것 같다. 하지만 ㅋ의 개수가 많아져도 웃는다는 표시인 것은 맞을텐데  \"ㅋㅋㅋㅋㅋㅋㅋ\"와 \"ㅋㅋ\"를 다른 단어로 볼것 같다. 그대로 쓸지 아예 \"ㅋㅋ\", \"ㅎㅎ\" 를 삭제할지 아니면, 모든 \"ㅋ+\", \"ㅎ+\"들을 한개의 ㅋ와 ㅎ로 바꿀 것인지 생각해봐야겠다.\n",
    "- 5번: 자신의 감정을 더 드러내는 용도로 쓰는 단어이기 때문에 지금처럼 유지되어야 할 단어로 보인다.\n",
    "\n",
    "가장 간단하게 모델을 만들어보고 여기에서 적은 몇가지 전처리에 필요하다고 생각되는 것들을 하나씩 전처리를 코드를 추가해서 돌려봐야겠다. "
   ]
  },
  {
   "cell_type": "code",
   "execution_count": 14,
   "metadata": {},
   "outputs": [
    {
     "name": "stdout",
     "output_type": "stream",
     "text": [
      "['아', '더', '빙', '.', '.', '진짜', '짜증', '나', '네요', '목소리']\n"
     ]
    }
   ],
   "source": [
    "print(X_train[0]) # X_train리스트의 0번째 인덱스\n",
    "words = np.concatenate(X_train).tolist() "
   ]
  },
  {
   "cell_type": "code",
   "execution_count": 15,
   "metadata": {},
   "outputs": [
    {
     "data": {
      "text/plain": [
       "['아', '더', '빙', '.', '.', '진짜', '짜증', '나', '네요', '목소리', '흠', '.', '..', '포스터', '보고']"
      ]
     },
     "execution_count": 15,
     "metadata": {},
     "output_type": "execute_result"
    }
   ],
   "source": [
    "words[:15] # words는 X_train의 모든 문장의 단어를 하나의 리스트 안에 넣었다."
   ]
  },
  {
   "cell_type": "markdown",
   "metadata": {},
   "source": [
    "### 2-3) 사전word_to_index 구성 & 텍스트 스트링을 사전 인덱스 스트링으로 변환해서 X_train, y_train, X_test, y_test, word_to_index 리턴"
   ]
  },
  {
   "cell_type": "code",
   "execution_count": 16,
   "metadata": {},
   "outputs": [],
   "source": [
    "counter = Counter(words) \n",
    "counter = counter.most_common(10000-4) # words 리스트 안의 단어들 중에서 \n",
    "                                       # 빈도수가 가장 많은 상위 9996개의 단어만 가져온다. \n",
    "\n",
    "vocab = [\"<PAD>\", \"<BOS>\", \"<UNK>\", \"<UNUSED>\"] + [key for key, _ in counter]  # 앞의 4자리에 special token을 넣어준다. \n",
    "\n",
    "word_to_index = {word:index for index, word in enumerate(vocab)}  # vocab에 있는 단어들로 단어사전을 만든다. \n",
    "                                                                  # 단어가 key, 빈도수 순위가 value가 된다.\n",
    "        \n",
    "def wordlist_to_indexlist(wordlist): # 단어들이 포함된 wordlist를 입력하면 \n",
    "    return [word_to_index[word] if word in word_to_index else word_to_index[\"<UNK>\"] for word in wordlist] \n",
    "\n",
    "            # word_to_index 딕셔너리의 key 안에 word(wordlist 안에 포함된 단어)가 있다면 word_to_index 안의 단어가 들어감\n",
    "            # word_to_index 딕셔너리의 key 안에 word가 없다면  word_to_index의 key\" \"(space bar)의 value인 3이 입력된다.\n",
    "        \n",
    "X_train = list(map(wordlist_to_indexlist, X_train)) # X_train의 안쪽 리스트에 wordlist_to_indexlist 함수를 적용한다.\n",
    "X_test = list(map(wordlist_to_indexlist, X_test))   # X_test의 안쪽 리스트에 wordlist_to_indexlist 함수를 적용한다.\n"
   ]
  },
  {
   "cell_type": "markdown",
   "metadata": {},
   "source": [
    "#### 2)데이터로더 구성 1,2,3을 모두 거치면 X_train이 다음과 같은 리스트가 된다."
   ]
  },
  {
   "cell_type": "code",
   "execution_count": 17,
   "metadata": {},
   "outputs": [
    {
     "data": {
      "text/plain": [
       "[31, 73, 917, 4, 4, 38, 227, 19, 32, 746]"
      ]
     },
     "execution_count": 17,
     "metadata": {},
     "output_type": "execute_result"
    }
   ],
   "source": [
    "X_train[0]  # 위의 과정을 모두 합치면 "
   ]
  },
  {
   "cell_type": "markdown",
   "metadata": {},
   "source": [
    "2) 데이터로더의 구성을 모두 합치면 다음과 같다. "
   ]
  },
  {
   "cell_type": "code",
   "execution_count": 18,
   "metadata": {},
   "outputs": [],
   "source": [
    "train_data = pd.read_table('~/aiffel/sentiment_classification/data/ratings_train.txt')\n",
    "test_data = pd.read_table('~/aiffel/sentiment_classification/data/ratings_test.txt')"
   ]
  },
  {
   "cell_type": "code",
   "execution_count": 19,
   "metadata": {},
   "outputs": [],
   "source": [
    "import re\n",
    "# 여러개의 ㅋ를 하나의 ㅋ로 바꿉니다.\n",
    "def k(x):\n",
    "    return re.sub(r'[\"ㅋ\"]+', \"ㅋ\", str(x)) \n",
    "def h(x):\n",
    "    return re.sub(r'[\"ㅎ\"]+', \"ㅎ\", str(x)) "
   ]
  },
  {
   "cell_type": "code",
   "execution_count": 20,
   "metadata": {},
   "outputs": [],
   "source": [
    "\n",
    "tokenizer = Mecab()\n",
    "stopwords = ['의','가','이','은','들','는','좀','잘','걍','과','도','를','으로','자','에','와','한','하다','을', '한테', '이다']\n",
    "# stopwords에 '을', '한테', '이다' 추가\n",
    "\n",
    "def load_data(train_data, test_data, num_words=10000):\n",
    "    train_data.drop_duplicates(subset=['document'], inplace=True)  #중복 데이터 제거\n",
    "    train_data = train_data.dropna(how = 'any')   # 결측치 제거\n",
    "    test_data.drop_duplicates(subset=['document'], inplace=True)\n",
    "    test_data = test_data.dropna(how = 'any') \n",
    "    train_data[\"document\"]=train_data[\"document\"].map(lambda x: k(x))\n",
    "    test_data[\"document\"]=test_data[\"document\"].map(lambda x: k(x))\n",
    "    train_data[\"document\"]=train_data[\"document\"].map(lambda x: h(x))\n",
    "    test_data[\"document\"]=test_data[\"document\"].map(lambda x: h(x))\n",
    "    \n",
    "    X_train = []\n",
    "    for sentence in train_data['document']:\n",
    "        temp_X = tokenizer.morphs(sentence) # 토큰화\n",
    "        temp_X = [word for word in temp_X if not word in stopwords] # 불용어 제거\n",
    "        X_train.append(temp_X)\n",
    "\n",
    "    X_test = []\n",
    "    for sentence in test_data['document']:\n",
    "        temp_X = tokenizer.morphs(sentence) # 토큰화\n",
    "        temp_X = [word for word in temp_X if not word in stopwords] # 불용어 제거\n",
    "        X_test.append(temp_X)\n",
    "    \n",
    "    words = np.concatenate(X_train).tolist()   # X_train 문장의 모든 단어들을 모은다.\n",
    "    counter = Counter(words)                \n",
    "    counter = counter.most_common(10000-4) # 최다 빈도 단어 9996개를 가져온다. \n",
    "                                           # 단어사전의 크기를 10000개로 하겠다는 뜻이다.\n",
    "                                           # 앞의 0~3까지는 \n",
    "    \n",
    "    vocab = [\"<PAD>\", \"<BOS>\", \"<UNK>\", \"<UNUSED>\"] + [key for key, _ in counter] # 토큰화한 단어들을  \n",
    "    word_to_index = {word:index for index, word in enumerate(vocab)}   # 단어사전을 만든다.\n",
    "        \n",
    "    def wordlist_to_indexlist(wordlist):\n",
    "        return [word_to_index[\"<BOS>\"]]+[word_to_index[word] if word in word_to_index else word_to_index[\"<UNK>\"] for word in wordlist]\n",
    "        \n",
    "    X_train = list(map(wordlist_to_indexlist, X_train))\n",
    "    X_test = list(map(wordlist_to_indexlist, X_test))\n",
    "        \n",
    "    return X_train, np.array(list(train_data['label'])), X_test, np.array(list(test_data['label'])), word_to_index\n",
    "    \n",
    "X_train, y_train, X_test, y_test, word_to_index = load_data(train_data, test_data) "
   ]
  },
  {
   "cell_type": "code",
   "execution_count": 21,
   "metadata": {},
   "outputs": [
    {
     "data": {
      "text/plain": [
       "[1, 32, 74, 919, 4, 4, 39, 228, 20, 33, 748]"
      ]
     },
     "execution_count": 21,
     "metadata": {},
     "output_type": "execute_result"
    }
   ],
   "source": [
    "X_train[0]# 숫자 벡터가 되었다."
   ]
  },
  {
   "cell_type": "code",
   "execution_count": 22,
   "metadata": {},
   "outputs": [],
   "source": [
    "index_to_word = {index:word for word, index in word_to_index.items()} # index(단어 순위)가 key이고 단어가 value인 딕셔너리로 바꿈"
   ]
  },
  {
   "cell_type": "markdown",
   "metadata": {},
   "source": [
    "load_data 함수를 사용해서 만들어진 word_to_index와 index_to_word (단어사전)을 사용해서 문장을 숫자벡터로 encode하고, 숫자벡터를 문장으로 decode하는 함수를 활용해서 앞으로 자연어 데이터를 분석해보고자 한다."
   ]
  },
  {
   "cell_type": "code",
   "execution_count": 23,
   "metadata": {},
   "outputs": [],
   "source": [
    "# 문장 1개를 활용할 딕셔너리와 함께 주면, 단어 인덱스 리스트 벡터로 변환해 주는 함수입니다. \n",
    "# 단, 모든 문장은 <BOS>로 시작하는 것으로 합니다. \n",
    "\n",
    "def get_encoded_sentence(sentence, word_to_index):\n",
    "    return [word_to_index['<BOS>']]+[word_to_index[word] if word in word_to_index else word_to_index['<UNK>'] for word in sentence.split()]\n",
    "#\n",
    "# 여러 개의 문장 리스트를 한꺼번에 단어 인덱스 리스트 벡터로 encode해 주는 함수입니다. \n",
    "def get_encoded_sentences(sentences, word_to_index):\n",
    "    return [get_encoded_sentence(sentence, word_to_index) for sentence in sentences]\n",
    "\n",
    "# 숫자 벡터로 encode된 문장을 원래대로 decode하는 함수입니다. \n",
    "def get_decoded_sentence(encoded_sentence, index_to_word):\n",
    "    return ' '.join(index_to_word[index] if index in index_to_word else '<UNK>' for index in encoded_sentence[1:])  #[1:]를 통해 <BOS>를 제외\n",
    "\n",
    "# 여러 개의 숫자 벡터로 encode된 문장을 한꺼번에 원래대로 decode하는 함수입니다. \n",
    "def get_decoded_sentences(encoded_sentences, index_to_word):\n",
    "    return [get_decoded_sentence(encoded_sentence, index_to_word) for encoded_sentence in encoded_sentences]"
   ]
  },
  {
   "cell_type": "markdown",
   "metadata": {},
   "source": [
    "위의 네개의 함수 중에서 get_encoded_sentence와 get_decoded_sentence를 한번 테스트해보자"
   ]
  },
  {
   "cell_type": "code",
   "execution_count": 24,
   "metadata": {},
   "outputs": [
    {
     "data": {
      "text/plain": [
       "'나 이거 보고 인형 절대안삼'"
      ]
     },
     "execution_count": 24,
     "metadata": {},
     "output_type": "execute_result"
    }
   ],
   "source": [
    "orig_sentence=train_data[\"document\"][500] # 원본 문장\n",
    "orig_sentence"
   ]
  },
  {
   "cell_type": "code",
   "execution_count": 25,
   "metadata": {},
   "outputs": [
    {
     "name": "stdout",
     "output_type": "stream",
     "text": [
      "문장을 숫자벡터로 encode: [1, 20, 118, 549, 2262, 2]\n",
      "숫자벡터를 다시 문장으로 decode: 나 이거 보고 인형 <UNK>\n"
     ]
    }
   ],
   "source": [
    "print(\"문장을 숫자벡터로 encode:\",get_encoded_sentence(orig_sentence, word_to_index))\n",
    "print(\"숫자벡터를 다시 문장으로 decode:\",get_decoded_sentence(get_encoded_sentence(orig_sentence, word_to_index), index_to_word))"
   ]
  },
  {
   "cell_type": "markdown",
   "metadata": {},
   "source": [
    "문장을 숫자벡터로 encode하고 숫자벡터를 다시 문장으로 decode가 잘되는 것을 확인할수 있다. 숫자벡터에서 문장으로 다시 바뀌는 과정에서 원본의 문장의 '절대안삼'이 < UNK > 토큰으로 바뀐 것을 알수 있다. '절대안삼'이라고 하는 단어는 만개의 단어사전 안에 안들어가서 < UNK >로 바뀐모양이다."
   ]
  },
  {
   "cell_type": "markdown",
   "metadata": {},
   "source": [
    "### 3) 모델 구성을 위한 데이터 분석 및 가공\n",
    "\n",
    "#### 3-1) 데이터셋 내 문장 길이 분포\n",
    "#### 3-2) 적절한 최대 문장 길이 지정\n",
    "#### 3-3) keras.preprocessing.sequence.pad_sequences 을 활용한 패딩 추가"
   ]
  },
  {
   "cell_type": "code",
   "execution_count": 26,
   "metadata": {},
   "outputs": [],
   "source": [
    "train_len=[len(i) for i in X_train] # 각 문장의 길이를 입력\n",
    "test_len=[len(i) for i in X_test]"
   ]
  },
  {
   "cell_type": "markdown",
   "metadata": {},
   "source": [
    "#### 3-1) 데이터셋 내 문장 길이 분포"
   ]
  },
  {
   "cell_type": "code",
   "execution_count": 27,
   "metadata": {},
   "outputs": [
    {
     "data": {
      "image/png": "[encoded data removed]",
      "text/plain": [
       "<Figure size 720x360 with 2 Axes>"
      ]
     },
     "metadata": {
      "needs_background": "light"
     },
     "output_type": "display_data"
    }
   ],
   "source": [
    "import seaborn as sns\n",
    "\n",
    "plt.figure(figsize=(10,5))\n",
    "plt.subplot(121)\n",
    "sns.kdeplot(train_len)\n",
    "#plt.hist(train_len, bins=50)\n",
    "plt.title(\"length of sentence - train dataset\")\n",
    "plt.xlabel(\"length\")\n",
    "\n",
    "plt.subplot(122)\n",
    "#plt.hist(test_len, bins=50)\n",
    "sns.kdeplot(test_len)\n",
    "plt.title(\"length of sentence - test dataset\")\n",
    "plt.xlabel(\"length\")\n",
    "\n",
    "plt.show()"
   ]
  },
  {
   "cell_type": "markdown",
   "metadata": {},
   "source": [
    "일단 훈련데이터셋과 시험데이터셋의 문장길이에 대한 kdeplot의 분포는 비슷하다. 즉, train데이터셋에서 결정한 문장길이의 제한을 test dataset에도 비슷한 결과가 나올 것이라는 뜻이다.."
   ]
  },
  {
   "cell_type": "code",
   "execution_count": 28,
   "metadata": {},
   "outputs": [
    {
     "name": "stdout",
     "output_type": "stream",
     "text": [
      "117\n"
     ]
    }
   ],
   "source": [
    "df=pd.DataFrame(train_len)\n",
    "df.columns=[\"len\"] # 문장 최대길이는 117이다.\n",
    "print(df.len.max())"
   ]
  },
  {
   "cell_type": "code",
   "execution_count": 29,
   "metadata": {},
   "outputs": [],
   "source": [
    "minus,plus,plus_0,eq=[],[],[],[]\n",
    "for i in range(20,118): \n",
    "    df[\"%d\"%i]=i-df[\"len\"]\n",
    "    minus.append(df.loc[df[\"%d\"%i]<0,\"%d\"%i].shape[0]) # 주어진 길이보다 길때는  마이너스-> 몇문장을 없애야하는지 체크\n",
    "    plus_0.append(df.loc[df[\"%d\"%i]>0, \"%d\"%i].sum())  # 주어진 길이보다 짧을때는 플러스 -> 0을 몇개나 채워넣어야 하는지 입력\n",
    "    plus.append(df.loc[df[\"%d\"%i]>0, \"%d\"%i].shape[0]) # 주어진 길이보다 짧을때는 플러스 -> 몇문장이나 0을 채워야하는지 입력\n",
    "    eq.append(df.loc[df[\"%d\"%i]==0,\"%d\"%i].shape[0])   # 주어진 길이와 같은 때, -> 몇문장을 save되는지 체크 "
   ]
  },
  {
   "cell_type": "code",
   "execution_count": 30,
   "metadata": {},
   "outputs": [],
   "source": [
    "df1=pd.DataFrame({\"remove_st\":minus, \n",
    "             \"padding_st\":plus,\n",
    "             \"padding_0\":plus_0,\n",
    "             \"save_st\":eq})"
   ]
  },
  {
   "cell_type": "code",
   "execution_count": 31,
   "metadata": {},
   "outputs": [
    {
     "data": {
      "text/html": [
       "<div>\n",
       "<style scoped>\n",
       "    .dataframe tbody tr th:only-of-type {\n",
       "        vertical-align: middle;\n",
       "    }\n",
       "\n",
       "    .dataframe tbody tr th {\n",
       "        vertical-align: top;\n",
       "    }\n",
       "\n",
       "    .dataframe thead th {\n",
       "        text-align: right;\n",
       "    }\n",
       "</style>\n",
       "<table border=\"1\" class=\"dataframe\">\n",
       "  <thead>\n",
       "    <tr style=\"text-align: right;\">\n",
       "      <th></th>\n",
       "      <th>remove_st</th>\n",
       "      <th>padding_st</th>\n",
       "      <th>padding_0</th>\n",
       "      <th>save_st</th>\n",
       "    </tr>\n",
       "  </thead>\n",
       "  <tbody>\n",
       "    <tr>\n",
       "      <th>0</th>\n",
       "      <td>35665</td>\n",
       "      <td>106898</td>\n",
       "      <td>976854</td>\n",
       "      <td>3619</td>\n",
       "    </tr>\n",
       "    <tr>\n",
       "      <th>1</th>\n",
       "      <td>32417</td>\n",
       "      <td>110517</td>\n",
       "      <td>1087371</td>\n",
       "      <td>3248</td>\n",
       "    </tr>\n",
       "    <tr>\n",
       "      <th>2</th>\n",
       "      <td>29616</td>\n",
       "      <td>113765</td>\n",
       "      <td>1201136</td>\n",
       "      <td>2801</td>\n",
       "    </tr>\n",
       "    <tr>\n",
       "      <th>3</th>\n",
       "      <td>27241</td>\n",
       "      <td>116566</td>\n",
       "      <td>1317702</td>\n",
       "      <td>2375</td>\n",
       "    </tr>\n",
       "    <tr>\n",
       "      <th>4</th>\n",
       "      <td>25224</td>\n",
       "      <td>118941</td>\n",
       "      <td>1436643</td>\n",
       "      <td>2017</td>\n",
       "    </tr>\n",
       "  </tbody>\n",
       "</table>\n",
       "</div>"
      ],
      "text/plain": [
       "   remove_st  padding_st  padding_0  save_st\n",
       "0      35665      106898     976854     3619\n",
       "1      32417      110517    1087371     3248\n",
       "2      29616      113765    1201136     2801\n",
       "3      27241      116566    1317702     2375\n",
       "4      25224      118941    1436643     2017"
      ]
     },
     "execution_count": 31,
     "metadata": {},
     "output_type": "execute_result"
    }
   ],
   "source": [
    "df1.head()"
   ]
  },
  {
   "cell_type": "markdown",
   "metadata": {},
   "source": [
    "#### 3-2) 적절한 최대 문장 길이 지정: 45\n",
    "\n",
    "__padding 적용시 추가되는 0의 개수와 지워지는 문장의 trade off관계가 있다고 판단__ 되어서 그래프를 그려보았다."
   ]
  },
  {
   "cell_type": "code",
   "execution_count": 32,
   "metadata": {
    "scrolled": false
   },
   "outputs": [
    {
     "data": {
      "image/png": "[encoded data removed]",
      "text/plain": [
       "<Figure size 432x288 with 2 Axes>"
      ]
     },
     "metadata": {
      "needs_background": "light"
     },
     "output_type": "display_data"
    }
   ],
   "source": [
    "trade_off=45\n",
    "fig,ax1=plt.subplots()\n",
    "ax1.plot(list(range(20,118)), df1[\"remove_st\"], color=\"orange\",label=\"the number of removed sequence\")\n",
    "ax1.plot([trade_off,trade_off],[0, df1[\"remove_st\"][trade_off-20]] ,color=\"black\")\n",
    "ax1.plot([20,120],[df1[\"remove_st\"][trade_off-20], df1[\"remove_st\"][trade_off-20]], color=\"black\")\n",
    "\n",
    "plt.ylabel(\"removed sentence\")\n",
    "plt.xlabel(\"the length of sentence\")\n",
    "plt.xticks(range(20,120,5), rotation=90)\n",
    "\n",
    "ax2 = ax1.twinx()\n",
    "ax2.plot(list(range(20,118)), df1[\"padding_0\"],)\n",
    "plt.ylabel(\"the number of zero\")\n",
    "\n",
    "plt.show()"
   ]
  },
  {
   "cell_type": "markdown",
   "metadata": {},
   "source": [
    "__문장의 최대길이를 늘리면 지워야하는 문장의 개수가 줄어드는 대신에 padding을 만들었을때 0의 개수가 늘어나__ 고,  \n",
    "__문장의 최대길이를 줄이면 padding을 만들때 0의 개수가 줄어드는 대신에 지워야하는 문장의 개수가 늘어나게__ 된다.\n",
    "두 그래프가 모두 문장 최대길이에 따라서 선형적으로 늘어나고 줄어들면 그냥 문장의 절반을 선택하면 된다.\n",
    "하지만 위의 그래프에서 보는 것처럼 __padding을 만들 때의 0의 개수는 문장의 길이에 따라서 선형적으로 증가__ 하지만,   \n",
    "__지워지는 문장의 개수는 처음엔 빠르게 감소하다가 문장의 길이를 60개로 줄이면 매우 천천히 감소하는 것__ 을 알수 있다.   \n",
    "그래서 이 둘의 그래프를 그렸고, __두 그래프의 교차점에 위치한 문장길이 45__ 를 선택하기로 했다. "
   ]
  },
  {
   "cell_type": "code",
   "execution_count": 33,
   "metadata": {},
   "outputs": [
    {
     "name": "stdout",
     "output_type": "stream",
     "text": [
      "지워지지 않은 문장:  94.33172346800563 %\n",
      "지워진 문장:  5.668276531994363 %\n"
     ]
    }
   ],
   "source": [
    "print(\"지워지지 않은 문장: \",(1-(df1[\"remove_st\"][25]/len(X_train)))*100, \"%\")\n",
    "print(\"지워진 문장: \",(df1[\"remove_st\"][25]/len(X_train))*100,\"%\")"
   ]
  },
  {
   "cell_type": "markdown",
   "metadata": {},
   "source": [
    "여기서 주어진 task는 감정분석이기 때문에 길이가 45를 넘어가는 문장을 지우지 않고 시도해보아야겠다."
   ]
  },
  {
   "cell_type": "markdown",
   "metadata": {},
   "source": [
    "#### 3-3) keras.preprocessing.sequence.pad_sequences 을 활용한 패딩 추가"
   ]
  },
  {
   "cell_type": "code",
   "execution_count": 34,
   "metadata": {},
   "outputs": [],
   "source": [
    "maxlen=45\n",
    "raw_inputs = tf.keras.preprocessing.sequence.pad_sequences(X_train,\n",
    "                                                       value=word_to_index['<PAD>'],\n",
    "                                                       padding='post',\n",
    "                                                       maxlen=maxlen) # 문장 최대길이 45\n",
    "X_test = tf.keras.preprocessing.sequence.pad_sequences(X_test,\n",
    "                                                       value=word_to_index['<PAD>'],\n",
    "                                                       padding='post',\n",
    "                                                       maxlen=maxlen) # 문장 최대길이 45\n"
   ]
  },
  {
   "cell_type": "code",
   "execution_count": 35,
   "metadata": {},
   "outputs": [
    {
     "data": {
      "text/plain": [
       "(146182, 45)"
      ]
     },
     "execution_count": 35,
     "metadata": {},
     "output_type": "execute_result"
    }
   ],
   "source": [
    "raw_inputs.shape # 45 길이의 146182개의 문장을 갖고 우린 학습을 시킨다."
   ]
  },
  {
   "cell_type": "code",
   "execution_count": 36,
   "metadata": {},
   "outputs": [
    {
     "name": "stdout",
     "output_type": "stream",
     "text": [
      "[   1    5   77 1716    9    2  120   47   16  784 5690    2 2147  500\n",
      "    7 1023   36    5  454   40   33    0    0    0    0    0    0    0\n",
      "    0    0    0    0    0    0    0    0    0    0    0    0    0    0\n",
      "    0    0    0]\n",
      "영화 사람 영혼 을 <UNK> 줄 수 있 군요 거친 <UNK> 잠시 잊 고 동화 같 영화 행복 했 네요 <PAD> <PAD> <PAD> <PAD> <PAD> <PAD> <PAD> <PAD> <PAD> <PAD> <PAD> <PAD> <PAD> <PAD> <PAD> <PAD> <PAD> <PAD> <PAD> <PAD> <PAD> <PAD> <PAD> <PAD>\n"
     ]
    }
   ],
   "source": [
    "print(raw_inputs[50])\n",
    "print(get_decoded_sentence(raw_inputs[50], index_to_word))"
   ]
  },
  {
   "cell_type": "markdown",
   "metadata": {},
   "source": [
    "정상적으로 패딩이 입혀진 것을 확인할 수 있다."
   ]
  },
  {
   "cell_type": "markdown",
   "metadata": {},
   "source": [
    "### 4) 모델 구성 및 validation set 구성\n",
    "\n",
    "#### 4-1) train dataset과 validation set으로 나누기\n",
    "#### 4-2) RNN을 사용해서 모델구성\n",
    "#### 4-3) CNN을 사용해서 모델구성\n",
    "#### 4-4) GlobalMaxPooling을 사용해서 모델구성\n",
    "\n",
    "\n",
    "----------------------\n",
    "#### 4-1) train dataset과 validation set으로 나누기\n"
   ]
  },
  {
   "cell_type": "code",
   "execution_count": 37,
   "metadata": {},
   "outputs": [],
   "source": [
    "from sklearn.model_selection import train_test_split\n",
    "\n",
    "x_train, x_val, y_train, y_val=train_test_split(raw_inputs, y_train, test_size=0.2, stratify=y_train, random_state=42, shuffle=True)"
   ]
  },
  {
   "cell_type": "code",
   "execution_count": 38,
   "metadata": {},
   "outputs": [
    {
     "name": "stdout",
     "output_type": "stream",
     "text": [
      "(116945, 45) (116945,)\n",
      "(29237, 45) (29237,)\n"
     ]
    }
   ],
   "source": [
    "print(x_train.shape, y_train.shape)\n",
    "print(x_val.shape, y_val.shape)"
   ]
  },
  {
   "cell_type": "markdown",
   "metadata": {},
   "source": [
    "#### 4-2) RNN을 사용해서 모델구성"
   ]
  },
  {
   "cell_type": "code",
   "execution_count": 39,
   "metadata": {},
   "outputs": [],
   "source": [
    "from keras.layers import Dropout\n",
    "def sent_clf_rnn(num_vocab=10000, dim=200,hidden=8):\n",
    "    vocab_size = num_vocab\n",
    "    word_vector_dim = dim  # 단어 하나를 표현하는 임베딩 벡터의 차원수입니다. \n",
    "\n",
    "    model = tf.keras.Sequential()\n",
    "    model.add(tf.keras.layers.Embedding(vocab_size, word_vector_dim, input_shape=(None,)))\n",
    "    model.add(tf.keras.layers.LSTM(hidden))   # 가장 널리 쓰이는 RNN인 LSTM 레이어를 사용하였습니다. 이때 LSTM state 벡터의 차원수는 8로 하였습니다. (변경 가능)\n",
    "    model.add(tf.keras.layers.Dense(hidden, activation='relu'))\n",
    "    model.add(Dropout(0.8)) # 오버피팅 문제 때문에 Dropout을 추가했다.\n",
    "    model.add(tf.keras.layers.Dense(1, activation='sigmoid'))  # 최종 출력은 긍정/부정을 나타내는 1dim 입니다.\n",
    "\n",
    "    model.summary()\n",
    "    return model"
   ]
  },
  {
   "cell_type": "markdown",
   "metadata": {},
   "source": [
    "#### 4-3) CNN을 사용해서 모델구성\n",
    "- 1-D Convolution Neural Network(1-D CNN)\n",
    ": 1-D으로 문장 전체를 한번에 길이 7짜리 필터로 스캐닝하면서 7단어 이내로 발견되는 특징을 추출해서 문장을 분류한다. RNN 못지 않은 효율을 보여준다."
   ]
  },
  {
   "cell_type": "code",
   "execution_count": 40,
   "metadata": {},
   "outputs": [],
   "source": [
    "def sent_clf_cnn(num_vocab=10000, dim=200, filter_num=17,filter_size=7):\n",
    "    vocab_size = num_vocab\n",
    "    word_vector_dim = dim  # 단어 하나를 표현하는 임베딩 벡터의 차원수입니다. \n",
    "\n",
    "    model=tf.keras.Sequential()\n",
    "\n",
    "    model.add(tf.keras.layers.Embedding(vocab_size, word_vector_dim, input_shape=(None,)))\n",
    "    model.add(tf.keras.layers.Conv1D(filter_num, filter_size, activation=\"relu\"))\n",
    "    model.add(tf.keras.layers.MaxPooling1D(5))\n",
    "    model.add(tf.keras.layers.Conv1D(filter_num,filter_size, activation=\"relu\"))\n",
    "    model.add(tf.keras.layers.GlobalMaxPooling1D())\n",
    "    model.add(tf.keras.layers.Dense(8, activation=\"relu\"))\n",
    "    model.add(Dropout(0.8))  # 오버피팅 문제 때문에 Dropout을 추가했다.\n",
    "    model.add(tf.keras.layers.Dense(1,activation=\"sigmoid\")) # 최종출력은 긍정 /부정 이진 분류\n",
    "    model.summary()\n",
    "    \n",
    "    return model"
   ]
  },
  {
   "cell_type": "markdown",
   "metadata": {},
   "source": [
    "#### 4-4) RNN을 사용해서 모델구성\n",
    "\n",
    "GlobalMaxPooling() 레이어 하나만 사용하는 방법도 있다.\n",
    "-> 전체 문장에서 가장 중요한 단어 하나만 뽑아내서 긍정과 부정을 나누는 방식"
   ]
  },
  {
   "cell_type": "code",
   "execution_count": 41,
   "metadata": {
    "scrolled": true
   },
   "outputs": [],
   "source": [
    "def sent_clf_gmp(num_vocab=10000, dim=200):\n",
    "    vocab_size = num_vocab\n",
    "    word_vector_dim = dim  # 단어 하나를 표현하는 임베딩 벡터의 차원수입니다. \n",
    "\n",
    "    model=tf.keras.Sequential()\n",
    "    model.add(tf.keras.layers.Embedding(vocab_size, word_vector_dim, input_shape=(None,)))\n",
    "    model.add(tf.keras.layers.GlobalMaxPooling1D())\n",
    "    model.add(tf.keras.layers.Dense(8, activation=\"relu\"))\n",
    "    model.add(Dropout(0.8)) # 오버피팅 문제 때문에 Dropout을 추가했다.\n",
    "    model.add(tf.keras.layers.Dense(1, activation=\"sigmoid\"))\n",
    "\n",
    "    model.summary()\n",
    "    return model"
   ]
  },
  {
   "cell_type": "markdown",
   "metadata": {},
   "source": [
    "### 5) 모델 훈련 개시\n",
    "#### 5-1) RNN을 사용한 감정분석 모델\n",
    "#### 5-2) CNN을 사용한 감정분석 모델\n",
    "#### 5-3) GlobalMaxPooling을 사용한 감정분석 모델"
   ]
  },
  {
   "cell_type": "markdown",
   "metadata": {},
   "source": [
    "\n",
    "### 5-1)RNN을 사용한 감정분석 모델"
   ]
  },
  {
   "cell_type": "code",
   "execution_count": 42,
   "metadata": {},
   "outputs": [
    {
     "name": "stdout",
     "output_type": "stream",
     "text": [
      "Model: \"sequential\"\n",
      "_________________________________________________________________\n",
      "Layer (type)                 Output Shape              Param #   \n",
      "=================================================================\n",
      "embedding (Embedding)        (None, None, 1200)        12000000  \n",
      "_________________________________________________________________\n",
      "lstm (LSTM)                  (None, 8)                 38688     \n",
      "_________________________________________________________________\n",
      "dense (Dense)                (None, 8)                 72        \n",
      "_________________________________________________________________\n",
      "dropout (Dropout)            (None, 8)                 0         \n",
      "_________________________________________________________________\n",
      "dense_1 (Dense)              (None, 1)                 9         \n",
      "=================================================================\n",
      "Total params: 12,038,769\n",
      "Trainable params: 12,038,769\n",
      "Non-trainable params: 0\n",
      "_________________________________________________________________\n",
      "Epoch 1/15\n",
      "229/229 [==============================] - 7s 19ms/step - loss: 0.6918 - accuracy: 0.5051 - val_loss: 0.6876 - val_accuracy: 0.5194\n",
      "Epoch 2/15\n",
      "229/229 [==============================] - 4s 17ms/step - loss: 0.6342 - accuracy: 0.6107 - val_loss: 0.4716 - val_accuracy: 0.8292\n",
      "Epoch 3/15\n",
      "229/229 [==============================] - 4s 17ms/step - loss: 0.5223 - accuracy: 0.7058 - val_loss: 0.3981 - val_accuracy: 0.8432\n",
      "Epoch 4/15\n",
      "229/229 [==============================] - 4s 17ms/step - loss: 0.4958 - accuracy: 0.7181 - val_loss: 0.3752 - val_accuracy: 0.8490\n",
      "Epoch 5/15\n",
      "229/229 [==============================] - 4s 17ms/step - loss: 0.4694 - accuracy: 0.7248 - val_loss: 0.3547 - val_accuracy: 0.8539\n",
      "Epoch 6/15\n",
      "229/229 [==============================] - 4s 17ms/step - loss: 0.4458 - accuracy: 0.7326 - val_loss: 0.3483 - val_accuracy: 0.8546\n",
      "Epoch 7/15\n",
      "229/229 [==============================] - 4s 17ms/step - loss: 0.4329 - accuracy: 0.7371 - val_loss: 0.3445 - val_accuracy: 0.8536\n",
      "Epoch 8/15\n",
      "229/229 [==============================] - 4s 17ms/step - loss: 0.4211 - accuracy: 0.7454 - val_loss: 0.3477 - val_accuracy: 0.8504\n",
      "Epoch 9/15\n",
      "229/229 [==============================] - 4s 17ms/step - loss: 0.4079 - accuracy: 0.7499 - val_loss: 0.3562 - val_accuracy: 0.8508\n",
      "Epoch 10/15\n",
      "229/229 [==============================] - 4s 17ms/step - loss: 0.4021 - accuracy: 0.7521 - val_loss: 0.3625 - val_accuracy: 0.8461\n",
      "Epoch 11/15\n",
      "229/229 [==============================] - 4s 18ms/step - loss: 0.3956 - accuracy: 0.7540 - val_loss: 0.3587 - val_accuracy: 0.8473\n",
      "Epoch 12/15\n",
      "229/229 [==============================] - 4s 18ms/step - loss: 0.3875 - accuracy: 0.7584 - val_loss: 0.3718 - val_accuracy: 0.8427\n",
      "Epoch 13/15\n",
      "229/229 [==============================] - 4s 17ms/step - loss: 0.3809 - accuracy: 0.7604 - val_loss: 0.3882 - val_accuracy: 0.8467\n",
      "Epoch 14/15\n",
      "229/229 [==============================] - 4s 18ms/step - loss: 0.3765 - accuracy: 0.7635 - val_loss: 0.3827 - val_accuracy: 0.8415\n",
      "Epoch 15/15\n",
      "229/229 [==============================] - 4s 17ms/step - loss: 0.3685 - accuracy: 0.7670 - val_loss: 0.3875 - val_accuracy: 0.8429\n"
     ]
    }
   ],
   "source": [
    "tf.random.set_seed(100) # 모델의 weight의 가중치를 고정시킨다\n",
    "rnn_model=sent_clf_rnn(dim=1200)\n",
    "rnn_model.compile(optimizer='adam',\n",
    "              loss='binary_crossentropy',\n",
    "              metrics=['accuracy'])\n",
    "              \n",
    "epochs=15  # 몇 epoch를 훈련하면 좋을지 결과를 보면서 바꾸어 봅시다. \n",
    "\n",
    "rnn_history = rnn_model.fit(x_train,\n",
    "                    y_train,\n",
    "                    epochs=epochs,\n",
    "                    batch_size=512,\n",
    "                    validation_data=(x_val, y_val),\n",
    "                    verbose=1)"
   ]
  },
  {
   "cell_type": "markdown",
   "metadata": {},
   "source": [
    "### 5-2) CNN을 사용한 감정분석 모델"
   ]
  },
  {
   "cell_type": "code",
   "execution_count": 43,
   "metadata": {},
   "outputs": [
    {
     "name": "stdout",
     "output_type": "stream",
     "text": [
      "Model: \"sequential_1\"\n",
      "_________________________________________________________________\n",
      "Layer (type)                 Output Shape              Param #   \n",
      "=================================================================\n",
      "embedding_1 (Embedding)      (None, None, 1200)        12000000  \n",
      "_________________________________________________________________\n",
      "conv1d (Conv1D)              (None, None, 17)          142817    \n",
      "_________________________________________________________________\n",
      "max_pooling1d (MaxPooling1D) (None, None, 17)          0         \n",
      "_________________________________________________________________\n",
      "conv1d_1 (Conv1D)            (None, None, 17)          2040      \n",
      "_________________________________________________________________\n",
      "global_max_pooling1d (Global (None, 17)                0         \n",
      "_________________________________________________________________\n",
      "dense_2 (Dense)              (None, 8)                 144       \n",
      "_________________________________________________________________\n",
      "dropout_1 (Dropout)          (None, 8)                 0         \n",
      "_________________________________________________________________\n",
      "dense_3 (Dense)              (None, 1)                 9         \n",
      "=================================================================\n",
      "Total params: 12,145,010\n",
      "Trainable params: 12,145,010\n",
      "Non-trainable params: 0\n",
      "_________________________________________________________________\n",
      "Epoch 1/15\n",
      "229/229 [==============================] - 7s 25ms/step - loss: 0.6072 - accuracy: 0.6202 - val_loss: 0.4058 - val_accuracy: 0.8335\n",
      "Epoch 2/15\n",
      "229/229 [==============================] - 5s 23ms/step - loss: 0.5093 - accuracy: 0.7057 - val_loss: 0.3812 - val_accuracy: 0.8434\n",
      "Epoch 3/15\n",
      "229/229 [==============================] - 5s 23ms/step - loss: 0.4787 - accuracy: 0.7253 - val_loss: 0.3523 - val_accuracy: 0.8548\n",
      "Epoch 4/15\n",
      "229/229 [==============================] - 5s 23ms/step - loss: 0.4573 - accuracy: 0.7361 - val_loss: 0.3491 - val_accuracy: 0.8506\n",
      "Epoch 5/15\n",
      "229/229 [==============================] - 5s 23ms/step - loss: 0.4341 - accuracy: 0.7461 - val_loss: 0.3483 - val_accuracy: 0.8492\n",
      "Epoch 6/15\n",
      "229/229 [==============================] - 5s 23ms/step - loss: 0.4144 - accuracy: 0.7564 - val_loss: 0.3518 - val_accuracy: 0.8496\n",
      "Epoch 7/15\n",
      "229/229 [==============================] - 5s 23ms/step - loss: 0.3961 - accuracy: 0.7630 - val_loss: 0.3654 - val_accuracy: 0.8425\n",
      "Epoch 8/15\n",
      "229/229 [==============================] - 5s 23ms/step - loss: 0.3828 - accuracy: 0.7716 - val_loss: 0.3846 - val_accuracy: 0.8384\n",
      "Epoch 9/15\n",
      "229/229 [==============================] - 5s 23ms/step - loss: 0.3702 - accuracy: 0.7758 - val_loss: 0.4044 - val_accuracy: 0.8369\n",
      "Epoch 10/15\n",
      "229/229 [==============================] - 5s 23ms/step - loss: 0.3623 - accuracy: 0.7776 - val_loss: 0.4328 - val_accuracy: 0.8337\n",
      "Epoch 11/15\n",
      "229/229 [==============================] - 5s 23ms/step - loss: 0.3566 - accuracy: 0.7792 - val_loss: 0.4537 - val_accuracy: 0.8386\n",
      "Epoch 12/15\n",
      "229/229 [==============================] - 5s 23ms/step - loss: 0.3408 - accuracy: 0.7967 - val_loss: 0.4918 - val_accuracy: 0.8383\n",
      "Epoch 13/15\n",
      "229/229 [==============================] - 5s 24ms/step - loss: 0.3166 - accuracy: 0.8216 - val_loss: 0.5204 - val_accuracy: 0.8367\n",
      "Epoch 14/15\n",
      "229/229 [==============================] - 5s 23ms/step - loss: 0.3122 - accuracy: 0.8221 - val_loss: 0.5468 - val_accuracy: 0.8398\n",
      "Epoch 15/15\n",
      "229/229 [==============================] - 5s 24ms/step - loss: 0.3064 - accuracy: 0.8264 - val_loss: 0.6058 - val_accuracy: 0.8384\n"
     ]
    }
   ],
   "source": [
    "tf.random.set_seed(100) # 모델의 weight의 가중치를 고정시킨다\n",
    "\n",
    "cnn_model=sent_clf_cnn(dim=1200)\n",
    "cnn_model.compile(optimizer='adam',\n",
    "              loss='binary_crossentropy',\n",
    "              metrics=['accuracy'])\n",
    "              \n",
    "epochs=15  # 몇 epoch를 훈련하면 좋을지 결과를 보면서 바꾸어 봅시다. \n",
    "\n",
    "cnn_history = cnn_model.fit(x_train,\n",
    "                    y_train,\n",
    "                    epochs=epochs,\n",
    "                    batch_size=512,\n",
    "                    validation_data=(x_val, y_val),\n",
    "                    verbose=1)"
   ]
  },
  {
   "cell_type": "markdown",
   "metadata": {},
   "source": [
    "### 5-3) GlobalMaxPooling을 사용한 감정분석 모델"
   ]
  },
  {
   "cell_type": "code",
   "execution_count": 44,
   "metadata": {
    "scrolled": true
   },
   "outputs": [
    {
     "name": "stdout",
     "output_type": "stream",
     "text": [
      "Model: \"sequential_2\"\n",
      "_________________________________________________________________\n",
      "Layer (type)                 Output Shape              Param #   \n",
      "=================================================================\n",
      "embedding_2 (Embedding)      (None, None, 1200)        12000000  \n",
      "_________________________________________________________________\n",
      "global_max_pooling1d_1 (Glob (None, 1200)              0         \n",
      "_________________________________________________________________\n",
      "dense_4 (Dense)              (None, 8)                 9608      \n",
      "_________________________________________________________________\n",
      "dropout_2 (Dropout)          (None, 8)                 0         \n",
      "_________________________________________________________________\n",
      "dense_5 (Dense)              (None, 1)                 9         \n",
      "=================================================================\n",
      "Total params: 12,009,617\n",
      "Trainable params: 12,009,617\n",
      "Non-trainable params: 0\n",
      "_________________________________________________________________\n",
      "Epoch 1/15\n",
      "229/229 [==============================] - 4s 16ms/step - loss: 0.6534 - accuracy: 0.5651 - val_loss: 0.5263 - val_accuracy: 0.8314\n",
      "Epoch 2/15\n",
      "229/229 [==============================] - 3s 15ms/step - loss: 0.5965 - accuracy: 0.6242 - val_loss: 0.4777 - val_accuracy: 0.8453\n",
      "Epoch 3/15\n",
      "229/229 [==============================] - 4s 15ms/step - loss: 0.5812 - accuracy: 0.6326 - val_loss: 0.4397 - val_accuracy: 0.8467\n",
      "Epoch 4/15\n",
      "229/229 [==============================] - 3s 15ms/step - loss: 0.5506 - accuracy: 0.6349 - val_loss: 0.3952 - val_accuracy: 0.8498\n",
      "Epoch 5/15\n",
      "229/229 [==============================] - 3s 15ms/step - loss: 0.5190 - accuracy: 0.6832 - val_loss: 0.3906 - val_accuracy: 0.8483\n",
      "Epoch 6/15\n",
      "229/229 [==============================] - 3s 15ms/step - loss: 0.4717 - accuracy: 0.7519 - val_loss: 0.3611 - val_accuracy: 0.8501\n",
      "Epoch 7/15\n",
      "229/229 [==============================] - 3s 15ms/step - loss: 0.4461 - accuracy: 0.7710 - val_loss: 0.3648 - val_accuracy: 0.8474\n",
      "Epoch 8/15\n",
      "229/229 [==============================] - 3s 15ms/step - loss: 0.4285 - accuracy: 0.7808 - val_loss: 0.3607 - val_accuracy: 0.8484\n",
      "Epoch 9/15\n",
      "229/229 [==============================] - 3s 15ms/step - loss: 0.4078 - accuracy: 0.7907 - val_loss: 0.3622 - val_accuracy: 0.8479\n",
      "Epoch 10/15\n",
      "229/229 [==============================] - 3s 15ms/step - loss: 0.3931 - accuracy: 0.7974 - val_loss: 0.3722 - val_accuracy: 0.8458\n",
      "Epoch 11/15\n",
      "229/229 [==============================] - 3s 15ms/step - loss: 0.3792 - accuracy: 0.8052 - val_loss: 0.3890 - val_accuracy: 0.8472\n",
      "Epoch 12/15\n",
      "229/229 [==============================] - 3s 15ms/step - loss: 0.3676 - accuracy: 0.8099 - val_loss: 0.4087 - val_accuracy: 0.8460\n",
      "Epoch 13/15\n",
      "229/229 [==============================] - 3s 15ms/step - loss: 0.3591 - accuracy: 0.8131 - val_loss: 0.4133 - val_accuracy: 0.8451\n",
      "Epoch 14/15\n",
      "229/229 [==============================] - 3s 15ms/step - loss: 0.3491 - accuracy: 0.8175 - val_loss: 0.4159 - val_accuracy: 0.8469\n",
      "Epoch 15/15\n",
      "229/229 [==============================] - 3s 15ms/step - loss: 0.3405 - accuracy: 0.8221 - val_loss: 0.4344 - val_accuracy: 0.8425\n"
     ]
    }
   ],
   "source": [
    "tf.random.set_seed(100) # 모델의 weight의 가중치를 고정시킨다\n",
    "gmp_model=sent_clf_gmp(dim=1200)\n",
    "gmp_model.compile(optimizer='adam',\n",
    "              loss='binary_crossentropy',\n",
    "              metrics=['accuracy'])\n",
    "              \n",
    "epochs=15  # 몇 epoch를 훈련하면 좋을지 결과를 보면서 바꾸어 봅시다. \n",
    "\n",
    "gmp_history = gmp_model.fit(x_train,\n",
    "                    y_train,\n",
    "                    epochs=epochs,\n",
    "                    batch_size=512,\n",
    "                    validation_data=(x_val, y_val),\n",
    "                    verbose=1)"
   ]
  },
  {
   "cell_type": "code",
   "execution_count": 45,
   "metadata": {},
   "outputs": [],
   "source": [
    "rnn_df=pd.DataFrame(rnn_history.history)\n",
    "cnn_df=pd.DataFrame(cnn_history.history)\n",
    "gmp_df=pd.DataFrame(gmp_history.history)"
   ]
  },
  {
   "cell_type": "code",
   "execution_count": 46,
   "metadata": {},
   "outputs": [
    {
     "data": {
      "text/html": [
       "<div>\n",
       "<style scoped>\n",
       "    .dataframe tbody tr th:only-of-type {\n",
       "        vertical-align: middle;\n",
       "    }\n",
       "\n",
       "    .dataframe tbody tr th {\n",
       "        vertical-align: top;\n",
       "    }\n",
       "\n",
       "    .dataframe thead th {\n",
       "        text-align: right;\n",
       "    }\n",
       "</style>\n",
       "<table border=\"1\" class=\"dataframe\">\n",
       "  <thead>\n",
       "    <tr style=\"text-align: right;\">\n",
       "      <th></th>\n",
       "      <th>loss</th>\n",
       "      <th>accuracy</th>\n",
       "      <th>val_loss</th>\n",
       "      <th>val_accuracy</th>\n",
       "    </tr>\n",
       "  </thead>\n",
       "  <tbody>\n",
       "    <tr>\n",
       "      <th>0</th>\n",
       "      <td>0.691820</td>\n",
       "      <td>0.505135</td>\n",
       "      <td>0.687632</td>\n",
       "      <td>0.519445</td>\n",
       "    </tr>\n",
       "    <tr>\n",
       "      <th>1</th>\n",
       "      <td>0.634173</td>\n",
       "      <td>0.610749</td>\n",
       "      <td>0.471574</td>\n",
       "      <td>0.829223</td>\n",
       "    </tr>\n",
       "  </tbody>\n",
       "</table>\n",
       "</div>"
      ],
      "text/plain": [
       "       loss  accuracy  val_loss  val_accuracy\n",
       "0  0.691820  0.505135  0.687632      0.519445\n",
       "1  0.634173  0.610749  0.471574      0.829223"
      ]
     },
     "execution_count": 46,
     "metadata": {},
     "output_type": "execute_result"
    }
   ],
   "source": [
    "rnn_df.head(2)"
   ]
  },
  {
   "cell_type": "markdown",
   "metadata": {},
   "source": [
    "### 6) Loss, Accuracy 그래프 시각화"
   ]
  },
  {
   "cell_type": "code",
   "execution_count": 47,
   "metadata": {
    "scrolled": true
   },
   "outputs": [
    {
     "data": {
      "image/png": "[encoded data removed]",
      "text/plain": [
       "<Figure size 1080x288 with 3 Axes>"
      ]
     },
     "metadata": {
      "needs_background": "light"
     },
     "output_type": "display_data"
    }
   ],
   "source": [
    "plt.figure(figsize=(15,4))\n",
    "for i,(m,t) in enumerate(zip([rnn_df,cnn_df,gmp_df],[\"RNN\",\"CNN\",\"GlobalMaxPooling\"])):\n",
    "    plt.subplot(1,3,i+1)\n",
    "    plt.plot(m[\"loss\"], label=\"train loss\")\n",
    "    plt.plot(m[\"val_loss\"], label=\"val loss\")\n",
    "\n",
    "    plt.plot(m[\"accuracy\"],label=\"train acc\")\n",
    "    plt.plot(m[\"val_accuracy\"], label=\"val_accuracy\")\n",
    "    plt.title(t)\n",
    "    plt.xlabel(\"epoch\")\n",
    "\n",
    "plt.legend(bbox_to_anchor=[1,1])\n",
    "plt.show()"
   ]
  },
  {
   "cell_type": "code",
   "execution_count": 48,
   "metadata": {},
   "outputs": [
    {
     "name": "stdout",
     "output_type": "stream",
     "text": [
      "Model: \"sequential_3\"\n",
      "_________________________________________________________________\n",
      "Layer (type)                 Output Shape              Param #   \n",
      "=================================================================\n",
      "embedding_3 (Embedding)      (None, None, 600)         6000000   \n",
      "_________________________________________________________________\n",
      "lstm_1 (LSTM)                (None, 8)                 19488     \n",
      "_________________________________________________________________\n",
      "dense_6 (Dense)              (None, 8)                 72        \n",
      "_________________________________________________________________\n",
      "dropout_3 (Dropout)          (None, 8)                 0         \n",
      "_________________________________________________________________\n",
      "dense_7 (Dense)              (None, 1)                 9         \n",
      "=================================================================\n",
      "Total params: 6,019,569\n",
      "Trainable params: 6,019,569\n",
      "Non-trainable params: 0\n",
      "_________________________________________________________________\n",
      "Epoch 1/6\n",
      "229/229 [==============================] - 4s 12ms/step - loss: 0.6905 - accuracy: 0.5080 - val_loss: 0.6003 - val_accuracy: 0.7391\n",
      "Epoch 2/6\n",
      "229/229 [==============================] - 2s 11ms/step - loss: 0.5536 - accuracy: 0.7020 - val_loss: 0.3968 - val_accuracy: 0.8403\n",
      "Epoch 3/6\n",
      "229/229 [==============================] - 2s 11ms/step - loss: 0.4915 - accuracy: 0.7411 - val_loss: 0.3836 - val_accuracy: 0.8452\n",
      "Epoch 4/6\n",
      "229/229 [==============================] - 2s 11ms/step - loss: 0.4688 - accuracy: 0.7520 - val_loss: 0.3551 - val_accuracy: 0.8543\n",
      "Epoch 5/6\n",
      "229/229 [==============================] - 2s 11ms/step - loss: 0.4507 - accuracy: 0.7586 - val_loss: 0.3592 - val_accuracy: 0.8440\n",
      "Epoch 6/6\n",
      "229/229 [==============================] - 2s 11ms/step - loss: 0.4361 - accuracy: 0.7672 - val_loss: 0.3432 - val_accuracy: 0.8538\n",
      "1537/1537 [==============================] - 4s 2ms/step - loss: 0.3483 - accuracy: 0.8518\n"
     ]
    }
   ],
   "source": [
    "tf.random.set_seed(100)\n",
    "\n",
    "rnn_model=sent_clf_rnn(num_vocab=10000, dim=600,hidden=8)\n",
    "rnn_model.compile(optimizer='adam',\n",
    "              loss='binary_crossentropy',\n",
    "              metrics=['accuracy'])\n",
    "              \n",
    "epochs=6\n",
    "\n",
    "rnn_history = rnn_model.fit(x_train,\n",
    "                    y_train,\n",
    "                    epochs=epochs,\n",
    "                    batch_size=512,\n",
    "                    validation_data=(x_val, y_val),\n",
    "                    verbose=1)\n",
    "\n",
    "results=rnn_model.evaluate(X_test, y_test)\n"
   ]
  },
  {
   "cell_type": "code",
   "execution_count": 49,
   "metadata": {
    "scrolled": true
   },
   "outputs": [
    {
     "name": "stdout",
     "output_type": "stream",
     "text": [
      "[0.3482793867588043, 0.8517810106277466]\n"
     ]
    }
   ],
   "source": [
    "print(results)"
   ]
  },
  {
   "cell_type": "markdown",
   "metadata": {},
   "source": [
    "## 루브릭 평가 85% 이상 달성했다."
   ]
  },
  {
   "cell_type": "markdown",
   "metadata": {},
   "source": [
    "- RNN은 epoch 10 이상이 넘어가면서 오버피팅이 일어나게 되고 , CNN와 GlobalMaxPooling는 epoch 4가 넘어가면서 오버피팅이 일어난 것을 확인 할수 있었다.\n",
    "- CNN과 GlobalMaxPooling은 처음에 빠르게 학습이 이뤄진 후(epoch 1에서 이미 validation accuracy가 0.8을 넘어갔다.) epoch이 늘어나면서 loss는 증가하고 accuracy는 떨어지는 학습곡선을 그리는 것을 확인할 수 있다. RNN에 비해서 학습을 적게 시키는게 좋은 것 같다.\n",
    "\n",
    "- 다만 dropout도 쓰고 튜닝도 하고 여러가지 시도를 했지만 가장 높은 accuracy가 0.85 부근을 맴돌았다."
   ]
  },
  {
   "cell_type": "markdown",
   "metadata": {},
   "source": [
    "### 7) 학습된 Embedding 레이어 분석"
   ]
  },
  {
   "cell_type": "code",
   "execution_count": 50,
   "metadata": {},
   "outputs": [
    {
     "name": "stdout",
     "output_type": "stream",
     "text": [
      "(10000, 600)\n"
     ]
    }
   ],
   "source": [
    "embedding_layer = rnn_model.layers[0]\n",
    "weights = embedding_layer.get_weights()[0]\n",
    "print(weights.shape)    # shape: (vocab_size, embedding_dim)"
   ]
  },
  {
   "cell_type": "code",
   "execution_count": 51,
   "metadata": {
    "scrolled": true
   },
   "outputs": [],
   "source": [
    "word2vec_file_path = os.getenv('HOME')+'/aiffel/sentiment_classification/data/word2vec.txt'\n",
    "f = open(word2vec_file_path, 'w')\n",
    "f.write('{} {}\\n'.format(10000-4, 600))  # 몇개의 벡터를 얼마 사이즈로 기재할지 타이틀을 씁니다.\n",
    "\n",
    "# 단어 개수(에서 특수문자 4개는 제외하고)만큼의 워드 벡터를 파일에 기록합니다. \n",
    "vectors = rnn_model.get_weights()[0]\n",
    "for i in range(4,10000):\n",
    "    f.write('{} {}\\n'.format(index_to_word[i], ' '.join(map(str, list(vectors[i, :])))))\n",
    "f.close()"
   ]
  },
  {
   "cell_type": "code",
   "execution_count": 52,
   "metadata": {},
   "outputs": [],
   "source": [
    "from gensim.models.keyedvectors import Word2VecKeyedVectors\n",
    "\n",
    "word_vectors = Word2VecKeyedVectors.load_word2vec_format(word2vec_file_path, binary=False)\n"
   ]
  },
  {
   "cell_type": "code",
   "execution_count": 53,
   "metadata": {},
   "outputs": [
    {
     "data": {
      "text/plain": [
       "array([ 3.81611846e-02,  2.34245956e-02,  8.00138935e-02, -6.98478818e-02,\n",
       "        5.23886830e-02, -2.36408645e-03,  9.16719716e-03,  1.04825860e-02,\n",
       "        5.52993361e-03,  7.37933721e-03,  9.42501798e-02, -5.63070215e-02,\n",
       "        7.95156732e-02,  7.16196522e-02,  4.19154949e-02, -4.33636270e-02,\n",
       "        2.99331290e-03, -8.39370340e-02,  5.07827103e-02, -7.96854123e-02,\n",
       "        6.36261627e-02, -3.19762081e-02, -1.39307464e-02, -6.31766692e-02,\n",
       "       -8.91661346e-02,  2.80747097e-02, -8.92098397e-02, -8.52435455e-03,\n",
       "       -2.52675340e-02, -3.98830958e-02, -2.65746471e-02,  1.19561739e-01,\n",
       "        4.43221405e-02, -1.70488954e-02, -4.47779708e-02,  6.16375953e-02,\n",
       "        6.64233044e-02,  1.45663619e-02,  1.16393408e-02,  2.05274764e-03,\n",
       "       -2.11139699e-03,  6.93608299e-02, -9.06649455e-02, -9.86658782e-02,\n",
       "        1.00258544e-01, -1.37566803e-02, -4.67380174e-02,  1.61022767e-02,\n",
       "       -8.68714526e-02, -1.07887819e-01,  8.00715685e-02, -2.89835129e-02,\n",
       "       -9.23628509e-02,  1.98365171e-02, -4.68783267e-02,  2.76344884e-02,\n",
       "        6.35111630e-02,  8.42439309e-02, -1.31154964e-02, -6.95406273e-02,\n",
       "        8.20513219e-02, -3.18848193e-02,  3.42244543e-02,  4.24736440e-02,\n",
       "       -1.84595659e-02,  7.41889402e-02,  2.09229477e-02, -8.49989429e-02,\n",
       "        9.44276303e-02, -8.32289457e-02,  3.09135541e-02, -5.77954240e-02,\n",
       "       -3.71304229e-02, -6.34201914e-02,  1.05795011e-01,  6.33554012e-02,\n",
       "        1.08502582e-02, -5.37306778e-02,  3.34229954e-02, -3.16818766e-02,\n",
       "        5.28103150e-02, -1.96753186e-03, -3.88001427e-02,  2.08570529e-02,\n",
       "       -4.45538834e-02,  1.25495512e-02,  1.02305405e-01,  7.83530623e-03,\n",
       "        6.41603097e-02,  5.09123923e-03, -1.07888721e-01,  6.65096864e-02,\n",
       "        2.79602651e-02,  1.11446999e-01,  4.00930569e-02, -3.19683664e-02,\n",
       "        1.18429877e-01, -7.41668865e-02, -1.71347205e-02, -6.00251704e-02,\n",
       "        6.72547445e-02,  5.35756014e-02,  5.88533981e-03,  4.30159300e-04,\n",
       "        1.06472902e-01, -5.67861795e-02,  2.91633466e-03,  2.50779446e-02,\n",
       "        3.46876308e-02, -3.47213959e-03, -8.79655555e-02, -5.95138259e-02,\n",
       "        7.87954628e-02,  7.13694543e-02, -5.82226403e-02, -5.31600341e-02,\n",
       "        4.69937660e-02,  2.68073231e-02,  5.02105169e-02, -2.02127500e-03,\n",
       "       -1.47881266e-02, -1.76654365e-02,  1.22317886e-02,  2.51925569e-02,\n",
       "        4.77848500e-02, -1.47533314e-02, -1.23839844e-02, -1.72987524e-02,\n",
       "        6.68652803e-02, -4.86670434e-02,  5.38986400e-02, -6.13397099e-02,\n",
       "       -4.47777286e-02, -1.06721498e-01,  1.88899552e-03,  1.30316531e-02,\n",
       "        1.14912447e-03, -3.06886137e-02,  8.21294412e-02, -6.98270500e-02,\n",
       "       -4.54874709e-02, -5.34269474e-02,  2.51484644e-02,  8.85840133e-02,\n",
       "       -4.22762893e-02,  9.03007537e-02, -8.29254910e-02,  1.40105998e-02,\n",
       "       -7.85029382e-02, -5.21032326e-02,  8.47348496e-02, -4.55133542e-02,\n",
       "        2.54147984e-02, -1.90843344e-02,  4.14131060e-02,  2.94395983e-02,\n",
       "       -9.12598521e-03,  1.13751024e-01,  4.07894403e-02,  1.36463456e-02,\n",
       "        4.26888503e-02,  4.10482362e-02, -7.61044547e-02, -3.86925340e-02,\n",
       "        5.90853356e-02, -3.70308384e-02, -2.31792312e-03,  4.34900858e-02,\n",
       "       -4.12855856e-02,  2.43709702e-02,  1.57223567e-02,  9.48436260e-02,\n",
       "        1.98581982e-02, -6.78177848e-02, -4.95091528e-02, -2.50028279e-02,\n",
       "        1.00557394e-02,  3.70674580e-02,  1.72730628e-02,  6.98855938e-03,\n",
       "       -3.97994779e-02,  2.04034857e-02, -2.77397316e-02,  9.35280174e-02,\n",
       "        4.66246903e-02,  3.37164886e-02, -4.32671160e-02, -5.37848659e-02,\n",
       "       -3.06218863e-02,  1.00837462e-01, -1.33310622e-02,  5.10081798e-02,\n",
       "        2.26790123e-02,  4.33712862e-02, -2.41108611e-02, -1.27200648e-01,\n",
       "       -6.17860667e-02, -4.34920117e-02,  9.93473306e-02, -3.39584611e-02,\n",
       "        2.58224867e-02,  8.83607641e-02,  1.67990010e-02,  1.95897482e-02,\n",
       "        5.33860773e-02, -4.59453836e-02,  4.50704060e-02,  1.00148030e-01,\n",
       "       -1.34588061e-02,  5.33575714e-02,  1.04747312e-02, -7.10109398e-02,\n",
       "        2.78175343e-03,  2.20954344e-02, -3.09509002e-02,  3.92601602e-02,\n",
       "        3.14736180e-02, -3.88632901e-02, -1.28473733e-02,  3.25318053e-02,\n",
       "        3.61582190e-02, -4.11265455e-02,  9.65889692e-02, -7.86463823e-03,\n",
       "       -4.44011465e-02,  5.51558733e-02,  6.04538992e-02, -4.56584431e-02,\n",
       "       -6.32456541e-02,  8.12023282e-02, -3.34723741e-02, -1.81264225e-02,\n",
       "        8.50400236e-03,  7.37633407e-02,  1.32665345e-02, -3.65586206e-02,\n",
       "        1.59551390e-02,  1.04255183e-02, -8.47173855e-02,  2.01849248e-02,\n",
       "        3.24108936e-02, -7.65412897e-02, -5.18812500e-02, -2.38048472e-02,\n",
       "        7.30597507e-03,  7.64829759e-03,  9.48135406e-02, -7.30499253e-02,\n",
       "       -4.46594208e-02, -1.04317879e-02,  1.91990957e-02, -4.56453636e-02,\n",
       "       -7.76233301e-02, -9.17822644e-02, -5.91347963e-02, -8.78459737e-02,\n",
       "       -1.50780296e-02, -5.05208932e-02, -8.43571872e-02,  8.56503006e-03,\n",
       "        2.85133091e-03, -2.52534766e-02, -6.08485043e-02, -3.20322663e-02,\n",
       "        1.18775973e-02, -3.57032903e-02, -3.15581001e-02, -7.98868611e-02,\n",
       "        1.23810647e-02,  1.29482942e-02,  5.13049737e-02,  4.04792428e-02,\n",
       "       -9.07707140e-02,  1.12868898e-01, -4.05067354e-02,  7.88411498e-02,\n",
       "       -9.37391743e-02, -5.23609407e-02,  1.08760796e-01,  4.20899317e-02,\n",
       "        7.09802210e-02, -5.97690605e-03, -1.33242467e-02,  3.69985029e-02,\n",
       "        5.17761335e-02,  6.55819848e-02, -2.99805198e-02,  6.18020669e-02,\n",
       "        8.36479217e-02, -1.12144016e-02, -1.18688144e-01, -1.19693495e-01,\n",
       "       -3.80569249e-02,  3.70870382e-02,  7.91190341e-02,  4.68399972e-02,\n",
       "       -7.15816393e-02,  1.25287417e-02,  8.89717415e-02, -9.80995893e-02,\n",
       "        1.11175314e-01, -4.27955091e-02, -1.54438214e-02,  1.01111092e-01,\n",
       "        1.29268482e-01, -9.57740247e-02, -3.85314052e-05,  4.59167250e-02,\n",
       "       -6.88849315e-02,  6.77413270e-02, -2.25064997e-02,  1.97431184e-02,\n",
       "       -1.09349042e-01,  8.34862981e-03, -7.40181133e-02,  2.33535618e-02,\n",
       "        5.81933483e-02,  7.71439373e-02, -7.46308565e-02, -5.73326237e-02,\n",
       "        4.56998087e-02, -1.50321536e-02, -7.54434755e-03, -9.41527113e-02,\n",
       "       -5.67091815e-02,  4.61700000e-02, -6.26266375e-02,  8.44841003e-02,\n",
       "        2.07240656e-02, -8.15378353e-02, -7.46173486e-02, -1.75464395e-02,\n",
       "        7.28045925e-02,  3.42972539e-02,  7.80904219e-02, -5.51992804e-02,\n",
       "       -5.41015305e-02, -7.05685541e-02,  1.81644708e-02,  1.87374782e-02,\n",
       "        1.37113582e-03,  1.84797663e-02, -2.85998061e-02,  3.29968929e-02,\n",
       "       -7.32791750e-03,  3.24998237e-02, -1.86894555e-02, -6.95027485e-02,\n",
       "        1.26691461e-01,  6.43691570e-02, -7.84951299e-02,  2.44341753e-02,\n",
       "        3.78427841e-02, -8.31536204e-03, -9.71133634e-03, -1.09581426e-01,\n",
       "        6.44289628e-02,  7.66549632e-02, -5.04350215e-02, -3.74852158e-02,\n",
       "        7.81480595e-02,  6.15094900e-02,  1.49689056e-02, -6.90463334e-02,\n",
       "       -2.39120964e-02, -1.08179547e-01,  3.12486216e-02, -1.61008760e-02,\n",
       "        1.08870991e-01,  5.06372303e-02,  7.49168321e-02, -7.03804716e-02,\n",
       "       -4.90747690e-02, -8.67792964e-02, -9.34917387e-03,  3.16385254e-02,\n",
       "       -1.78885665e-02, -4.38620299e-02, -3.93081121e-02,  5.13760187e-02,\n",
       "       -4.88710077e-03,  4.07712497e-02, -2.11404953e-02, -6.65475354e-02,\n",
       "       -2.49634106e-02,  7.00121447e-02, -1.17156968e-01, -5.84839173e-02,\n",
       "        4.97778617e-02,  1.01749957e-01, -3.59600186e-02, -9.56262872e-02,\n",
       "        3.94941755e-02, -3.95264402e-02,  5.09626139e-03,  1.31008150e-02,\n",
       "        4.69501242e-02,  2.61318195e-03,  6.58028275e-02,  6.58842176e-02,\n",
       "        6.99135661e-02,  1.29644321e-02, -5.41506298e-02, -1.72850154e-02,\n",
       "       -3.19071412e-02,  4.69788127e-02, -1.33141279e-01,  1.23163487e-03,\n",
       "        1.69172242e-01, -8.56802091e-02, -1.34205591e-04, -5.50073162e-02,\n",
       "        1.36591960e-04,  6.28631264e-02, -4.41711843e-02, -2.41946541e-02,\n",
       "        1.05188206e-01,  1.37006622e-02, -6.14497922e-02,  1.01789102e-01,\n",
       "       -2.95673274e-02,  1.32499319e-02, -5.33641540e-02,  3.21917534e-02,\n",
       "        9.02101547e-02,  1.13407616e-02,  4.39130925e-02,  1.31194741e-01,\n",
       "       -7.10341474e-03, -3.31245624e-02, -1.27215292e-02, -7.37554356e-02,\n",
       "        1.27353266e-01,  9.58303548e-03, -3.09928153e-02, -2.08364353e-02,\n",
       "        8.35525468e-02,  4.45486493e-02,  1.29520848e-01, -6.75042272e-02,\n",
       "       -6.84149638e-02,  1.24505714e-01,  2.66294815e-02,  9.39572752e-02,\n",
       "       -4.44336124e-02, -2.99546663e-02, -2.77036000e-02, -4.75453027e-02,\n",
       "       -1.64579134e-02, -3.25933448e-03, -3.32748555e-02, -9.08990651e-02,\n",
       "        1.63997933e-02, -3.66914906e-02, -5.30135632e-02, -5.71694945e-05,\n",
       "        1.02820456e-01, -1.17129304e-01, -1.05471509e-02,  1.74064860e-02,\n",
       "        4.42728177e-02, -6.88729510e-02, -3.25286798e-02, -2.19826633e-03,\n",
       "        3.36107649e-02,  2.09328812e-02, -8.07534251e-03,  1.18271500e-01,\n",
       "       -2.10630968e-02,  2.88761687e-02,  4.53365445e-02,  6.43155575e-02,\n",
       "       -8.44216272e-02,  5.62956631e-02,  5.41860759e-02,  3.77350114e-02,\n",
       "       -3.19306888e-02, -3.85358371e-02,  1.01269454e-01,  2.43571866e-02,\n",
       "        1.06764898e-01,  7.47308927e-03,  4.36143950e-02, -6.71425015e-02,\n",
       "        7.50950575e-02,  1.00369997e-01, -2.40720548e-02,  1.73633508e-02,\n",
       "       -2.17274409e-02,  1.01581596e-01,  7.24650994e-02,  6.80832267e-02,\n",
       "       -8.47909898e-02,  4.47901636e-02, -2.84505431e-02,  5.49901649e-02,\n",
       "        4.74655777e-02,  3.96110639e-02, -2.44157631e-02,  8.73481557e-02,\n",
       "       -8.83457512e-02,  5.11753596e-02, -1.30727768e-01, -5.45120537e-02,\n",
       "       -8.07918515e-03, -4.95705120e-02, -5.39761893e-02, -1.21401753e-02,\n",
       "       -1.47453733e-02,  5.19042164e-02,  2.05320735e-02,  3.60702872e-02,\n",
       "        1.71205010e-02, -9.09275040e-02, -7.98376501e-02,  3.51614207e-02,\n",
       "       -5.18463030e-02, -5.36627956e-02,  2.01170258e-02,  4.80531491e-02,\n",
       "       -6.47662506e-02,  3.60471196e-02, -5.19331396e-02,  6.21602461e-02,\n",
       "       -4.58884425e-02,  7.99817294e-02,  6.80372939e-02,  7.01729953e-02,\n",
       "       -4.07333560e-02,  9.73660313e-03,  1.00854207e-02, -2.06656870e-03,\n",
       "       -3.65987383e-02, -6.13117106e-02, -3.08503374e-03,  4.70767766e-02,\n",
       "        4.94239442e-02,  2.28633359e-02, -2.56446265e-02,  7.73186162e-02,\n",
       "       -1.04171112e-01, -7.09574968e-02,  4.37780172e-02, -1.23082381e-02,\n",
       "        7.17687458e-02, -4.70861644e-02,  6.64028674e-02,  1.17795527e-01,\n",
       "       -1.42040318e-02, -3.79674360e-02,  2.09062770e-02, -3.66990790e-02,\n",
       "        8.47946852e-02,  1.49540663e-01, -3.87561396e-02,  2.28375085e-02,\n",
       "       -4.56620045e-02,  1.03488076e-03, -5.18725514e-02,  8.80282596e-02,\n",
       "       -5.18188719e-03, -4.58609983e-02, -2.78821737e-02, -2.93887183e-02,\n",
       "       -4.93167676e-02, -2.98573216e-03, -5.15132621e-02,  1.27962008e-01,\n",
       "       -4.06099930e-02, -4.82286923e-02, -3.32623683e-02,  1.71553716e-02,\n",
       "        1.89754125e-02, -1.12577684e-01, -3.62161025e-02,  8.40960443e-02,\n",
       "        8.64971206e-02,  1.74477845e-02, -9.43794623e-02, -5.58046661e-02,\n",
       "       -1.57771222e-02,  6.96181953e-02, -2.97231581e-02,  2.79053841e-02,\n",
       "        5.13256751e-02, -8.44582543e-02, -1.05101414e-01, -1.81756839e-02,\n",
       "        1.39339224e-01, -4.34840471e-03,  7.59939849e-02,  2.90142428e-02,\n",
       "       -7.89969191e-02,  6.59498060e-03,  2.51222868e-04, -9.81750432e-03,\n",
       "       -7.25546554e-02,  3.19365263e-02,  5.89881390e-02,  1.15455188e-01],\n",
       "      dtype=float32)"
      ]
     },
     "execution_count": 53,
     "metadata": {},
     "output_type": "execute_result"
    }
   ],
   "source": [
    "vector = word_vectors['사랑']\n",
    "vector"
   ]
  },
  {
   "cell_type": "markdown",
   "metadata": {},
   "source": [
    "단어의 유사도가 높은 단어를 가져왔는데, '♥',\"먹먹\"은 비슷하지만, 상관이 없는 '소장', '명복'도 보인다. 빨리 pretrained된 word2vec모델을 가져와서 사용해야겠다고 생각했다.\n"
   ]
  },
  {
   "cell_type": "code",
   "execution_count": 54,
   "metadata": {
    "scrolled": false
   },
   "outputs": [
    {
     "data": {
      "text/plain": [
       "[('남다른', 0.7574701905250549), ('흥미진진', 0.746254026889801), ('먹먹', 0.7453750371932983), ('돌아보', 0.742268443107605), ('♥', 0.7421151399612427), ('느낍니다', 0.7371798753738403), ('소장', 0.7352422475814819), ('乃', 0.7345528602600098), ('였음을', 0.7341737747192383), ('명복', 0.733041524887085)]"
      ]
     },
     "execution_count": 54,
     "metadata": {},
     "output_type": "execute_result"
    }
   ],
   "source": [
    "word_vectors.similar_by_word(\"사랑\")"
   ]
  },
  {
   "cell_type": "markdown",
   "metadata": {},
   "source": [
    "- unicodedecode 에러가 발생해서 3.8.3버전으로 다시 깔았다.- 3.4.0도 깔았다 안되서 명령어를 바꿨다."
   ]
  },
  {
   "cell_type": "code",
   "execution_count": 55,
   "metadata": {},
   "outputs": [],
   "source": [
    "# pip install --upgrade gensim==3.8.3 # 에러가 나서 다시 깔았다"
   ]
  },
  {
   "cell_type": "code",
   "execution_count": 56,
   "metadata": {},
   "outputs": [
    {
     "data": {
      "text/plain": [
       "'/aiffel/aiffel/sentiment_classification'"
      ]
     },
     "execution_count": 56,
     "metadata": {},
     "output_type": "execute_result"
    }
   ],
   "source": [
    "pwd"
   ]
  },
  {
   "cell_type": "code",
   "execution_count": 57,
   "metadata": {
    "scrolled": true
   },
   "outputs": [
    {
     "name": "stdout",
     "output_type": "stream",
     "text": [
      "/aiffel/aiffel/sentiment_classification/data\n"
     ]
    }
   ],
   "source": [
    "cd data"
   ]
  },
  {
   "cell_type": "code",
   "execution_count": 58,
   "metadata": {},
   "outputs": [
    {
     "name": "stdout",
     "output_type": "stream",
     "text": [
      "\u001b[0m\u001b[01;36mGoogleNews-vectors-negative300.bin.gz\u001b[0m@  ko.zip              word2vec.txt\r\n",
      "ko.bin                                  \u001b[01;36mratings_test.txt\u001b[0m@\r\n",
      "ko.tsv                                  \u001b[01;36mratings_train.txt\u001b[0m@\r\n"
     ]
    }
   ],
   "source": [
    "ls"
   ]
  },
  {
   "cell_type": "code",
   "execution_count": 62,
   "metadata": {},
   "outputs": [
    {
     "name": "stderr",
     "output_type": "stream",
     "text": [
      "/tmp/ipykernel_10345/3419039723.py:7: DeprecationWarning: Call to deprecated `__getitem__` (Method will be removed in 4.0.0, use self.wv.__getitem__() instead).\n",
      "  vector = word2vec['사랑']\n"
     ]
    },
    {
     "data": {
      "text/plain": [
       "array([-1.3740246 , -1.7353463 ,  3.3915305 , -2.569253  , -1.4016607 ,\n",
       "        1.4556127 ,  0.9414557 ,  1.9207907 ,  0.16471806,  0.4838317 ,\n",
       "       -0.8547181 ,  2.0879807 ,  0.86741775,  0.87539405, -0.09962013,\n",
       "        0.22928311, -1.1858722 ,  0.00858838,  1.4999928 , -0.16196461,\n",
       "       -0.35184434, -0.92390764,  1.0849575 ,  0.3025011 ,  2.7021565 ,\n",
       "       -1.0263684 ,  0.32864776, -0.76589465, -2.510981  , -0.66225356,\n",
       "        2.8434615 ,  0.50130975, -1.021874  , -1.4366034 ,  1.1110784 ,\n",
       "        0.5812605 , -0.5830406 , -0.5785423 ,  1.3634988 ,  2.3074338 ,\n",
       "       -1.4314893 ,  0.45745876,  1.1073523 , -3.2135262 , -0.2898375 ,\n",
       "       -1.1622221 ,  1.2369208 , -0.7622987 , -0.37757635,  1.1376442 ,\n",
       "        0.01065568, -0.69105595,  1.5159112 ,  1.1534518 , -1.0119992 ,\n",
       "       -0.5757404 ,  1.1349088 , -1.1289831 ,  0.13004152,  2.0451715 ,\n",
       "       -0.23940353,  1.3604902 ,  0.72700524,  0.32545742,  1.0612459 ,\n",
       "        0.42252553,  1.1442151 ,  2.8774905 ,  2.4377263 , -1.340305  ,\n",
       "        0.12629706, -0.07772489, -0.59053177, -0.19007324,  0.1396541 ,\n",
       "       -1.8655105 ,  0.9401054 ,  0.5150856 ,  0.7795373 , -0.86505556,\n",
       "        0.11842118, -1.8303713 ,  1.337177  , -1.0102932 , -0.37180334,\n",
       "        0.00893255, -0.49141577, -1.05802   , -2.5987291 ,  0.9731856 ,\n",
       "        0.34080654, -2.5973568 ,  1.0046519 , -1.3914212 , -0.6504351 ,\n",
       "       -0.9010805 , -1.1341541 ,  0.75565654,  1.2941337 ,  0.0880572 ,\n",
       "       -1.0341461 , -0.1750075 , -0.01880708, -1.0835075 , -2.0333962 ,\n",
       "        1.1372623 ,  1.0626172 , -1.8369784 , -2.2662086 , -3.382057  ,\n",
       "        1.6751666 , -0.2988223 , -0.25563756, -1.5594274 ,  0.6313433 ,\n",
       "       -1.2667153 , -1.6857744 , -1.0949599 ,  0.7742313 , -0.6095523 ,\n",
       "        3.19503   ,  0.13200459,  1.7937473 , -2.8782516 ,  1.3821276 ,\n",
       "        2.2895143 ,  0.0741943 , -0.41046414,  1.438796  ,  0.19373988,\n",
       "        1.4294034 ,  1.5025262 ,  1.4849502 ,  1.5754777 ,  2.7793512 ,\n",
       "       -0.6885003 , -0.30154693, -1.708323  ,  1.1030879 , -2.2597387 ,\n",
       "        1.1909146 ,  2.4399316 ,  0.3990314 ,  0.904154  ,  0.5454401 ,\n",
       "       -1.3235748 , -0.64812386,  0.22390233,  0.9657619 , -0.47360668,\n",
       "       -0.10278235, -1.0679734 , -0.91414386,  0.92069   ,  0.3549338 ,\n",
       "        0.32858834,  0.84870636,  3.596926  , -1.6651102 ,  0.23658653,\n",
       "        1.0515738 ,  0.40531915, -0.773514  , -0.93460965, -0.3946274 ,\n",
       "       -1.5657727 ,  1.183652  ,  2.5277    ,  0.57700926,  1.7051374 ,\n",
       "       -1.8249958 , -2.0328498 ,  0.6617798 ,  0.85747904,  0.31782728,\n",
       "       -1.1660796 ,  0.32923874,  2.2055087 , -0.12782003,  2.0455444 ,\n",
       "       -0.1724252 ,  0.46001154,  1.559042  , -1.6152996 , -0.84242785,\n",
       "        0.7553168 ,  0.39734274,  0.07714175,  0.05610155,  0.32837135,\n",
       "        1.0220716 ,  1.3816743 ,  0.8049544 ,  0.28728685, -0.97610044,\n",
       "        0.8861181 , -0.01250968, -1.4845604 , -1.5236791 , -1.5451258 ],\n",
       "      dtype=float32)"
      ]
     },
     "execution_count": 62,
     "metadata": {},
     "output_type": "execute_result"
    }
   ],
   "source": [
    "from gensim.models import KeyedVectors\n",
    "from gensim.models import Word2Vec\n",
    "import os\n",
    "\n",
    "word2vec_path = os.getenv('HOME')+'/aiffel/sentiment_classification/data/ko.bin'\n",
    "word2vec = Word2Vec.load(word2vec_path) # unicodedecode 에러가 나서 load를 사용해서 word2vec을 받아옴\n",
    "vector = word2vec['사랑']\n",
    "vector     # 무려 300dim의 워드 벡터입니다."
   ]
  },
  {
   "cell_type": "code",
   "execution_count": 65,
   "metadata": {
    "scrolled": true
   },
   "outputs": [
    {
     "name": "stderr",
     "output_type": "stream",
     "text": [
      "/tmp/ipykernel_10345/1360476464.py:1: DeprecationWarning: Call to deprecated `similar_by_word` (Method will be removed in 4.0.0, use self.wv.similar_by_word() instead).\n",
      "  word2vec.similar_by_word(\"사랑\")\n"
     ]
    },
    {
     "data": {
      "text/plain": [
       "[('슬픔', 0.7216662764549255), ('행복', 0.6759077310562134), ('절망', 0.6468985080718994), ('기쁨', 0.6458414196968079), ('이별', 0.6334798336029053), ('추억', 0.6320937275886536), ('인생', 0.6216273307800293), ('애정', 0.6206069588661194), ('연인', 0.6186063289642334), ('유혹', 0.5965287685394287)]"
      ]
     },
     "execution_count": 65,
     "metadata": {},
     "output_type": "execute_result"
    }
   ],
   "source": [
    "word2vec.similar_by_word(\"사랑\")"
   ]
  },
  {
   "cell_type": "markdown",
   "metadata": {},
   "source": [
    "### 내가 만들었던 모델과 비교해보면 모든 단어들이 사랑과 관련된 단어들이 나온 것을 알수 있다."
   ]
  },
  {
   "cell_type": "code",
   "execution_count": 66,
   "metadata": {
    "scrolled": true
   },
   "outputs": [
    {
     "name": "stderr",
     "output_type": "stream",
     "text": [
      "/tmp/ipykernel_10345/1730871920.py:7: DeprecationWarning: Call to deprecated `__contains__` (Method will be removed in 4.0.0, use self.wv.__contains__() instead).\n",
      "  if index_to_word[i] in word2vec:\n",
      "/tmp/ipykernel_10345/1730871920.py:8: DeprecationWarning: Call to deprecated `__getitem__` (Method will be removed in 4.0.0, use self.wv.__getitem__() instead).\n",
      "  embedding_matrix[i] = word2vec[index_to_word[i]]\n"
     ]
    }
   ],
   "source": [
    "vocab_size = 10000    # 어휘 사전의 크기입니다(10,000개의 단어)\n",
    "word_vector_dim = 200  # 워드 벡터의 차원수\n",
    "embedding_matrix = np.random.rand(vocab_size, word_vector_dim)\n",
    "\n",
    "# embedding_matrix에 Word2Vec 워드 벡터를 단어 하나씩마다 차례차례 카피한다.\n",
    "for i in range(4,vocab_size):\n",
    "    if index_to_word[i] in word2vec:\n",
    "        embedding_matrix[i] = word2vec[index_to_word[i]]"
   ]
  },
  {
   "cell_type": "markdown",
   "metadata": {},
   "source": [
    "### 8) 한국어 word2vec 임베딩을 활용해서 성능을 개선한다.\n",
    "- [Pre-trained word vectors of 30+ languages](https://github.com/Kyubyong/wordvectors)\n",
    "\n",
    "위 링크에서 적절한 ko.bin을 찾아 이용하세요. 그리고 gensim 버전을 3.x.x로 낮춰야 오류가 나지 않습니다."
   ]
  },
  {
   "cell_type": "code",
   "execution_count": 71,
   "metadata": {},
   "outputs": [],
   "source": [
    "from tensorflow.keras.initializers import Constant\n",
    "from keras.layers import Dropout\n",
    "def rnn(num_vocab=10000, dim=200,hidden=8):\n",
    "    maxlen=45\n",
    "    vocab_size = num_vocab\n",
    "    word_vector_dim = dim  # 단어 하나를 표현하는 임베딩 벡터의 차원수입니다. \n",
    "\n",
    "    model = tf.keras.Sequential()\n",
    "    model.add(tf.keras.layers.Embedding(vocab_size, \n",
    "                                        word_vector_dim, \n",
    "                                        embeddings_initializer=Constant(embedding_matrix),\n",
    "                                        input_length=maxlen,\n",
    "                                        trainable=True))\n",
    "    model.add(tf.keras.layers.LSTM(hidden))   # 가장 널리 쓰이는 RNN인 LSTM 레이어를 사용하였습니다. 이때 LSTM state 벡터의 차원수는 8로 하였습니다. (변경 가능)\n",
    "    model.add(tf.keras.layers.Dense(hidden, activation='relu'))\n",
    "    model.add(Dropout(0.8)) # 오버피팅 문제 때문에 Dropout을 추가했다.\n",
    "    model.add(tf.keras.layers.Dense(1, activation='sigmoid'))  # 최종 출력은 긍정/부정을 나타내는 1dim 입니다.\n",
    "\n",
    "    model.summary()\n",
    "    return model"
   ]
  },
  {
   "cell_type": "markdown",
   "metadata": {},
   "source": [
    "## 하이퍼 파라미터 튜닝"
   ]
  },
  {
   "cell_type": "code",
   "execution_count": 93,
   "metadata": {},
   "outputs": [
    {
     "name": "stdout",
     "output_type": "stream",
     "text": [
      "Model: \"sequential_14\"\n",
      "_________________________________________________________________\n",
      "Layer (type)                 Output Shape              Param #   \n",
      "=================================================================\n",
      "embedding_13 (Embedding)     (None, 45, 200)           2000000   \n",
      "_________________________________________________________________\n",
      "lstm_10 (LSTM)               (None, 8)                 6688      \n",
      "_________________________________________________________________\n",
      "dense_26 (Dense)             (None, 8)                 72        \n",
      "_________________________________________________________________\n",
      "dropout_13 (Dropout)         (None, 8)                 0         \n",
      "_________________________________________________________________\n",
      "dense_27 (Dense)             (None, 1)                 9         \n",
      "=================================================================\n",
      "Total params: 2,006,769\n",
      "Trainable params: 2,006,769\n",
      "Non-trainable params: 0\n",
      "_________________________________________________________________\n",
      "Epoch 1/15\n",
      "914/914 [==============================] - 7s 6ms/step - loss: 0.6942 - accuracy: 0.4987 - val_loss: 0.6926 - val_accuracy: 0.5021\n",
      "Epoch 2/15\n",
      "914/914 [==============================] - 6s 6ms/step - loss: 0.6926 - accuracy: 0.5008 - val_loss: 0.6916 - val_accuracy: 0.5058\n",
      "Epoch 3/15\n",
      "914/914 [==============================] - 6s 6ms/step - loss: 0.6221 - accuracy: 0.6088 - val_loss: 0.4894 - val_accuracy: 0.8120\n",
      "Epoch 4/15\n",
      "914/914 [==============================] - 6s 6ms/step - loss: 0.5465 - accuracy: 0.6842 - val_loss: 0.4288 - val_accuracy: 0.8298\n",
      "Epoch 5/15\n",
      "914/914 [==============================] - 5s 6ms/step - loss: 0.5002 - accuracy: 0.7362 - val_loss: 0.3971 - val_accuracy: 0.8341\n",
      "Epoch 6/15\n",
      "914/914 [==============================] - 6s 6ms/step - loss: 0.4844 - accuracy: 0.7464 - val_loss: 0.3825 - val_accuracy: 0.8427\n",
      "Epoch 7/15\n",
      "914/914 [==============================] - 6s 6ms/step - loss: 0.4742 - accuracy: 0.7501 - val_loss: 0.3810 - val_accuracy: 0.8454\n",
      "Epoch 8/15\n",
      "914/914 [==============================] - 6s 6ms/step - loss: 0.4671 - accuracy: 0.7531 - val_loss: 0.3745 - val_accuracy: 0.8442\n",
      "Epoch 9/15\n",
      "914/914 [==============================] - 6s 6ms/step - loss: 0.4588 - accuracy: 0.7579 - val_loss: 0.3651 - val_accuracy: 0.8457\n",
      "Epoch 10/15\n",
      "914/914 [==============================] - 6s 6ms/step - loss: 0.4502 - accuracy: 0.7635 - val_loss: 0.3641 - val_accuracy: 0.8441\n",
      "Epoch 11/15\n",
      "914/914 [==============================] - 5s 6ms/step - loss: 0.4464 - accuracy: 0.7657 - val_loss: 0.3659 - val_accuracy: 0.8389\n",
      "Epoch 12/15\n",
      "914/914 [==============================] - 6s 6ms/step - loss: 0.4415 - accuracy: 0.7673 - val_loss: 0.3653 - val_accuracy: 0.8424\n",
      "Epoch 13/15\n",
      "914/914 [==============================] - 5s 6ms/step - loss: 0.4334 - accuracy: 0.7721 - val_loss: 0.3636 - val_accuracy: 0.8444\n",
      "Epoch 14/15\n",
      "914/914 [==============================] - 5s 6ms/step - loss: 0.4287 - accuracy: 0.7744 - val_loss: 0.3636 - val_accuracy: 0.8452\n",
      "Epoch 15/15\n",
      "914/914 [==============================] - 5s 6ms/step - loss: 0.4241 - accuracy: 0.7759 - val_loss: 0.3657 - val_accuracy: 0.8436\n",
      "Model: \"sequential_15\"\n",
      "_________________________________________________________________\n",
      "Layer (type)                 Output Shape              Param #   \n",
      "=================================================================\n",
      "embedding_14 (Embedding)     (None, 45, 200)           2000000   \n",
      "_________________________________________________________________\n",
      "lstm_11 (LSTM)               (None, 8)                 6688      \n",
      "_________________________________________________________________\n",
      "dense_28 (Dense)             (None, 8)                 72        \n",
      "_________________________________________________________________\n",
      "dropout_14 (Dropout)         (None, 8)                 0         \n",
      "_________________________________________________________________\n",
      "dense_29 (Dense)             (None, 1)                 9         \n",
      "=================================================================\n",
      "Total params: 2,006,769\n",
      "Trainable params: 2,006,769\n",
      "Non-trainable params: 0\n",
      "_________________________________________________________________\n",
      "Epoch 1/15\n",
      "409/409 [==============================] - 4s 7ms/step - loss: 0.6751 - accuracy: 0.5381 - val_loss: 0.5803 - val_accuracy: 0.7607\n",
      "Epoch 2/15\n",
      "409/409 [==============================] - 3s 6ms/step - loss: 0.6032 - accuracy: 0.6388 - val_loss: 0.5081 - val_accuracy: 0.8083\n",
      "Epoch 3/15\n",
      "409/409 [==============================] - 3s 6ms/step - loss: 0.5339 - accuracy: 0.7362 - val_loss: 0.4259 - val_accuracy: 0.8343\n",
      "Epoch 4/15\n",
      "409/409 [==============================] - 3s 7ms/step - loss: 0.4985 - accuracy: 0.7612 - val_loss: 0.4010 - val_accuracy: 0.8396\n",
      "Epoch 5/15\n",
      "409/409 [==============================] - 3s 6ms/step - loss: 0.4848 - accuracy: 0.7687 - val_loss: 0.3920 - val_accuracy: 0.8418\n",
      "Epoch 6/15\n",
      "409/409 [==============================] - 3s 6ms/step - loss: 0.4730 - accuracy: 0.7760 - val_loss: 0.3856 - val_accuracy: 0.8440\n",
      "Epoch 7/15\n",
      "409/409 [==============================] - 3s 6ms/step - loss: 0.4607 - accuracy: 0.7816 - val_loss: 0.3788 - val_accuracy: 0.8466\n",
      "Epoch 8/15\n",
      "409/409 [==============================] - 3s 6ms/step - loss: 0.4566 - accuracy: 0.7829 - val_loss: 0.3813 - val_accuracy: 0.8370\n",
      "Epoch 9/15\n",
      "409/409 [==============================] - 3s 6ms/step - loss: 0.4485 - accuracy: 0.7872 - val_loss: 0.3772 - val_accuracy: 0.8491\n",
      "Epoch 10/15\n",
      "409/409 [==============================] - 3s 6ms/step - loss: 0.4407 - accuracy: 0.7929 - val_loss: 0.3782 - val_accuracy: 0.8444\n",
      "Epoch 11/15\n",
      "409/409 [==============================] - 3s 6ms/step - loss: 0.4357 - accuracy: 0.7949 - val_loss: 0.3764 - val_accuracy: 0.8433\n",
      "Epoch 12/15\n",
      "409/409 [==============================] - 3s 6ms/step - loss: 0.4302 - accuracy: 0.7971 - val_loss: 0.3776 - val_accuracy: 0.8443\n",
      "Epoch 13/15\n",
      "409/409 [==============================] - 3s 6ms/step - loss: 0.4250 - accuracy: 0.8004 - val_loss: 0.3747 - val_accuracy: 0.8472\n",
      "Epoch 14/15\n",
      "409/409 [==============================] - 3s 6ms/step - loss: 0.4206 - accuracy: 0.8024 - val_loss: 0.3797 - val_accuracy: 0.8427\n",
      "Epoch 15/15\n",
      "409/409 [==============================] - 3s 6ms/step - loss: 0.4137 - accuracy: 0.8053 - val_loss: 0.3894 - val_accuracy: 0.8443\n",
      "Model: \"sequential_16\"\n",
      "_________________________________________________________________\n",
      "Layer (type)                 Output Shape              Param #   \n",
      "=================================================================\n",
      "embedding_15 (Embedding)     (None, 45, 200)           2000000   \n",
      "_________________________________________________________________\n",
      "lstm_12 (LSTM)               (None, 8)                 6688      \n",
      "_________________________________________________________________\n",
      "dense_30 (Dense)             (None, 8)                 72        \n",
      "_________________________________________________________________\n",
      "dropout_15 (Dropout)         (None, 8)                 0         \n",
      "_________________________________________________________________\n",
      "dense_31 (Dense)             (None, 1)                 9         \n",
      "=================================================================\n",
      "Total params: 2,006,769\n",
      "Trainable params: 2,006,769\n",
      "Non-trainable params: 0\n",
      "_________________________________________________________________\n",
      "Epoch 1/15\n",
      "229/229 [==============================] - 3s 9ms/step - loss: 0.6942 - accuracy: 0.5001 - val_loss: 0.6930 - val_accuracy: 0.4998\n",
      "Epoch 2/15\n",
      "229/229 [==============================] - 2s 7ms/step - loss: 0.6929 - accuracy: 0.5013 - val_loss: 0.6927 - val_accuracy: 0.5010\n",
      "Epoch 3/15\n",
      "229/229 [==============================] - 2s 7ms/step - loss: 0.6927 - accuracy: 0.5007 - val_loss: 0.6927 - val_accuracy: 0.5027\n",
      "Epoch 4/15\n",
      "229/229 [==============================] - 2s 7ms/step - loss: 0.6925 - accuracy: 0.5029 - val_loss: 0.6921 - val_accuracy: 0.5038\n",
      "Epoch 5/15\n",
      "229/229 [==============================] - 2s 7ms/step - loss: 0.6859 - accuracy: 0.5241 - val_loss: 0.6120 - val_accuracy: 0.7188\n",
      "Epoch 6/15\n",
      "229/229 [==============================] - 2s 7ms/step - loss: 0.5844 - accuracy: 0.6904 - val_loss: 0.4933 - val_accuracy: 0.7985\n",
      "Epoch 7/15\n",
      "229/229 [==============================] - 2s 7ms/step - loss: 0.5312 - accuracy: 0.7256 - val_loss: 0.4288 - val_accuracy: 0.8253\n",
      "Epoch 8/15\n",
      "229/229 [==============================] - 2s 7ms/step - loss: 0.5116 - accuracy: 0.7356 - val_loss: 0.4066 - val_accuracy: 0.8388\n",
      "Epoch 9/15\n",
      "229/229 [==============================] - 2s 7ms/step - loss: 0.4978 - accuracy: 0.7453 - val_loss: 0.3988 - val_accuracy: 0.8406\n",
      "Epoch 10/15\n",
      "229/229 [==============================] - 2s 7ms/step - loss: 0.4883 - accuracy: 0.7530 - val_loss: 0.3921 - val_accuracy: 0.8403\n",
      "Epoch 11/15\n",
      "229/229 [==============================] - 2s 7ms/step - loss: 0.4692 - accuracy: 0.7741 - val_loss: 0.3809 - val_accuracy: 0.8425\n",
      "Epoch 12/15\n",
      "229/229 [==============================] - 2s 7ms/step - loss: 0.4639 - accuracy: 0.7778 - val_loss: 0.3794 - val_accuracy: 0.8453\n",
      "Epoch 13/15\n",
      "229/229 [==============================] - 2s 7ms/step - loss: 0.4552 - accuracy: 0.7822 - val_loss: 0.3796 - val_accuracy: 0.8417\n",
      "Epoch 14/15\n",
      "229/229 [==============================] - 2s 7ms/step - loss: 0.4507 - accuracy: 0.7867 - val_loss: 0.3740 - val_accuracy: 0.8441\n",
      "Epoch 15/15\n",
      "229/229 [==============================] - 2s 7ms/step - loss: 0.4468 - accuracy: 0.7881 - val_loss: 0.3773 - val_accuracy: 0.8441\n",
      "Model: \"sequential_17\"\n",
      "_________________________________________________________________\n",
      "Layer (type)                 Output Shape              Param #   \n",
      "=================================================================\n",
      "embedding_16 (Embedding)     (None, 45, 200)           2000000   \n",
      "_________________________________________________________________\n",
      "lstm_13 (LSTM)               (None, 16)                13888     \n",
      "_________________________________________________________________\n",
      "dense_32 (Dense)             (None, 16)                272       \n",
      "_________________________________________________________________\n",
      "dropout_16 (Dropout)         (None, 16)                0         \n",
      "_________________________________________________________________\n",
      "dense_33 (Dense)             (None, 1)                 17        \n",
      "=================================================================\n",
      "Total params: 2,014,177\n",
      "Trainable params: 2,014,177\n",
      "Non-trainable params: 0\n",
      "_________________________________________________________________\n",
      "Epoch 1/15\n",
      "914/914 [==============================] - 7s 6ms/step - loss: 0.6932 - accuracy: 0.4982 - val_loss: 0.6924 - val_accuracy: 0.5047\n",
      "Epoch 2/15\n",
      "914/914 [==============================] - 5s 6ms/step - loss: 0.6753 - accuracy: 0.5359 - val_loss: 0.5176 - val_accuracy: 0.7805\n",
      "Epoch 3/15\n",
      "914/914 [==============================] - 5s 6ms/step - loss: 0.5110 - accuracy: 0.7421 - val_loss: 0.3864 - val_accuracy: 0.8354\n",
      "Epoch 4/15\n",
      "914/914 [==============================] - 6s 6ms/step - loss: 0.4510 - accuracy: 0.7815 - val_loss: 0.3653 - val_accuracy: 0.8369\n",
      "Epoch 5/15\n",
      "914/914 [==============================] - 5s 6ms/step - loss: 0.4115 - accuracy: 0.7926 - val_loss: 0.3457 - val_accuracy: 0.8494\n",
      "Epoch 6/15\n",
      "914/914 [==============================] - 5s 6ms/step - loss: 0.3910 - accuracy: 0.8108 - val_loss: 0.3435 - val_accuracy: 0.8489\n",
      "Epoch 7/15\n",
      "914/914 [==============================] - 5s 6ms/step - loss: 0.3673 - accuracy: 0.8314 - val_loss: 0.3452 - val_accuracy: 0.8483\n",
      "Epoch 8/15\n",
      "914/914 [==============================] - 5s 6ms/step - loss: 0.3519 - accuracy: 0.8398 - val_loss: 0.3538 - val_accuracy: 0.8503\n",
      "Epoch 9/15\n",
      "914/914 [==============================] - 5s 6ms/step - loss: 0.3378 - accuracy: 0.8464 - val_loss: 0.3585 - val_accuracy: 0.8488\n",
      "Epoch 10/15\n",
      "914/914 [==============================] - 6s 6ms/step - loss: 0.3280 - accuracy: 0.8495 - val_loss: 0.3668 - val_accuracy: 0.8469\n",
      "Epoch 11/15\n",
      "914/914 [==============================] - 5s 6ms/step - loss: 0.3160 - accuracy: 0.8552 - val_loss: 0.3739 - val_accuracy: 0.8480\n",
      "Epoch 12/15\n",
      "914/914 [==============================] - 6s 6ms/step - loss: 0.3050 - accuracy: 0.8604 - val_loss: 0.3807 - val_accuracy: 0.8465\n",
      "Epoch 13/15\n",
      "914/914 [==============================] - 5s 6ms/step - loss: 0.2933 - accuracy: 0.8643 - val_loss: 0.4068 - val_accuracy: 0.8464\n",
      "Epoch 14/15\n",
      "914/914 [==============================] - 5s 6ms/step - loss: 0.2869 - accuracy: 0.8665 - val_loss: 0.4149 - val_accuracy: 0.8441\n",
      "Epoch 15/15\n",
      "914/914 [==============================] - 5s 6ms/step - loss: 0.2789 - accuracy: 0.8708 - val_loss: 0.4335 - val_accuracy: 0.8435\n",
      "Model: \"sequential_18\"\n",
      "_________________________________________________________________\n",
      "Layer (type)                 Output Shape              Param #   \n",
      "=================================================================\n",
      "embedding_17 (Embedding)     (None, 45, 200)           2000000   \n",
      "_________________________________________________________________\n",
      "lstm_14 (LSTM)               (None, 16)                13888     \n",
      "_________________________________________________________________\n",
      "dense_34 (Dense)             (None, 16)                272       \n",
      "_________________________________________________________________\n",
      "dropout_17 (Dropout)         (None, 16)                0         \n",
      "_________________________________________________________________\n",
      "dense_35 (Dense)             (None, 1)                 17        \n",
      "=================================================================\n",
      "Total params: 2,014,177\n",
      "Trainable params: 2,014,177\n",
      "Non-trainable params: 0\n",
      "_________________________________________________________________\n",
      "Epoch 1/15\n",
      "409/409 [==============================] - 4s 7ms/step - loss: 0.6645 - accuracy: 0.5647 - val_loss: 0.5132 - val_accuracy: 0.7855\n",
      "Epoch 2/15\n",
      "409/409 [==============================] - 3s 6ms/step - loss: 0.4931 - accuracy: 0.7802 - val_loss: 0.3795 - val_accuracy: 0.8361\n",
      "Epoch 3/15\n",
      "409/409 [==============================] - 3s 6ms/step - loss: 0.4285 - accuracy: 0.8166 - val_loss: 0.3547 - val_accuracy: 0.8401\n",
      "Epoch 4/15\n",
      "409/409 [==============================] - 3s 6ms/step - loss: 0.4059 - accuracy: 0.8252 - val_loss: 0.3509 - val_accuracy: 0.8387\n",
      "Epoch 5/15\n",
      "409/409 [==============================] - 3s 6ms/step - loss: 0.3877 - accuracy: 0.8328 - val_loss: 0.3468 - val_accuracy: 0.8483\n",
      "Epoch 6/15\n",
      "409/409 [==============================] - 3s 6ms/step - loss: 0.3726 - accuracy: 0.8391 - val_loss: 0.3464 - val_accuracy: 0.8475\n",
      "Epoch 7/15\n",
      "409/409 [==============================] - 3s 6ms/step - loss: 0.3597 - accuracy: 0.8445 - val_loss: 0.3463 - val_accuracy: 0.8529\n",
      "Epoch 8/15\n",
      "409/409 [==============================] - 3s 6ms/step - loss: 0.3536 - accuracy: 0.8496 - val_loss: 0.3554 - val_accuracy: 0.8516\n",
      "Epoch 9/15\n",
      "409/409 [==============================] - 3s 6ms/step - loss: 0.3402 - accuracy: 0.8526 - val_loss: 0.3684 - val_accuracy: 0.8506\n",
      "Epoch 10/15\n",
      "409/409 [==============================] - 3s 6ms/step - loss: 0.3289 - accuracy: 0.8582 - val_loss: 0.3714 - val_accuracy: 0.8507\n",
      "Epoch 11/15\n",
      "409/409 [==============================] - 3s 6ms/step - loss: 0.3197 - accuracy: 0.8621 - val_loss: 0.3833 - val_accuracy: 0.8496\n",
      "Epoch 12/15\n",
      "409/409 [==============================] - 3s 6ms/step - loss: 0.3070 - accuracy: 0.8676 - val_loss: 0.4154 - val_accuracy: 0.8497\n",
      "Epoch 13/15\n",
      "409/409 [==============================] - 3s 6ms/step - loss: 0.2995 - accuracy: 0.8718 - val_loss: 0.3944 - val_accuracy: 0.8456\n",
      "Epoch 14/15\n",
      "409/409 [==============================] - 3s 6ms/step - loss: 0.2902 - accuracy: 0.8756 - val_loss: 0.4148 - val_accuracy: 0.8459\n",
      "Epoch 15/15\n",
      "409/409 [==============================] - 3s 6ms/step - loss: 0.2805 - accuracy: 0.8775 - val_loss: 0.4246 - val_accuracy: 0.8438\n",
      "Model: \"sequential_19\"\n",
      "_________________________________________________________________\n",
      "Layer (type)                 Output Shape              Param #   \n",
      "=================================================================\n",
      "embedding_18 (Embedding)     (None, 45, 200)           2000000   \n",
      "_________________________________________________________________\n",
      "lstm_15 (LSTM)               (None, 16)                13888     \n",
      "_________________________________________________________________\n",
      "dense_36 (Dense)             (None, 16)                272       \n",
      "_________________________________________________________________\n",
      "dropout_18 (Dropout)         (None, 16)                0         \n",
      "_________________________________________________________________\n",
      "dense_37 (Dense)             (None, 1)                 17        \n",
      "=================================================================\n",
      "Total params: 2,014,177\n",
      "Trainable params: 2,014,177\n",
      "Non-trainable params: 0\n",
      "_________________________________________________________________\n",
      "Epoch 1/15\n",
      "229/229 [==============================] - 3s 8ms/step - loss: 0.6934 - accuracy: 0.5025 - val_loss: 0.6920 - val_accuracy: 0.5045\n",
      "Epoch 2/15\n",
      "229/229 [==============================] - 2s 7ms/step - loss: 0.6654 - accuracy: 0.5519 - val_loss: 0.5053 - val_accuracy: 0.7760\n",
      "Epoch 3/15\n",
      "229/229 [==============================] - 2s 7ms/step - loss: 0.4979 - accuracy: 0.7791 - val_loss: 0.3906 - val_accuracy: 0.8319\n",
      "Epoch 4/15\n",
      "229/229 [==============================] - 2s 7ms/step - loss: 0.4366 - accuracy: 0.8156 - val_loss: 0.3653 - val_accuracy: 0.8418\n",
      "Epoch 5/15\n",
      "229/229 [==============================] - 2s 7ms/step - loss: 0.4079 - accuracy: 0.8306 - val_loss: 0.3479 - val_accuracy: 0.8471\n",
      "Epoch 6/15\n",
      "229/229 [==============================] - 2s 7ms/step - loss: 0.3873 - accuracy: 0.8391 - val_loss: 0.3490 - val_accuracy: 0.8510\n",
      "Epoch 7/15\n",
      "229/229 [==============================] - 2s 7ms/step - loss: 0.3736 - accuracy: 0.8458 - val_loss: 0.3487 - val_accuracy: 0.8511\n",
      "Epoch 8/15\n",
      "229/229 [==============================] - 2s 7ms/step - loss: 0.3613 - accuracy: 0.8521 - val_loss: 0.3501 - val_accuracy: 0.8456\n",
      "Epoch 9/15\n",
      "229/229 [==============================] - 2s 7ms/step - loss: 0.3490 - accuracy: 0.8584 - val_loss: 0.3535 - val_accuracy: 0.8522\n",
      "Epoch 10/15\n",
      "229/229 [==============================] - 2s 7ms/step - loss: 0.3394 - accuracy: 0.8629 - val_loss: 0.3618 - val_accuracy: 0.8480\n",
      "Epoch 11/15\n",
      "229/229 [==============================] - 2s 7ms/step - loss: 0.3298 - accuracy: 0.8680 - val_loss: 0.3757 - val_accuracy: 0.8507\n",
      "Epoch 12/15\n",
      "229/229 [==============================] - 2s 7ms/step - loss: 0.3209 - accuracy: 0.8711 - val_loss: 0.3715 - val_accuracy: 0.8461\n",
      "Epoch 13/15\n",
      "229/229 [==============================] - 2s 7ms/step - loss: 0.3134 - accuracy: 0.8754 - val_loss: 0.3913 - val_accuracy: 0.8503\n",
      "Epoch 14/15\n",
      "229/229 [==============================] - 2s 7ms/step - loss: 0.3052 - accuracy: 0.8780 - val_loss: 0.4057 - val_accuracy: 0.8480\n",
      "Epoch 15/15\n",
      "229/229 [==============================] - 2s 7ms/step - loss: 0.2970 - accuracy: 0.8826 - val_loss: 0.3967 - val_accuracy: 0.8479\n",
      "Model: \"sequential_20\"\n",
      "_________________________________________________________________\n",
      "Layer (type)                 Output Shape              Param #   \n",
      "=================================================================\n",
      "embedding_19 (Embedding)     (None, 45, 200)           2000000   \n",
      "_________________________________________________________________\n",
      "lstm_16 (LSTM)               (None, 32)                29824     \n",
      "_________________________________________________________________\n",
      "dense_38 (Dense)             (None, 32)                1056      \n",
      "_________________________________________________________________\n",
      "dropout_19 (Dropout)         (None, 32)                0         \n",
      "_________________________________________________________________\n",
      "dense_39 (Dense)             (None, 1)                 33        \n",
      "=================================================================\n",
      "Total params: 2,030,913\n",
      "Trainable params: 2,030,913\n",
      "Non-trainable params: 0\n",
      "_________________________________________________________________\n",
      "Epoch 1/15\n",
      "914/914 [==============================] - 7s 6ms/step - loss: 0.6929 - accuracy: 0.5030 - val_loss: 0.6843 - val_accuracy: 0.6113\n",
      "Epoch 2/15\n",
      "914/914 [==============================] - 5s 6ms/step - loss: 0.4898 - accuracy: 0.7828 - val_loss: 0.3702 - val_accuracy: 0.8342\n",
      "Epoch 3/15\n",
      "914/914 [==============================] - 5s 6ms/step - loss: 0.3778 - accuracy: 0.8482 - val_loss: 0.3411 - val_accuracy: 0.8488\n",
      "Epoch 4/15\n",
      "914/914 [==============================] - 5s 6ms/step - loss: 0.3428 - accuracy: 0.8650 - val_loss: 0.3332 - val_accuracy: 0.8515\n",
      "Epoch 5/15\n",
      "914/914 [==============================] - 5s 6ms/step - loss: 0.3152 - accuracy: 0.8773 - val_loss: 0.3471 - val_accuracy: 0.8560\n",
      "Epoch 6/15\n",
      "914/914 [==============================] - 5s 6ms/step - loss: 0.2919 - accuracy: 0.8862 - val_loss: 0.3491 - val_accuracy: 0.8583\n",
      "Epoch 7/15\n",
      "914/914 [==============================] - 5s 6ms/step - loss: 0.2650 - accuracy: 0.8969 - val_loss: 0.3653 - val_accuracy: 0.8583\n",
      "Epoch 8/15\n",
      "914/914 [==============================] - 5s 6ms/step - loss: 0.2478 - accuracy: 0.9049 - val_loss: 0.3875 - val_accuracy: 0.8554\n",
      "Epoch 9/15\n",
      "914/914 [==============================] - 5s 6ms/step - loss: 0.2290 - accuracy: 0.9127 - val_loss: 0.4145 - val_accuracy: 0.8542\n",
      "Epoch 10/15\n",
      "914/914 [==============================] - 5s 6ms/step - loss: 0.2106 - accuracy: 0.9194 - val_loss: 0.4314 - val_accuracy: 0.8543\n",
      "Epoch 11/15\n",
      "914/914 [==============================] - 5s 6ms/step - loss: 0.1948 - accuracy: 0.9254 - val_loss: 0.4426 - val_accuracy: 0.8529\n",
      "Epoch 12/15\n",
      "914/914 [==============================] - 5s 6ms/step - loss: 0.1789 - accuracy: 0.9321 - val_loss: 0.5127 - val_accuracy: 0.8495\n",
      "Epoch 13/15\n",
      "914/914 [==============================] - 5s 6ms/step - loss: 0.1653 - accuracy: 0.9361 - val_loss: 0.5261 - val_accuracy: 0.8507\n",
      "Epoch 14/15\n",
      "914/914 [==============================] - 5s 6ms/step - loss: 0.1563 - accuracy: 0.9406 - val_loss: 0.6155 - val_accuracy: 0.8467\n",
      "Epoch 15/15\n",
      "914/914 [==============================] - 5s 6ms/step - loss: 0.1444 - accuracy: 0.9451 - val_loss: 0.6409 - val_accuracy: 0.8444\n",
      "Model: \"sequential_21\"\n",
      "_________________________________________________________________\n",
      "Layer (type)                 Output Shape              Param #   \n",
      "=================================================================\n",
      "embedding_20 (Embedding)     (None, 45, 200)           2000000   \n",
      "_________________________________________________________________\n",
      "lstm_17 (LSTM)               (None, 32)                29824     \n",
      "_________________________________________________________________\n",
      "dense_40 (Dense)             (None, 32)                1056      \n",
      "_________________________________________________________________\n",
      "dropout_20 (Dropout)         (None, 32)                0         \n",
      "_________________________________________________________________\n",
      "dense_41 (Dense)             (None, 1)                 33        \n",
      "=================================================================\n",
      "Total params: 2,030,913\n",
      "Trainable params: 2,030,913\n",
      "Non-trainable params: 0\n",
      "_________________________________________________________________\n",
      "Epoch 1/15\n",
      "409/409 [==============================] - 4s 7ms/step - loss: 0.6882 - accuracy: 0.5260 - val_loss: 0.6086 - val_accuracy: 0.7249\n",
      "Epoch 2/15\n",
      "409/409 [==============================] - 3s 6ms/step - loss: 0.5178 - accuracy: 0.7878 - val_loss: 0.3809 - val_accuracy: 0.8326\n",
      "Epoch 3/15\n",
      "409/409 [==============================] - 3s 6ms/step - loss: 0.4015 - accuracy: 0.8453 - val_loss: 0.3492 - val_accuracy: 0.8433\n",
      "Epoch 4/15\n",
      "409/409 [==============================] - 3s 6ms/step - loss: 0.3562 - accuracy: 0.8633 - val_loss: 0.3397 - val_accuracy: 0.8524\n",
      "Epoch 5/15\n",
      "409/409 [==============================] - 3s 6ms/step - loss: 0.3299 - accuracy: 0.8739 - val_loss: 0.3360 - val_accuracy: 0.8567\n",
      "Epoch 6/15\n",
      "409/409 [==============================] - 3s 6ms/step - loss: 0.3055 - accuracy: 0.8836 - val_loss: 0.3432 - val_accuracy: 0.8559\n",
      "Epoch 7/15\n",
      "409/409 [==============================] - 3s 6ms/step - loss: 0.2878 - accuracy: 0.8931 - val_loss: 0.3523 - val_accuracy: 0.8567\n",
      "Epoch 8/15\n",
      "409/409 [==============================] - 3s 6ms/step - loss: 0.2700 - accuracy: 0.9005 - val_loss: 0.3605 - val_accuracy: 0.8536\n",
      "Epoch 9/15\n",
      "409/409 [==============================] - 3s 6ms/step - loss: 0.2521 - accuracy: 0.9074 - val_loss: 0.4074 - val_accuracy: 0.8587\n",
      "Epoch 10/15\n",
      "409/409 [==============================] - 3s 6ms/step - loss: 0.2372 - accuracy: 0.9153 - val_loss: 0.4060 - val_accuracy: 0.8535\n",
      "Epoch 11/15\n",
      "409/409 [==============================] - 3s 6ms/step - loss: 0.2199 - accuracy: 0.9212 - val_loss: 0.4510 - val_accuracy: 0.8543\n",
      "Epoch 12/15\n",
      "409/409 [==============================] - 3s 6ms/step - loss: 0.2071 - accuracy: 0.9272 - val_loss: 0.4281 - val_accuracy: 0.8493\n",
      "Epoch 13/15\n",
      "409/409 [==============================] - 3s 6ms/step - loss: 0.1953 - accuracy: 0.9320 - val_loss: 0.4667 - val_accuracy: 0.8464\n",
      "Epoch 14/15\n",
      "409/409 [==============================] - 3s 6ms/step - loss: 0.1839 - accuracy: 0.9367 - val_loss: 0.5228 - val_accuracy: 0.8487\n",
      "Epoch 15/15\n",
      "409/409 [==============================] - 3s 6ms/step - loss: 0.1738 - accuracy: 0.9401 - val_loss: 0.5502 - val_accuracy: 0.8498\n",
      "Model: \"sequential_22\"\n",
      "_________________________________________________________________\n",
      "Layer (type)                 Output Shape              Param #   \n",
      "=================================================================\n",
      "embedding_21 (Embedding)     (None, 45, 200)           2000000   \n",
      "_________________________________________________________________\n",
      "lstm_18 (LSTM)               (None, 32)                29824     \n",
      "_________________________________________________________________\n",
      "dense_42 (Dense)             (None, 32)                1056      \n",
      "_________________________________________________________________\n",
      "dropout_21 (Dropout)         (None, 32)                0         \n",
      "_________________________________________________________________\n",
      "dense_43 (Dense)             (None, 1)                 33        \n",
      "=================================================================\n",
      "Total params: 2,030,913\n",
      "Trainable params: 2,030,913\n",
      "Non-trainable params: 0\n",
      "_________________________________________________________________\n",
      "Epoch 1/15\n",
      "229/229 [==============================] - 4s 9ms/step - loss: 0.6935 - accuracy: 0.5027 - val_loss: 0.6894 - val_accuracy: 0.5078\n",
      "Epoch 2/15\n",
      "229/229 [==============================] - 2s 7ms/step - loss: 0.5462 - accuracy: 0.7375 - val_loss: 0.3908 - val_accuracy: 0.8279\n",
      "Epoch 3/15\n",
      "229/229 [==============================] - 2s 7ms/step - loss: 0.4076 - accuracy: 0.8369 - val_loss: 0.3483 - val_accuracy: 0.8476\n",
      "Epoch 4/15\n",
      "229/229 [==============================] - 2s 7ms/step - loss: 0.3661 - accuracy: 0.8577 - val_loss: 0.3422 - val_accuracy: 0.8492\n",
      "Epoch 5/15\n",
      "229/229 [==============================] - 2s 7ms/step - loss: 0.3406 - accuracy: 0.8695 - val_loss: 0.3337 - val_accuracy: 0.8530\n",
      "Epoch 6/15\n",
      "229/229 [==============================] - 2s 7ms/step - loss: 0.3162 - accuracy: 0.8787 - val_loss: 0.3386 - val_accuracy: 0.8575\n",
      "Epoch 7/15\n",
      "229/229 [==============================] - 2s 7ms/step - loss: 0.2994 - accuracy: 0.8861 - val_loss: 0.3368 - val_accuracy: 0.8587\n",
      "Epoch 8/15\n",
      "229/229 [==============================] - 2s 7ms/step - loss: 0.2826 - accuracy: 0.8938 - val_loss: 0.3513 - val_accuracy: 0.8581\n",
      "Epoch 9/15\n",
      "229/229 [==============================] - 2s 7ms/step - loss: 0.2683 - accuracy: 0.8999 - val_loss: 0.3557 - val_accuracy: 0.8533\n",
      "Epoch 10/15\n",
      "229/229 [==============================] - 2s 7ms/step - loss: 0.2526 - accuracy: 0.9072 - val_loss: 0.3877 - val_accuracy: 0.8564\n",
      "Epoch 11/15\n",
      "229/229 [==============================] - 2s 7ms/step - loss: 0.2364 - accuracy: 0.9127 - val_loss: 0.4003 - val_accuracy: 0.8569\n",
      "Epoch 12/15\n",
      "229/229 [==============================] - 2s 7ms/step - loss: 0.2230 - accuracy: 0.9186 - val_loss: 0.4106 - val_accuracy: 0.8556\n",
      "Epoch 13/15\n",
      "229/229 [==============================] - 2s 7ms/step - loss: 0.2078 - accuracy: 0.9251 - val_loss: 0.4347 - val_accuracy: 0.8456\n",
      "Epoch 14/15\n",
      "229/229 [==============================] - 2s 7ms/step - loss: 0.1984 - accuracy: 0.9295 - val_loss: 0.4736 - val_accuracy: 0.8474\n",
      "Epoch 15/15\n",
      "229/229 [==============================] - 2s 7ms/step - loss: 0.1865 - accuracy: 0.9343 - val_loss: 0.4775 - val_accuracy: 0.8487\n",
      "Model: \"sequential_23\"\n",
      "_________________________________________________________________\n",
      "Layer (type)                 Output Shape              Param #   \n",
      "=================================================================\n",
      "embedding_22 (Embedding)     (None, 45, 200)           2000000   \n",
      "_________________________________________________________________\n",
      "lstm_19 (LSTM)               (None, 64)                67840     \n",
      "_________________________________________________________________\n",
      "dense_44 (Dense)             (None, 64)                4160      \n",
      "_________________________________________________________________\n",
      "dropout_22 (Dropout)         (None, 64)                0         \n",
      "_________________________________________________________________\n",
      "dense_45 (Dense)             (None, 1)                 65        \n",
      "=================================================================\n",
      "Total params: 2,072,065\n",
      "Trainable params: 2,072,065\n",
      "Non-trainable params: 0\n",
      "_________________________________________________________________\n",
      "Epoch 1/15\n",
      "914/914 [==============================] - 7s 7ms/step - loss: 0.5939 - accuracy: 0.6378 - val_loss: 0.3821 - val_accuracy: 0.8291\n",
      "Epoch 2/15\n",
      "914/914 [==============================] - 6s 6ms/step - loss: 0.3678 - accuracy: 0.8496 - val_loss: 0.3333 - val_accuracy: 0.8535\n",
      "Epoch 3/15\n",
      "914/914 [==============================] - 6s 6ms/step - loss: 0.3125 - accuracy: 0.8759 - val_loss: 0.3292 - val_accuracy: 0.8547\n",
      "Epoch 4/15\n",
      "914/914 [==============================] - 6s 6ms/step - loss: 0.2791 - accuracy: 0.8908 - val_loss: 0.3268 - val_accuracy: 0.8633\n",
      "Epoch 5/15\n",
      "914/914 [==============================] - 6s 6ms/step - loss: 0.2508 - accuracy: 0.9025 - val_loss: 0.3425 - val_accuracy: 0.8573\n",
      "Epoch 6/15\n",
      "914/914 [==============================] - 6s 6ms/step - loss: 0.2241 - accuracy: 0.9146 - val_loss: 0.3652 - val_accuracy: 0.8603\n",
      "Epoch 7/15\n",
      "914/914 [==============================] - 6s 6ms/step - loss: 0.1980 - accuracy: 0.9257 - val_loss: 0.3865 - val_accuracy: 0.8593\n",
      "Epoch 8/15\n",
      "914/914 [==============================] - 6s 6ms/step - loss: 0.1737 - accuracy: 0.9362 - val_loss: 0.4339 - val_accuracy: 0.8518\n",
      "Epoch 9/15\n",
      "914/914 [==============================] - 6s 6ms/step - loss: 0.1520 - accuracy: 0.9457 - val_loss: 0.4851 - val_accuracy: 0.8564\n",
      "Epoch 10/15\n",
      "914/914 [==============================] - 6s 6ms/step - loss: 0.1316 - accuracy: 0.9535 - val_loss: 0.5049 - val_accuracy: 0.8551\n",
      "Epoch 11/15\n",
      "914/914 [==============================] - 6s 6ms/step - loss: 0.1150 - accuracy: 0.9604 - val_loss: 0.5888 - val_accuracy: 0.8516\n",
      "Epoch 12/15\n",
      "914/914 [==============================] - 6s 6ms/step - loss: 0.1027 - accuracy: 0.9650 - val_loss: 0.6199 - val_accuracy: 0.8470\n",
      "Epoch 13/15\n",
      "914/914 [==============================] - 6s 6ms/step - loss: 0.0908 - accuracy: 0.9693 - val_loss: 0.6371 - val_accuracy: 0.8490\n",
      "Epoch 14/15\n",
      "914/914 [==============================] - 6s 6ms/step - loss: 0.0826 - accuracy: 0.9723 - val_loss: 0.7279 - val_accuracy: 0.8476\n",
      "Epoch 15/15\n",
      "914/914 [==============================] - 6s 6ms/step - loss: 0.0743 - accuracy: 0.9757 - val_loss: 0.8022 - val_accuracy: 0.8439\n",
      "Model: \"sequential_24\"\n",
      "_________________________________________________________________\n",
      "Layer (type)                 Output Shape              Param #   \n",
      "=================================================================\n",
      "embedding_23 (Embedding)     (None, 45, 200)           2000000   \n",
      "_________________________________________________________________\n",
      "lstm_20 (LSTM)               (None, 64)                67840     \n",
      "_________________________________________________________________\n",
      "dense_46 (Dense)             (None, 64)                4160      \n",
      "_________________________________________________________________\n",
      "dropout_23 (Dropout)         (None, 64)                0         \n",
      "_________________________________________________________________\n",
      "dense_47 (Dense)             (None, 1)                 65        \n",
      "=================================================================\n",
      "Total params: 2,072,065\n",
      "Trainable params: 2,072,065\n",
      "Non-trainable params: 0\n",
      "_________________________________________________________________\n",
      "Epoch 1/15\n",
      "409/409 [==============================] - 5s 8ms/step - loss: 0.6389 - accuracy: 0.5983 - val_loss: 0.4758 - val_accuracy: 0.7850\n",
      "Epoch 2/15\n",
      "409/409 [==============================] - 3s 7ms/step - loss: 0.4119 - accuracy: 0.8303 - val_loss: 0.3486 - val_accuracy: 0.8471\n",
      "Epoch 3/15\n",
      "409/409 [==============================] - 3s 7ms/step - loss: 0.3394 - accuracy: 0.8667 - val_loss: 0.3340 - val_accuracy: 0.8547\n",
      "Epoch 4/15\n",
      "409/409 [==============================] - 3s 7ms/step - loss: 0.3027 - accuracy: 0.8822 - val_loss: 0.3275 - val_accuracy: 0.8581\n",
      "Epoch 5/15\n",
      "409/409 [==============================] - 3s 7ms/step - loss: 0.2738 - accuracy: 0.8945 - val_loss: 0.3296 - val_accuracy: 0.8601\n",
      "Epoch 6/15\n",
      "409/409 [==============================] - 3s 7ms/step - loss: 0.2516 - accuracy: 0.9041 - val_loss: 0.3429 - val_accuracy: 0.8636\n",
      "Epoch 7/15\n",
      "409/409 [==============================] - 3s 7ms/step - loss: 0.2276 - accuracy: 0.9132 - val_loss: 0.3585 - val_accuracy: 0.8618\n",
      "Epoch 8/15\n",
      "409/409 [==============================] - 3s 7ms/step - loss: 0.2051 - accuracy: 0.9232 - val_loss: 0.3802 - val_accuracy: 0.8598\n",
      "Epoch 9/15\n",
      "409/409 [==============================] - 3s 7ms/step - loss: 0.1859 - accuracy: 0.9304 - val_loss: 0.4000 - val_accuracy: 0.8577\n",
      "Epoch 10/15\n",
      "409/409 [==============================] - 3s 7ms/step - loss: 0.1669 - accuracy: 0.9388 - val_loss: 0.4243 - val_accuracy: 0.8550\n",
      "Epoch 11/15\n",
      "409/409 [==============================] - 3s 7ms/step - loss: 0.1509 - accuracy: 0.9454 - val_loss: 0.4640 - val_accuracy: 0.8513\n",
      "Epoch 12/15\n",
      "409/409 [==============================] - 3s 7ms/step - loss: 0.1352 - accuracy: 0.9514 - val_loss: 0.4672 - val_accuracy: 0.8507\n",
      "Epoch 13/15\n",
      "409/409 [==============================] - 3s 7ms/step - loss: 0.1201 - accuracy: 0.9583 - val_loss: 0.5238 - val_accuracy: 0.8510\n",
      "Epoch 14/15\n",
      "409/409 [==============================] - 3s 7ms/step - loss: 0.1115 - accuracy: 0.9613 - val_loss: 0.6508 - val_accuracy: 0.8516\n",
      "Epoch 15/15\n",
      "409/409 [==============================] - 3s 7ms/step - loss: 0.0972 - accuracy: 0.9667 - val_loss: 0.6990 - val_accuracy: 0.8468\n",
      "Model: \"sequential_25\"\n",
      "_________________________________________________________________\n",
      "Layer (type)                 Output Shape              Param #   \n",
      "=================================================================\n",
      "embedding_24 (Embedding)     (None, 45, 200)           2000000   \n",
      "_________________________________________________________________\n",
      "lstm_21 (LSTM)               (None, 64)                67840     \n",
      "_________________________________________________________________\n",
      "dense_48 (Dense)             (None, 64)                4160      \n",
      "_________________________________________________________________\n",
      "dropout_24 (Dropout)         (None, 64)                0         \n",
      "_________________________________________________________________\n",
      "dense_49 (Dense)             (None, 1)                 65        \n",
      "=================================================================\n",
      "Total params: 2,072,065\n",
      "Trainable params: 2,072,065\n",
      "Non-trainable params: 0\n",
      "_________________________________________________________________\n",
      "Epoch 1/15\n",
      "229/229 [==============================] - 4s 10ms/step - loss: 0.6838 - accuracy: 0.5310 - val_loss: 0.5505 - val_accuracy: 0.7339\n",
      "Epoch 2/15\n",
      "229/229 [==============================] - 2s 9ms/step - loss: 0.4647 - accuracy: 0.7967 - val_loss: 0.3699 - val_accuracy: 0.8369\n",
      "Epoch 3/15\n",
      "229/229 [==============================] - 2s 9ms/step - loss: 0.3619 - accuracy: 0.8525 - val_loss: 0.3470 - val_accuracy: 0.8473\n",
      "Epoch 4/15\n",
      "229/229 [==============================] - 2s 9ms/step - loss: 0.3193 - accuracy: 0.8723 - val_loss: 0.3328 - val_accuracy: 0.8563\n",
      "Epoch 5/15\n",
      "229/229 [==============================] - 2s 9ms/step - loss: 0.2904 - accuracy: 0.8855 - val_loss: 0.3369 - val_accuracy: 0.8606\n",
      "Epoch 6/15\n",
      "229/229 [==============================] - 2s 9ms/step - loss: 0.2695 - accuracy: 0.8946 - val_loss: 0.3420 - val_accuracy: 0.8625\n",
      "Epoch 7/15\n",
      "229/229 [==============================] - 2s 9ms/step - loss: 0.2474 - accuracy: 0.9039 - val_loss: 0.3494 - val_accuracy: 0.8597\n",
      "Epoch 8/15\n",
      "229/229 [==============================] - 2s 9ms/step - loss: 0.2297 - accuracy: 0.9118 - val_loss: 0.3498 - val_accuracy: 0.8565\n",
      "Epoch 9/15\n",
      "229/229 [==============================] - 2s 9ms/step - loss: 0.2097 - accuracy: 0.9210 - val_loss: 0.3913 - val_accuracy: 0.8584\n",
      "Epoch 10/15\n",
      "229/229 [==============================] - 2s 9ms/step - loss: 0.1912 - accuracy: 0.9291 - val_loss: 0.4085 - val_accuracy: 0.8570\n",
      "Epoch 11/15\n",
      "229/229 [==============================] - 2s 9ms/step - loss: 0.1715 - accuracy: 0.9373 - val_loss: 0.4500 - val_accuracy: 0.8537\n",
      "Epoch 12/15\n",
      "229/229 [==============================] - 2s 9ms/step - loss: 0.1581 - accuracy: 0.9430 - val_loss: 0.4861 - val_accuracy: 0.8527\n",
      "Epoch 13/15\n",
      "229/229 [==============================] - 2s 9ms/step - loss: 0.1458 - accuracy: 0.9482 - val_loss: 0.5095 - val_accuracy: 0.8533\n",
      "Epoch 14/15\n",
      "229/229 [==============================] - 2s 9ms/step - loss: 0.1340 - accuracy: 0.9528 - val_loss: 0.5692 - val_accuracy: 0.8533\n",
      "Epoch 15/15\n",
      "229/229 [==============================] - 2s 9ms/step - loss: 0.1227 - accuracy: 0.9578 - val_loss: 0.6122 - val_accuracy: 0.8492\n"
     ]
    }
   ],
   "source": [
    "tf.random.set_seed(100)\n",
    "hidd=[8,16,32,64]\n",
    "bat=[128, 286, 512]\n",
    "acc={}\n",
    "for i in hidd:\n",
    "    for j in bat:\n",
    "        rnn_model=rnn(hidden=i)\n",
    "        rnn_model.compile(optimizer='adam',loss='binary_crossentropy',metrics=['accuracy'])\n",
    "        rnn_history = rnn_model.fit(x_train,y_train,epochs=15,batch_size=j,\n",
    "                                validation_data=(x_val, y_val),verbose=1)\n",
    "        acc[\"%d-%d\"%(i,j)]=rnn_history\n"
   ]
  },
  {
   "cell_type": "code",
   "execution_count": 94,
   "metadata": {},
   "outputs": [
    {
     "data": {
      "text/html": [
       "<div>\n",
       "<style scoped>\n",
       "    .dataframe tbody tr th:only-of-type {\n",
       "        vertical-align: middle;\n",
       "    }\n",
       "\n",
       "    .dataframe tbody tr th {\n",
       "        vertical-align: top;\n",
       "    }\n",
       "\n",
       "    .dataframe thead th {\n",
       "        text-align: right;\n",
       "    }\n",
       "</style>\n",
       "<table border=\"1\" class=\"dataframe\">\n",
       "  <thead>\n",
       "    <tr style=\"text-align: right;\">\n",
       "      <th></th>\n",
       "      <th>embedding</th>\n",
       "      <th>hidden_size</th>\n",
       "      <th>val_accuracy</th>\n",
       "    </tr>\n",
       "  </thead>\n",
       "  <tbody>\n",
       "    <tr>\n",
       "      <th>0</th>\n",
       "      <td>8</td>\n",
       "      <td>128</td>\n",
       "      <td>0.774826</td>\n",
       "    </tr>\n",
       "    <tr>\n",
       "      <th>1</th>\n",
       "      <td>16</td>\n",
       "      <td>286</td>\n",
       "      <td>0.882911</td>\n",
       "    </tr>\n",
       "    <tr>\n",
       "      <th>2</th>\n",
       "      <td>32</td>\n",
       "      <td>512</td>\n",
       "      <td>0.926607</td>\n",
       "    </tr>\n",
       "  </tbody>\n",
       "</table>\n",
       "</div>"
      ],
      "text/plain": [
       "  embedding hidden_size  val_accuracy\n",
       "0         8         128      0.774826\n",
       "1        16         286      0.882911\n",
       "2        32         512      0.926607"
      ]
     },
     "execution_count": 94,
     "metadata": {},
     "output_type": "execute_result"
    }
   ],
   "source": [
    "loss_df.head()"
   ]
  },
  {
   "cell_type": "code",
   "execution_count": 95,
   "metadata": {},
   "outputs": [
    {
     "data": {
      "text/html": [
       "<div>\n",
       "<style scoped>\n",
       "    .dataframe tbody tr th:only-of-type {\n",
       "        vertical-align: middle;\n",
       "    }\n",
       "\n",
       "    .dataframe tbody tr th {\n",
       "        vertical-align: top;\n",
       "    }\n",
       "\n",
       "    .dataframe thead th {\n",
       "        text-align: right;\n",
       "    }\n",
       "</style>\n",
       "<table border=\"1\" class=\"dataframe\">\n",
       "  <thead>\n",
       "    <tr style=\"text-align: right;\">\n",
       "      <th></th>\n",
       "      <th>hidden_size</th>\n",
       "      <th>bat</th>\n",
       "      <th>val_accuracy</th>\n",
       "    </tr>\n",
       "  </thead>\n",
       "  <tbody>\n",
       "    <tr>\n",
       "      <th>9</th>\n",
       "      <td>64</td>\n",
       "      <td>128</td>\n",
       "      <td>0.975707</td>\n",
       "    </tr>\n",
       "    <tr>\n",
       "      <th>10</th>\n",
       "      <td>64</td>\n",
       "      <td>286</td>\n",
       "      <td>0.966719</td>\n",
       "    </tr>\n",
       "    <tr>\n",
       "      <th>11</th>\n",
       "      <td>64</td>\n",
       "      <td>512</td>\n",
       "      <td>0.957775</td>\n",
       "    </tr>\n",
       "    <tr>\n",
       "      <th>6</th>\n",
       "      <td>32</td>\n",
       "      <td>128</td>\n",
       "      <td>0.945060</td>\n",
       "    </tr>\n",
       "    <tr>\n",
       "      <th>7</th>\n",
       "      <td>32</td>\n",
       "      <td>286</td>\n",
       "      <td>0.940057</td>\n",
       "    </tr>\n",
       "    <tr>\n",
       "      <th>8</th>\n",
       "      <td>32</td>\n",
       "      <td>512</td>\n",
       "      <td>0.934320</td>\n",
       "    </tr>\n",
       "    <tr>\n",
       "      <th>5</th>\n",
       "      <td>16</td>\n",
       "      <td>512</td>\n",
       "      <td>0.882612</td>\n",
       "    </tr>\n",
       "    <tr>\n",
       "      <th>4</th>\n",
       "      <td>16</td>\n",
       "      <td>286</td>\n",
       "      <td>0.877532</td>\n",
       "    </tr>\n",
       "    <tr>\n",
       "      <th>3</th>\n",
       "      <td>16</td>\n",
       "      <td>128</td>\n",
       "      <td>0.870811</td>\n",
       "    </tr>\n",
       "    <tr>\n",
       "      <th>1</th>\n",
       "      <td>8</td>\n",
       "      <td>286</td>\n",
       "      <td>0.805327</td>\n",
       "    </tr>\n",
       "  </tbody>\n",
       "</table>\n",
       "</div>"
      ],
      "text/plain": [
       "   hidden_size  bat  val_accuracy\n",
       "9           64  128      0.975707\n",
       "10          64  286      0.966719\n",
       "11          64  512      0.957775\n",
       "6           32  128      0.945060\n",
       "7           32  286      0.940057\n",
       "8           32  512      0.934320\n",
       "5           16  512      0.882612\n",
       "4           16  286      0.877532\n",
       "3           16  128      0.870811\n",
       "1            8  286      0.805327"
      ]
     },
     "execution_count": 95,
     "metadata": {},
     "output_type": "execute_result"
    }
   ],
   "source": [
    "def find_acc(acc, key,hp): \n",
    "    hp1,hp2=key.split(\"-\")\n",
    "    dd=pd.DataFrame(acc[key].history)\n",
    "    return {hp[0]:hp1,hp[1]:hp2,\"val_accuracy\":dd.max()[1]}\n",
    "\n",
    "dict_list=[]\n",
    "for i in acc.keys():\n",
    "    dict_list.append(find_acc(acc,i,(\"hidden_size\",\"bat\")))\n",
    "    \n",
    "loss_df=pd.DataFrame(dict_list) # \n",
    "loss_df.loc[loss_df[\"val_accuracy\"]>0.8].sort_values(\"val_accuracy\", ascending=False) # 가장 val_accuracy가 높은 건 0.97까지 나옴"
   ]
  },
  {
   "cell_type": "markdown",
   "metadata": {},
   "source": [
    "성능이 가장 잘 나온 것들 중에서 가장 안정적으로 loss가 줄어든 모델이다. (x축: epoch)"
   ]
  },
  {
   "cell_type": "code",
   "execution_count": 112,
   "metadata": {
    "scrolled": true
   },
   "outputs": [
    {
     "data": {
      "image/png": "[encoded data removed]",
      "text/plain": [
       "<Figure size 432x288 with 1 Axes>"
      ]
     },
     "metadata": {
      "needs_background": "light"
     },
     "output_type": "display_data"
    }
   ],
   "source": [
    "dff=pd.DataFrame(acc[\"64-512\"].history)\n",
    "dff.plot()\n",
    "plt.legend(bbox_to_anchor=[1,1])\n",
    "plt.show()"
   ]
  },
  {
   "cell_type": "code",
   "execution_count": 115,
   "metadata": {},
   "outputs": [
    {
     "data": {
      "text/html": [
       "<div>\n",
       "<style scoped>\n",
       "    .dataframe tbody tr th:only-of-type {\n",
       "        vertical-align: middle;\n",
       "    }\n",
       "\n",
       "    .dataframe tbody tr th {\n",
       "        vertical-align: top;\n",
       "    }\n",
       "\n",
       "    .dataframe thead th {\n",
       "        text-align: right;\n",
       "    }\n",
       "</style>\n",
       "<table border=\"1\" class=\"dataframe\">\n",
       "  <thead>\n",
       "    <tr style=\"text-align: right;\">\n",
       "      <th></th>\n",
       "      <th>loss</th>\n",
       "      <th>accuracy</th>\n",
       "      <th>val_loss</th>\n",
       "      <th>val_accuracy</th>\n",
       "    </tr>\n",
       "  </thead>\n",
       "  <tbody>\n",
       "    <tr>\n",
       "      <th>3</th>\n",
       "      <td>0.319315</td>\n",
       "      <td>0.872290</td>\n",
       "      <td>0.332768</td>\n",
       "      <td>0.856278</td>\n",
       "    </tr>\n",
       "    <tr>\n",
       "      <th>4</th>\n",
       "      <td>0.290403</td>\n",
       "      <td>0.885485</td>\n",
       "      <td>0.336924</td>\n",
       "      <td>0.860553</td>\n",
       "    </tr>\n",
       "    <tr>\n",
       "      <th>5</th>\n",
       "      <td>0.269486</td>\n",
       "      <td>0.894557</td>\n",
       "      <td>0.341955</td>\n",
       "      <td>0.862503</td>\n",
       "    </tr>\n",
       "    <tr>\n",
       "      <th>6</th>\n",
       "      <td>0.247365</td>\n",
       "      <td>0.903886</td>\n",
       "      <td>0.349382</td>\n",
       "      <td>0.859698</td>\n",
       "    </tr>\n",
       "    <tr>\n",
       "      <th>7</th>\n",
       "      <td>0.229727</td>\n",
       "      <td>0.911753</td>\n",
       "      <td>0.349773</td>\n",
       "      <td>0.856483</td>\n",
       "    </tr>\n",
       "    <tr>\n",
       "      <th>...</th>\n",
       "      <td>...</td>\n",
       "      <td>...</td>\n",
       "      <td>...</td>\n",
       "      <td>...</td>\n",
       "    </tr>\n",
       "    <tr>\n",
       "      <th>9</th>\n",
       "      <td>0.191158</td>\n",
       "      <td>0.929078</td>\n",
       "      <td>0.408529</td>\n",
       "      <td>0.856996</td>\n",
       "    </tr>\n",
       "    <tr>\n",
       "      <th>10</th>\n",
       "      <td>0.171530</td>\n",
       "      <td>0.937321</td>\n",
       "      <td>0.450042</td>\n",
       "      <td>0.853747</td>\n",
       "    </tr>\n",
       "    <tr>\n",
       "      <th>11</th>\n",
       "      <td>0.158077</td>\n",
       "      <td>0.943016</td>\n",
       "      <td>0.486146</td>\n",
       "      <td>0.852687</td>\n",
       "    </tr>\n",
       "    <tr>\n",
       "      <th>12</th>\n",
       "      <td>0.145779</td>\n",
       "      <td>0.948198</td>\n",
       "      <td>0.509461</td>\n",
       "      <td>0.853302</td>\n",
       "    </tr>\n",
       "    <tr>\n",
       "      <th>13</th>\n",
       "      <td>0.134007</td>\n",
       "      <td>0.952833</td>\n",
       "      <td>0.569185</td>\n",
       "      <td>0.853302</td>\n",
       "    </tr>\n",
       "  </tbody>\n",
       "</table>\n",
       "<p>11 rows × 4 columns</p>\n",
       "</div>"
      ],
      "text/plain": [
       "        loss  accuracy  val_loss  val_accuracy\n",
       "3   0.319315  0.872290  0.332768      0.856278\n",
       "4   0.290403  0.885485  0.336924      0.860553\n",
       "5   0.269486  0.894557  0.341955      0.862503\n",
       "6   0.247365  0.903886  0.349382      0.859698\n",
       "7   0.229727  0.911753  0.349773      0.856483\n",
       "..       ...       ...       ...           ...\n",
       "9   0.191158  0.929078  0.408529      0.856996\n",
       "10  0.171530  0.937321  0.450042      0.853747\n",
       "11  0.158077  0.943016  0.486146      0.852687\n",
       "12  0.145779  0.948198  0.509461      0.853302\n",
       "13  0.134007  0.952833  0.569185      0.853302\n",
       "\n",
       "[11 rows x 4 columns]"
      ]
     },
     "execution_count": 115,
     "metadata": {},
     "output_type": "execute_result"
    }
   ],
   "source": [
    "dff[dff[\"val_accuracy\"]>0.85]"
   ]
  },
  {
   "cell_type": "code",
   "execution_count": 117,
   "metadata": {},
   "outputs": [
    {
     "name": "stdout",
     "output_type": "stream",
     "text": [
      "Model: \"sequential_29\"\n",
      "_________________________________________________________________\n",
      "Layer (type)                 Output Shape              Param #   \n",
      "=================================================================\n",
      "embedding_28 (Embedding)     (None, 45, 200)           2000000   \n",
      "_________________________________________________________________\n",
      "lstm_25 (LSTM)               (None, 64)                67840     \n",
      "_________________________________________________________________\n",
      "dense_56 (Dense)             (None, 64)                4160      \n",
      "_________________________________________________________________\n",
      "dropout_28 (Dropout)         (None, 64)                0         \n",
      "_________________________________________________________________\n",
      "dense_57 (Dense)             (None, 1)                 65        \n",
      "=================================================================\n",
      "Total params: 2,072,065\n",
      "Trainable params: 2,072,065\n",
      "Non-trainable params: 0\n",
      "_________________________________________________________________\n",
      "Epoch 1/5\n",
      "229/229 [==============================] - 4s 11ms/step - loss: 0.6926 - accuracy: 0.5089 - val_loss: 0.6642 - val_accuracy: 0.5282\n",
      "Epoch 2/5\n",
      "229/229 [==============================] - 2s 9ms/step - loss: 0.4951 - accuracy: 0.7761 - val_loss: 0.3773 - val_accuracy: 0.8338\n",
      "Epoch 3/5\n",
      "229/229 [==============================] - 2s 9ms/step - loss: 0.3632 - accuracy: 0.8545 - val_loss: 0.3533 - val_accuracy: 0.8462\n",
      "Epoch 4/5\n",
      "229/229 [==============================] - 2s 9ms/step - loss: 0.3164 - accuracy: 0.8752 - val_loss: 0.3257 - val_accuracy: 0.8597\n",
      "Epoch 5/5\n",
      "229/229 [==============================] - 2s 9ms/step - loss: 0.2900 - accuracy: 0.8866 - val_loss: 0.3299 - val_accuracy: 0.8592\n"
     ]
    }
   ],
   "source": [
    "tf.random.set_seed(100)\n",
    "rnn_model=rnn(hidden=64)\n",
    "rnn_model.compile(optimizer='adam',loss='binary_crossentropy',metrics=['accuracy'])\n",
    "rnn_history = rnn_model.fit(x_train,y_train,epochs=5,batch_size=512,validation_data=(x_val, y_val),verbose=1)\n"
   ]
  },
  {
   "cell_type": "code",
   "execution_count": 118,
   "metadata": {},
   "outputs": [
    {
     "name": "stdout",
     "output_type": "stream",
     "text": [
      "1537/1537 [==============================] - 4s 3ms/step - loss: 0.3385 - accuracy: 0.8557\n",
      "[0.3384932577610016, 0.8557479381561279]\n"
     ]
    }
   ],
   "source": [
    "print(rnn_model.evaluate(X_test, y_test))"
   ]
  },
  {
   "cell_type": "markdown",
   "metadata": {},
   "source": [
    "## 회고"
   ]
  },
  {
   "cell_type": "markdown",
   "metadata": {},
   "source": [
    "- 적절한 문장 길이를 찾기 위해서 그래프를 그리는 과정을 다 거쳐서 가장 최적의 길이라고 생각하는 지점잡아서 패딩을 만들어서 넣어서 그런지 다른 하이퍼파라미터를 안맞춰도 85.5에 가까운 성능이 잘 나오는 것은 신기했다. 하지만 가장 긴 시퀀스의 길이를 지정하는 다른 좋은 방법도 있을 것 같다. 같은 조의 태원님과 이야기를 나누면서 제 사분위수를 뽑아서 확인해서 어디에서 자를지 결정하는 것도 간단하고 좋은 방법이라고 생각이 들었다.\n",
    "- 불용어를 찾기 위해서 최다 빈도수를 찾아서 확인하는 과정에서 내가 일상적으로 사용하는 채팅 용어들이 일종에 자연어 전처리 대상이라는 것을 알게 되었다. 이렇게 일상적으로 사용하는 단어들을 통해서 긍정과 부정을 파악하는데 쓰이는 점이 흥미로웠다.\n",
    "- 내가 만든 모델의 임베딩 벡터를 사용해서 단어유사도가 높은 단어를 뽑아보니 날것의 단어들이 많이 뽑혀서 재밌었다. 하트도 일종에 단어로 인지하는 것이 흥미로웠다. 요즘은 더 다양한 이모티콘도 일종에 단어로 생각되어질 수 있겠다는 생각을 했다. 이런 의미에서 앞에서 뽑았던 가설로 한 글자의 단어를 지우는 것을 고려했던 것은 다시 생각해볼 필요가 있다고 느꼈다. 시간이 지남에 따라 한개의 이모티콘이나 ㅋ같은 채팅 용어들도 일종에 감정을 표현하는 요소라는 생각이 들었다. 다만 정제가 아무래도 덜 되어서 상관 없는 단어들이 많이 뽑혀서 전처리의 중요성을 느꼈다.\n",
    "- 사실 word2vec을 넣으면 바로 성능이 좋아질줄 알았다. 하지만 처음에는 오히려 처음에 내가 처음에 만든 모델보다 성능이 떨어져서 당황하니까 다른 조원분들이 하이퍼파라미터를 다시 튜닝해보기를 권하여서 튜닝을 거치니까 월등하게 성능이 좋아지게 되었다. 새로운 데이터나 pre-trained model을 추가하는 과정에서 하이퍼 파라미터를 하는 것을 잊지 말아야겠다.\n"
   ]
  }
 ],
 "metadata": {
  "kernelspec": {
   "display_name": "Python 3",
   "language": "python",
   "name": "python3"
  },
  "language_info": {
   "codemirror_mode": {
    "name": "ipython",
    "version": 3
   },
   "file_extension": ".py",
   "mimetype": "text/x-python",
   "name": "python",
   "nbconvert_exporter": "python",
   "pygments_lexer": "ipython3",
   "version": "3.7.4"
  }
 },
 "nbformat": 4,
 "nbformat_minor": 5
}
