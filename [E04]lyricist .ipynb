{
 "cells": [
  {
   "cell_type": "markdown",
   "metadata": {},
   "source": [
    "# Exploration 4. 프로젝트: 멋진 작사가 만들기\n",
    "\n",
    "\n",
    "라이브러리 불러오기"
   ]
  },
  {
   "cell_type": "code",
   "execution_count": 2,
   "metadata": {},
   "outputs": [],
   "source": [
    "import os, glob       # 시스템에 접근하는 라이브러리, 파일을 가져오는데 상용한다.\n",
    "import re             # 정규표현식 라이브러리\n",
    "import numpy as np\n",
    "import tensorflow as tf\n",
    "from sklearn.model_selection import train_test_split\n"
   ]
  },
  {
   "cell_type": "markdown",
   "metadata": {},
   "source": [
    "__preprocess_sentence__ (문장을 전처리하는 함수)\n",
    "\n",
    "- __소문자로 바꾸기(lower함수 사용)__  \n",
    "    : 대문자가 섞인 단어와 소문자로만 이루어진 단어가 한 단어로 인식되도록 만들어주는 작업이다. 예를들어 Love와 love를 그냥 입력하면 다른 단어로 받아들여지게 되므로 소문자로 바꿔주는 작업을 한다\n",
    "- __문장부호를 단어와 분리하기(정규표현식 함수 re.sub에 정규표현식 r\"([?.!,¿])\", r\" \\1\"사용)__  \n",
    "    : 같은 단어에 하나는 문장부호가 들어있고 한쪽은 없는 경우에도 다른 단어로 인식하기 때문에 문장부호를 단어와 스페이스바로 여백을 주어서 분리한다. 예를 들어 \"How old are you?\"의 you와 \"you are...\" 두 문장에서 you는 같은 you이지만 처음 것은 물음표가 있고 뒤에 것은 물음표가 없지만 같은 you이다. 하지만 물음표가 붙어있으면 컴퓨터에서는 둘을 다른 단어로 인식하게 된다. 그래서 전처리 과정에서 분리한다.\n",
    "- __여러개의 공백을 하나의 공백으로 변환__(정규표현식 함수 re.sub에 정규표현식 r'[\" \"]+', \" \" 사용)\n",
    "    : [\" \"]+ 이 정규표현식은 공백이 둘 이상 있는 경우를 의미하고 이럴 경우 하나의 띄어쓰기로 바꿔준다는 뜻이다   \n",
    "    ex) long-time-ago. (한단어로 인식한다. 띄어쓰기가 아니라 -를 기준으로 단어가 나뉘므로)\n",
    "    \n",
    "\n",
    "\n",
    "자연어처리 분야에서 __모델의 입력문장을 소스문장(Source Sentence)__ , 정답이 되는 __모델의 출력문장을 타겟문장(Target sentence)__ 라고 부른다. X_train, y_train에 해당한다. 그래서 문장의 시작에  start 끝에 end를 넣었다. "
   ]
  },
  {
   "cell_type": "code",
   "execution_count": 10,
   "metadata": {},
   "outputs": [],
   "source": [
    "def preprocess_sentence(sentence):\n",
    "    sentence=sentence.strip().lower() # 문장의 오른쪽 왼쪽의 공백을 지우고 소문자 변환\n",
    "    sentence=re.sub(r\"([?.!,¿])\", r\" \\1\", sentence)  # 문장부호의 양 옆을 각각 한칸 띄운다.\n",
    "    sentence=re.sub(r'[\" \"]+', \" \", sentence) # 여러개의 공백은 하나의 공백으로 바꿉니다.\n",
    "    sentence=re.sub(r\"[^a-zA-Z?.!,¿]+\", \" \", sentence) \n",
    "    #a-zA-Z?.!,¿가 아닌 모든 특수문자를 하나의 공백으로 바꾼다.\n",
    "    sentence=sentence.strip() # 문자열에 양끝의 공백을 한번 더 삭제\n",
    "    sentence=\" \".join(['<start> ',sentence,' <end>']) # 문장시작은 <start> 끝에는 <end>를 추가한다.\n",
    "    return sentence\n"
   ]
  },
  {
   "cell_type": "code",
   "execution_count": 9,
   "metadata": {},
   "outputs": [
    {
     "name": "stdout",
     "output_type": "stream",
     "text": [
      "Does pure water have a taste\n"
     ]
    }
   ],
   "source": [
    "#a-zA-Z?.!,¿가 아닌 모든 특수문자를 하나의 공백으로 바꾼다.\n",
    "s=\"Does 100% pure water have a taste\"\n",
    "s=re.sub(r\"[^a-zA-Z?.!,¿]+\", \" \",s) \n",
    "print(s) # 100% 단어가 공백으로 바뀐다. 특수문자와 숫자도 공백으로 바뀐 것을 볼수 있다."
   ]
  },
  {
   "cell_type": "markdown",
   "metadata": {},
   "source": [
    " __토큰화(tokenize)__\n",
    " - 앞에서 전처리한 문장을 띄어쓰기를 기준으로 잘라내어 토큰으로 만들어낸다.\n",
    "\n",
    "텐서플로우의 Tokenizer 패키지\n",
    "- 위의 정제된 corpus를 토큰화해서 단어사전(vocabulary or dictionary)라고 말하며 숫자로 변환해준다. 이 과정을 벡터화(vectorize)이고, 숫자로 바꾼 데이터를 tensor라고 말한다.\n",
    "\n",
    "tf.keras.preprocessing.text.Tokenizer\n",
    "[참고할 사이트](https://wikidocs.net/31766)\n"
   ]
  },
  {
   "cell_type": "code",
   "execution_count": 11,
   "metadata": {},
   "outputs": [],
   "source": [
    "def tokenize(corpus): \n",
    "    tokenizer=tf.keras.preprocessing.text.Tokenizer(\n",
    "        num_words=12000,  # 단어장 크기12000\n",
    "        filters=' ',     # preprocessed_sentence\n",
    "        oov_token=\"<unk>\"\n",
    "    )\n",
    "    # corpus를 사용해서 tokenizer 단어장을 만든다. \n",
    "    tokenizer.fit_on_texts(corpus)\n",
    "    \n",
    "    # 준비한 tokenizer를 사용해서 corpus를 Tensor로 만든다.\n",
    "    tensor=tokenizer.texts_to_sequences(corpus)\n",
    "    \n",
    "    # input data의 시퀀스 크기를 \n",
    "    #(길이가 짧은 문장 뒤(post)에 padding을 붙여서) 동일하게 만든다.\n",
    "    # 문장 앞에 패딩을 붙이려면 pre라고 입력하면 됨\n",
    "    tensor=tf.keras.preprocessing.sequence.pad_sequences(tensor, padding='post')\n",
    "    \n",
    "    #print(tensor, tokenizer)\n",
    "    return tensor, tokenizer\n"
   ]
  },
  {
   "cell_type": "markdown",
   "metadata": {},
   "source": [
    "케라스의 LSTM을 사용한 텍스트 생성기 모델(TextGenerator) "
   ]
  },
  {
   "cell_type": "code",
   "execution_count": null,
   "metadata": {},
   "outputs": [],
   "source": [
    "class TextGenerator(tf.keras.Model):\n",
    "    def __init__(self, vocab_size, embedding_size, hidden_size): # 단어장 크기, 단어를 임베딩할 사이즈, LSTM의 unit개수\n",
    "        super().__init__()\n",
    "        \n",
    "        self.embedding = tf.keras.layers.Embedding(vocab_size, embedding_size)\n",
    "        self.rnn_1 = tf.keras.layers.LSTM(hidden_size, return_sequences=True)\n",
    "        self.rnn_2 = tf.keras.layers.LSTM(hidden_size, return_sequences=True)\n",
    "        self.linear = tf.keras.layers.Dense(vocab_size)\n",
    "        \n",
    "    def call(self, x):\n",
    "        out = self.embedding(x)\n",
    "        out = self.rnn_1(out)\n",
    "        out = self.rnn_2(out)\n",
    "        out = self.linear(out)\n",
    "        \n",
    "        return out"
   ]
  },
  {
   "cell_type": "markdown",
   "metadata": {},
   "source": [
    "그리고 마지막으로 가사를 생성시킬 함수(generate_text)"
   ]
  },
  {
   "cell_type": "code",
   "execution_count": null,
   "metadata": {},
   "outputs": [],
   "source": [
    "def generate_text(model, tokenizer, init_sentence=\"<start>\", max_len=20):\n",
    "    # 테스트를 위해서 입력받은 init_sentence도 텐서로 변환합니다\n",
    "    test_input = tokenizer.texts_to_sequences([init_sentence])  \n",
    "    test_tensor = tf.convert_to_tensor(test_input, dtype=tf.int64)\n",
    "    end_token = tokenizer.word_index[\"<end>\"]\n",
    "\n",
    "    # 단어 하나씩 예측해 문장을 만듭니다\n",
    "    #    1. 입력받은 문장의 텐서를 입력합니다\n",
    "    #    2. 예측된 값 중 가장 높은 확률인 word index를 뽑아냅니다\n",
    "    #    3. 2에서 예측된 word index를 문장 뒤에 붙입니다\n",
    "    #    4. 모델이 <end>를 예측했거나, max_len에 도달했다면 문장 생성을 마칩니다\n",
    "    while True:\n",
    "        # 1\n",
    "        predict = model(test_tensor) \n",
    "        # 2\n",
    "        predict_word = tf.argmax(tf.nn.softmax(predict, axis=-1), axis=-1)[:, -1] \n",
    "        # 3 \n",
    "        test_tensor = tf.concat([test_tensor, tf.expand_dims(predict_word, axis=0)], axis=-1)\n",
    "        # 4\n",
    "        if predict_word.numpy()[0] == end_token: break\n",
    "        if test_tensor.shape[1] >= max_len: break\n",
    "\n",
    "    generated = \"\"\n",
    "    # tokenizer를 이용해 word index를 단어로 하나씩 변환합니다 \n",
    "    for word_index in test_tensor[0].numpy():\n",
    "        generated += tokenizer.index_word[word_index] + \" \"\n",
    "\n",
    "    return generated"
   ]
  },
  {
   "cell_type": "markdown",
   "metadata": {},
   "source": [
    "### step1. 데이터 다운로드\n",
    "- 아이펠에서 제공한 가사데이터를 다운받는다.\n",
    "\n",
    "### Step2. 데이터 읽어오기"
   ]
  },
  {
   "cell_type": "code",
   "execution_count": 4,
   "metadata": {},
   "outputs": [
    {
     "name": "stdout",
     "output_type": "stream",
     "text": [
      "/aiffel/aiffel/lyricist/data/lyrics/*\n",
      "데이터 크기: 187088\n",
      "Examples:\n",
      " [\"Now I've heard there was a secret chord\", 'That David played, and it pleased the Lord', \"But you don't really care for music, do you?\"]\n"
     ]
    }
   ],
   "source": [
    "\n",
    "txt_file_path = os.getenv('HOME')+'/aiffel/lyricist/data/lyrics/*'\n",
    "\n",
    "txt_list = glob.glob(txt_file_path)\n",
    "print(txt_file_path)\n",
    "raw_corpus = []\n",
    "\n",
    "# 여러개의 txt 파일을 모두 읽어서 raw_corpus 에 담습니다.\n",
    "for txt_file in txt_list:\n",
    "    with open(txt_file, \"r\") as f:\n",
    "        raw = f.read().splitlines()\n",
    "        raw_corpus.extend(raw)\n",
    "\n",
    "print(\"데이터 크기:\", len(raw_corpus))\n",
    "print(\"Examples:\\n\", raw_corpus[:3])\n"
   ]
  },
  {
   "cell_type": "markdown",
   "metadata": {},
   "source": [
    "### step 3. 데이터 정제\n",
    "\n",
    "\n",
    "- 노드 작성자의 조언대로 문장을 토큰화 했을 때 토큰의 개수가 15개 넘어가는 문장을 제외하였다.  \n",
    "\n",
    "text_to_sequences 메서드를 사용해서 텍스트를 시퀀스형 데이터인 리스트로 만들어낸다. 2차원 리스트의 모양으로 데이터를 반환한다\n",
    "\n",
    "데이터가 preprocess_sentence 함수에 의해 처리되면서 문장의 앞에 start 뒤에 end가 붙게 된다. 모델을 학습시킬 문장에는 end를 빼기 위해서 -1인덱스까지 자르고, 타겟문장에는 start를 잘라내기 위해서 1번 인덱스부터 끝의 문장까지 슬라이싱한다."
   ]
  },
  {
   "cell_type": "code",
   "execution_count": 5,
   "metadata": {
    "scrolled": true
   },
   "outputs": [
    {
     "name": "stdout",
     "output_type": "stream",
     "text": [
      "[[   2   50    5 ...    0    0    0]\n",
      " [   2   17 2647 ...    0    0    0]\n",
      " [   2   35    7 ...    0    0    0]\n",
      " ...\n",
      " [   2  130    5 ...    0    0    0]\n",
      " [   2   23   89 ...    0    0    0]\n",
      " [   2    7   34 ...    0    0    0]] <keras_preprocessing.text.Tokenizer object at 0x7f97cfd5d820>\n"
     ]
    }
   ],
   "source": [
    "corpus=[]\n",
    "\n",
    "for sentence in raw_corpus:\n",
    "    if len(sentence) == 0: continue    # 빈 단어를 corpus에서 뺀다\n",
    "    if sentence[-1] == \":\" : continue  # 문장 끝에 콜론이 있는 경우 제외한다. \n",
    "                                        # 이건 가사라서 연극(이름에 콜론)과 달리 지워도 상관 없을 것 같지만 유지했다.\n",
    "        \n",
    "    # 앞에서 문장부호와 특수문자, 소문자 대문자 처리\n",
    "    preprocessed_sentence = preprocess_sentence(sentence)\n",
    "    corpus.append(preprocessed_sentence)\n",
    "\n",
    "tensor, tokenizer=tokenize(corpus)\n",
    "\n",
    "tensor_=tokenizer.texts_to_sequences(corpus)\n",
    "\n",
    "tensor=[]\n",
    "\n",
    "for i in tensor_:\n",
    "    if len(i)<=15:   # 15개 \n",
    "        tensor.append(i)\n",
    "        \n",
    "tensor=tf.keras.preprocessing.sequence.pad_sequences(tensor, padding='post')\n",
    "\n",
    "# 마지막토큰은 <end>가 아닌 <pad> 가능성이 높다.\n",
    "src_input=tensor[:,:-1]\n",
    "# t<start> 를 잘라서 타겟문장을 만든다.\n",
    "tgt_input=tensor[:,1:]\n",
    "\n"
   ]
  },
  {
   "cell_type": "markdown",
   "metadata": {},
   "source": [
    "### Step 4. 평가 데이터셋 분리"
   ]
  },
  {
   "cell_type": "code",
   "execution_count": 6,
   "metadata": {},
   "outputs": [],
   "source": [
    "enc_train, enc_val, dec_train, dec_val = train_test_split(src_input,tgt_input, test_size=0.2) \n",
    "# step3에서 전처리를 완성한 텐서(numpy 배열)를 train_test_split 으로 분할한다.\n",
    "\n",
    "BUFFER_SIZE = len(src_input)\n",
    "BATCH_SIZE = 256    # 학습시 배치사이즈\n",
    "steps_per_epoch = len(src_input) // BATCH_SIZE # 한 에포크가 돌 동안 몇번의 스텝을 가느냐\n",
    "\n",
    " # tokenizer가 구축한 단어사전 내 12000개와, 여기 포함되지 않은 0:<pad>를 포함하여 12001개\n",
    "VOCAB_SIZE = tokenizer.num_words + 1   \n",
    "\n",
    "train_dataset = tf.data.Dataset.from_tensor_slices((enc_train, dec_train)) # 나뉘어진 데이터셋을 텐서플로 데이터셋으로 만든다.\n",
    "val_dataset = tf.data.Dataset.from_tensor_slices((enc_val, dec_val))\n",
    "\n",
    "train_dataset = train_dataset.shuffle(BUFFER_SIZE)    # 데이터를 섞어주고\n",
    "val_dataset = val_dataset.shuffle(BUFFER_SIZE)    \n",
    "\n",
    "train_dataset = train_dataset.batch(BATCH_SIZE, drop_remainder=True)  # 학습할때 쓰이는 배치사이즈로 나눠준다.\n",
    "val_dataset = val_dataset.batch(BATCH_SIZE, drop_remainder=True)\n",
    "\n",
    "#dataset"
   ]
  },
  {
   "cell_type": "markdown",
   "metadata": {},
   "source": [
    "### Step 5. 인공지능 만들기"
   ]
  },
  {
   "cell_type": "code",
   "execution_count": 13,
   "metadata": {
    "scrolled": true
   },
   "outputs": [
    {
     "name": "stdout",
     "output_type": "stream",
     "text": [
      "Epoch 1/10\n",
      "488/488 [==============================] - 40s 78ms/step - loss: 3.7877 - val_loss: 3.3858\n",
      "Epoch 2/10\n",
      "488/488 [==============================] - 37s 75ms/step - loss: 3.2852 - val_loss: 3.1982\n",
      "Epoch 3/10\n",
      "488/488 [==============================] - 38s 77ms/step - loss: 3.0931 - val_loss: 3.0435\n",
      "Epoch 4/10\n",
      "488/488 [==============================] - 38s 77ms/step - loss: 2.9613 - val_loss: 2.9449\n",
      "Epoch 5/10\n",
      "488/488 [==============================] - 37s 76ms/step - loss: 2.8604 - val_loss: 2.8748\n",
      "Epoch 6/10\n",
      "488/488 [==============================] - 38s 77ms/step - loss: 2.7795 - val_loss: 2.8157\n",
      "Epoch 7/10\n",
      "488/488 [==============================] - 38s 77ms/step - loss: 2.7084 - val_loss: 2.7691\n",
      "Epoch 8/10\n",
      "488/488 [==============================] - 38s 77ms/step - loss: 2.6433 - val_loss: 2.7284\n",
      "Epoch 9/10\n",
      "488/488 [==============================] - 38s 77ms/step - loss: 2.5825 - val_loss: 2.6923\n",
      "Epoch 10/10\n",
      "488/488 [==============================] - 38s 77ms/step - loss: 2.5241 - val_loss: 2.6599\n",
      "Epoch 1/10\n",
      "488/488 [==============================] - 95s 186ms/step - loss: 3.4827 - val_loss: 3.1311\n",
      "Epoch 2/10\n",
      "488/488 [==============================] - 90s 184ms/step - loss: 3.0102 - val_loss: 2.9489\n",
      "Epoch 3/10\n",
      "488/488 [==============================] - 90s 184ms/step - loss: 2.8517 - val_loss: 2.8416\n",
      "Epoch 4/10\n",
      "488/488 [==============================] - 90s 184ms/step - loss: 2.7311 - val_loss: 2.7657\n",
      "Epoch 5/10\n",
      "488/488 [==============================] - 90s 184ms/step - loss: 2.6281 - val_loss: 2.7075\n",
      "Epoch 6/10\n",
      "488/488 [==============================] - 90s 184ms/step - loss: 2.5339 - val_loss: 2.6571\n",
      "Epoch 7/10\n",
      "488/488 [==============================] - 90s 184ms/step - loss: 2.4452 - val_loss: 2.6132\n",
      "Epoch 8/10\n",
      "488/488 [==============================] - 90s 185ms/step - loss: 2.3613 - val_loss: 2.5742\n",
      "Epoch 9/10\n",
      "488/488 [==============================] - 90s 185ms/step - loss: 2.2820 - val_loss: 2.5421\n",
      "Epoch 10/10\n",
      "488/488 [==============================] - 90s 185ms/step - loss: 2.2066 - val_loss: 2.5129\n",
      "Epoch 1/10\n",
      "488/488 [==============================] - 259s 494ms/step - loss: 3.4437 - val_loss: 3.0473\n",
      "Epoch 2/10\n",
      "488/488 [==============================] - 241s 494ms/step - loss: 2.8843 - val_loss: 2.7969\n",
      "Epoch 3/10\n",
      "488/488 [==============================] - 242s 496ms/step - loss: 2.6193 - val_loss: 2.6362\n",
      "Epoch 4/10\n",
      "488/488 [==============================] - 242s 496ms/step - loss: 2.3749 - val_loss: 2.5102\n",
      "Epoch 5/10\n",
      "488/488 [==============================] - 242s 496ms/step - loss: 2.1406 - val_loss: 2.4135\n",
      "Epoch 6/10\n",
      "488/488 [==============================] - 243s 497ms/step - loss: 1.9194 - val_loss: 2.3352\n",
      "Epoch 7/10\n",
      "488/488 [==============================] - 243s 497ms/step - loss: 1.7142 - val_loss: 2.2798\n",
      "Epoch 8/10\n",
      "488/488 [==============================] - 243s 497ms/step - loss: 1.5281 - val_loss: 2.2387\n",
      "Epoch 9/10\n",
      "488/488 [==============================] - 242s 496ms/step - loss: 1.3660 - val_loss: 2.2170\n",
      "Epoch 10/10\n",
      "488/488 [==============================] - 243s 497ms/step - loss: 1.2312 - val_loss: 2.2122\n",
      "Epoch 1/10\n",
      "488/488 [==============================] - 42s 81ms/step - loss: 3.7608 - val_loss: 3.3975\n",
      "Epoch 2/10\n",
      "488/488 [==============================] - 39s 80ms/step - loss: 3.2690 - val_loss: 3.1499\n",
      "Epoch 3/10\n",
      "488/488 [==============================] - 39s 80ms/step - loss: 3.0470 - val_loss: 3.0054\n",
      "Epoch 4/10\n",
      "488/488 [==============================] - 39s 81ms/step - loss: 2.9211 - val_loss: 2.9169\n",
      "Epoch 5/10\n",
      "488/488 [==============================] - 40s 81ms/step - loss: 2.8259 - val_loss: 2.8442\n",
      "Epoch 6/10\n",
      "488/488 [==============================] - 40s 81ms/step - loss: 2.7451 - val_loss: 2.7842\n",
      "Epoch 7/10\n",
      "488/488 [==============================] - 40s 81ms/step - loss: 2.6702 - val_loss: 2.7329\n",
      "Epoch 8/10\n",
      "488/488 [==============================] - 40s 81ms/step - loss: 2.5979 - val_loss: 2.6874\n",
      "Epoch 9/10\n",
      "488/488 [==============================] - 40s 81ms/step - loss: 2.5275 - val_loss: 2.6466\n",
      "Epoch 10/10\n",
      "488/488 [==============================] - 40s 81ms/step - loss: 2.4588 - val_loss: 2.6109\n",
      "Epoch 1/10\n",
      "488/488 [==============================] - 98s 193ms/step - loss: 3.4614 - val_loss: 3.1089\n",
      "Epoch 2/10\n",
      "488/488 [==============================] - 94s 193ms/step - loss: 2.9884 - val_loss: 2.9235\n",
      "Epoch 3/10\n",
      "488/488 [==============================] - 94s 193ms/step - loss: 2.8126 - val_loss: 2.8054\n",
      "Epoch 4/10\n",
      "488/488 [==============================] - 95s 194ms/step - loss: 2.6792 - val_loss: 2.7247\n",
      "Epoch 5/10\n",
      "488/488 [==============================] - 94s 193ms/step - loss: 2.5636 - val_loss: 2.6561\n",
      "Epoch 6/10\n",
      "488/488 [==============================] - 94s 193ms/step - loss: 2.4579 - val_loss: 2.6000\n",
      "Epoch 7/10\n",
      "488/488 [==============================] - 95s 194ms/step - loss: 2.3588 - val_loss: 2.5545\n",
      "Epoch 8/10\n",
      "488/488 [==============================] - 95s 194ms/step - loss: 2.2653 - val_loss: 2.5155\n",
      "Epoch 9/10\n",
      "488/488 [==============================] - 95s 194ms/step - loss: 2.1767 - val_loss: 2.4839\n",
      "Epoch 10/10\n",
      "488/488 [==============================] - 95s 194ms/step - loss: 2.0927 - val_loss: 2.4560\n",
      "Epoch 1/10\n",
      "488/488 [==============================] - 267s 510ms/step - loss: 3.2855 - val_loss: 2.9227\n",
      "Epoch 2/10\n",
      "488/488 [==============================] - 249s 509ms/step - loss: 2.7546 - val_loss: 2.6811\n",
      "Epoch 3/10\n",
      "488/488 [==============================] - 249s 510ms/step - loss: 2.4610 - val_loss: 2.5065\n",
      "Epoch 4/10\n",
      "488/488 [==============================] - 249s 511ms/step - loss: 2.1731 - val_loss: 2.3716\n",
      "Epoch 5/10\n",
      "488/488 [==============================] - 250s 512ms/step - loss: 1.8950 - val_loss: 2.2730\n",
      "Epoch 6/10\n",
      "488/488 [==============================] - 250s 513ms/step - loss: 1.6405 - val_loss: 2.2052\n",
      "Epoch 7/10\n",
      "488/488 [==============================] - 250s 512ms/step - loss: 1.4232 - val_loss: 2.1622\n",
      "Epoch 8/10\n",
      "488/488 [==============================] - 250s 511ms/step - loss: 1.2503 - val_loss: 2.1522\n",
      "Epoch 9/10\n",
      "488/488 [==============================] - 250s 511ms/step - loss: 1.1237 - val_loss: 2.1588\n",
      "Epoch 10/10\n",
      "488/488 [==============================] - 250s 512ms/step - loss: 1.0437 - val_loss: 2.1768\n"
     ]
    }
   ],
   "source": [
    "#Loss\n",
    "embedding_size=[256,512]     # 임베딩할 차원의 수\n",
    "hidden_size=[512,1024,2048]  # LSTM모델의 hidden\n",
    "acc={}\n",
    "for i in embedding_size:\n",
    "    for j in hidden_size:\n",
    "        model=TextGenerator(12000+1, i, j) # i: embadding_size, j: hidden_size\n",
    "        optimizer=tf.keras.optimizers.Adam()\n",
    "        loss = tf.keras.losses.SparseCategoricalCrossentropy(from_logits=True, reduction='none')\n",
    "        model.compile(loss=loss, optimizer=optimizer)\n",
    "        tg=model.fit(train_dataset, epochs=10, validation_data=(val_dataset))\n",
    "        acc[\"%d-%d\"%(i,j)]=tg"
   ]
  },
  {
   "cell_type": "code",
   "execution_count": 69,
   "metadata": {
    "scrolled": true
   },
   "outputs": [
    {
     "data": {
      "text/html": [
       "<div>\n",
       "<style scoped>\n",
       "    .dataframe tbody tr th:only-of-type {\n",
       "        vertical-align: middle;\n",
       "    }\n",
       "\n",
       "    .dataframe tbody tr th {\n",
       "        vertical-align: top;\n",
       "    }\n",
       "\n",
       "    .dataframe thead th {\n",
       "        text-align: right;\n",
       "    }\n",
       "</style>\n",
       "<table border=\"1\" class=\"dataframe\">\n",
       "  <thead>\n",
       "    <tr style=\"text-align: right;\">\n",
       "      <th></th>\n",
       "      <th>embedding</th>\n",
       "      <th>hidden_size</th>\n",
       "      <th>val_loss</th>\n",
       "    </tr>\n",
       "  </thead>\n",
       "  <tbody>\n",
       "    <tr>\n",
       "      <th>5</th>\n",
       "      <td>512</td>\n",
       "      <td>2048</td>\n",
       "      <td>2.152177</td>\n",
       "    </tr>\n",
       "  </tbody>\n",
       "</table>\n",
       "</div>"
      ],
      "text/plain": [
       "  embedding hidden_size  val_loss\n",
       "5       512        2048  2.152177"
      ]
     },
     "execution_count": 69,
     "metadata": {},
     "output_type": "execute_result"
    }
   ],
   "source": [
    "def find_acc(acc, key,hp):\n",
    "    hp1,hp2=key.split(\"-\")\n",
    "    dd=pd.DataFrame(acc[key].history)\n",
    "    return {hp[0]:hp1,hp[1]:hp2,\"val_loss\":dd.min()[1]}\n",
    "\n",
    "dict_list=[]\n",
    "for i in acc.keys():\n",
    "    dict_list.append(find_acc(acc,i,(\"embedding\",\"hidden_size\")))\n",
    "    \n",
    "loss_df=pd.DataFrame(dict_list) # 가장 높은 accuracy는 0.574667\n",
    "loss_df.loc[acc_df[\"val_loss\"]<2.2].sort_values(\"val_loss\", ascending=False) "
   ]
  },
  {
   "cell_type": "code",
   "execution_count": 70,
   "metadata": {},
   "outputs": [
    {
     "data": {
      "image/png": "[encoded data removed]",
      "text/plain": [
       "<Figure size 432x288 with 2 Axes>"
      ]
     },
     "metadata": {
      "needs_background": "light"
     },
     "output_type": "display_data"
    }
   ],
   "source": [
    "import seaborn as sns\n",
    "import matplotlib.pyplot as plt\n",
    "\n",
    "loss_=loss_df.pivot(index=\"embedding\", columns=\"hidden_size\", values=\"val_loss\")\n",
    "\n",
    "loss_=loss_[['512','1024', '2048']]\n",
    "loss_=loss_.reindex([\"512\",\"256\"])\n",
    "\n",
    "font3 = {'color':  'green',\n",
    "      'style': 'italic',\n",
    "      'size': 15}\n",
    "\n",
    "sns.heatmap(loss_)\n",
    "for i in range(loss_.shape[1]):\n",
    "    for j in range(loss_.shape[0]):\n",
    "        plt.text(i+0.5,j+0.5,round(loss_.iloc[j,i],3),ha='center',va='center', fontdict=font3)\n",
    "\n",
    "plt.show()"
   ]
  },
  {
   "cell_type": "markdown",
   "metadata": {},
   "source": [
    "### validation loss가 2.2 아래인 2.152가 된 모델은 embedding은 512, hidden_size는 2048개인 모델이었다."
   ]
  },
  {
   "cell_type": "code",
   "execution_count": 74,
   "metadata": {
    "scrolled": true
   },
   "outputs": [
    {
     "name": "stdout",
     "output_type": "stream",
     "text": [
      "Epoch 1/10\n",
      "488/488 [==============================] - 264s 505ms/step - loss: 3.2788 - val_loss: 2.9039\n",
      "Epoch 2/10\n",
      "488/488 [==============================] - 248s 509ms/step - loss: 2.7189 - val_loss: 2.6363\n",
      "Epoch 3/10\n",
      "488/488 [==============================] - 249s 509ms/step - loss: 2.3876 - val_loss: 2.4508\n",
      "Epoch 4/10\n",
      "488/488 [==============================] - 249s 510ms/step - loss: 2.0638 - val_loss: 2.3140\n",
      "Epoch 5/10\n",
      "488/488 [==============================] - 249s 510ms/step - loss: 1.7637 - val_loss: 2.2172\n",
      "Epoch 6/10\n",
      "488/488 [==============================] - 249s 510ms/step - loss: 1.5042 - val_loss: 2.1596\n",
      "Epoch 7/10\n",
      "488/488 [==============================] - 249s 511ms/step - loss: 1.2976 - val_loss: 2.1375\n",
      "Epoch 8/10\n",
      "488/488 [==============================] - 249s 510ms/step - loss: 1.1485 - val_loss: 2.1427\n",
      "Epoch 9/10\n",
      "488/488 [==============================] - 249s 511ms/step - loss: 1.0582 - val_loss: 2.1622\n",
      "Epoch 10/10\n",
      "488/488 [==============================] - 249s 510ms/step - loss: 1.0098 - val_loss: 2.1770\n"
     ]
    },
    {
     "data": {
      "text/plain": [
       "<keras.callbacks.History at 0x7f9738629af0>"
      ]
     },
     "execution_count": 74,
     "metadata": {},
     "output_type": "execute_result"
    }
   ],
   "source": [
    "from keras.models import load_model\n",
    "\n",
    "model=TextGenerator(12000+1, 512, 2048) # i: embadding_size, j: hidden_size\n",
    "optimizer=tf.keras.optimizers.Adam()\n",
    "loss = tf.keras.losses.SparseCategoricalCrossentropy(from_logits=True, reduction='none')\n",
    "model.compile(loss=loss, optimizer=optimizer)\n",
    "model.fit(train_dataset, epochs=10, validation_data=(val_dataset))"
   ]
  },
  {
   "cell_type": "markdown",
   "metadata": {},
   "source": [
    "### text generator가 작사한 문장들이다.\n",
    "- 간단한 초보 영단어들을 넣어보니,어쩐지 추상적인 느낌이 드는 그럴싸한 가사들이 만들어졌다."
   ]
  },
  {
   "cell_type": "code",
   "execution_count": 78,
   "metadata": {
    "scrolled": false
   },
   "outputs": [
    {
     "data": {
      "text/plain": [
       "'<start> i need you to be here with me <end> '"
      ]
     },
     "execution_count": 78,
     "metadata": {},
     "output_type": "execute_result"
    }
   ],
   "source": [
    "generate_text(model, tokenizer, init_sentence=\"<start> i need you \", max_len=20)"
   ]
  },
  {
   "cell_type": "code",
   "execution_count": 84,
   "metadata": {
    "scrolled": true
   },
   "outputs": [
    {
     "data": {
      "text/plain": [
       "'<start> i said , no , no , no <end> '"
      ]
     },
     "execution_count": 84,
     "metadata": {},
     "output_type": "execute_result"
    }
   ],
   "source": [
    "generate_text(model, tokenizer, init_sentence=\"<start> i said\", max_len=20)"
   ]
  },
  {
   "cell_type": "code",
   "execution_count": 90,
   "metadata": {},
   "outputs": [
    {
     "data": {
      "text/plain": [
       "'<start> we live in cities you ll never see on screen <end> '"
      ]
     },
     "execution_count": 90,
     "metadata": {},
     "output_type": "execute_result"
    }
   ],
   "source": [
    "generate_text(model, tokenizer, init_sentence=\"<start> we live \", max_len=20)"
   ]
  },
  {
   "cell_type": "code",
   "execution_count": 93,
   "metadata": {},
   "outputs": [
    {
     "data": {
      "text/plain": [
       "'<start> my life s a mess <end> '"
      ]
     },
     "execution_count": 93,
     "metadata": {},
     "output_type": "execute_result"
    }
   ],
   "source": [
    "generate_text(model, tokenizer, init_sentence=\"<start> my life \", max_len=20)"
   ]
  },
  {
   "cell_type": "code",
   "execution_count": 95,
   "metadata": {},
   "outputs": [
    {
     "data": {
      "text/plain": [
       "'<start> you never thought that hip hop would take it this far <end> '"
      ]
     },
     "execution_count": 95,
     "metadata": {},
     "output_type": "execute_result"
    }
   ],
   "source": [
    "generate_text(model, tokenizer, init_sentence=\"<start> you never \", max_len=20)"
   ]
  },
  {
   "cell_type": "markdown",
   "metadata": {},
   "source": [
    "## 회고\n",
    "- 언어모델을 돌려본 것 자체가 처음이었다. 물론 지난 프로젝트에 사용했던 가위바위보 모델 만들기도 시간이 오래걸렸지만, 하나의 모델을 만들기 위해서 10epoch를 돌리는데만해도 가장 작은 모델이 한 epoch당 40초 가량 시간이 들었다. 가장 무거운 모델은 한 에폭당 249초가 걸렸다. 학습시간이 오래 걸려서 모델을 돌려놓고 기다리다가 깜빡 졸았는데 너무 푹자버려서 다음날 아침에 일어나보니 LMS가 로그아웃 된 일도 있었고, 구글 colab에 모델을 걸어놓고 외출하고 돌아왔는데 오래 마우스 반응이 없어서 런타임이 종료된 일도 있었다. 이 사건을 계기로 꼭 모델을 만들고 어떻게하면 모델 저장하고 다시 로드해서 쓰는 방법을 꼭 익혀서 자칫 잘못해서 모델이 일부 날라가도 이어서 학습시킬수 있는 환경을 만들고 싶다. \n",
    "- 전반적으로 낯선 파트이라서 어려웠지만 자연어처리 데이터를 전처리하는 방법에 있어서 정규표현식을 자유자제로 다루는 스킬이 중요함을 느꼈다. 코드를 보면 전처리 과정에서 반 정도가 정규표현식의 패턴으로 데이터의 불필요한 정보는 지우는 일이 많았다.\n",
    "- 노드에서 제시된 것처럼 대본의 텍스트를 다룰때는 문장 끝에 콜론이 붙을 경우(극본의 이름을 나타내는 표시) 그 문장을 포함시키지 않는등 NLP가 사용되는 텍스트에 대한 이해도 역시 중요하다는 생각이 들었다.  \n",
    "\n",
    "- 위의 히트맵을 보면 __embedding 사이즈가 높고, hidden의 사이즈가 큰쪽__ 이 loss가 많이 줄어들었음을 알수 있었다. validation loss가 2.2 아래로 떨어진 모델은 embedding은 512, hidden_size는 2048인 모델이다. 이정도면 모델의 복잡도가 큰 모델이라고 생각했었는데 검증데이터셋의 loss가 꾸준히 착착 줄어드는 것을 보고 NLP모델을 충분히 학습하고 결과물을 내기 위해서는 많은 리소스와 시간, 데이터를 필요로 하는 모델이라고 생각했다. "
   ]
  }
 ],
 "metadata": {
  "kernelspec": {
   "display_name": "Python 3",
   "language": "python",
   "name": "python3"
  },
  "language_info": {
   "codemirror_mode": {
    "name": "ipython",
    "version": 3
   },
   "file_extension": ".py",
   "mimetype": "text/x-python",
   "name": "python",
   "nbconvert_exporter": "python",
   "pygments_lexer": "ipython3",
   "version": "3.7.4"
  }
 },
 "nbformat": 4,
 "nbformat_minor": 5
}
