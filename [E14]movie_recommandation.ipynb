{
 "cells": [
  {
   "cell_type": "markdown",
   "metadata": {},
   "source": [
    "### [E14] 영화 추천하기"
   ]
  },
  {
   "cell_type": "code",
   "execution_count": 1,
   "metadata": {},
   "outputs": [
    {
     "data": {
      "text/html": [
       "<div>\n",
       "<style scoped>\n",
       "    .dataframe tbody tr th:only-of-type {\n",
       "        vertical-align: middle;\n",
       "    }\n",
       "\n",
       "    .dataframe tbody tr th {\n",
       "        vertical-align: top;\n",
       "    }\n",
       "\n",
       "    .dataframe thead th {\n",
       "        text-align: right;\n",
       "    }\n",
       "</style>\n",
       "<table border=\"1\" class=\"dataframe\">\n",
       "  <thead>\n",
       "    <tr style=\"text-align: right;\">\n",
       "      <th></th>\n",
       "      <th>user_id</th>\n",
       "      <th>movie_id</th>\n",
       "      <th>ratings</th>\n",
       "      <th>timestamp</th>\n",
       "    </tr>\n",
       "  </thead>\n",
       "  <tbody>\n",
       "    <tr>\n",
       "      <th>0</th>\n",
       "      <td>1</td>\n",
       "      <td>1193</td>\n",
       "      <td>5</td>\n",
       "      <td>978300760</td>\n",
       "    </tr>\n",
       "    <tr>\n",
       "      <th>1</th>\n",
       "      <td>1</td>\n",
       "      <td>661</td>\n",
       "      <td>3</td>\n",
       "      <td>978302109</td>\n",
       "    </tr>\n",
       "    <tr>\n",
       "      <th>2</th>\n",
       "      <td>1</td>\n",
       "      <td>914</td>\n",
       "      <td>3</td>\n",
       "      <td>978301968</td>\n",
       "    </tr>\n",
       "    <tr>\n",
       "      <th>3</th>\n",
       "      <td>1</td>\n",
       "      <td>3408</td>\n",
       "      <td>4</td>\n",
       "      <td>978300275</td>\n",
       "    </tr>\n",
       "    <tr>\n",
       "      <th>4</th>\n",
       "      <td>1</td>\n",
       "      <td>2355</td>\n",
       "      <td>5</td>\n",
       "      <td>978824291</td>\n",
       "    </tr>\n",
       "  </tbody>\n",
       "</table>\n",
       "</div>"
      ],
      "text/plain": [
       "   user_id  movie_id  ratings  timestamp\n",
       "0        1      1193        5  978300760\n",
       "1        1       661        3  978302109\n",
       "2        1       914        3  978301968\n",
       "3        1      3408        4  978300275\n",
       "4        1      2355        5  978824291"
      ]
     },
     "execution_count": 1,
     "metadata": {},
     "output_type": "execute_result"
    }
   ],
   "source": [
    "import pandas as pd\n",
    "import os\n",
    "import matplotlib.pyplot as plt\n",
    "import seaborn as sns\n",
    "\n",
    "rating_file_path=os.getenv('HOME') + '/aiffel/recommendata_iu/data/ml-1m/ratings.dat'\n",
    "ratings_cols = ['user_id', 'movie_id', 'ratings', 'timestamp']\n",
    "ratings = pd.read_csv(rating_file_path, sep='::', names=ratings_cols, engine='python', encoding = \"ISO-8859-1\")\n",
    "orginal_data_size = len(ratings)\n",
    "ratings.head()"
   ]
  },
  {
   "cell_type": "code",
   "execution_count": 2,
   "metadata": {},
   "outputs": [
    {
     "name": "stdout",
     "output_type": "stream",
     "text": [
      "별점 3미만인 데이터 개수: 163731 / 별점 3이상인 데이터 개수: 836478\n",
      "별점 3미만인 데이터 비율: 0.16369678737143936 / 별점 3이상인 데이터 비율: 0.8363032126285607\n"
     ]
    }
   ],
   "source": [
    "stars=3 # 몇개 별점을 3개 이상 준 경우 영화를 좋아한다는 가정을 해보자\n",
    "\n",
    "lower_3=ratings[ratings['ratings']<stars]\n",
    "C = ratings[ratings['ratings']>=stars]\n",
    "print(\"별점 %d미만인 데이터 개수:\"%stars,lower_3.shape[0],\"/ 별점 %d이상인 데이터 개수:\"%stars, C.shape[0])\n",
    "print(\"별점 %d미만인 데이터 비율:\"%stars,lower_3.shape[0]/ratings.shape[0],\n",
    "      \"/ 별점 %d이상인 데이터 비율:\"%stars, C.shape[0]/ratings.shape[0])"
   ]
  },
  {
   "cell_type": "markdown",
   "metadata": {},
   "source": [
    "- 영화 별점을 3미만 준 경우는 영화를 좋아한다고 보기 어렵다고 생각하기 때문에 3 미만인 데이터를 지우기로 한다."
   ]
  },
  {
   "cell_type": "code",
   "execution_count": 3,
   "metadata": {},
   "outputs": [
    {
     "name": "stdout",
     "output_type": "stream",
     "text": [
      "orginal_data_size: 1000209, filtered_data_size: 836478\n",
      "Ratio of Remaining Data is 83.63%\n"
     ]
    }
   ],
   "source": [
    "# 별점 3개 이상인 데이터만 남긴다.\n",
    "ratings = ratings[ratings['ratings']>=3]\n",
    "filtered_data_size = len(ratings)\n",
    "\n",
    "print(f'orginal_data_size: {orginal_data_size}, filtered_data_size: {filtered_data_size}')\n",
    "print(f'Ratio of Remaining Data is {filtered_data_size / orginal_data_size:.2%}')"
   ]
  },
  {
   "cell_type": "code",
   "execution_count": 4,
   "metadata": {},
   "outputs": [],
   "source": [
    "# ratings 컬럼의 이름을 counts로 바꾼다\n",
    "ratings.rename(columns={'ratings':'counts'}, inplace=True)"
   ]
  },
  {
   "cell_type": "code",
   "execution_count": 5,
   "metadata": {},
   "outputs": [
    {
     "data": {
      "text/html": [
       "<div>\n",
       "<style scoped>\n",
       "    .dataframe tbody tr th:only-of-type {\n",
       "        vertical-align: middle;\n",
       "    }\n",
       "\n",
       "    .dataframe tbody tr th {\n",
       "        vertical-align: top;\n",
       "    }\n",
       "\n",
       "    .dataframe thead th {\n",
       "        text-align: right;\n",
       "    }\n",
       "</style>\n",
       "<table border=\"1\" class=\"dataframe\">\n",
       "  <thead>\n",
       "    <tr style=\"text-align: right;\">\n",
       "      <th></th>\n",
       "      <th>movie_id</th>\n",
       "      <th>title</th>\n",
       "      <th>genre</th>\n",
       "    </tr>\n",
       "  </thead>\n",
       "  <tbody>\n",
       "    <tr>\n",
       "      <th>0</th>\n",
       "      <td>1</td>\n",
       "      <td>Toy Story (1995)</td>\n",
       "      <td>Animation|Children's|Comedy</td>\n",
       "    </tr>\n",
       "    <tr>\n",
       "      <th>1</th>\n",
       "      <td>2</td>\n",
       "      <td>Jumanji (1995)</td>\n",
       "      <td>Adventure|Children's|Fantasy</td>\n",
       "    </tr>\n",
       "    <tr>\n",
       "      <th>2</th>\n",
       "      <td>3</td>\n",
       "      <td>Grumpier Old Men (1995)</td>\n",
       "      <td>Comedy|Romance</td>\n",
       "    </tr>\n",
       "    <tr>\n",
       "      <th>3</th>\n",
       "      <td>4</td>\n",
       "      <td>Waiting to Exhale (1995)</td>\n",
       "      <td>Comedy|Drama</td>\n",
       "    </tr>\n",
       "    <tr>\n",
       "      <th>4</th>\n",
       "      <td>5</td>\n",
       "      <td>Father of the Bride Part II (1995)</td>\n",
       "      <td>Comedy</td>\n",
       "    </tr>\n",
       "  </tbody>\n",
       "</table>\n",
       "</div>"
      ],
      "text/plain": [
       "   movie_id                               title                         genre\n",
       "0         1                    Toy Story (1995)   Animation|Children's|Comedy\n",
       "1         2                      Jumanji (1995)  Adventure|Children's|Fantasy\n",
       "2         3             Grumpier Old Men (1995)                Comedy|Romance\n",
       "3         4            Waiting to Exhale (1995)                  Comedy|Drama\n",
       "4         5  Father of the Bride Part II (1995)                        Comedy"
      ]
     },
     "execution_count": 5,
     "metadata": {},
     "output_type": "execute_result"
    }
   ],
   "source": [
    "# 영화 제목을 보기 위해 메타 데이터를 읽어온다\n",
    "movie_file_path=os.getenv('HOME') + '/aiffel/recommendata_iu/data/ml-1m/movies.dat'\n",
    "cols = ['movie_id', 'title', 'genre'] \n",
    "movies = pd.read_csv(movie_file_path, sep='::', names=cols, engine='python', encoding='ISO-8859-1')\n",
    "movies.head()"
   ]
  },
  {
   "cell_type": "code",
   "execution_count": 6,
   "metadata": {},
   "outputs": [
    {
     "data": {
      "text/html": [
       "<div>\n",
       "<style scoped>\n",
       "    .dataframe tbody tr th:only-of-type {\n",
       "        vertical-align: middle;\n",
       "    }\n",
       "\n",
       "    .dataframe tbody tr th {\n",
       "        vertical-align: top;\n",
       "    }\n",
       "\n",
       "    .dataframe thead th {\n",
       "        text-align: right;\n",
       "    }\n",
       "</style>\n",
       "<table border=\"1\" class=\"dataframe\">\n",
       "  <thead>\n",
       "    <tr style=\"text-align: right;\">\n",
       "      <th></th>\n",
       "      <th>movie_id</th>\n",
       "      <th>title</th>\n",
       "      <th>genre</th>\n",
       "    </tr>\n",
       "  </thead>\n",
       "  <tbody>\n",
       "    <tr>\n",
       "      <th>0</th>\n",
       "      <td>1</td>\n",
       "      <td>toy story (1995)</td>\n",
       "      <td>Animation|Children's|Comedy</td>\n",
       "    </tr>\n",
       "    <tr>\n",
       "      <th>1</th>\n",
       "      <td>2</td>\n",
       "      <td>jumanji (1995)</td>\n",
       "      <td>Adventure|Children's|Fantasy</td>\n",
       "    </tr>\n",
       "    <tr>\n",
       "      <th>2</th>\n",
       "      <td>3</td>\n",
       "      <td>grumpier old men (1995)</td>\n",
       "      <td>Comedy|Romance</td>\n",
       "    </tr>\n",
       "  </tbody>\n",
       "</table>\n",
       "</div>"
      ],
      "text/plain": [
       "   movie_id                    title                         genre\n",
       "0         1         toy story (1995)   Animation|Children's|Comedy\n",
       "1         2           jumanji (1995)  Adventure|Children's|Fantasy\n",
       "2         3  grumpier old men (1995)                Comedy|Romance"
      ]
     },
     "execution_count": 6,
     "metadata": {},
     "output_type": "execute_result"
    }
   ],
   "source": [
    "movies['title'] = movies['title'].str.lower() # 검색을 쉽게 하기 위해서 소문자로 바꾼다.\n",
    "movies.head(3)"
   ]
  },
  {
   "cell_type": "markdown",
   "metadata": {},
   "source": [
    "movie_id를 key, title을 value로 하여서 딕셔너리 형태로 만든다. 그래서 ratings 데이터프레임에 movie_id에 맞춰서 영화 이름을 입력해준다."
   ]
  },
  {
   "cell_type": "code",
   "execution_count": 7,
   "metadata": {},
   "outputs": [],
   "source": [
    "movie_dict={id_:mv for id_, mv in zip(movies[\"movie_id\"], movies[\"title\"])}\n",
    "\n",
    "ratings[\"title\"]=ratings[\"movie_id\"].copy()\n",
    "ratings[\"title\"]=ratings[\"title\"].map(lambda x: movie_dict[x])"
   ]
  },
  {
   "cell_type": "code",
   "execution_count": 8,
   "metadata": {
    "scrolled": true
   },
   "outputs": [
    {
     "name": "stdout",
     "output_type": "stream",
     "text": [
      "유저수: 6039 / 영화 개수 3628\n"
     ]
    }
   ],
   "source": [
    "print(\"유저수:\",ratings['user_id'].nunique(), \"/ 영화 개수\",ratings['movie_id'].nunique())"
   ]
  },
  {
   "cell_type": "code",
   "execution_count": 9,
   "metadata": {},
   "outputs": [
    {
     "data": {
      "text/plain": [
       "title\n",
       "american beauty (1999)                                   3211\n",
       "star wars: episode iv - a new hope (1977)                2910\n",
       "star wars: episode v - the empire strikes back (1980)    2885\n",
       "star wars: episode vi - return of the jedi (1983)        2716\n",
       "saving private ryan (1998)                               2561\n",
       "terminator 2: judgment day (1991)                        2509\n",
       "silence of the lambs, the (1991)                         2498\n",
       "raiders of the lost ark (1981)                           2473\n",
       "back to the future (1985)                                2460\n",
       "matrix, the (1999)                                       2434\n",
       "jurassic park (1993)                                     2413\n",
       "sixth sense, the (1999)                                  2385\n",
       "fargo (1996)                                             2371\n",
       "braveheart (1995)                                        2314\n",
       "men in black (1997)                                      2297\n",
       "schindler's list (1993)                                  2257\n",
       "princess bride, the (1987)                               2252\n",
       "shakespeare in love (1998)                               2213\n",
       "l.a. confidential (1997)                                 2210\n",
       "shawshank redemption, the (1994)                         2194\n",
       "godfather, the (1972)                                    2167\n",
       "groundhog day (1993)                                     2121\n",
       "e.t. the extra-terrestrial (1982)                        2102\n",
       "being john malkovich (1999)                              2066\n",
       "ghostbusters (1984)                                      2051\n",
       "pulp fiction (1994)                                      2030\n",
       "forrest gump (1994)                                      2022\n",
       "terminator, the (1984)                                   2019\n",
       "toy story (1995)                                         2000\n",
       "fugitive, the (1993)                                     1941\n",
       "Name: user_id, dtype: int64"
      ]
     },
     "execution_count": 9,
     "metadata": {},
     "output_type": "execute_result"
    }
   ],
   "source": [
    "# 가장 인기 많은 영화\n",
    "movie_count = ratings.groupby('title')['user_id'].count()\n",
    "movie_count.sort_values(ascending=False).head(30)"
   ]
  },
  {
   "cell_type": "markdown",
   "metadata": {},
   "source": [
    "### 영화들은 별점을 얼마나 많이 받았을까?\n",
    "- 아래 그래프와 같이 1000 편이 넘는 영화들이 500개 미만의 별점을 받았고 3000개가 넘는 별점을 받은 영화는 영화 아메리칸 뷰티 하나뿐이다."
   ]
  },
  {
   "cell_type": "code",
   "execution_count": 10,
   "metadata": {
    "scrolled": true
   },
   "outputs": [
    {
     "data": {
      "image/png": "[encoded data removed]",
      "text/plain": [
       "<Figure size 432x288 with 1 Axes>"
      ]
     },
     "metadata": {
      "needs_background": "light"
     },
     "output_type": "display_data"
    }
   ],
   "source": [
    "plt.hist(movie_count.tolist(),bins=100)\n",
    "plt.ylabel(\"freq\")\n",
    "plt.xlabel(\"the number of stars\")\n",
    "plt.show()"
   ]
  },
  {
   "cell_type": "markdown",
   "metadata": {},
   "source": [
    "### 유저들은 별점을 몇개나 남겼을까?"
   ]
  },
  {
   "cell_type": "code",
   "execution_count": 11,
   "metadata": {},
   "outputs": [
    {
     "data": {
      "text/plain": [
       "count    6039.000000\n",
       "mean      138.512668\n",
       "std       156.241599\n",
       "min         1.000000\n",
       "25%        38.000000\n",
       "50%        81.000000\n",
       "75%       177.000000\n",
       "max      1968.000000\n",
       "Name: movie_id, dtype: float64"
      ]
     },
     "execution_count": 11,
     "metadata": {},
     "output_type": "execute_result"
    }
   ],
   "source": [
    "# 유저별 몇개의 영화에 별점 3 이상을 주었는지 통계\n",
    "user_count = ratings.groupby('user_id')['movie_id'].count()\n",
    "user_count.describe()"
   ]
  },
  {
   "cell_type": "markdown",
   "metadata": {},
   "source": [
    "대부분의 유저들이 100개 미만 별점을 주었고, 아주 극소수의 사람들이 2천개 가까이 별점을 남겼다"
   ]
  },
  {
   "cell_type": "code",
   "execution_count": 12,
   "metadata": {
    "scrolled": true
   },
   "outputs": [
    {
     "data": {
      "image/png": "[encoded data removed]",
      "text/plain": [
       "<Figure size 432x288 with 1 Axes>"
      ]
     },
     "metadata": {
      "needs_background": "light"
     },
     "output_type": "display_data"
    }
   ],
   "source": [
    "plt.hist(user_count.tolist(), bins=100)\n",
    "#plt.yscale(\"log\")\n",
    "plt.show()"
   ]
  },
  {
   "cell_type": "code",
   "execution_count": 13,
   "metadata": {
    "scrolled": false
   },
   "outputs": [
    {
     "data": {
      "text/plain": [
       "count    6039.000000\n",
       "mean        4.055970\n",
       "std         0.432143\n",
       "min         3.000000\n",
       "25%         4.000000\n",
       "50%         4.000000\n",
       "75%         4.000000\n",
       "max         5.000000\n",
       "Name: counts, dtype: float64"
      ]
     },
     "execution_count": 13,
     "metadata": {},
     "output_type": "execute_result"
    }
   ],
   "source": [
    "# 유저별 별점 중앙값에 대한 통계\n",
    "user_median = ratings.groupby('user_id')['counts'].median()\n",
    "user_median.describe() "
   ]
  },
  {
   "cell_type": "markdown",
   "metadata": {},
   "source": [
    "앞서 별점 3 이상을 준 데이터만 남겼기 때문에 최솟값이 3이다."
   ]
  },
  {
   "cell_type": "code",
   "execution_count": 14,
   "metadata": {},
   "outputs": [
    {
     "data": {
      "text/html": [
       "<div>\n",
       "<style scoped>\n",
       "    .dataframe tbody tr th:only-of-type {\n",
       "        vertical-align: middle;\n",
       "    }\n",
       "\n",
       "    .dataframe tbody tr th {\n",
       "        vertical-align: top;\n",
       "    }\n",
       "\n",
       "    .dataframe thead th {\n",
       "        text-align: right;\n",
       "    }\n",
       "</style>\n",
       "<table border=\"1\" class=\"dataframe\">\n",
       "  <thead>\n",
       "    <tr style=\"text-align: right;\">\n",
       "      <th></th>\n",
       "      <th>user_id</th>\n",
       "      <th>movie_id</th>\n",
       "      <th>counts</th>\n",
       "      <th>timestamp</th>\n",
       "      <th>title</th>\n",
       "    </tr>\n",
       "  </thead>\n",
       "  <tbody>\n",
       "    <tr>\n",
       "      <th>0</th>\n",
       "      <td>1</td>\n",
       "      <td>1193</td>\n",
       "      <td>5</td>\n",
       "      <td>978300760</td>\n",
       "      <td>one flew over the cuckoo's nest (1975)</td>\n",
       "    </tr>\n",
       "    <tr>\n",
       "      <th>1</th>\n",
       "      <td>1</td>\n",
       "      <td>661</td>\n",
       "      <td>3</td>\n",
       "      <td>978302109</td>\n",
       "      <td>james and the giant peach (1996)</td>\n",
       "    </tr>\n",
       "    <tr>\n",
       "      <th>2</th>\n",
       "      <td>1</td>\n",
       "      <td>914</td>\n",
       "      <td>3</td>\n",
       "      <td>978301968</td>\n",
       "      <td>my fair lady (1964)</td>\n",
       "    </tr>\n",
       "    <tr>\n",
       "      <th>3</th>\n",
       "      <td>1</td>\n",
       "      <td>3408</td>\n",
       "      <td>4</td>\n",
       "      <td>978300275</td>\n",
       "      <td>erin brockovich (2000)</td>\n",
       "    </tr>\n",
       "    <tr>\n",
       "      <th>4</th>\n",
       "      <td>1</td>\n",
       "      <td>2355</td>\n",
       "      <td>5</td>\n",
       "      <td>978824291</td>\n",
       "      <td>bug's life, a (1998)</td>\n",
       "    </tr>\n",
       "  </tbody>\n",
       "</table>\n",
       "</div>"
      ],
      "text/plain": [
       "   user_id  movie_id  counts  timestamp  \\\n",
       "0        1      1193       5  978300760   \n",
       "1        1       661       3  978302109   \n",
       "2        1       914       3  978301968   \n",
       "3        1      3408       4  978300275   \n",
       "4        1      2355       5  978824291   \n",
       "\n",
       "                                    title  \n",
       "0  one flew over the cuckoo's nest (1975)  \n",
       "1        james and the giant peach (1996)  \n",
       "2                     my fair lady (1964)  \n",
       "3                  erin brockovich (2000)  \n",
       "4                    bug's life, a (1998)  "
      ]
     },
     "execution_count": 14,
     "metadata": {},
     "output_type": "execute_result"
    }
   ],
   "source": [
    "ratings.head()"
   ]
  },
  {
   "cell_type": "code",
   "execution_count": 15,
   "metadata": {},
   "outputs": [],
   "source": [
    "def return_year(x):\n",
    "    return int(x.split(\" \")[-1].replace(\"(\",\"\").replace(\")\",\"\"))\n",
    "\n",
    "ratings[\"year\"]=ratings[\"title\"].map(lambda x: return_year(x))"
   ]
  },
  {
   "cell_type": "code",
   "execution_count": 16,
   "metadata": {
    "scrolled": false
   },
   "outputs": [
    {
     "data": {
      "text/html": [
       "<div>\n",
       "<style scoped>\n",
       "    .dataframe tbody tr th:only-of-type {\n",
       "        vertical-align: middle;\n",
       "    }\n",
       "\n",
       "    .dataframe tbody tr th {\n",
       "        vertical-align: top;\n",
       "    }\n",
       "\n",
       "    .dataframe thead th {\n",
       "        text-align: right;\n",
       "    }\n",
       "</style>\n",
       "<table border=\"1\" class=\"dataframe\">\n",
       "  <thead>\n",
       "    <tr style=\"text-align: right;\">\n",
       "      <th></th>\n",
       "      <th>user_id</th>\n",
       "      <th>movie_id</th>\n",
       "      <th>counts</th>\n",
       "      <th>timestamp</th>\n",
       "      <th>title</th>\n",
       "      <th>year</th>\n",
       "    </tr>\n",
       "  </thead>\n",
       "  <tbody>\n",
       "    <tr>\n",
       "      <th>0</th>\n",
       "      <td>1</td>\n",
       "      <td>1193</td>\n",
       "      <td>5</td>\n",
       "      <td>978300760</td>\n",
       "      <td>one flew over the cuckoo's nest (1975)</td>\n",
       "      <td>1975</td>\n",
       "    </tr>\n",
       "    <tr>\n",
       "      <th>1</th>\n",
       "      <td>1</td>\n",
       "      <td>661</td>\n",
       "      <td>3</td>\n",
       "      <td>978302109</td>\n",
       "      <td>james and the giant peach (1996)</td>\n",
       "      <td>1996</td>\n",
       "    </tr>\n",
       "    <tr>\n",
       "      <th>2</th>\n",
       "      <td>1</td>\n",
       "      <td>914</td>\n",
       "      <td>3</td>\n",
       "      <td>978301968</td>\n",
       "      <td>my fair lady (1964)</td>\n",
       "      <td>1964</td>\n",
       "    </tr>\n",
       "    <tr>\n",
       "      <th>3</th>\n",
       "      <td>1</td>\n",
       "      <td>3408</td>\n",
       "      <td>4</td>\n",
       "      <td>978300275</td>\n",
       "      <td>erin brockovich (2000)</td>\n",
       "      <td>2000</td>\n",
       "    </tr>\n",
       "    <tr>\n",
       "      <th>4</th>\n",
       "      <td>1</td>\n",
       "      <td>2355</td>\n",
       "      <td>5</td>\n",
       "      <td>978824291</td>\n",
       "      <td>bug's life, a (1998)</td>\n",
       "      <td>1998</td>\n",
       "    </tr>\n",
       "  </tbody>\n",
       "</table>\n",
       "</div>"
      ],
      "text/plain": [
       "   user_id  movie_id  counts  timestamp  \\\n",
       "0        1      1193       5  978300760   \n",
       "1        1       661       3  978302109   \n",
       "2        1       914       3  978301968   \n",
       "3        1      3408       4  978300275   \n",
       "4        1      2355       5  978824291   \n",
       "\n",
       "                                    title  year  \n",
       "0  one flew over the cuckoo's nest (1975)  1975  \n",
       "1        james and the giant peach (1996)  1996  \n",
       "2                     my fair lady (1964)  1964  \n",
       "3                  erin brockovich (2000)  2000  \n",
       "4                    bug's life, a (1998)  1998  "
      ]
     },
     "execution_count": 16,
     "metadata": {},
     "output_type": "execute_result"
    }
   ],
   "source": [
    "ratings.head()"
   ]
  },
  {
   "cell_type": "code",
   "execution_count": 17,
   "metadata": {},
   "outputs": [
    {
     "name": "stdout",
     "output_type": "stream",
     "text": [
      "(836478, 6)\n"
     ]
    }
   ],
   "source": [
    "print(ratings.shape)"
   ]
  },
  {
   "cell_type": "code",
   "execution_count": 18,
   "metadata": {
    "scrolled": true
   },
   "outputs": [
    {
     "name": "stdout",
     "output_type": "stream",
     "text": [
      "가장 오래된 영화: 1919 / 가장 최신 영화: 2000\n"
     ]
    }
   ],
   "source": [
    "print(\"가장 오래된 영화:\",ratings[\"year\"].min(),\"/ 가장 최신 영화:\",ratings[\"year\"].max())"
   ]
  },
  {
   "cell_type": "markdown",
   "metadata": {},
   "source": [
    "### 별점을 가장 많이 남긴 연도"
   ]
  },
  {
   "cell_type": "code",
   "execution_count": 19,
   "metadata": {
    "scrolled": true
   },
   "outputs": [
    {
     "data": {
      "image/png": "[encoded data removed]",
      "text/plain": [
       "<Figure size 1080x288 with 1 Axes>"
      ]
     },
     "metadata": {
      "needs_background": "light"
     },
     "output_type": "display_data"
    }
   ],
   "source": [
    "\n",
    "plt.figure(figsize=(15,4))\n",
    "y=ratings[\"year\"].value_counts()[:15]\n",
    "plt.bar(list(range(len(y))), y)\n",
    "plt.xticks(list(range(len(y))), y.index, rotation=90)\n",
    "plt.show()"
   ]
  },
  {
   "cell_type": "markdown",
   "metadata": {},
   "source": [
    "사람들이 별 3개 이상을 준 영화들이 개봉한 연도는 위와 같다. 주로 1990년대 전후에 개봉한 영화들의 별점이 많은 것을 알수 있다."
   ]
  },
  {
   "cell_type": "markdown",
   "metadata": {},
   "source": [
    "### 모델 검증을 위한 사용자 초기 정보 세팅\n",
    "- 내가 좋아하는 영화의 리스트를 입력한다.\n",
    "- 나중에 실제로 내가 좋아하는 영화들을 추천해주는지 체크하기 위해서 입력한다."
   ]
  },
  {
   "cell_type": "code",
   "execution_count": 20,
   "metadata": {
    "scrolled": false
   },
   "outputs": [
    {
     "data": {
      "text/html": [
       "<div>\n",
       "<style scoped>\n",
       "    .dataframe tbody tr th:only-of-type {\n",
       "        vertical-align: middle;\n",
       "    }\n",
       "\n",
       "    .dataframe tbody tr th {\n",
       "        vertical-align: top;\n",
       "    }\n",
       "\n",
       "    .dataframe thead th {\n",
       "        text-align: right;\n",
       "    }\n",
       "</style>\n",
       "<table border=\"1\" class=\"dataframe\">\n",
       "  <thead>\n",
       "    <tr style=\"text-align: right;\">\n",
       "      <th></th>\n",
       "      <th>user_id</th>\n",
       "      <th>movie_id</th>\n",
       "      <th>counts</th>\n",
       "      <th>timestamp</th>\n",
       "      <th>title</th>\n",
       "      <th>year</th>\n",
       "    </tr>\n",
       "  </thead>\n",
       "  <tbody>\n",
       "    <tr>\n",
       "      <th>836475</th>\n",
       "      <td>6040</td>\n",
       "      <td>562</td>\n",
       "      <td>5</td>\n",
       "      <td>956704746.0</td>\n",
       "      <td>welcome to the dollhouse (1995)</td>\n",
       "      <td>1995.0</td>\n",
       "    </tr>\n",
       "    <tr>\n",
       "      <th>836476</th>\n",
       "      <td>6040</td>\n",
       "      <td>1096</td>\n",
       "      <td>4</td>\n",
       "      <td>956715648.0</td>\n",
       "      <td>sophie's choice (1982)</td>\n",
       "      <td>1982.0</td>\n",
       "    </tr>\n",
       "    <tr>\n",
       "      <th>836477</th>\n",
       "      <td>6040</td>\n",
       "      <td>1097</td>\n",
       "      <td>4</td>\n",
       "      <td>956715569.0</td>\n",
       "      <td>e.t. the extra-terrestrial (1982)</td>\n",
       "      <td>1982.0</td>\n",
       "    </tr>\n",
       "    <tr>\n",
       "      <th>836478</th>\n",
       "      <td>sunny</td>\n",
       "      <td>2291</td>\n",
       "      <td>5</td>\n",
       "      <td>NaN</td>\n",
       "      <td>edward scissorhands (1990)</td>\n",
       "      <td>NaN</td>\n",
       "    </tr>\n",
       "    <tr>\n",
       "      <th>836479</th>\n",
       "      <td>sunny</td>\n",
       "      <td>1258</td>\n",
       "      <td>5</td>\n",
       "      <td>NaN</td>\n",
       "      <td>shining, the (1980)</td>\n",
       "      <td>NaN</td>\n",
       "    </tr>\n",
       "    <tr>\n",
       "      <th>836480</th>\n",
       "      <td>sunny</td>\n",
       "      <td>592</td>\n",
       "      <td>5</td>\n",
       "      <td>NaN</td>\n",
       "      <td>batman (1989)</td>\n",
       "      <td>NaN</td>\n",
       "    </tr>\n",
       "    <tr>\n",
       "      <th>836481</th>\n",
       "      <td>sunny</td>\n",
       "      <td>2076</td>\n",
       "      <td>5</td>\n",
       "      <td>NaN</td>\n",
       "      <td>blue velvet (1986)</td>\n",
       "      <td>NaN</td>\n",
       "    </tr>\n",
       "    <tr>\n",
       "      <th>836482</th>\n",
       "      <td>sunny</td>\n",
       "      <td>1059</td>\n",
       "      <td>5</td>\n",
       "      <td>NaN</td>\n",
       "      <td>william shakespeare's romeo and juliet (1996)</td>\n",
       "      <td>NaN</td>\n",
       "    </tr>\n",
       "    <tr>\n",
       "      <th>836483</th>\n",
       "      <td>sunny</td>\n",
       "      <td>466</td>\n",
       "      <td>5</td>\n",
       "      <td>NaN</td>\n",
       "      <td>farewell my concubine (1993)</td>\n",
       "      <td>NaN</td>\n",
       "    </tr>\n",
       "    <tr>\n",
       "      <th>836484</th>\n",
       "      <td>sunny</td>\n",
       "      <td>488</td>\n",
       "      <td>5</td>\n",
       "      <td>NaN</td>\n",
       "      <td>m. butterfly (1993)</td>\n",
       "      <td>NaN</td>\n",
       "    </tr>\n",
       "    <tr>\n",
       "      <th>836485</th>\n",
       "      <td>sunny</td>\n",
       "      <td>3910</td>\n",
       "      <td>5</td>\n",
       "      <td>NaN</td>\n",
       "      <td>dancer in the dark (2000)</td>\n",
       "      <td>NaN</td>\n",
       "    </tr>\n",
       "    <tr>\n",
       "      <th>836486</th>\n",
       "      <td>sunny</td>\n",
       "      <td>3083</td>\n",
       "      <td>5</td>\n",
       "      <td>NaN</td>\n",
       "      <td>all about my mother (todo sobre mi madre) (1999)</td>\n",
       "      <td>NaN</td>\n",
       "    </tr>\n",
       "    <tr>\n",
       "      <th>836487</th>\n",
       "      <td>sunny</td>\n",
       "      <td>551</td>\n",
       "      <td>5</td>\n",
       "      <td>NaN</td>\n",
       "      <td>nightmare before christmas, the (1993)</td>\n",
       "      <td>NaN</td>\n",
       "    </tr>\n",
       "    <tr>\n",
       "      <th>836488</th>\n",
       "      <td>sunny</td>\n",
       "      <td>586</td>\n",
       "      <td>5</td>\n",
       "      <td>NaN</td>\n",
       "      <td>home alone (1990)</td>\n",
       "      <td>NaN</td>\n",
       "    </tr>\n",
       "  </tbody>\n",
       "</table>\n",
       "</div>"
      ],
      "text/plain": [
       "       user_id  movie_id  counts    timestamp  \\\n",
       "836475    6040       562       5  956704746.0   \n",
       "836476    6040      1096       4  956715648.0   \n",
       "836477    6040      1097       4  956715569.0   \n",
       "836478   sunny      2291       5          NaN   \n",
       "836479   sunny      1258       5          NaN   \n",
       "836480   sunny       592       5          NaN   \n",
       "836481   sunny      2076       5          NaN   \n",
       "836482   sunny      1059       5          NaN   \n",
       "836483   sunny       466       5          NaN   \n",
       "836484   sunny       488       5          NaN   \n",
       "836485   sunny      3910       5          NaN   \n",
       "836486   sunny      3083       5          NaN   \n",
       "836487   sunny       551       5          NaN   \n",
       "836488   sunny       586       5          NaN   \n",
       "\n",
       "                                                   title    year  \n",
       "836475                   welcome to the dollhouse (1995)  1995.0  \n",
       "836476                            sophie's choice (1982)  1982.0  \n",
       "836477                 e.t. the extra-terrestrial (1982)  1982.0  \n",
       "836478                        edward scissorhands (1990)     NaN  \n",
       "836479                               shining, the (1980)     NaN  \n",
       "836480                                     batman (1989)     NaN  \n",
       "836481                                blue velvet (1986)     NaN  \n",
       "836482     william shakespeare's romeo and juliet (1996)     NaN  \n",
       "836483                      farewell my concubine (1993)     NaN  \n",
       "836484                               m. butterfly (1993)     NaN  \n",
       "836485                         dancer in the dark (2000)     NaN  \n",
       "836486  all about my mother (todo sobre mi madre) (1999)     NaN  \n",
       "836487            nightmare before christmas, the (1993)     NaN  \n",
       "836488                                 home alone (1990)     NaN  "
      ]
     },
     "execution_count": 20,
     "metadata": {},
     "output_type": "execute_result"
    }
   ],
   "source": [
    "# 내가 좋아하는 영화\n",
    "my_favorite = [\"edward scissorhands (1990)\",\"shining, the (1980)\",\n",
    "               \"batman (1989)\",\"blue velvet (1986)\",\"william shakespeare's romeo and juliet (1996)\",\n",
    "               'farewell my concubine (1993)' , 'm. butterfly (1993)' ,\n",
    "               'dancer in the dark (2000)' ,'all about my mother (todo sobre mi madre) (1999)' ,\n",
    "               'nightmare before christmas, the (1993)',\"home alone (1990)\"]\n",
    "movie_id=[2291,1258,592,2076,1059,466,488,3910,3083,551,586]\n",
    "# 'sunny'이라는 user_id가 위 영화의 별점을 5개씩 줬다고 하자\n",
    "my_list = pd.DataFrame({'user_id': ['sunny']*len(my_favorite), \n",
    "                            'movie_id': movie_id, \n",
    "                            'counts':[5]*len(my_favorite), \n",
    "                            \"title\":my_favorite})\n",
    "\n",
    "if not ratings.isin({'user_id':['sunny']})['user_id'].any():  # user_id에 'zimin'이라는 데이터가 없다면\n",
    "    ratings = ratings.append(my_list)                           # 위에 임의로 만든 my_favorite 데이터를 추가해 줍니다. \n",
    "\n",
    "ratings.reset_index(drop=True, inplace=True)\n",
    "ratings.tail(14)       # 잘 추가되었는지 확인해 봅시다."
   ]
  },
  {
   "cell_type": "markdown",
   "metadata": {},
   "source": [
    "### 모델 활용하기 위한 전처리\n",
    "\n",
    "- 인덱싱"
   ]
  },
  {
   "cell_type": "code",
   "execution_count": 21,
   "metadata": {},
   "outputs": [
    {
     "name": "stdout",
     "output_type": "stream",
     "text": [
      "6040 3628\n"
     ]
    }
   ],
   "source": [
    "print(ratings['user_id'].nunique(),ratings['movie_id'].nunique())"
   ]
  },
  {
   "cell_type": "code",
   "execution_count": 22,
   "metadata": {},
   "outputs": [],
   "source": [
    "# 고유한 유저, 아티스트를 찾아내는 코드\n",
    "user_unique = ratings['user_id'].unique()\n",
    "movie_unique = ratings['title'].unique()\n",
    "\n",
    "# 유저, 영화 indexing 하는 코드 idx는 index의 약자\n",
    "user_to_idx = {v:k for k,v in enumerate(user_unique)}\n",
    "movie_to_idx = {v:k for k,v in enumerate(movie_unique)}\n",
    "\n",
    "#movie_to_idx 를 뒤집어, index로부터 movie 이름을 얻는 dict를 생성합니다. \n",
    "idx_to_movie = {v:k for k,v in movie_to_idx.items()}\n"
   ]
  },
  {
   "cell_type": "code",
   "execution_count": 23,
   "metadata": {},
   "outputs": [
    {
     "name": "stdout",
     "output_type": "stream",
     "text": [
      "6039\n",
      "284\n"
     ]
    }
   ],
   "source": [
    "print(user_to_idx['sunny'])    # 6039명의 유저 중에서 가장 마지막에 추가했으므로 6039이어야한다 \n",
    "print(movie_to_idx['nightmare before christmas, the (1993)'])       "
   ]
  },
  {
   "cell_type": "code",
   "execution_count": 24,
   "metadata": {},
   "outputs": [
    {
     "name": "stdout",
     "output_type": "stream",
     "text": [
      "user_id column indexing OK!!\n",
      "movie_id column indexing OK!!\n"
     ]
    },
    {
     "data": {
      "text/html": [
       "<div>\n",
       "<style scoped>\n",
       "    .dataframe tbody tr th:only-of-type {\n",
       "        vertical-align: middle;\n",
       "    }\n",
       "\n",
       "    .dataframe tbody tr th {\n",
       "        vertical-align: top;\n",
       "    }\n",
       "\n",
       "    .dataframe thead th {\n",
       "        text-align: right;\n",
       "    }\n",
       "</style>\n",
       "<table border=\"1\" class=\"dataframe\">\n",
       "  <thead>\n",
       "    <tr style=\"text-align: right;\">\n",
       "      <th></th>\n",
       "      <th>user_id</th>\n",
       "      <th>movie_id</th>\n",
       "      <th>counts</th>\n",
       "      <th>timestamp</th>\n",
       "      <th>title</th>\n",
       "      <th>year</th>\n",
       "    </tr>\n",
       "  </thead>\n",
       "  <tbody>\n",
       "    <tr>\n",
       "      <th>0</th>\n",
       "      <td>0</td>\n",
       "      <td>1193</td>\n",
       "      <td>5</td>\n",
       "      <td>978300760.0</td>\n",
       "      <td>0</td>\n",
       "      <td>1975.0</td>\n",
       "    </tr>\n",
       "    <tr>\n",
       "      <th>1</th>\n",
       "      <td>0</td>\n",
       "      <td>661</td>\n",
       "      <td>3</td>\n",
       "      <td>978302109.0</td>\n",
       "      <td>1</td>\n",
       "      <td>1996.0</td>\n",
       "    </tr>\n",
       "    <tr>\n",
       "      <th>2</th>\n",
       "      <td>0</td>\n",
       "      <td>914</td>\n",
       "      <td>3</td>\n",
       "      <td>978301968.0</td>\n",
       "      <td>2</td>\n",
       "      <td>1964.0</td>\n",
       "    </tr>\n",
       "    <tr>\n",
       "      <th>3</th>\n",
       "      <td>0</td>\n",
       "      <td>3408</td>\n",
       "      <td>4</td>\n",
       "      <td>978300275.0</td>\n",
       "      <td>3</td>\n",
       "      <td>2000.0</td>\n",
       "    </tr>\n",
       "    <tr>\n",
       "      <th>4</th>\n",
       "      <td>0</td>\n",
       "      <td>2355</td>\n",
       "      <td>5</td>\n",
       "      <td>978824291.0</td>\n",
       "      <td>4</td>\n",
       "      <td>1998.0</td>\n",
       "    </tr>\n",
       "    <tr>\n",
       "      <th>...</th>\n",
       "      <td>...</td>\n",
       "      <td>...</td>\n",
       "      <td>...</td>\n",
       "      <td>...</td>\n",
       "      <td>...</td>\n",
       "      <td>...</td>\n",
       "    </tr>\n",
       "    <tr>\n",
       "      <th>836484</th>\n",
       "      <td>6039</td>\n",
       "      <td>488</td>\n",
       "      <td>5</td>\n",
       "      <td>NaN</td>\n",
       "      <td>2658</td>\n",
       "      <td>NaN</td>\n",
       "    </tr>\n",
       "    <tr>\n",
       "      <th>836485</th>\n",
       "      <td>6039</td>\n",
       "      <td>3910</td>\n",
       "      <td>5</td>\n",
       "      <td>NaN</td>\n",
       "      <td>1852</td>\n",
       "      <td>NaN</td>\n",
       "    </tr>\n",
       "    <tr>\n",
       "      <th>836486</th>\n",
       "      <td>6039</td>\n",
       "      <td>3083</td>\n",
       "      <td>5</td>\n",
       "      <td>NaN</td>\n",
       "      <td>237</td>\n",
       "      <td>NaN</td>\n",
       "    </tr>\n",
       "    <tr>\n",
       "      <th>836487</th>\n",
       "      <td>6039</td>\n",
       "      <td>551</td>\n",
       "      <td>5</td>\n",
       "      <td>NaN</td>\n",
       "      <td>284</td>\n",
       "      <td>NaN</td>\n",
       "    </tr>\n",
       "    <tr>\n",
       "      <th>836488</th>\n",
       "      <td>6039</td>\n",
       "      <td>586</td>\n",
       "      <td>5</td>\n",
       "      <td>NaN</td>\n",
       "      <td>507</td>\n",
       "      <td>NaN</td>\n",
       "    </tr>\n",
       "  </tbody>\n",
       "</table>\n",
       "<p>836489 rows × 6 columns</p>\n",
       "</div>"
      ],
      "text/plain": [
       "        user_id  movie_id  counts    timestamp  title    year\n",
       "0             0      1193       5  978300760.0      0  1975.0\n",
       "1             0       661       3  978302109.0      1  1996.0\n",
       "2             0       914       3  978301968.0      2  1964.0\n",
       "3             0      3408       4  978300275.0      3  2000.0\n",
       "4             0      2355       5  978824291.0      4  1998.0\n",
       "...         ...       ...     ...          ...    ...     ...\n",
       "836484     6039       488       5          NaN   2658     NaN\n",
       "836485     6039      3910       5          NaN   1852     NaN\n",
       "836486     6039      3083       5          NaN    237     NaN\n",
       "836487     6039       551       5          NaN    284     NaN\n",
       "836488     6039       586       5          NaN    507     NaN\n",
       "\n",
       "[836489 rows x 6 columns]"
      ]
     },
     "execution_count": 24,
     "metadata": {},
     "output_type": "execute_result"
    }
   ],
   "source": [
    "# indexing을 통해 데이터 컬럼 내 값을 바꾸는 코드\n",
    "\n",
    "# user_to_idx.get을 통해 user_id 컬럼의 모든 값을 인덱싱한 Series를 구해 봅시다. \n",
    "# 혹시 정상적으로 인덱싱되지 않은 row가 있다면 인덱스가 NaN이 될 테니 dropna()로 제거합니다. \n",
    "temp_user_data = ratings['user_id'].map(user_to_idx.get).dropna()\n",
    "if len(temp_user_data) == len(ratings):   # 모든 row가 정상적으로 인덱싱되었다면\n",
    "    print('user_id column indexing OK!!')\n",
    "    ratings['user_id'] = temp_user_data   # ratings['user_id']을 인덱싱된 Series로 교체해 줍니다. \n",
    "else:\n",
    "    print('user_id column indexing Fail!!')\n",
    "\n",
    "# movie_to_idx을 통해 movie_id 컬럼도 동일한 방식으로 인덱싱해 줍니다. \n",
    "temp_movie_data = ratings['title'].map(movie_to_idx.get).dropna()\n",
    "if len(temp_movie_data) == len(ratings):\n",
    "    print('movie_id column indexing OK!!')\n",
    "    ratings['title'] = temp_movie_data\n",
    "else:\n",
    "    print('movie_id column indexing Fail!!')\n",
    "\n",
    "ratings"
   ]
  },
  {
   "cell_type": "markdown",
   "metadata": {},
   "source": [
    "## 암묵적 평가와 명시적 평가\n",
    "- 명시적 (explicit) 평가: 좋아요, 별점\n",
    "- 암묵적 (implicit) 평가: 사용자가 아티스트의 곡을 몇번 플레이 했느냐. 검색, 구매 내역 등등"
   ]
  },
  {
   "cell_type": "markdown",
   "metadata": {},
   "source": [
    "## Matrix Factorization(MF)\n",
    "- 우리는 u명의 사용자들이 i명의 아티스트의 선호도를 나타내는 __(u,i) 사이즈의 평가 행렬 R (Rating Matrix)__ 을 만들 것이다. \n",
    "\n",
    "- __협업필터링(collaborative filltering)이란 평가행렬R__ 을 전재로 만들어진다.\n",
    "\n",
    "![](https://www.researchgate.net/profile/Huu-Hoa-Nguyen/publication/314071424/figure/fig1/AS:570666408529920@1513068882014/An-example-of-matrix-factorization.png)\n"
   ]
  },
  {
   "cell_type": "markdown",
   "metadata": {},
   "source": [
    "u x i 사이즈의  행렬을 (u,K) 사이즈인 $w_{1}$ 행렬과 (K,i)사이즈인 $w_{2}$ 행렬로 분해할수 있고 대체로 K는 u나 i보다 작기 때문에 더 빠르게 연산할 수 있다.\n",
    "- 모델의 목표는 모든 유저와 아이템에 대해서 K-dimension의 벡터를 잘 만드는 것이다."
   ]
  },
  {
   "cell_type": "markdown",
   "metadata": {},
   "source": [
    " \n",
    "- __희소행렬(sparse matrix)__ 를 표현하는 방법으로 COO(Coordinate list), CSC(Compressed Sparse Column)  \n",
    ">COO(Coordinate list)- 튜플목록으로 (행,열,값) 매트릭스를 저장  \n",
    ">CSR(Compressed Sparse Row)  \n",
    ">CSC(Compressed Sparse Column)  \n",
    "\n",
    "- 유저와 아이템에 대한 매트릭스는 0이 매우 많은 sparse한 매트릭스이다. 이런 sparse한 매트릭스는 메모리 용량을 매우 많이 사용하는 매트릭스이기 때문에 위에서 적은 COO, CSC,CSR 중에서 CSR 매트릭스로 변환을 해서 연산을 한다.\n",
    "\n",
    "## CSR(Compressed Sparse Row) Matrix\n",
    "\n",
    "\n",
    "![](https://img1.daumcdn.net/thumb/R1280x0/?scode=mtistory2&fname=https%3A%2F%2Fblog.kakaocdn.net%2Fdn%2FzoCFW%2FbtqSQ4PhNru%2F3KT7ICijhKubcqKH0SeHUk%2Fimg.png)\n",
    "\n"
   ]
  },
  {
   "cell_type": "markdown",
   "metadata": {},
   "source": [
    "- 데이터(data, A)는 $A_{IJ}$의 0이 아닌 숫자를 행 순서로 배열에 담은 것\n",
    "- 열 인덱스 값(indices, JA)는 데이터(A)의 데이터의 열 인덱스 배열을 담은 것\n",
    "- 행 압축 정보(indptr, IA)는 각 열의 첫번째로 0이 아닌 값이 배열 A와 배열 JA에 몇번 째 인덱스에 있는지 입력한다. 그리고 맨 마지막에는 배열 A, JA의 길이가 어떻게 되는지 입력한다."
   ]
  },
  {
   "cell_type": "markdown",
   "metadata": {},
   "source": [
    "### CSR matrix 만들기\n",
    "\n",
    "- 6040 x 3628 의 희소행렬(sparse matrix)를 CSR matrix로 만들었다."
   ]
  },
  {
   "cell_type": "code",
   "execution_count": 25,
   "metadata": {},
   "outputs": [
    {
     "data": {
      "text/plain": [
       "<6040x3628 sparse matrix of type '<class 'numpy.int64'>'\n",
       "\twith 836489 stored elements in Compressed Sparse Row format>"
      ]
     },
     "execution_count": 25,
     "metadata": {},
     "output_type": "execute_result"
    }
   ],
   "source": [
    "from scipy.sparse import csr_matrix\n",
    "\n",
    "num_user = ratings['user_id'].nunique()\n",
    "num_movie = ratings['title'].nunique()\n",
    "\n",
    "csr_data = csr_matrix((ratings.counts, (ratings.user_id, ratings.title)), shape= (num_user, num_movie))\n",
    "csr_data"
   ]
  },
  {
   "cell_type": "code",
   "execution_count": 26,
   "metadata": {},
   "outputs": [
    {
     "name": "stdout",
     "output_type": "stream",
     "text": [
      "csr_data의 데이터 길이: (836489,) / [5 3 3 ... 5 5 5]\n",
      "csr_data의 indices 길이: (836489,) / [   0    1    2 ...  993 1852 2658]\n",
      "csr_data의 indptr 길이: (6041,) / [     0     53    169 ... 836202 836478 836489]\n"
     ]
    }
   ],
   "source": [
    "print(\"csr_data의 데이터 길이:\",csr_data.data.shape ,\"/\", csr_data.data)\n",
    "print(\"csr_data의 indices 길이:\",csr_data.indices.shape ,\"/\", csr_data.indices)\n",
    "print(\"csr_data의 indptr 길이:\",csr_data.indptr.shape , \"/\",csr_data.indptr)"
   ]
  },
  {
   "cell_type": "markdown",
   "metadata": {},
   "source": [
    "컬럼의 개수는 사용자의 수이다. 1개 이상의 영화에 별점 3 이상 사용자만 ratings 데이터 프레임에 있으므로, csr_data의 __indptr의 모양은 6041__ 이다. indptr의 마지막 값 836483은 csr\\_data.data와 csr\\_indices의 길이이다. "
   ]
  },
  {
   "cell_type": "code",
   "execution_count": 27,
   "metadata": {},
   "outputs": [
    {
     "name": "stdout",
     "output_type": "stream",
     "text": [
      "사용자(user)의 수: 6040 / 영화의 수: 3628\n"
     ]
    }
   ],
   "source": [
    "print(\"사용자(user)의 수:\",num_user,\"/ 영화의 수:\" ,num_movie)"
   ]
  },
  {
   "cell_type": "markdown",
   "metadata": {},
   "source": [
    "모델이 잘 만들어졌는지 체크하기 위해서 마지막으로 내가 입력했던 영화는 다음과 같다.   \n",
    "\n",
    "\"shining, the (1980)\"   \n",
    "\"batman (1989)\"   \n",
    "\"blue velvet (1986)\"   \n",
    "\"william shakespeare's romeo and juliet (1996)\",   \n",
    "'farewell my concubine (1993)'    \n",
    "'m. butterfly (1993)'   \n",
    "'dancer in the dark (2000)'   \n",
    "'all about my mother (todo sobre mi madre) (1999)'   \n",
    "'nightmare before christmas, the (1993)'   \n",
    "\"home alone (1990)\"\n",
    "\n",
    "csr_data.indices의 마지막 10개가 이 영화들이고 각각 별점을 5개씩 줬다. 동일하게 출력이 된다면 제대로 만들어진 것으로 보아도 될것 같다."
   ]
  },
  {
   "cell_type": "code",
   "execution_count": 28,
   "metadata": {},
   "outputs": [
    {
     "name": "stdout",
     "output_type": "stream",
     "text": [
      "edward scissorhands (1990)\n",
      "nightmare before christmas, the (1993)\n",
      "william shakespeare's romeo and juliet (1996)\n",
      "home alone (1990)\n",
      "batman (1989)\n",
      "blue velvet (1986)\n",
      "farewell my concubine (1993)\n",
      "shining, the (1980)\n",
      "dancer in the dark (2000)\n",
      "m. butterfly (1993)\n"
     ]
    }
   ],
   "source": [
    "for i in csr_data.indices[-10:]:\n",
    "    print(idx_to_movie[i])"
   ]
  },
  {
   "cell_type": "code",
   "execution_count": 29,
   "metadata": {},
   "outputs": [
    {
     "data": {
      "text/plain": [
       "array([5, 5, 5, 5, 5, 5, 5, 5, 5, 5])"
      ]
     },
     "execution_count": 29,
     "metadata": {},
     "output_type": "execute_result"
    }
   ],
   "source": [
    "csr_data.data[-10:]"
   ]
  },
  {
   "cell_type": "markdown",
   "metadata": {},
   "source": [
    "### csr matrix는 제대로 만들어졌다"
   ]
  },
  {
   "cell_type": "markdown",
   "metadata": {},
   "source": [
    "##  MF 모델 학습하기\n",
    "\n",
    "[Implicit 라이브러리 출처| benfred의 github](https://github.com/benfred/implicit)   \n",
    "[Implicit 라이브러리의 튜토리얼](https://benfred.github.io/implicit/api/models/cpu/als.html)"
   ]
  },
  {
   "cell_type": "code",
   "execution_count": 30,
   "metadata": {},
   "outputs": [],
   "source": [
    "from implicit.als import AlternatingLeastSquares\n",
    "import os\n",
    "import numpy as np\n",
    "\n",
    "\n",
    "os.environ['OPENBLAS_NUM_THREADS']='1'\n",
    "os.environ['KMP_DUPLICATE_LIB_OK']='True'\n",
    "os.environ['MKL_NUM_THREADS']='1'"
   ]
  },
  {
   "cell_type": "code",
   "execution_count": 31,
   "metadata": {},
   "outputs": [],
   "source": [
    "# Implicit AlternatingLeastSquares 모델의 선언\n",
    "als_model = AlternatingLeastSquares(factors=100, # 유저와 아이템의 벡터를 몇 차원\n",
    "                                    regularization=0.01, # 과적합 방지를 위해 regularization\n",
    "                                    use_gpu=False,  # GPU 사용할지\n",
    "                                    iterations=50,  # 데이터를 몇번 반복해서 학습할지...\n",
    "                                    dtype=np.float32,\n",
    "                                   random_state=42)"
   ]
  },
  {
   "cell_type": "code",
   "execution_count": 32,
   "metadata": {},
   "outputs": [
    {
     "data": {
      "text/plain": [
       "<3628x6040 sparse matrix of type '<class 'numpy.int64'>'\n",
       "\twith 836489 stored elements in Compressed Sparse Column format>"
      ]
     },
     "execution_count": 32,
     "metadata": {},
     "output_type": "execute_result"
    }
   ],
   "source": [
    "# als 모델은 input으로 (item X user 꼴의 matrix를 받기 때문에 Transpose한다.)\n",
    "csr_data_transpose = csr_data.T\n",
    "csr_data_transpose"
   ]
  },
  {
   "cell_type": "code",
   "execution_count": 33,
   "metadata": {
    "scrolled": true
   },
   "outputs": [
    {
     "data": {
      "application/vnd.jupyter.widget-view+json": {
       "model_id": "79bdddeea58e4b1f95bc1ac4908e50e5",
       "version_major": 2,
       "version_minor": 0
      },
      "text/plain": [
       "  0%|          | 0/50 [00:00<?, ?it/s]"
      ]
     },
     "metadata": {},
     "output_type": "display_data"
    }
   ],
   "source": [
    "# 모델 훈련\n",
    "als_model.fit(csr_data_transpose) "
   ]
  },
  {
   "cell_type": "markdown",
   "metadata": {},
   "source": [
    "### 내가 만든 영화 리스트 sunny와 그 영화 리스트 중에 있는 크리스마스의 악몽(nightmare before christmas)를 내적해보자."
   ]
  },
  {
   "cell_type": "code",
   "execution_count": 34,
   "metadata": {
    "scrolled": true
   },
   "outputs": [
    {
     "data": {
      "text/plain": [
       "0.5267762"
      ]
     },
     "execution_count": 34,
     "metadata": {},
     "output_type": "execute_result"
    }
   ],
   "source": [
    "sunny, nightmare = user_to_idx['sunny'], movie_to_idx['nightmare before christmas, the (1993)']\n",
    "sunny_vector, nightmare_vector = als_model.user_factors[sunny], als_model.item_factors[nightmare]\n",
    "# sunny과 nightmare를 내적하는 코드\n",
    "np.dot(sunny_vector, nightmare_vector)"
   ]
  },
  {
   "cell_type": "markdown",
   "metadata": {},
   "source": [
    "나의 영화 리스트에 있는 영화 사이의 내적을 계산해보니까 0.53 정도이다. 나의 리스트 안에 있는 영화니까 1에 더 가까워야 하지 않았나 생각을 했는데 생각보다 낮아서 원인을 생각해보았다.   \n",
    "\n",
    "1. 우선 내가 좋아하는 영화 리스트를 너무 적게 입력했을까?(10개)\n",
    "2. 내 영화 리스트가 일관성이 없어서 내적이 낮게 나온 것은 아닐까?\n",
    "2. 튜닝을 하는 것이 필요한 것은 아닐까?\n",
    "\n",
    "일단 튜닝을 하기에 앞서 나의 영화 리스트 내의 모든 영화들과 나의 리스트 사이의 내적을 구해보자"
   ]
  },
  {
   "cell_type": "code",
   "execution_count": 35,
   "metadata": {},
   "outputs": [],
   "source": [
    "basic_score=[]\n",
    "for i in my_favorite:\n",
    "    sunny, mf = user_to_idx['sunny'], movie_to_idx[i]\n",
    "    sunny_vector, mf_vector = als_model.user_factors[sunny], als_model.item_factors[mf]\n",
    "    # sunny과 nightmare를 내적하는 코드\n",
    "    basic_score.append(np.dot(sunny_vector, mf_vector))"
   ]
  },
  {
   "cell_type": "code",
   "execution_count": 52,
   "metadata": {},
   "outputs": [
    {
     "data": {
      "text/html": [
       "<div>\n",
       "<style scoped>\n",
       "    .dataframe tbody tr th:only-of-type {\n",
       "        vertical-align: middle;\n",
       "    }\n",
       "\n",
       "    .dataframe tbody tr th {\n",
       "        vertical-align: top;\n",
       "    }\n",
       "\n",
       "    .dataframe thead th {\n",
       "        text-align: right;\n",
       "    }\n",
       "</style>\n",
       "<table border=\"1\" class=\"dataframe\">\n",
       "  <thead>\n",
       "    <tr style=\"text-align: right;\">\n",
       "      <th></th>\n",
       "      <th>movie</th>\n",
       "      <th>score</th>\n",
       "    </tr>\n",
       "  </thead>\n",
       "  <tbody>\n",
       "    <tr>\n",
       "      <th>0</th>\n",
       "      <td>edward scissorhands (1990)</td>\n",
       "      <td>0.615061</td>\n",
       "    </tr>\n",
       "    <tr>\n",
       "      <th>1</th>\n",
       "      <td>shining, the (1980)</td>\n",
       "      <td>0.353539</td>\n",
       "    </tr>\n",
       "    <tr>\n",
       "      <th>2</th>\n",
       "      <td>batman (1989)</td>\n",
       "      <td>0.411378</td>\n",
       "    </tr>\n",
       "    <tr>\n",
       "      <th>3</th>\n",
       "      <td>blue velvet (1986)</td>\n",
       "      <td>0.430347</td>\n",
       "    </tr>\n",
       "    <tr>\n",
       "      <th>4</th>\n",
       "      <td>william shakespeare's romeo and juliet (1996)</td>\n",
       "      <td>0.308349</td>\n",
       "    </tr>\n",
       "    <tr>\n",
       "      <th>5</th>\n",
       "      <td>farewell my concubine (1993)</td>\n",
       "      <td>0.302303</td>\n",
       "    </tr>\n",
       "    <tr>\n",
       "      <th>6</th>\n",
       "      <td>m. butterfly (1993)</td>\n",
       "      <td>0.066774</td>\n",
       "    </tr>\n",
       "    <tr>\n",
       "      <th>7</th>\n",
       "      <td>dancer in the dark (2000)</td>\n",
       "      <td>0.330804</td>\n",
       "    </tr>\n",
       "    <tr>\n",
       "      <th>8</th>\n",
       "      <td>all about my mother (todo sobre mi madre) (1999)</td>\n",
       "      <td>0.314135</td>\n",
       "    </tr>\n",
       "    <tr>\n",
       "      <th>9</th>\n",
       "      <td>nightmare before christmas, the (1993)</td>\n",
       "      <td>0.526776</td>\n",
       "    </tr>\n",
       "    <tr>\n",
       "      <th>10</th>\n",
       "      <td>home alone (1990)</td>\n",
       "      <td>0.252847</td>\n",
       "    </tr>\n",
       "  </tbody>\n",
       "</table>\n",
       "</div>"
      ],
      "text/plain": [
       "                                               movie     score\n",
       "0                         edward scissorhands (1990)  0.615061\n",
       "1                                shining, the (1980)  0.353539\n",
       "2                                      batman (1989)  0.411378\n",
       "3                                 blue velvet (1986)  0.430347\n",
       "4      william shakespeare's romeo and juliet (1996)  0.308349\n",
       "5                       farewell my concubine (1993)  0.302303\n",
       "6                                m. butterfly (1993)  0.066774\n",
       "7                          dancer in the dark (2000)  0.330804\n",
       "8   all about my mother (todo sobre mi madre) (1999)  0.314135\n",
       "9             nightmare before christmas, the (1993)  0.526776\n",
       "10                                 home alone (1990)  0.252847"
      ]
     },
     "execution_count": 52,
     "metadata": {},
     "output_type": "execute_result"
    }
   ],
   "source": [
    "pd.DataFrame({\"movie\":my_favorite,\"score\":basic_score})"
   ]
  },
  {
   "cell_type": "markdown",
   "metadata": {},
   "source": [
    "__크리스마스의 악몽(nightmare before christmas, the (1993))이  0.53은 높은 편에 속한 것을 알수 있다. 아마도 가위손(0.62), 배트맨(0.41), 크리스마스의 악몽(0.53)은 같은 팀 버튼 감독의 영화__ 라서 나의 영화리스트 전체와 내적이 높은 편에 속한 것이 아닐까 생각하게 되었다. 하지만 0.53은 너무 낮다는 판단이 들었다.\n",
    "\n",
    "- 일단 그리드 서치 튜닝을 시도해보았다"
   ]
  },
  {
   "cell_type": "code",
   "execution_count": 36,
   "metadata": {},
   "outputs": [],
   "source": [
    "def train(factors, regularization,iters):\n",
    "    als_model = AlternatingLeastSquares(factors=factors,               # 유저와 아이템의 벡터를 몇 차원\n",
    "                                        regularization=regularization, # 과적합 방지를 위해 regularization\n",
    "                                        use_gpu=False,                # GPU 사용할지\n",
    "                                        iterations=iters,             # 데이터를 몇번 반복해서 학습할지...\n",
    "                                        dtype=np.float32,random_state=42)\n",
    "    # 모델 훈련\n",
    "    als_model.fit(csr_data_transpose) \n",
    "    return als_model"
   ]
  },
  {
   "cell_type": "code",
   "execution_count": 37,
   "metadata": {
    "scrolled": false
   },
   "outputs": [
    {
     "data": {
      "application/vnd.jupyter.widget-view+json": {
       "model_id": "23bbe92686bd4d3baa530b06726ba34c",
       "version_major": 2,
       "version_minor": 0
      },
      "text/plain": [
       "  0%|          | 0/100 [00:00<?, ?it/s]"
      ]
     },
     "metadata": {},
     "output_type": "display_data"
    },
    {
     "data": {
      "application/vnd.jupyter.widget-view+json": {
       "model_id": "310021004549482296d73ea4d227bb83",
       "version_major": 2,
       "version_minor": 0
      },
      "text/plain": [
       "  0%|          | 0/100 [00:00<?, ?it/s]"
      ]
     },
     "metadata": {},
     "output_type": "display_data"
    },
    {
     "data": {
      "application/vnd.jupyter.widget-view+json": {
       "model_id": "313d354bebe640a8aa7b41652b8489ce",
       "version_major": 2,
       "version_minor": 0
      },
      "text/plain": [
       "  0%|          | 0/130 [00:00<?, ?it/s]"
      ]
     },
     "metadata": {},
     "output_type": "display_data"
    },
    {
     "name": "stdout",
     "output_type": "stream",
     "text": [
      "100 -------------------------------------------------------------------------------------------------------\n"
     ]
    },
    {
     "data": {
      "application/vnd.jupyter.widget-view+json": {
       "model_id": "15e20c5bd6f842adac0f6b1ad5b4899a",
       "version_major": 2,
       "version_minor": 0
      },
      "text/plain": [
       "  0%|          | 0/100 [00:00<?, ?it/s]"
      ]
     },
     "metadata": {},
     "output_type": "display_data"
    },
    {
     "data": {
      "application/vnd.jupyter.widget-view+json": {
       "model_id": "78c687ed6cc649cca6becc22a69ece1f",
       "version_major": 2,
       "version_minor": 0
      },
      "text/plain": [
       "  0%|          | 0/130 [00:00<?, ?it/s]"
      ]
     },
     "metadata": {},
     "output_type": "display_data"
    },
    {
     "data": {
      "application/vnd.jupyter.widget-view+json": {
       "model_id": "df5de9cc6e384989a7de979d4e65630b",
       "version_major": 2,
       "version_minor": 0
      },
      "text/plain": [
       "  0%|          | 0/100 [00:00<?, ?it/s]"
      ]
     },
     "metadata": {},
     "output_type": "display_data"
    },
    {
     "data": {
      "application/vnd.jupyter.widget-view+json": {
       "model_id": "2e4ad3c03c594f36b8ab256bc6a431d6",
       "version_major": 2,
       "version_minor": 0
      },
      "text/plain": [
       "  0%|          | 0/130 [00:00<?, ?it/s]"
      ]
     },
     "metadata": {},
     "output_type": "display_data"
    },
    {
     "name": "stdout",
     "output_type": "stream",
     "text": [
      "200 -------------------------------------------------------------------------------------------------------\n"
     ]
    },
    {
     "data": {
      "application/vnd.jupyter.widget-view+json": {
       "model_id": "41108b87eace4b13a225a738858c8d6f",
       "version_major": 2,
       "version_minor": 0
      },
      "text/plain": [
       "  0%|          | 0/100 [00:00<?, ?it/s]"
      ]
     },
     "metadata": {},
     "output_type": "display_data"
    },
    {
     "data": {
      "application/vnd.jupyter.widget-view+json": {
       "model_id": "f1df1ab90a0a4de9982a0738fc50374a",
       "version_major": 2,
       "version_minor": 0
      },
      "text/plain": [
       "  0%|          | 0/130 [00:00<?, ?it/s]"
      ]
     },
     "metadata": {},
     "output_type": "display_data"
    },
    {
     "data": {
      "application/vnd.jupyter.widget-view+json": {
       "model_id": "51082070338d459a90ae3ae84312cc5c",
       "version_major": 2,
       "version_minor": 0
      },
      "text/plain": [
       "  0%|          | 0/100 [00:00<?, ?it/s]"
      ]
     },
     "metadata": {},
     "output_type": "display_data"
    },
    {
     "data": {
      "application/vnd.jupyter.widget-view+json": {
       "model_id": "cf86f7c36bb14cb2ab00a707be7bfddd",
       "version_major": 2,
       "version_minor": 0
      },
      "text/plain": [
       "  0%|          | 0/130 [00:00<?, ?it/s]"
      ]
     },
     "metadata": {},
     "output_type": "display_data"
    },
    {
     "name": "stdout",
     "output_type": "stream",
     "text": [
      "300 -------------------------------------------------------------------------------------------------------\n"
     ]
    },
    {
     "data": {
      "application/vnd.jupyter.widget-view+json": {
       "model_id": "ee449a3e74da4464acf062068a900203",
       "version_major": 2,
       "version_minor": 0
      },
      "text/plain": [
       "  0%|          | 0/100 [00:00<?, ?it/s]"
      ]
     },
     "metadata": {},
     "output_type": "display_data"
    },
    {
     "data": {
      "application/vnd.jupyter.widget-view+json": {
       "model_id": "8d1e0449d6814afcb1139e09286ef0e8",
       "version_major": 2,
       "version_minor": 0
      },
      "text/plain": [
       "  0%|          | 0/130 [00:00<?, ?it/s]"
      ]
     },
     "metadata": {},
     "output_type": "display_data"
    },
    {
     "data": {
      "application/vnd.jupyter.widget-view+json": {
       "model_id": "deb5953d9d9049c3863e1664cce0b542",
       "version_major": 2,
       "version_minor": 0
      },
      "text/plain": [
       "  0%|          | 0/100 [00:00<?, ?it/s]"
      ]
     },
     "metadata": {},
     "output_type": "display_data"
    },
    {
     "data": {
      "application/vnd.jupyter.widget-view+json": {
       "model_id": "a67372cc2f8649a58a870d43c5bfab6a",
       "version_major": 2,
       "version_minor": 0
      },
      "text/plain": [
       "  0%|          | 0/130 [00:00<?, ?it/s]"
      ]
     },
     "metadata": {},
     "output_type": "display_data"
    },
    {
     "name": "stdout",
     "output_type": "stream",
     "text": [
      "400 -------------------------------------------------------------------------------------------------------\n"
     ]
    }
   ],
   "source": [
    "fac=[i*10 for i in range(10,50,10)] # factors\n",
    "reg=[i*0.01 for i in range(1,10,5)] # regularization\n",
    "iters=[10*i for i in range(10,16,3)] #  iterations\n",
    "\n",
    "hyper={} \n",
    "# 시도한 하이퍼 파라미터와 나의 영화리스트 벡터와 크리스마스의 악몽(내 리스트 안에 있는 영화)의 내적 저장\n",
    "\n",
    "for f in fac:\n",
    "    for r in reg:\n",
    "        for it in iters:\n",
    "            als_model=train(f,r,it)\n",
    "            sunny, nightmare = user_to_idx['sunny'], movie_to_idx['nightmare before christmas, the (1993)']\n",
    "            sunny_vector, nightmare_vector = als_model.user_factors[sunny], als_model.item_factors[nightmare]\n",
    "            hyper[\"%d-%f-%d\"%(f,r,it)] = np.dot(sunny_vector, nightmare_vector)\n",
    "    print(f,\"-------------------------------------------------------------------------------------------------------\")"
   ]
  },
  {
   "cell_type": "code",
   "execution_count": 38,
   "metadata": {},
   "outputs": [
    {
     "data": {
      "text/plain": [
       "{'100-0.010000-100': 0.52207214,\n",
       " '100-0.010000-130': 0.52060413,\n",
       " '100-0.060000-100': 0.5231734,\n",
       " '100-0.060000-130': 0.52172613,\n",
       " '200-0.010000-100': 0.7148032,\n",
       " '200-0.010000-130': 0.70696115,\n",
       " '200-0.060000-100': 0.7129584,\n",
       " '200-0.060000-130': 0.7025259,\n",
       " '300-0.010000-100': 0.81454664,\n",
       " '300-0.010000-130': 0.815404,\n",
       " '300-0.060000-100': 0.80731016,\n",
       " '300-0.060000-130': 0.8032144,\n",
       " '400-0.010000-100': 0.854094,\n",
       " '400-0.010000-130': 0.85200286,\n",
       " '400-0.060000-100': 0.85167235,\n",
       " '400-0.060000-130': 0.8508632}"
      ]
     },
     "execution_count": 38,
     "metadata": {},
     "output_type": "execute_result"
    }
   ],
   "source": [
    "hyper  # factor-regularization-iteration: 크리스마스 악몽 영화의 벡터와 내 영화 리스트의 벡터의 내적"
   ]
  },
  {
   "cell_type": "markdown",
   "metadata": {},
   "source": [
    "- factors를 400, iteration은 100, regularization 은 0.01로 했을때 0.854로 가장 좋게 나왔다. 이 하이퍼파라미터로 훈련을 시킨 모델을 사용해서 영화 추천을 해보자"
   ]
  },
  {
   "cell_type": "code",
   "execution_count": 39,
   "metadata": {},
   "outputs": [
    {
     "data": {
      "application/vnd.jupyter.widget-view+json": {
       "model_id": "f2c3cb2bcedd438cb7cca488461c20ae",
       "version_major": 2,
       "version_minor": 0
      },
      "text/plain": [
       "  0%|          | 0/100 [00:00<?, ?it/s]"
      ]
     },
     "metadata": {},
     "output_type": "display_data"
    }
   ],
   "source": [
    "als_model=train(400,0.01,100)\n",
    "sunny, nightmare = user_to_idx['sunny'], movie_to_idx['nightmare before christmas, the (1993)']\n",
    "sunny_vector, nightmare_vector = als_model.user_factors[sunny], als_model.item_factors[nightmare]"
   ]
  },
  {
   "cell_type": "code",
   "execution_count": 40,
   "metadata": {},
   "outputs": [
    {
     "data": {
      "text/plain": [
       "0.854094"
      ]
     },
     "execution_count": 40,
     "metadata": {},
     "output_type": "execute_result"
    }
   ],
   "source": [
    "np.dot(sunny_vector, nightmare_vector) "
   ]
  },
  {
   "cell_type": "code",
   "execution_count": 41,
   "metadata": {},
   "outputs": [],
   "source": [
    "score=[]\n",
    "for i in my_favorite:\n",
    "    sunny, mf = user_to_idx['sunny'], movie_to_idx[i]\n",
    "    sunny_vector, mf_vector = als_model.user_factors[sunny], als_model.item_factors[mf]\n",
    "    # sunny과 nightmare를 내적하는 코드\n",
    "    score.append(np.dot(sunny_vector, mf_vector))"
   ]
  },
  {
   "cell_type": "code",
   "execution_count": 42,
   "metadata": {},
   "outputs": [
    {
     "data": {
      "text/html": [
       "<div>\n",
       "<style scoped>\n",
       "    .dataframe tbody tr th:only-of-type {\n",
       "        vertical-align: middle;\n",
       "    }\n",
       "\n",
       "    .dataframe tbody tr th {\n",
       "        vertical-align: top;\n",
       "    }\n",
       "\n",
       "    .dataframe thead th {\n",
       "        text-align: right;\n",
       "    }\n",
       "</style>\n",
       "<table border=\"1\" class=\"dataframe\">\n",
       "  <thead>\n",
       "    <tr style=\"text-align: right;\">\n",
       "      <th></th>\n",
       "      <th>movie</th>\n",
       "      <th>기본모델 내적</th>\n",
       "      <th>튜닝한 모델 내적</th>\n",
       "    </tr>\n",
       "  </thead>\n",
       "  <tbody>\n",
       "    <tr>\n",
       "      <th>0</th>\n",
       "      <td>edward scissorhands (1990)</td>\n",
       "      <td>0.615061</td>\n",
       "      <td>0.893251</td>\n",
       "    </tr>\n",
       "    <tr>\n",
       "      <th>1</th>\n",
       "      <td>shining, the (1980)</td>\n",
       "      <td>0.353539</td>\n",
       "      <td>0.791769</td>\n",
       "    </tr>\n",
       "    <tr>\n",
       "      <th>2</th>\n",
       "      <td>batman (1989)</td>\n",
       "      <td>0.411378</td>\n",
       "      <td>0.723956</td>\n",
       "    </tr>\n",
       "    <tr>\n",
       "      <th>3</th>\n",
       "      <td>blue velvet (1986)</td>\n",
       "      <td>0.430347</td>\n",
       "      <td>0.671934</td>\n",
       "    </tr>\n",
       "    <tr>\n",
       "      <th>4</th>\n",
       "      <td>william shakespeare's romeo and juliet (1996)</td>\n",
       "      <td>0.308349</td>\n",
       "      <td>0.711056</td>\n",
       "    </tr>\n",
       "    <tr>\n",
       "      <th>5</th>\n",
       "      <td>farewell my concubine (1993)</td>\n",
       "      <td>0.302303</td>\n",
       "      <td>0.544065</td>\n",
       "    </tr>\n",
       "    <tr>\n",
       "      <th>6</th>\n",
       "      <td>m. butterfly (1993)</td>\n",
       "      <td>0.066774</td>\n",
       "      <td>0.210283</td>\n",
       "    </tr>\n",
       "    <tr>\n",
       "      <th>7</th>\n",
       "      <td>dancer in the dark (2000)</td>\n",
       "      <td>0.330804</td>\n",
       "      <td>0.493414</td>\n",
       "    </tr>\n",
       "    <tr>\n",
       "      <th>8</th>\n",
       "      <td>all about my mother (todo sobre mi madre) (1999)</td>\n",
       "      <td>0.314135</td>\n",
       "      <td>0.631616</td>\n",
       "    </tr>\n",
       "    <tr>\n",
       "      <th>9</th>\n",
       "      <td>nightmare before christmas, the (1993)</td>\n",
       "      <td>0.526776</td>\n",
       "      <td>0.854094</td>\n",
       "    </tr>\n",
       "    <tr>\n",
       "      <th>10</th>\n",
       "      <td>home alone (1990)</td>\n",
       "      <td>0.252847</td>\n",
       "      <td>0.622934</td>\n",
       "    </tr>\n",
       "  </tbody>\n",
       "</table>\n",
       "</div>"
      ],
      "text/plain": [
       "                                               movie   기본모델 내적  튜닝한 모델 내적\n",
       "0                         edward scissorhands (1990)  0.615061   0.893251\n",
       "1                                shining, the (1980)  0.353539   0.791769\n",
       "2                                      batman (1989)  0.411378   0.723956\n",
       "3                                 blue velvet (1986)  0.430347   0.671934\n",
       "4      william shakespeare's romeo and juliet (1996)  0.308349   0.711056\n",
       "5                       farewell my concubine (1993)  0.302303   0.544065\n",
       "6                                m. butterfly (1993)  0.066774   0.210283\n",
       "7                          dancer in the dark (2000)  0.330804   0.493414\n",
       "8   all about my mother (todo sobre mi madre) (1999)  0.314135   0.631616\n",
       "9             nightmare before christmas, the (1993)  0.526776   0.854094\n",
       "10                                 home alone (1990)  0.252847   0.622934"
      ]
     },
     "execution_count": 42,
     "metadata": {},
     "output_type": "execute_result"
    }
   ],
   "source": [
    "df=pd.DataFrame({\"movie\":my_favorite, \n",
    "                 \"기본모델 내적\":basic_score,\n",
    "                \"튜닝한 모델 내적\":score})\n",
    "df"
   ]
  },
  {
   "cell_type": "markdown",
   "metadata": {},
   "source": [
    "- 모델을 튜닝하기 전보다 나의 영화 리스트 전반과 각 영화의 내적이 가까운 영화의 리스트가 늘어난 것을 보아서 모델의 학습이 잘 되었던 것 같다. 다만 영화 m.butterfly의 경우는 다른 영화들과 다른 성격을 띄는 면이 있어서 많이 개선된 모델임에도 불구하고 내적값이 0.2에 불과한 것을 알수 있다.\n",
    "\n",
    "### 비슷한 영화 찾기\n",
    "- 내가 좋아하는 영화 중에서 나의 어머니의 모든 것(all about my mother (todo sobre mi madre) (1999))와 유사한 영화를 찾아보고자 한다."
   ]
  },
  {
   "cell_type": "code",
   "execution_count": 43,
   "metadata": {
    "scrolled": true
   },
   "outputs": [
    {
     "data": {
      "text/html": [
       "<div>\n",
       "<style scoped>\n",
       "    .dataframe tbody tr th:only-of-type {\n",
       "        vertical-align: middle;\n",
       "    }\n",
       "\n",
       "    .dataframe tbody tr th {\n",
       "        vertical-align: top;\n",
       "    }\n",
       "\n",
       "    .dataframe thead th {\n",
       "        text-align: right;\n",
       "    }\n",
       "</style>\n",
       "<table border=\"1\" class=\"dataframe\">\n",
       "  <thead>\n",
       "    <tr style=\"text-align: right;\">\n",
       "      <th></th>\n",
       "      <th>movie_id</th>\n",
       "      <th>title</th>\n",
       "      <th>genre</th>\n",
       "    </tr>\n",
       "  </thead>\n",
       "  <tbody>\n",
       "    <tr>\n",
       "      <th>3014</th>\n",
       "      <td>3083</td>\n",
       "      <td>all about my mother (todo sobre mi madre) (1999)</td>\n",
       "      <td>Comedy|Drama</td>\n",
       "    </tr>\n",
       "  </tbody>\n",
       "</table>\n",
       "</div>"
      ],
      "text/plain": [
       "      movie_id                                             title         genre\n",
       "3014      3083  all about my mother (todo sobre mi madre) (1999)  Comedy|Drama"
      ]
     },
     "execution_count": 43,
     "metadata": {},
     "output_type": "execute_result"
    }
   ],
   "source": [
    "movies.loc[movies[\"title\"].str.contains(\"all about my mother\")]"
   ]
  },
  {
   "cell_type": "code",
   "execution_count": 44,
   "metadata": {},
   "outputs": [],
   "source": [
    "def get_similar_movie(movie_name: str): # 함수로 만듦\n",
    "    m_id = movie_to_idx[movie_name]\n",
    "    similar_mov = als_model.similar_items(m_id)\n",
    "    similar_mov = [(idx_to_movie[i[0]], i[1]) for i in similar_mov]\n",
    "    return similar_mov\n"
   ]
  },
  {
   "cell_type": "code",
   "execution_count": 45,
   "metadata": {
    "scrolled": true
   },
   "outputs": [
    {
     "data": {
      "text/plain": [
       "[('all about my mother (todo sobre mi madre) (1999)', 1.0000001),\n",
       " ('live flesh (1997)', 0.35894528),\n",
       " ('my life in pink (ma vie en rose) (1997)', 0.3368531),\n",
       " ('holy smoke (1999)', 0.31430978),\n",
       " ('urbania (2000)', 0.31202692),\n",
       " ('mifune (mifunes sidste sang) (1999)', 0.30807194),\n",
       " ('steam: the turkish bath (hamam) (1997)', 0.30709338),\n",
       " ('central station (central do brasil) (1998)', 0.306385),\n",
       " ('beautiful people (1999)', 0.305403),\n",
       " (\"isn't she great? (2000)\", 0.30227178)]"
      ]
     },
     "execution_count": 45,
     "metadata": {},
     "output_type": "execute_result"
    }
   ],
   "source": [
    "#  좋아하는 영화와 비슷한 영화인지 확인\n",
    "get_similar_movie('all about my mother (todo sobre mi madre) (1999)') "
   ]
  },
  {
   "cell_type": "markdown",
   "metadata": {},
   "source": [
    "영화 all about my mother(내 어머니의 모든 것)는 __페드로 알모도바르 감독__ 의 영화로 __아들을 잃은 어머니__ 가 __여장남자가 된 전 남편__ 을 찾아 떠나서 아들의 죽음을 이야기하고 과거와 화해하는 영화이다. \n",
    "- live flesh는 페드로 알모도바르 감독의 영화로 같은 감독의 영화라서 유사도가 높다고 판단 된 것 같다.\n",
    "- my life in pink는 자신을 여성으로 생각하는 남자아이의 이야기이라서 유사도가 높다고 뽑힌 것으로 생각이 된다.\n",
    "- holy smoke는 모성애에 관한 이야기라서 유사도가 높다고 계산이 된 것으로 생각이 된다.\n",
    "\n",
    "__영화의 감독에 대한 정보와 영화 내용에 대한 내용을 전혀 포함하고 있지 않은 데이터를 통해서 배우 유사한 영화__ 를 찾았다."
   ]
  },
  {
   "cell_type": "markdown",
   "metadata": {},
   "source": [
    "### 유저에게 추천하기\n",
    "- AlternatingLeastSquares 클래스의 recommend 메서드를 통해 좋아할만한 아이템 추천 받는다."
   ]
  },
  {
   "cell_type": "code",
   "execution_count": 46,
   "metadata": {},
   "outputs": [
    {
     "data": {
      "text/plain": [
       "['raise the red lantern (1991)',\n",
       " 'brazil (1985)',\n",
       " 'truman show, the (1998)',\n",
       " 'ed wood (1994)',\n",
       " 'back to the future part iii (1990)',\n",
       " 'sliding doors (1998)',\n",
       " 'killing fields, the (1984)',\n",
       " 'elephant man, the (1980)',\n",
       " 'raising arizona (1987)',\n",
       " 'heathers (1989)',\n",
       " 'batman returns (1992)',\n",
       " 'poltergeist (1982)',\n",
       " 'bridge on the river kwai, the (1957)',\n",
       " 'graduate, the (1967)',\n",
       " 'basic instinct (1992)',\n",
       " 'great expectations (1998)',\n",
       " 'blues brothers, the (1980)',\n",
       " 'postino, il (the postman) (1994)',\n",
       " 'requiem for a dream (2000)',\n",
       " 'waiting for guffman (1996)']"
      ]
     },
     "execution_count": 46,
     "metadata": {},
     "output_type": "execute_result"
    }
   ],
   "source": [
    "user = user_to_idx['sunny']\n",
    "# recommend에서는 user*item CSR Matrix를 받는다\n",
    "mov_recommended = als_model.recommend(user, \n",
    "                                         csr_data, \n",
    "                                         N=20, \n",
    "                                         filter_already_liked_items=True,# 이미 평가한 아이템은 제외\n",
    "                                        )\n",
    "\n",
    "[idx_to_movie[i[0]] for i in mov_recommended]"
   ]
  },
  {
   "cell_type": "markdown",
   "metadata": {},
   "source": [
    "모두 좋아하는 영화는 아니지만 __영화 에드우드(ed wood)와 트루맨쇼(truman show), 배트맨 리턴즈(batman returns), 일포스티노(postino il)__ 를 실제로 좋아한다. 일단 유저 추천영화 리스트에 내가 좋아하는 영화가 포함이 되어있어서 다른 영화 리스트도 신뢰하고 볼 것 같다고 생각했다.\n",
    "\n",
    " 아마도 내 영화 리스트에 __가위손, 크리스마스의 악몽 등 팀 버튼 감독의 영화를 포함하기 때문에 영화 에드우드와 배트맨 리턴즈를 추천__ 한 것이 아닐까 추측해보았다. 다만 __영화 일 포스티노는 내가 좋아하긴 하지만 칠레의 시인 파블로 네루다를 주인공으로 다룬 정치배경에서 시를 쓰는 것에 관해서 다룬 영화인데__ 추천이 되어서 신기했다. 그래서 추천하는데 기여도가 된 것이 무엇인지 봐야겠다."
   ]
  },
  {
   "cell_type": "markdown",
   "metadata": {},
   "source": [
    "### 영화 일 포스티노를 추천하는데 기여한 영화는?\n",
    "[AlternatingLeastSquares 코드](https://github.com/benfred/implicit/blob/4dba6dd90c4a470cb25ede34a930c56558ef10b2/implicit/als.py#L363)"
   ]
  },
  {
   "cell_type": "code",
   "execution_count": 47,
   "metadata": {},
   "outputs": [],
   "source": [
    "mv = movie_to_idx[\"postino, il (the postman) (1994)\"]\n",
    "explain = als_model.explain(user,          # 추천에 기여한 정도를 확인 할수 있는 메서드\n",
    "                            csr_data, \n",
    "                            itemid=mv)"
   ]
  },
  {
   "cell_type": "code",
   "execution_count": 48,
   "metadata": {},
   "outputs": [
    {
     "data": {
      "text/plain": [
       "0.20301263676717335"
      ]
     },
     "execution_count": 48,
     "metadata": {},
     "output_type": "execute_result"
    }
   ],
   "source": [
    "explain[0]  # 내 영화 리스트와 영화 일 포스티노의 점수"
   ]
  },
  {
   "cell_type": "code",
   "execution_count": 49,
   "metadata": {},
   "outputs": [
    {
     "data": {
      "text/plain": [
       "[('edward scissorhands (1990)', 0.06691559287394665),\n",
       " ('farewell my concubine (1993)', 0.06175094785370262),\n",
       " ('all about my mother (todo sobre mi madre) (1999)', 0.04169489409290532),\n",
       " ('shining, the (1980)', 0.03760938836959725),\n",
       " ('home alone (1990)', 0.019794215917382597),\n",
       " ('batman (1989)', 0.015219091672061362),\n",
       " ('blue velvet (1986)', 0.011817575050663536),\n",
       " ('nightmare before christmas, the (1993)', 0.0037208206623173985),\n",
       " ('m. butterfly (1993)', -0.006700532302585946),\n",
       " (\"william shakespeare's romeo and juliet (1996)\", -0.01684220977400986)]"
      ]
     },
     "execution_count": 49,
     "metadata": {},
     "output_type": "execute_result"
    }
   ],
   "source": [
    "# 유저와 아이템 추천하는데 기여한 아이템과 스코어 top 10, 기본값이 10\n",
    "\n",
    "[(idx_to_movie[i[0]], i[1]) for i in explain[1]] "
   ]
  },
  {
   "cell_type": "markdown",
   "metadata": {},
   "source": [
    "내가 좋아하는 영화들의 벡터와 영화 일 포스티노 벡터의 내적이다. 일포스티노와 내가 좋아하는 영화들 사이의 내적이 0에 가깝다. 즉 별로 상관이 없는 것으로 보여졌다. 영화의 내용상 크게 유사하다고는 느끼지 못했지만 __팀 버튼, 천카이거(패왕별희, farewell my concubine)등 관객들이 영화를 선택하는데 있어서 감독이 중요한 기준이 되는__ 영화라는 공통점이 있는 영화가 높은 스코어를 갖는다는 인상이 들었다.(소위 영화제에서 상을 많이 받는 감독들)\n",
    "\n",
    "그래서 이번엔 추천 순위 3위인 트루먼쇼(truman show)를 살펴보기로 했다."
   ]
  },
  {
   "cell_type": "code",
   "execution_count": 59,
   "metadata": {},
   "outputs": [
    {
     "data": {
      "text/html": [
       "<div>\n",
       "<style scoped>\n",
       "    .dataframe tbody tr th:only-of-type {\n",
       "        vertical-align: middle;\n",
       "    }\n",
       "\n",
       "    .dataframe tbody tr th {\n",
       "        vertical-align: top;\n",
       "    }\n",
       "\n",
       "    .dataframe thead th {\n",
       "        text-align: right;\n",
       "    }\n",
       "</style>\n",
       "<table border=\"1\" class=\"dataframe\">\n",
       "  <thead>\n",
       "    <tr style=\"text-align: right;\">\n",
       "      <th></th>\n",
       "      <th>movie_id</th>\n",
       "      <th>title</th>\n",
       "      <th>genre</th>\n",
       "    </tr>\n",
       "  </thead>\n",
       "  <tbody>\n",
       "    <tr>\n",
       "      <th>1636</th>\n",
       "      <td>1682</td>\n",
       "      <td>truman show, the (1998)</td>\n",
       "      <td>Drama</td>\n",
       "    </tr>\n",
       "  </tbody>\n",
       "</table>\n",
       "</div>"
      ],
      "text/plain": [
       "      movie_id                    title  genre\n",
       "1636      1682  truman show, the (1998)  Drama"
      ]
     },
     "execution_count": 59,
     "metadata": {},
     "output_type": "execute_result"
    }
   ],
   "source": [
    "movies.loc[movies[\"title\"].str.contains(\"truman show, the\")]"
   ]
  },
  {
   "cell_type": "code",
   "execution_count": 60,
   "metadata": {},
   "outputs": [],
   "source": [
    "mv = movie_to_idx[\"truman show, the (1998)\"]\n",
    "explain = als_model.explain(user,          # 추천에 기여한 정도를 확인 할수 있는 메서드\n",
    "                            csr_data, \n",
    "                            itemid=mv)"
   ]
  },
  {
   "cell_type": "code",
   "execution_count": 61,
   "metadata": {},
   "outputs": [
    {
     "data": {
      "text/plain": [
       "0.269357733602354"
      ]
     },
     "execution_count": 61,
     "metadata": {},
     "output_type": "execute_result"
    }
   ],
   "source": [
    "explain[0]  # 트루먼쇼 "
   ]
  },
  {
   "cell_type": "code",
   "execution_count": 62,
   "metadata": {},
   "outputs": [
    {
     "data": {
      "text/plain": [
       "[('home alone (1990)', 0.07118260269425239),\n",
       " ('blue velvet (1986)', 0.04275436350535426),\n",
       " ('farewell my concubine (1993)', 0.03611319170109289),\n",
       " ('nightmare before christmas, the (1993)', 0.032947291661650877),\n",
       " ('batman (1989)', 0.025442990850055712),\n",
       " ('edward scissorhands (1990)', 0.023624148612510446),\n",
       " ('dancer in the dark (2000)', 0.015970635374689474),\n",
       " ('shining, the (1980)', 0.01529352094372753),\n",
       " ('all about my mother (todo sobre mi madre) (1999)', 0.005836022840272747),\n",
       " ('m. butterfly (1993)', 0.0006312076192964682)]"
      ]
     },
     "execution_count": 62,
     "metadata": {},
     "output_type": "execute_result"
    }
   ],
   "source": [
    "# 유저와 아이템 추천하는데 기여한 아이템과 스코어 top 10, 기본값이 10\n",
    "[(idx_to_movie[i[0]], i[1]) for i in explain[1]] "
   ]
  },
  {
   "cell_type": "markdown",
   "metadata": {},
   "source": [
    "일단 트루먼쇼와 기여도는 일 포스티노에 비해 전반적으로 0.01정도 내 영화 리스트의 영화들과 유사도가 높은 것으로 보인다.   \n",
    " \n",
    "다만 __트루먼쇼를 추천하는데 기여한 영화가 나홀로 집에(home alone), 블루 벨벳(blue velet), 패왕별희(farewell my concubine)이 특이했다. 정말 딱히 공통점이 보이지 않아서 특이했었다. 더 특이한 점은 내가 실제로 정말 재밌게 봤던 영화가 트루먼쇼 였다는 점이다.__"
   ]
  },
  {
   "cell_type": "markdown",
   "metadata": {},
   "source": [
    "## 회고\n",
    "\n",
    "- 이론상으로는 두 벡터 사이의 내적이 1에 가까우면 매우 유사한 벡터이고, 0에 가까우면 서로 독립적인 벡터이며, -1이면 서로 반대되는 벡터라고 들었다. 하지만 추천시스템에서는 인간의 구매 혹은 행동패턴을 벡터로 만들어서 계산하기 때문에 절대적인 수치는 참고가 되지만 상대적으로 생각해야하겠다는 생각을 들었다.\n",
    "\n",
    "- 사실 추천 시스템을 만드는데 있어서 그냥 내 주관대로 모델의 성능을 파악해도 괜찮은 것인가 생각이 들었다. 내가 좋아하는 영화의 리스트의 영화들과 내적이 큰 영화의 벡터의 내적값이 최대한 1에 가깝도록 튜닝을 하여서 만들었지만 이건 나의 주관적인 리스트이기 때문에 완전히 신뢰하기는 힘들다고 생각했다. \n",
    "\n",
    "- 재밌는 것이 추천시스템의 알고리즘에 대해서는 넷플릭스에서 사용하는 알고리즘 등이 많이 알려져 있었다. 반면 cross validation을 하고 모델을 어떻게 평가를 하는지에 대해서는 내용이 적었다. 그래서 최대한 합리적인 방법으로 추천 시스템 모델을 평가하는 기준을 고민해봐야겠다는 생각을 하였다.\n",
    "\n",
    "- 마지막에 나의 영화리스트를 기준으로 유저인 나에게 추천하는 영화 리스트를 보고 내가 적은 영화의 내용과 일치하는 것이 없음에도 불구하고 __트루먼쇼와 일 포스티노__ 를 추천한 것이 신기했다. 사실 __일 포스티노는 영화광들 사이에서 좋아하는 영화__ 였기에 그러려니 했었는데 __트루먼쇼__ 는 사실 좀 특이한 영화이지만 나의 영화 리스트와는 상관이 없다고 생각했는데 추천이 되어서 신기했었다.\n",
    "\n",
    "- 아마도 __Matrix Factorization 추천 시스템__ 이 __Contents Based Filtering 추천 시스템__ 에 비해서 더 성능이 까닭이 이런 경우가 아닐까 생각이 들었다. 장르나 감독,영화의 소재등으로 나누어지지 않는 사람들의 행동패턴의 특징을 잡아내어서 계산해내기 때문에 계산이 좋았던게 아닐까 생각이 들었다.\n",
    "\n",
    "- movielens 데이터셋이 __추천 시스템__ 에서 가장 기본적이고 유명한 데이터셋으로 알려져있고 추천시스템을 만들어보는데 아주 좋은 데이터셋이라고 느껴지지만 대부분 20세기의 영화 중심으로 이루어진 데이터라서 다소 아쉬웠다. 예전에 영화를 좋아하던 시절에 영화를 일부러 오래된 영화들을 찾아다녔던 기억이 있어서 그때 봤던 1990년대의 영화 리스트 중에서 내가 좋아했던 영화들을 찾아내면서 리스트를 만들었다. 아마 2000년대에 태어난 사람들의 경우는 좋아하는 영화 리스트를 만드는 것도 쉽지 않겠다는 생각이 들었다. 굳이 영화가 아니더라도 21세기에 공유가 되고 추천시스템을 학습가능한 데이터셋을 캐글 등에서 좀 더 찾아보고 연습을 해봐야겠다는 생각을 했다."
   ]
  }
 ],
 "metadata": {
  "kernelspec": {
   "display_name": "Python 3 (ipykernel)",
   "language": "python",
   "name": "python3"
  },
  "language_info": {
   "codemirror_mode": {
    "name": "ipython",
    "version": 3
   },
   "file_extension": ".py",
   "mimetype": "text/x-python",
   "name": "python",
   "nbconvert_exporter": "python",
   "pygments_lexer": "ipython3",
   "version": "3.9.7"
  }
 },
 "nbformat": 4,
 "nbformat_minor": 2
}
